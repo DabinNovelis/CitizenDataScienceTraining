{
 "cells": [
  {
   "cell_type": "markdown",
   "metadata": {
    "application/vnd.databricks.v1+cell": {
     "cellMetadata": {},
     "inputWidgets": {},
     "nuid": "4b45fe8c-b2d8-42aa-a8b4-96a6ea92d988",
     "showTitle": false,
     "title": ""
    }
   },
   "source": [
    "# Homework\n"
   ]
  },
  {
   "cell_type": "markdown",
   "metadata": {
    "application/vnd.databricks.v1+cell": {
     "cellMetadata": {},
     "inputWidgets": {},
     "nuid": "fa99351e-9cf9-4d6d-85de-7db4077170b6",
     "showTitle": false,
     "title": ""
    }
   },
   "source": [
    "![Alt Text](https://media.giphy.com/media/3oEduXKKfBX6PPLiGQ/giphy.gif)"
   ]
  },
  {
   "cell_type": "code",
   "execution_count": 0,
   "metadata": {
    "_cell_guid": "b1076dfc-b9ad-4769-8c92-a6c4dae69d19",
    "_uuid": "8f2839f25d086af736a60e9eeb907d3b93b6e0e5",
    "application/vnd.databricks.v1+cell": {
     "cellMetadata": {
      "byteLimit": 2048000,
      "rowLimit": 10000
     },
     "inputWidgets": {},
     "nuid": "4d6f2e8f-465d-44e3-9e8f-95a6ac50533d",
     "showTitle": false,
     "title": ""
    }
   },
   "outputs": [
    {
     "output_type": "display_data",
     "data": {
      "text/html": [
       "<style scoped>\n",
       "  .ansiout {\n",
       "    display: block;\n",
       "    unicode-bidi: embed;\n",
       "    white-space: pre-wrap;\n",
       "    word-wrap: break-word;\n",
       "    word-break: break-all;\n",
       "    font-family: \"Menlo\", \"Monaco\", \"Consolas\", \"Ubuntu Mono\", \"Source Code Pro\", monospace;\n",
       "    font-size: 13px;\n",
       "    color: #555;\n",
       "    margin-left: 4px;\n",
       "    line-height: 19px;\n",
       "  }\n",
       "</style>\n",
       "<div class=\"ansiout\"></div>"
      ]
     },
     "metadata": {
      "application/vnd.databricks.v1+output": {
       "addedWidgets": {},
       "arguments": {},
       "data": "<div class=\"ansiout\"></div>",
       "datasetInfos": [],
       "metadata": {},
       "removedWidgets": [],
       "type": "html"
      }
     },
     "output_type": "display_data"
    }
   ],
   "source": [
    "import pandas as pd\n",
    "import numpy as np"
   ]
  },
  {
   "cell_type": "markdown",
   "metadata": {
    "application/vnd.databricks.v1+cell": {
     "cellMetadata": {},
     "inputWidgets": {},
     "nuid": "52b4ed4c-563b-4c8b-ad77-0adf2dfc7442",
     "showTitle": false,
     "title": ""
    }
   },
   "source": [
    "# Pandas"
   ]
  },
  {
   "cell_type": "markdown",
   "metadata": {
    "application/vnd.databricks.v1+cell": {
     "cellMetadata": {},
     "inputWidgets": {},
     "nuid": "15f0e40d-102b-4bb3-a26c-2c1cbf22a4f4",
     "showTitle": false,
     "title": ""
    }
   },
   "source": [
    "<a id = 'q3'></a>\n",
    "**How to get the items of series A not present in series B?**\n",
    "\n",
    "Get all items of ser1 that aren't present in ser2."
   ]
  },
  {
   "cell_type": "code",
   "execution_count": 0,
   "metadata": {
    "application/vnd.databricks.v1+cell": {
     "cellMetadata": {
      "byteLimit": 2048000,
      "rowLimit": 10000
     },
     "inputWidgets": {},
     "nuid": "e1f3b549-8c25-4020-b607-fb95e20a1b69",
     "showTitle": false,
     "title": ""
    }
   },
   "outputs": [
    {
     "output_type": "display_data",
     "data": {
      "text/html": [
       "<style scoped>\n",
       "  .ansiout {\n",
       "    display: block;\n",
       "    unicode-bidi: embed;\n",
       "    white-space: pre-wrap;\n",
       "    word-wrap: break-word;\n",
       "    word-break: break-all;\n",
       "    font-family: \"Menlo\", \"Monaco\", \"Consolas\", \"Ubuntu Mono\", \"Source Code Pro\", monospace;\n",
       "    font-size: 13px;\n",
       "    color: #555;\n",
       "    margin-left: 4px;\n",
       "    line-height: 19px;\n",
       "  }\n",
       "</style>\n",
       "<div class=\"ansiout\"></div>"
      ]
     },
     "metadata": {
      "application/vnd.databricks.v1+output": {
       "addedWidgets": {},
       "arguments": {},
       "data": "<div class=\"ansiout\"></div>",
       "datasetInfos": [],
       "metadata": {},
       "removedWidgets": [],
       "type": "html"
      }
     },
     "output_type": "display_data"
    }
   ],
   "source": [
    "# input\n",
    "ser1 = pd.Series([1, 2, 3, 4, 5])\n",
    "ser2 = pd.Series([4, 5, 6, 7, 8])"
   ]
  },
  {
   "cell_type": "code",
   "execution_count": 0,
   "metadata": {
    "application/vnd.databricks.v1+cell": {
     "cellMetadata": {
      "byteLimit": 2048000,
      "rowLimit": 10000
     },
     "inputWidgets": {},
     "nuid": "15cbcda7-c7c3-4c33-8028-2d0b06ec9692",
     "showTitle": false,
     "title": ""
    }
   },
   "outputs": [],
   "source": []
  },
  {
   "cell_type": "markdown",
   "metadata": {
    "application/vnd.databricks.v1+cell": {
     "cellMetadata": {},
     "inputWidgets": {},
     "nuid": "c4041878-a439-405b-a557-50dbdc9f0ba3",
     "showTitle": false,
     "title": ""
    }
   },
   "source": [
    "<a id = 'q4'></a>\n",
    "**How to get the items not common to both series A and series B?**\n",
    "\n",
    "Get all items of ser1 and ser2 not common to both."
   ]
  },
  {
   "cell_type": "code",
   "execution_count": 0,
   "metadata": {
    "application/vnd.databricks.v1+cell": {
     "cellMetadata": {},
     "inputWidgets": {},
     "nuid": "422cc4d7-58ec-48c5-a2f6-cdb09e05090e",
     "showTitle": false,
     "title": ""
    }
   },
   "outputs": [],
   "source": [
    "# input\n",
    "ser1 = pd.Series([1, 2, 3, 4, 5])\n",
    "ser2 = pd.Series([4, 5, 6, 7, 8])"
   ]
  },
  {
   "cell_type": "code",
   "execution_count": 0,
   "metadata": {
    "application/vnd.databricks.v1+cell": {
     "cellMetadata": {},
     "inputWidgets": {},
     "nuid": "5d4f0124-ea1a-4d46-a9c5-135eb92eaf2f",
     "showTitle": false,
     "title": ""
    }
   },
   "outputs": [],
   "source": []
  },
  {
   "cell_type": "markdown",
   "metadata": {
    "application/vnd.databricks.v1+cell": {
     "cellMetadata": {},
     "inputWidgets": {},
     "nuid": "b636b857-9556-4bed-a817-7a23320a1b2c",
     "showTitle": false,
     "title": ""
    }
   },
   "source": [
    "![Alt Text](https://media.giphy.com/media/11BQtvA7R4qBk4/giphy.gif)\n"
   ]
  },
  {
   "cell_type": "markdown",
   "metadata": {
    "application/vnd.databricks.v1+cell": {
     "cellMetadata": {},
     "inputWidgets": {},
     "nuid": "66d3e31b-0f01-46a1-801b-7534fe4b3b73",
     "showTitle": false,
     "title": ""
    }
   },
   "source": [
    "## How to filter every nth row in a dataframe?\n",
    "1. Read the csv file \"Cars93.csv\" as a dataframe. Path: /dbfs/FileStore/CDS2024/Cars93.csv"
   ]
  },
  {
   "cell_type": "code",
   "execution_count": 0,
   "metadata": {
    "application/vnd.databricks.v1+cell": {
     "cellMetadata": {
      "byteLimit": 2048000,
      "rowLimit": 10000
     },
     "inputWidgets": {},
     "nuid": "92704ab5-323f-419c-819e-696a53bf6786",
     "showTitle": false,
     "title": ""
    }
   },
   "outputs": [
    {
     "output_type": "display_data",
     "data": {
      "text/html": [
       "<style scoped>\n",
       "  .ansiout {\n",
       "    display: block;\n",
       "    unicode-bidi: embed;\n",
       "    white-space: pre-wrap;\n",
       "    word-wrap: break-word;\n",
       "    word-break: break-all;\n",
       "    font-family: \"Menlo\", \"Monaco\", \"Consolas\", \"Ubuntu Mono\", \"Source Code Pro\", monospace;\n",
       "    font-size: 13px;\n",
       "    color: #555;\n",
       "    margin-left: 4px;\n",
       "    line-height: 19px;\n",
       "  }\n",
       "</style>\n",
       "<div class=\"ansiout\">Out[4]: </div>"
      ]
     },
     "metadata": {
      "application/vnd.databricks.v1+output": {
       "addedWidgets": {},
       "arguments": {},
       "data": "<div class=\"ansiout\">Out[4]: </div>",
       "datasetInfos": [],
       "metadata": {},
       "removedWidgets": [],
       "type": "html"
      }
     },
     "output_type": "display_data"
    },
    {
     "output_type": "display_data",
     "data": {
      "text/html": [
       "<div>\n",
       "<style scoped>\n",
       "    .dataframe tbody tr th:only-of-type {\n",
       "        vertical-align: middle;\n",
       "    }\n",
       "\n",
       "    .dataframe tbody tr th {\n",
       "        vertical-align: top;\n",
       "    }\n",
       "\n",
       "    .dataframe thead th {\n",
       "        text-align: right;\n",
       "    }\n",
       "</style>\n",
       "<table border=\"1\" class=\"dataframe\">\n",
       "  <thead>\n",
       "    <tr style=\"text-align: right;\">\n",
       "      <th></th>\n",
       "      <th>Unnamed: 0</th>\n",
       "      <th>Manufacturer</th>\n",
       "      <th>Model</th>\n",
       "      <th>Type</th>\n",
       "      <th>Min.Price</th>\n",
       "      <th>Price</th>\n",
       "      <th>Max.Price</th>\n",
       "      <th>MPG.city</th>\n",
       "      <th>MPG.highway</th>\n",
       "      <th>AirBags</th>\n",
       "      <th>DriveTrain</th>\n",
       "      <th>Cylinders</th>\n",
       "      <th>EngineSize</th>\n",
       "      <th>Horsepower</th>\n",
       "      <th>RPM</th>\n",
       "      <th>Rev.per.mile</th>\n",
       "      <th>Man.trans.avail</th>\n",
       "      <th>Fuel.tank.capacity</th>\n",
       "      <th>Passengers</th>\n",
       "      <th>Length</th>\n",
       "      <th>Wheelbase</th>\n",
       "      <th>Width</th>\n",
       "      <th>Turn.circle</th>\n",
       "      <th>Rear.seat.room</th>\n",
       "      <th>Luggage.room</th>\n",
       "      <th>Weight</th>\n",
       "      <th>Origin</th>\n",
       "      <th>Make</th>\n",
       "    </tr>\n",
       "  </thead>\n",
       "  <tbody>\n",
       "    <tr>\n",
       "      <th>0</th>\n",
       "      <td>1</td>\n",
       "      <td>Acura</td>\n",
       "      <td>Integra</td>\n",
       "      <td>Small</td>\n",
       "      <td>12.9</td>\n",
       "      <td>15.9</td>\n",
       "      <td>18.8</td>\n",
       "      <td>25</td>\n",
       "      <td>31</td>\n",
       "      <td>None</td>\n",
       "      <td>Front</td>\n",
       "      <td>4</td>\n",
       "      <td>1.8</td>\n",
       "      <td>140</td>\n",
       "      <td>6300</td>\n",
       "      <td>2890</td>\n",
       "      <td>Yes</td>\n",
       "      <td>13.2</td>\n",
       "      <td>5</td>\n",
       "      <td>177</td>\n",
       "      <td>102</td>\n",
       "      <td>68</td>\n",
       "      <td>37</td>\n",
       "      <td>26.5</td>\n",
       "      <td>11.0</td>\n",
       "      <td>2705</td>\n",
       "      <td>non-USA</td>\n",
       "      <td>Acura Integra</td>\n",
       "    </tr>\n",
       "    <tr>\n",
       "      <th>1</th>\n",
       "      <td>2</td>\n",
       "      <td>Acura</td>\n",
       "      <td>Legend</td>\n",
       "      <td>Midsize</td>\n",
       "      <td>29.2</td>\n",
       "      <td>33.9</td>\n",
       "      <td>38.7</td>\n",
       "      <td>18</td>\n",
       "      <td>25</td>\n",
       "      <td>Driver &amp; Passenger</td>\n",
       "      <td>Front</td>\n",
       "      <td>6</td>\n",
       "      <td>3.2</td>\n",
       "      <td>200</td>\n",
       "      <td>5500</td>\n",
       "      <td>2335</td>\n",
       "      <td>Yes</td>\n",
       "      <td>18.0</td>\n",
       "      <td>5</td>\n",
       "      <td>195</td>\n",
       "      <td>115</td>\n",
       "      <td>71</td>\n",
       "      <td>38</td>\n",
       "      <td>30.0</td>\n",
       "      <td>15.0</td>\n",
       "      <td>3560</td>\n",
       "      <td>non-USA</td>\n",
       "      <td>Acura Legend</td>\n",
       "    </tr>\n",
       "    <tr>\n",
       "      <th>2</th>\n",
       "      <td>3</td>\n",
       "      <td>Audi</td>\n",
       "      <td>90</td>\n",
       "      <td>Compact</td>\n",
       "      <td>25.9</td>\n",
       "      <td>29.1</td>\n",
       "      <td>32.3</td>\n",
       "      <td>20</td>\n",
       "      <td>26</td>\n",
       "      <td>Driver only</td>\n",
       "      <td>Front</td>\n",
       "      <td>6</td>\n",
       "      <td>2.8</td>\n",
       "      <td>172</td>\n",
       "      <td>5500</td>\n",
       "      <td>2280</td>\n",
       "      <td>Yes</td>\n",
       "      <td>16.9</td>\n",
       "      <td>5</td>\n",
       "      <td>180</td>\n",
       "      <td>102</td>\n",
       "      <td>67</td>\n",
       "      <td>37</td>\n",
       "      <td>28.0</td>\n",
       "      <td>14.0</td>\n",
       "      <td>3375</td>\n",
       "      <td>non-USA</td>\n",
       "      <td>Audi 90</td>\n",
       "    </tr>\n",
       "    <tr>\n",
       "      <th>3</th>\n",
       "      <td>4</td>\n",
       "      <td>Audi</td>\n",
       "      <td>100</td>\n",
       "      <td>Midsize</td>\n",
       "      <td>30.8</td>\n",
       "      <td>37.7</td>\n",
       "      <td>44.6</td>\n",
       "      <td>19</td>\n",
       "      <td>26</td>\n",
       "      <td>Driver &amp; Passenger</td>\n",
       "      <td>Front</td>\n",
       "      <td>6</td>\n",
       "      <td>2.8</td>\n",
       "      <td>172</td>\n",
       "      <td>5500</td>\n",
       "      <td>2535</td>\n",
       "      <td>Yes</td>\n",
       "      <td>21.1</td>\n",
       "      <td>6</td>\n",
       "      <td>193</td>\n",
       "      <td>106</td>\n",
       "      <td>70</td>\n",
       "      <td>37</td>\n",
       "      <td>31.0</td>\n",
       "      <td>17.0</td>\n",
       "      <td>3405</td>\n",
       "      <td>non-USA</td>\n",
       "      <td>Audi 100</td>\n",
       "    </tr>\n",
       "    <tr>\n",
       "      <th>4</th>\n",
       "      <td>5</td>\n",
       "      <td>BMW</td>\n",
       "      <td>535i</td>\n",
       "      <td>Midsize</td>\n",
       "      <td>23.7</td>\n",
       "      <td>30.0</td>\n",
       "      <td>36.2</td>\n",
       "      <td>22</td>\n",
       "      <td>30</td>\n",
       "      <td>Driver only</td>\n",
       "      <td>Rear</td>\n",
       "      <td>4</td>\n",
       "      <td>3.5</td>\n",
       "      <td>208</td>\n",
       "      <td>5700</td>\n",
       "      <td>2545</td>\n",
       "      <td>Yes</td>\n",
       "      <td>21.1</td>\n",
       "      <td>4</td>\n",
       "      <td>186</td>\n",
       "      <td>109</td>\n",
       "      <td>69</td>\n",
       "      <td>39</td>\n",
       "      <td>27.0</td>\n",
       "      <td>13.0</td>\n",
       "      <td>3640</td>\n",
       "      <td>non-USA</td>\n",
       "      <td>BMW 535i</td>\n",
       "    </tr>\n",
       "  </tbody>\n",
       "</table>\n",
       "</div>"
      ]
     },
     "metadata": {
      "application/vnd.databricks.v1+output": {
       "addedWidgets": {},
       "arguments": {},
       "data": "<div>\n<style scoped>\n    .dataframe tbody tr th:only-of-type {\n        vertical-align: middle;\n    }\n\n    .dataframe tbody tr th {\n        vertical-align: top;\n    }\n\n    .dataframe thead th {\n        text-align: right;\n    }\n</style>\n<table border=\"1\" class=\"dataframe\">\n  <thead>\n    <tr style=\"text-align: right;\">\n      <th></th>\n      <th>Unnamed: 0</th>\n      <th>Manufacturer</th>\n      <th>Model</th>\n      <th>Type</th>\n      <th>Min.Price</th>\n      <th>Price</th>\n      <th>Max.Price</th>\n      <th>MPG.city</th>\n      <th>MPG.highway</th>\n      <th>AirBags</th>\n      <th>DriveTrain</th>\n      <th>Cylinders</th>\n      <th>EngineSize</th>\n      <th>Horsepower</th>\n      <th>RPM</th>\n      <th>Rev.per.mile</th>\n      <th>Man.trans.avail</th>\n      <th>Fuel.tank.capacity</th>\n      <th>Passengers</th>\n      <th>Length</th>\n      <th>Wheelbase</th>\n      <th>Width</th>\n      <th>Turn.circle</th>\n      <th>Rear.seat.room</th>\n      <th>Luggage.room</th>\n      <th>Weight</th>\n      <th>Origin</th>\n      <th>Make</th>\n    </tr>\n  </thead>\n  <tbody>\n    <tr>\n      <th>0</th>\n      <td>1</td>\n      <td>Acura</td>\n      <td>Integra</td>\n      <td>Small</td>\n      <td>12.9</td>\n      <td>15.9</td>\n      <td>18.8</td>\n      <td>25</td>\n      <td>31</td>\n      <td>None</td>\n      <td>Front</td>\n      <td>4</td>\n      <td>1.8</td>\n      <td>140</td>\n      <td>6300</td>\n      <td>2890</td>\n      <td>Yes</td>\n      <td>13.2</td>\n      <td>5</td>\n      <td>177</td>\n      <td>102</td>\n      <td>68</td>\n      <td>37</td>\n      <td>26.5</td>\n      <td>11.0</td>\n      <td>2705</td>\n      <td>non-USA</td>\n      <td>Acura Integra</td>\n    </tr>\n    <tr>\n      <th>1</th>\n      <td>2</td>\n      <td>Acura</td>\n      <td>Legend</td>\n      <td>Midsize</td>\n      <td>29.2</td>\n      <td>33.9</td>\n      <td>38.7</td>\n      <td>18</td>\n      <td>25</td>\n      <td>Driver &amp; Passenger</td>\n      <td>Front</td>\n      <td>6</td>\n      <td>3.2</td>\n      <td>200</td>\n      <td>5500</td>\n      <td>2335</td>\n      <td>Yes</td>\n      <td>18.0</td>\n      <td>5</td>\n      <td>195</td>\n      <td>115</td>\n      <td>71</td>\n      <td>38</td>\n      <td>30.0</td>\n      <td>15.0</td>\n      <td>3560</td>\n      <td>non-USA</td>\n      <td>Acura Legend</td>\n    </tr>\n    <tr>\n      <th>2</th>\n      <td>3</td>\n      <td>Audi</td>\n      <td>90</td>\n      <td>Compact</td>\n      <td>25.9</td>\n      <td>29.1</td>\n      <td>32.3</td>\n      <td>20</td>\n      <td>26</td>\n      <td>Driver only</td>\n      <td>Front</td>\n      <td>6</td>\n      <td>2.8</td>\n      <td>172</td>\n      <td>5500</td>\n      <td>2280</td>\n      <td>Yes</td>\n      <td>16.9</td>\n      <td>5</td>\n      <td>180</td>\n      <td>102</td>\n      <td>67</td>\n      <td>37</td>\n      <td>28.0</td>\n      <td>14.0</td>\n      <td>3375</td>\n      <td>non-USA</td>\n      <td>Audi 90</td>\n    </tr>\n    <tr>\n      <th>3</th>\n      <td>4</td>\n      <td>Audi</td>\n      <td>100</td>\n      <td>Midsize</td>\n      <td>30.8</td>\n      <td>37.7</td>\n      <td>44.6</td>\n      <td>19</td>\n      <td>26</td>\n      <td>Driver &amp; Passenger</td>\n      <td>Front</td>\n      <td>6</td>\n      <td>2.8</td>\n      <td>172</td>\n      <td>5500</td>\n      <td>2535</td>\n      <td>Yes</td>\n      <td>21.1</td>\n      <td>6</td>\n      <td>193</td>\n      <td>106</td>\n      <td>70</td>\n      <td>37</td>\n      <td>31.0</td>\n      <td>17.0</td>\n      <td>3405</td>\n      <td>non-USA</td>\n      <td>Audi 100</td>\n    </tr>\n    <tr>\n      <th>4</th>\n      <td>5</td>\n      <td>BMW</td>\n      <td>535i</td>\n      <td>Midsize</td>\n      <td>23.7</td>\n      <td>30.0</td>\n      <td>36.2</td>\n      <td>22</td>\n      <td>30</td>\n      <td>Driver only</td>\n      <td>Rear</td>\n      <td>4</td>\n      <td>3.5</td>\n      <td>208</td>\n      <td>5700</td>\n      <td>2545</td>\n      <td>Yes</td>\n      <td>21.1</td>\n      <td>4</td>\n      <td>186</td>\n      <td>109</td>\n      <td>69</td>\n      <td>39</td>\n      <td>27.0</td>\n      <td>13.0</td>\n      <td>3640</td>\n      <td>non-USA</td>\n      <td>BMW 535i</td>\n    </tr>\n  </tbody>\n</table>\n</div>",
       "datasetInfos": [],
       "metadata": {},
       "removedWidgets": [],
       "textData": null,
       "type": "htmlSandbox"
      }
     },
     "output_type": "display_data"
    }
   ],
   "source": [
    "df = pd.read_csv(\"/dbfs/FileStore/CDS2024/Cars93.csv\")\n",
    "df.head()"
   ]
  },
  {
   "cell_type": "markdown",
   "metadata": {
    "application/vnd.databricks.v1+cell": {
     "cellMetadata": {},
     "inputWidgets": {},
     "nuid": "d0df75a3-da5d-4194-aedd-158b6a4e2625",
     "showTitle": false,
     "title": ""
    }
   },
   "source": [
    "2. Filter the 'Manufacturer', 'Model' and 'Type' for every 20th row starting from 1st (row 0).\n",
    "For example: row 20,40,60,etc.\n",
    "\n",
    "\n"
   ]
  },
  {
   "cell_type": "code",
   "execution_count": 0,
   "metadata": {
    "application/vnd.databricks.v1+cell": {
     "cellMetadata": {
      "byteLimit": 2048000,
      "rowLimit": 10000
     },
     "inputWidgets": {},
     "nuid": "07487dfa-6045-4571-8166-e4daa28487de",
     "showTitle": false,
     "title": ""
    }
   },
   "outputs": [
    {
     "output_type": "display_data",
     "data": {
      "text/html": [
       "<style scoped>\n",
       "  .ansiout {\n",
       "    display: block;\n",
       "    unicode-bidi: embed;\n",
       "    white-space: pre-wrap;\n",
       "    word-wrap: break-word;\n",
       "    word-break: break-all;\n",
       "    font-family: \"Menlo\", \"Monaco\", \"Consolas\", \"Ubuntu Mono\", \"Source Code Pro\", monospace;\n",
       "    font-size: 13px;\n",
       "    color: #555;\n",
       "    margin-left: 4px;\n",
       "    line-height: 19px;\n",
       "  }\n",
       "</style>\n",
       "<div class=\"ansiout\">   Manufacturer    Model     Type\n",
       "0         Acura  Integra    Small\n",
       "20     Chrysler  LeBaron  Compact\n",
       "40        Honda  Prelude   Sporty\n",
       "60      Mercury   Cougar  Midsize\n",
       "80       Subaru   Loyale    Small\n",
       "</div>"
      ]
     },
     "metadata": {
      "application/vnd.databricks.v1+output": {
       "addedWidgets": {},
       "arguments": {},
       "data": "<div class=\"ansiout\">   Manufacturer    Model     Type\n0         Acura  Integra    Small\n20     Chrysler  LeBaron  Compact\n40        Honda  Prelude   Sporty\n60      Mercury   Cougar  Midsize\n80       Subaru   Loyale    Small\n</div>",
       "datasetInfos": [],
       "metadata": {},
       "removedWidgets": [],
       "type": "html"
      }
     },
     "output_type": "display_data"
    }
   ],
   "source": [
    "columns = df[['Manufacturer', 'Model', 'Type']]\n",
    "\n",
    "df_filtered = columns.iloc[::20]\n",
    "print(df_filtered)"
   ]
  },
  {
   "cell_type": "markdown",
   "metadata": {
    "application/vnd.databricks.v1+cell": {
     "cellMetadata": {},
     "inputWidgets": {},
     "nuid": "6b87664b-7ba2-43ec-b562-c622ab03f77e",
     "showTitle": false,
     "title": ""
    }
   },
   "source": [
    "## Data analysis"
   ]
  },
  {
   "cell_type": "markdown",
   "metadata": {
    "application/vnd.databricks.v1+cell": {
     "cellMetadata": {},
     "inputWidgets": {},
     "nuid": "64eba009-e8d3-47ed-8a42-a3f73d949bc9",
     "showTitle": false,
     "title": ""
    }
   },
   "source": [
    "Filter data of small cars only (type of the car)."
   ]
  },
  {
   "cell_type": "code",
   "execution_count": 0,
   "metadata": {
    "application/vnd.databricks.v1+cell": {
     "cellMetadata": {
      "byteLimit": 2048000,
      "rowLimit": 10000
     },
     "inputWidgets": {},
     "nuid": "5c5c46c0-43e6-4f57-a6a3-1e54dabf6297",
     "showTitle": false,
     "title": ""
    }
   },
   "outputs": [
    {
     "output_type": "display_data",
     "data": {
      "text/html": [
       "<style scoped>\n",
       "  .ansiout {\n",
       "    display: block;\n",
       "    unicode-bidi: embed;\n",
       "    white-space: pre-wrap;\n",
       "    word-wrap: break-word;\n",
       "    word-break: break-all;\n",
       "    font-family: \"Menlo\", \"Monaco\", \"Consolas\", \"Ubuntu Mono\", \"Source Code Pro\", monospace;\n",
       "    font-size: 13px;\n",
       "    color: #555;\n",
       "    margin-left: 4px;\n",
       "    line-height: 19px;\n",
       "  }\n",
       "</style>\n",
       "<div class=\"ansiout\">Out[16]: </div>"
      ]
     },
     "metadata": {
      "application/vnd.databricks.v1+output": {
       "addedWidgets": {},
       "arguments": {},
       "data": "<div class=\"ansiout\">Out[16]: </div>",
       "datasetInfos": [],
       "metadata": {},
       "removedWidgets": [],
       "type": "html"
      }
     },
     "output_type": "display_data"
    },
    {
     "output_type": "display_data",
     "data": {
      "text/html": [
       "<div>\n",
       "<style scoped>\n",
       "    .dataframe tbody tr th:only-of-type {\n",
       "        vertical-align: middle;\n",
       "    }\n",
       "\n",
       "    .dataframe tbody tr th {\n",
       "        vertical-align: top;\n",
       "    }\n",
       "\n",
       "    .dataframe thead th {\n",
       "        text-align: right;\n",
       "    }\n",
       "</style>\n",
       "<table border=\"1\" class=\"dataframe\">\n",
       "  <thead>\n",
       "    <tr style=\"text-align: right;\">\n",
       "      <th></th>\n",
       "      <th>Unnamed: 0</th>\n",
       "      <th>Manufacturer</th>\n",
       "      <th>Model</th>\n",
       "      <th>Type</th>\n",
       "      <th>Min.Price</th>\n",
       "      <th>Price</th>\n",
       "      <th>Max.Price</th>\n",
       "      <th>MPG.city</th>\n",
       "      <th>MPG.highway</th>\n",
       "      <th>AirBags</th>\n",
       "      <th>DriveTrain</th>\n",
       "      <th>Cylinders</th>\n",
       "      <th>EngineSize</th>\n",
       "      <th>Horsepower</th>\n",
       "      <th>RPM</th>\n",
       "      <th>Rev.per.mile</th>\n",
       "      <th>Man.trans.avail</th>\n",
       "      <th>Fuel.tank.capacity</th>\n",
       "      <th>Passengers</th>\n",
       "      <th>Length</th>\n",
       "      <th>Wheelbase</th>\n",
       "      <th>Width</th>\n",
       "      <th>Turn.circle</th>\n",
       "      <th>Rear.seat.room</th>\n",
       "      <th>Luggage.room</th>\n",
       "      <th>Weight</th>\n",
       "      <th>Origin</th>\n",
       "      <th>Make</th>\n",
       "    </tr>\n",
       "  </thead>\n",
       "  <tbody>\n",
       "    <tr>\n",
       "      <th>0</th>\n",
       "      <td>1</td>\n",
       "      <td>Acura</td>\n",
       "      <td>Integra</td>\n",
       "      <td>Small</td>\n",
       "      <td>12.9</td>\n",
       "      <td>15.9</td>\n",
       "      <td>18.8</td>\n",
       "      <td>25</td>\n",
       "      <td>31</td>\n",
       "      <td>None</td>\n",
       "      <td>Front</td>\n",
       "      <td>4</td>\n",
       "      <td>1.8</td>\n",
       "      <td>140</td>\n",
       "      <td>6300</td>\n",
       "      <td>2890</td>\n",
       "      <td>Yes</td>\n",
       "      <td>13.2</td>\n",
       "      <td>5</td>\n",
       "      <td>177</td>\n",
       "      <td>102</td>\n",
       "      <td>68</td>\n",
       "      <td>37</td>\n",
       "      <td>26.5</td>\n",
       "      <td>11.0</td>\n",
       "      <td>2705</td>\n",
       "      <td>non-USA</td>\n",
       "      <td>Acura Integra</td>\n",
       "    </tr>\n",
       "    <tr>\n",
       "      <th>1</th>\n",
       "      <td>2</td>\n",
       "      <td>Acura</td>\n",
       "      <td>Legend</td>\n",
       "      <td>Midsize</td>\n",
       "      <td>29.2</td>\n",
       "      <td>33.9</td>\n",
       "      <td>38.7</td>\n",
       "      <td>18</td>\n",
       "      <td>25</td>\n",
       "      <td>Driver &amp; Passenger</td>\n",
       "      <td>Front</td>\n",
       "      <td>6</td>\n",
       "      <td>3.2</td>\n",
       "      <td>200</td>\n",
       "      <td>5500</td>\n",
       "      <td>2335</td>\n",
       "      <td>Yes</td>\n",
       "      <td>18.0</td>\n",
       "      <td>5</td>\n",
       "      <td>195</td>\n",
       "      <td>115</td>\n",
       "      <td>71</td>\n",
       "      <td>38</td>\n",
       "      <td>30.0</td>\n",
       "      <td>15.0</td>\n",
       "      <td>3560</td>\n",
       "      <td>non-USA</td>\n",
       "      <td>Acura Legend</td>\n",
       "    </tr>\n",
       "    <tr>\n",
       "      <th>2</th>\n",
       "      <td>3</td>\n",
       "      <td>Audi</td>\n",
       "      <td>90</td>\n",
       "      <td>Compact</td>\n",
       "      <td>25.9</td>\n",
       "      <td>29.1</td>\n",
       "      <td>32.3</td>\n",
       "      <td>20</td>\n",
       "      <td>26</td>\n",
       "      <td>Driver only</td>\n",
       "      <td>Front</td>\n",
       "      <td>6</td>\n",
       "      <td>2.8</td>\n",
       "      <td>172</td>\n",
       "      <td>5500</td>\n",
       "      <td>2280</td>\n",
       "      <td>Yes</td>\n",
       "      <td>16.9</td>\n",
       "      <td>5</td>\n",
       "      <td>180</td>\n",
       "      <td>102</td>\n",
       "      <td>67</td>\n",
       "      <td>37</td>\n",
       "      <td>28.0</td>\n",
       "      <td>14.0</td>\n",
       "      <td>3375</td>\n",
       "      <td>non-USA</td>\n",
       "      <td>Audi 90</td>\n",
       "    </tr>\n",
       "    <tr>\n",
       "      <th>3</th>\n",
       "      <td>4</td>\n",
       "      <td>Audi</td>\n",
       "      <td>100</td>\n",
       "      <td>Midsize</td>\n",
       "      <td>30.8</td>\n",
       "      <td>37.7</td>\n",
       "      <td>44.6</td>\n",
       "      <td>19</td>\n",
       "      <td>26</td>\n",
       "      <td>Driver &amp; Passenger</td>\n",
       "      <td>Front</td>\n",
       "      <td>6</td>\n",
       "      <td>2.8</td>\n",
       "      <td>172</td>\n",
       "      <td>5500</td>\n",
       "      <td>2535</td>\n",
       "      <td>Yes</td>\n",
       "      <td>21.1</td>\n",
       "      <td>6</td>\n",
       "      <td>193</td>\n",
       "      <td>106</td>\n",
       "      <td>70</td>\n",
       "      <td>37</td>\n",
       "      <td>31.0</td>\n",
       "      <td>17.0</td>\n",
       "      <td>3405</td>\n",
       "      <td>non-USA</td>\n",
       "      <td>Audi 100</td>\n",
       "    </tr>\n",
       "    <tr>\n",
       "      <th>4</th>\n",
       "      <td>5</td>\n",
       "      <td>BMW</td>\n",
       "      <td>535i</td>\n",
       "      <td>Midsize</td>\n",
       "      <td>23.7</td>\n",
       "      <td>30.0</td>\n",
       "      <td>36.2</td>\n",
       "      <td>22</td>\n",
       "      <td>30</td>\n",
       "      <td>Driver only</td>\n",
       "      <td>Rear</td>\n",
       "      <td>4</td>\n",
       "      <td>3.5</td>\n",
       "      <td>208</td>\n",
       "      <td>5700</td>\n",
       "      <td>2545</td>\n",
       "      <td>Yes</td>\n",
       "      <td>21.1</td>\n",
       "      <td>4</td>\n",
       "      <td>186</td>\n",
       "      <td>109</td>\n",
       "      <td>69</td>\n",
       "      <td>39</td>\n",
       "      <td>27.0</td>\n",
       "      <td>13.0</td>\n",
       "      <td>3640</td>\n",
       "      <td>non-USA</td>\n",
       "      <td>BMW 535i</td>\n",
       "    </tr>\n",
       "  </tbody>\n",
       "</table>\n",
       "</div>"
      ]
     },
     "metadata": {
      "application/vnd.databricks.v1+output": {
       "addedWidgets": {},
       "arguments": {},
       "data": "<div>\n<style scoped>\n    .dataframe tbody tr th:only-of-type {\n        vertical-align: middle;\n    }\n\n    .dataframe tbody tr th {\n        vertical-align: top;\n    }\n\n    .dataframe thead th {\n        text-align: right;\n    }\n</style>\n<table border=\"1\" class=\"dataframe\">\n  <thead>\n    <tr style=\"text-align: right;\">\n      <th></th>\n      <th>Unnamed: 0</th>\n      <th>Manufacturer</th>\n      <th>Model</th>\n      <th>Type</th>\n      <th>Min.Price</th>\n      <th>Price</th>\n      <th>Max.Price</th>\n      <th>MPG.city</th>\n      <th>MPG.highway</th>\n      <th>AirBags</th>\n      <th>DriveTrain</th>\n      <th>Cylinders</th>\n      <th>EngineSize</th>\n      <th>Horsepower</th>\n      <th>RPM</th>\n      <th>Rev.per.mile</th>\n      <th>Man.trans.avail</th>\n      <th>Fuel.tank.capacity</th>\n      <th>Passengers</th>\n      <th>Length</th>\n      <th>Wheelbase</th>\n      <th>Width</th>\n      <th>Turn.circle</th>\n      <th>Rear.seat.room</th>\n      <th>Luggage.room</th>\n      <th>Weight</th>\n      <th>Origin</th>\n      <th>Make</th>\n    </tr>\n  </thead>\n  <tbody>\n    <tr>\n      <th>0</th>\n      <td>1</td>\n      <td>Acura</td>\n      <td>Integra</td>\n      <td>Small</td>\n      <td>12.9</td>\n      <td>15.9</td>\n      <td>18.8</td>\n      <td>25</td>\n      <td>31</td>\n      <td>None</td>\n      <td>Front</td>\n      <td>4</td>\n      <td>1.8</td>\n      <td>140</td>\n      <td>6300</td>\n      <td>2890</td>\n      <td>Yes</td>\n      <td>13.2</td>\n      <td>5</td>\n      <td>177</td>\n      <td>102</td>\n      <td>68</td>\n      <td>37</td>\n      <td>26.5</td>\n      <td>11.0</td>\n      <td>2705</td>\n      <td>non-USA</td>\n      <td>Acura Integra</td>\n    </tr>\n    <tr>\n      <th>1</th>\n      <td>2</td>\n      <td>Acura</td>\n      <td>Legend</td>\n      <td>Midsize</td>\n      <td>29.2</td>\n      <td>33.9</td>\n      <td>38.7</td>\n      <td>18</td>\n      <td>25</td>\n      <td>Driver &amp; Passenger</td>\n      <td>Front</td>\n      <td>6</td>\n      <td>3.2</td>\n      <td>200</td>\n      <td>5500</td>\n      <td>2335</td>\n      <td>Yes</td>\n      <td>18.0</td>\n      <td>5</td>\n      <td>195</td>\n      <td>115</td>\n      <td>71</td>\n      <td>38</td>\n      <td>30.0</td>\n      <td>15.0</td>\n      <td>3560</td>\n      <td>non-USA</td>\n      <td>Acura Legend</td>\n    </tr>\n    <tr>\n      <th>2</th>\n      <td>3</td>\n      <td>Audi</td>\n      <td>90</td>\n      <td>Compact</td>\n      <td>25.9</td>\n      <td>29.1</td>\n      <td>32.3</td>\n      <td>20</td>\n      <td>26</td>\n      <td>Driver only</td>\n      <td>Front</td>\n      <td>6</td>\n      <td>2.8</td>\n      <td>172</td>\n      <td>5500</td>\n      <td>2280</td>\n      <td>Yes</td>\n      <td>16.9</td>\n      <td>5</td>\n      <td>180</td>\n      <td>102</td>\n      <td>67</td>\n      <td>37</td>\n      <td>28.0</td>\n      <td>14.0</td>\n      <td>3375</td>\n      <td>non-USA</td>\n      <td>Audi 90</td>\n    </tr>\n    <tr>\n      <th>3</th>\n      <td>4</td>\n      <td>Audi</td>\n      <td>100</td>\n      <td>Midsize</td>\n      <td>30.8</td>\n      <td>37.7</td>\n      <td>44.6</td>\n      <td>19</td>\n      <td>26</td>\n      <td>Driver &amp; Passenger</td>\n      <td>Front</td>\n      <td>6</td>\n      <td>2.8</td>\n      <td>172</td>\n      <td>5500</td>\n      <td>2535</td>\n      <td>Yes</td>\n      <td>21.1</td>\n      <td>6</td>\n      <td>193</td>\n      <td>106</td>\n      <td>70</td>\n      <td>37</td>\n      <td>31.0</td>\n      <td>17.0</td>\n      <td>3405</td>\n      <td>non-USA</td>\n      <td>Audi 100</td>\n    </tr>\n    <tr>\n      <th>4</th>\n      <td>5</td>\n      <td>BMW</td>\n      <td>535i</td>\n      <td>Midsize</td>\n      <td>23.7</td>\n      <td>30.0</td>\n      <td>36.2</td>\n      <td>22</td>\n      <td>30</td>\n      <td>Driver only</td>\n      <td>Rear</td>\n      <td>4</td>\n      <td>3.5</td>\n      <td>208</td>\n      <td>5700</td>\n      <td>2545</td>\n      <td>Yes</td>\n      <td>21.1</td>\n      <td>4</td>\n      <td>186</td>\n      <td>109</td>\n      <td>69</td>\n      <td>39</td>\n      <td>27.0</td>\n      <td>13.0</td>\n      <td>3640</td>\n      <td>non-USA</td>\n      <td>BMW 535i</td>\n    </tr>\n  </tbody>\n</table>\n</div>",
       "datasetInfos": [],
       "metadata": {},
       "removedWidgets": [],
       "textData": null,
       "type": "htmlSandbox"
      }
     },
     "output_type": "display_data"
    }
   ],
   "source": [
    "df.head()"
   ]
  },
  {
   "cell_type": "code",
   "execution_count": 0,
   "metadata": {
    "application/vnd.databricks.v1+cell": {
     "cellMetadata": {
      "byteLimit": 2048000,
      "rowLimit": 10000
     },
     "inputWidgets": {},
     "nuid": "4be2340e-e6a4-4ff4-aaa5-3e5164316842",
     "showTitle": false,
     "title": ""
    }
   },
   "outputs": [
    {
     "output_type": "display_data",
     "data": {
      "text/html": [
       "<style scoped>\n",
       "  .ansiout {\n",
       "    display: block;\n",
       "    unicode-bidi: embed;\n",
       "    white-space: pre-wrap;\n",
       "    word-wrap: break-word;\n",
       "    word-break: break-all;\n",
       "    font-family: \"Menlo\", \"Monaco\", \"Consolas\", \"Ubuntu Mono\", \"Source Code Pro\", monospace;\n",
       "    font-size: 13px;\n",
       "    color: #555;\n",
       "    margin-left: 4px;\n",
       "    line-height: 19px;\n",
       "  }\n",
       "</style>\n",
       "<div class=\"ansiout\">Out[19]: </div>"
      ]
     },
     "metadata": {
      "application/vnd.databricks.v1+output": {
       "addedWidgets": {},
       "arguments": {},
       "data": "<div class=\"ansiout\">Out[19]: </div>",
       "datasetInfos": [],
       "metadata": {},
       "removedWidgets": [],
       "type": "html"
      }
     },
     "output_type": "display_data"
    },
    {
     "output_type": "display_data",
     "data": {
      "text/html": [
       "<div>\n",
       "<style scoped>\n",
       "    .dataframe tbody tr th:only-of-type {\n",
       "        vertical-align: middle;\n",
       "    }\n",
       "\n",
       "    .dataframe tbody tr th {\n",
       "        vertical-align: top;\n",
       "    }\n",
       "\n",
       "    .dataframe thead th {\n",
       "        text-align: right;\n",
       "    }\n",
       "</style>\n",
       "<table border=\"1\" class=\"dataframe\">\n",
       "  <thead>\n",
       "    <tr style=\"text-align: right;\">\n",
       "      <th></th>\n",
       "      <th>Unnamed: 0</th>\n",
       "      <th>Manufacturer</th>\n",
       "      <th>Model</th>\n",
       "      <th>Type</th>\n",
       "      <th>Min.Price</th>\n",
       "      <th>Price</th>\n",
       "      <th>Max.Price</th>\n",
       "      <th>MPG.city</th>\n",
       "      <th>MPG.highway</th>\n",
       "      <th>AirBags</th>\n",
       "      <th>DriveTrain</th>\n",
       "      <th>Cylinders</th>\n",
       "      <th>EngineSize</th>\n",
       "      <th>Horsepower</th>\n",
       "      <th>RPM</th>\n",
       "      <th>Rev.per.mile</th>\n",
       "      <th>Man.trans.avail</th>\n",
       "      <th>Fuel.tank.capacity</th>\n",
       "      <th>Passengers</th>\n",
       "      <th>Length</th>\n",
       "      <th>Wheelbase</th>\n",
       "      <th>Width</th>\n",
       "      <th>Turn.circle</th>\n",
       "      <th>Rear.seat.room</th>\n",
       "      <th>Luggage.room</th>\n",
       "      <th>Weight</th>\n",
       "      <th>Origin</th>\n",
       "      <th>Make</th>\n",
       "    </tr>\n",
       "  </thead>\n",
       "  <tbody>\n",
       "    <tr>\n",
       "      <th>0</th>\n",
       "      <td>1</td>\n",
       "      <td>Acura</td>\n",
       "      <td>Integra</td>\n",
       "      <td>Small</td>\n",
       "      <td>12.9</td>\n",
       "      <td>15.9</td>\n",
       "      <td>18.8</td>\n",
       "      <td>25</td>\n",
       "      <td>31</td>\n",
       "      <td>None</td>\n",
       "      <td>Front</td>\n",
       "      <td>4</td>\n",
       "      <td>1.8</td>\n",
       "      <td>140</td>\n",
       "      <td>6300</td>\n",
       "      <td>2890</td>\n",
       "      <td>Yes</td>\n",
       "      <td>13.2</td>\n",
       "      <td>5</td>\n",
       "      <td>177</td>\n",
       "      <td>102</td>\n",
       "      <td>68</td>\n",
       "      <td>37</td>\n",
       "      <td>26.5</td>\n",
       "      <td>11.0</td>\n",
       "      <td>2705</td>\n",
       "      <td>non-USA</td>\n",
       "      <td>Acura Integra</td>\n",
       "    </tr>\n",
       "    <tr>\n",
       "      <th>22</th>\n",
       "      <td>23</td>\n",
       "      <td>Dodge</td>\n",
       "      <td>Colt</td>\n",
       "      <td>Small</td>\n",
       "      <td>7.9</td>\n",
       "      <td>9.2</td>\n",
       "      <td>10.6</td>\n",
       "      <td>29</td>\n",
       "      <td>33</td>\n",
       "      <td>None</td>\n",
       "      <td>Front</td>\n",
       "      <td>4</td>\n",
       "      <td>1.5</td>\n",
       "      <td>92</td>\n",
       "      <td>6000</td>\n",
       "      <td>3285</td>\n",
       "      <td>Yes</td>\n",
       "      <td>13.2</td>\n",
       "      <td>5</td>\n",
       "      <td>174</td>\n",
       "      <td>98</td>\n",
       "      <td>66</td>\n",
       "      <td>32</td>\n",
       "      <td>26.5</td>\n",
       "      <td>11.0</td>\n",
       "      <td>2270</td>\n",
       "      <td>USA</td>\n",
       "      <td>Dodge Colt</td>\n",
       "    </tr>\n",
       "    <tr>\n",
       "      <th>23</th>\n",
       "      <td>24</td>\n",
       "      <td>Dodge</td>\n",
       "      <td>Shadow</td>\n",
       "      <td>Small</td>\n",
       "      <td>8.4</td>\n",
       "      <td>11.3</td>\n",
       "      <td>14.2</td>\n",
       "      <td>23</td>\n",
       "      <td>29</td>\n",
       "      <td>Driver only</td>\n",
       "      <td>Front</td>\n",
       "      <td>4</td>\n",
       "      <td>2.2</td>\n",
       "      <td>93</td>\n",
       "      <td>4800</td>\n",
       "      <td>2595</td>\n",
       "      <td>Yes</td>\n",
       "      <td>14.0</td>\n",
       "      <td>5</td>\n",
       "      <td>172</td>\n",
       "      <td>97</td>\n",
       "      <td>67</td>\n",
       "      <td>38</td>\n",
       "      <td>26.5</td>\n",
       "      <td>13.0</td>\n",
       "      <td>2670</td>\n",
       "      <td>USA</td>\n",
       "      <td>Dodge Shadow</td>\n",
       "    </tr>\n",
       "  </tbody>\n",
       "</table>\n",
       "</div>"
      ]
     },
     "metadata": {
      "application/vnd.databricks.v1+output": {
       "addedWidgets": {},
       "arguments": {},
       "data": "<div>\n<style scoped>\n    .dataframe tbody tr th:only-of-type {\n        vertical-align: middle;\n    }\n\n    .dataframe tbody tr th {\n        vertical-align: top;\n    }\n\n    .dataframe thead th {\n        text-align: right;\n    }\n</style>\n<table border=\"1\" class=\"dataframe\">\n  <thead>\n    <tr style=\"text-align: right;\">\n      <th></th>\n      <th>Unnamed: 0</th>\n      <th>Manufacturer</th>\n      <th>Model</th>\n      <th>Type</th>\n      <th>Min.Price</th>\n      <th>Price</th>\n      <th>Max.Price</th>\n      <th>MPG.city</th>\n      <th>MPG.highway</th>\n      <th>AirBags</th>\n      <th>DriveTrain</th>\n      <th>Cylinders</th>\n      <th>EngineSize</th>\n      <th>Horsepower</th>\n      <th>RPM</th>\n      <th>Rev.per.mile</th>\n      <th>Man.trans.avail</th>\n      <th>Fuel.tank.capacity</th>\n      <th>Passengers</th>\n      <th>Length</th>\n      <th>Wheelbase</th>\n      <th>Width</th>\n      <th>Turn.circle</th>\n      <th>Rear.seat.room</th>\n      <th>Luggage.room</th>\n      <th>Weight</th>\n      <th>Origin</th>\n      <th>Make</th>\n    </tr>\n  </thead>\n  <tbody>\n    <tr>\n      <th>0</th>\n      <td>1</td>\n      <td>Acura</td>\n      <td>Integra</td>\n      <td>Small</td>\n      <td>12.9</td>\n      <td>15.9</td>\n      <td>18.8</td>\n      <td>25</td>\n      <td>31</td>\n      <td>None</td>\n      <td>Front</td>\n      <td>4</td>\n      <td>1.8</td>\n      <td>140</td>\n      <td>6300</td>\n      <td>2890</td>\n      <td>Yes</td>\n      <td>13.2</td>\n      <td>5</td>\n      <td>177</td>\n      <td>102</td>\n      <td>68</td>\n      <td>37</td>\n      <td>26.5</td>\n      <td>11.0</td>\n      <td>2705</td>\n      <td>non-USA</td>\n      <td>Acura Integra</td>\n    </tr>\n    <tr>\n      <th>22</th>\n      <td>23</td>\n      <td>Dodge</td>\n      <td>Colt</td>\n      <td>Small</td>\n      <td>7.9</td>\n      <td>9.2</td>\n      <td>10.6</td>\n      <td>29</td>\n      <td>33</td>\n      <td>None</td>\n      <td>Front</td>\n      <td>4</td>\n      <td>1.5</td>\n      <td>92</td>\n      <td>6000</td>\n      <td>3285</td>\n      <td>Yes</td>\n      <td>13.2</td>\n      <td>5</td>\n      <td>174</td>\n      <td>98</td>\n      <td>66</td>\n      <td>32</td>\n      <td>26.5</td>\n      <td>11.0</td>\n      <td>2270</td>\n      <td>USA</td>\n      <td>Dodge Colt</td>\n    </tr>\n    <tr>\n      <th>23</th>\n      <td>24</td>\n      <td>Dodge</td>\n      <td>Shadow</td>\n      <td>Small</td>\n      <td>8.4</td>\n      <td>11.3</td>\n      <td>14.2</td>\n      <td>23</td>\n      <td>29</td>\n      <td>Driver only</td>\n      <td>Front</td>\n      <td>4</td>\n      <td>2.2</td>\n      <td>93</td>\n      <td>4800</td>\n      <td>2595</td>\n      <td>Yes</td>\n      <td>14.0</td>\n      <td>5</td>\n      <td>172</td>\n      <td>97</td>\n      <td>67</td>\n      <td>38</td>\n      <td>26.5</td>\n      <td>13.0</td>\n      <td>2670</td>\n      <td>USA</td>\n      <td>Dodge Shadow</td>\n    </tr>\n  </tbody>\n</table>\n</div>",
       "datasetInfos": [],
       "metadata": {},
       "removedWidgets": [],
       "textData": null,
       "type": "htmlSandbox"
      }
     },
     "output_type": "display_data"
    }
   ],
   "source": [
    "small_car = df[df['Type']=='Small']\n",
    "small_car.head(3)"
   ]
  },
  {
   "cell_type": "code",
   "execution_count": 0,
   "metadata": {
    "application/vnd.databricks.v1+cell": {
     "cellMetadata": {
      "byteLimit": 2048000,
      "rowLimit": 10000
     },
     "inputWidgets": {},
     "nuid": "73bff11e-6e03-455f-8cd3-91c04fa21f76",
     "showTitle": false,
     "title": ""
    }
   },
   "outputs": [
    {
     "output_type": "display_data",
     "data": {
      "text/html": [
       "<style scoped>\n",
       "  .ansiout {\n",
       "    display: block;\n",
       "    unicode-bidi: embed;\n",
       "    white-space: pre-wrap;\n",
       "    word-wrap: break-word;\n",
       "    word-break: break-all;\n",
       "    font-family: \"Menlo\", \"Monaco\", \"Consolas\", \"Ubuntu Mono\", \"Source Code Pro\", monospace;\n",
       "    font-size: 13px;\n",
       "    color: #555;\n",
       "    margin-left: 4px;\n",
       "    line-height: 19px;\n",
       "  }\n",
       "</style>\n",
       "<div class=\"ansiout\">Out[20]: </div>"
      ]
     },
     "metadata": {
      "application/vnd.databricks.v1+output": {
       "addedWidgets": {},
       "arguments": {},
       "data": "<div class=\"ansiout\">Out[20]: </div>",
       "datasetInfos": [],
       "metadata": {},
       "removedWidgets": [],
       "type": "html"
      }
     },
     "output_type": "display_data"
    },
    {
     "output_type": "display_data",
     "data": {
      "text/html": [
       "<div>\n",
       "<style scoped>\n",
       "    .dataframe tbody tr th:only-of-type {\n",
       "        vertical-align: middle;\n",
       "    }\n",
       "\n",
       "    .dataframe tbody tr th {\n",
       "        vertical-align: top;\n",
       "    }\n",
       "\n",
       "    .dataframe thead th {\n",
       "        text-align: right;\n",
       "    }\n",
       "</style>\n",
       "<table border=\"1\" class=\"dataframe\">\n",
       "  <thead>\n",
       "    <tr style=\"text-align: right;\">\n",
       "      <th></th>\n",
       "      <th>Unnamed: 0</th>\n",
       "      <th>Manufacturer</th>\n",
       "      <th>Model</th>\n",
       "      <th>Type</th>\n",
       "      <th>Min.Price</th>\n",
       "      <th>Price</th>\n",
       "      <th>Max.Price</th>\n",
       "      <th>MPG.city</th>\n",
       "      <th>MPG.highway</th>\n",
       "      <th>AirBags</th>\n",
       "      <th>DriveTrain</th>\n",
       "      <th>Cylinders</th>\n",
       "      <th>EngineSize</th>\n",
       "      <th>Horsepower</th>\n",
       "      <th>RPM</th>\n",
       "      <th>Rev.per.mile</th>\n",
       "      <th>Man.trans.avail</th>\n",
       "      <th>Fuel.tank.capacity</th>\n",
       "      <th>Passengers</th>\n",
       "      <th>Length</th>\n",
       "      <th>Wheelbase</th>\n",
       "      <th>Width</th>\n",
       "      <th>Turn.circle</th>\n",
       "      <th>Rear.seat.room</th>\n",
       "      <th>Luggage.room</th>\n",
       "      <th>Weight</th>\n",
       "      <th>Origin</th>\n",
       "      <th>Make</th>\n",
       "    </tr>\n",
       "  </thead>\n",
       "  <tbody>\n",
       "    <tr>\n",
       "      <th>6</th>\n",
       "      <td>7</td>\n",
       "      <td>Buick</td>\n",
       "      <td>LeSabre</td>\n",
       "      <td>Large</td>\n",
       "      <td>19.9</td>\n",
       "      <td>20.8</td>\n",
       "      <td>21.7</td>\n",
       "      <td>19</td>\n",
       "      <td>28</td>\n",
       "      <td>Driver only</td>\n",
       "      <td>Front</td>\n",
       "      <td>6</td>\n",
       "      <td>3.8</td>\n",
       "      <td>170</td>\n",
       "      <td>4800</td>\n",
       "      <td>1570</td>\n",
       "      <td>No</td>\n",
       "      <td>18.0</td>\n",
       "      <td>6</td>\n",
       "      <td>200</td>\n",
       "      <td>111</td>\n",
       "      <td>74</td>\n",
       "      <td>42</td>\n",
       "      <td>30.5</td>\n",
       "      <td>17.0</td>\n",
       "      <td>3470</td>\n",
       "      <td>USA</td>\n",
       "      <td>Buick LeSabre</td>\n",
       "    </tr>\n",
       "    <tr>\n",
       "      <th>7</th>\n",
       "      <td>8</td>\n",
       "      <td>Buick</td>\n",
       "      <td>Roadmaster</td>\n",
       "      <td>Large</td>\n",
       "      <td>22.6</td>\n",
       "      <td>23.7</td>\n",
       "      <td>24.9</td>\n",
       "      <td>16</td>\n",
       "      <td>25</td>\n",
       "      <td>Driver only</td>\n",
       "      <td>Rear</td>\n",
       "      <td>6</td>\n",
       "      <td>5.7</td>\n",
       "      <td>180</td>\n",
       "      <td>4000</td>\n",
       "      <td>1320</td>\n",
       "      <td>No</td>\n",
       "      <td>23.0</td>\n",
       "      <td>6</td>\n",
       "      <td>216</td>\n",
       "      <td>116</td>\n",
       "      <td>78</td>\n",
       "      <td>45</td>\n",
       "      <td>30.5</td>\n",
       "      <td>21.0</td>\n",
       "      <td>4105</td>\n",
       "      <td>USA</td>\n",
       "      <td>Buick Roadmaster</td>\n",
       "    </tr>\n",
       "    <tr>\n",
       "      <th>9</th>\n",
       "      <td>10</td>\n",
       "      <td>Cadillac</td>\n",
       "      <td>DeVille</td>\n",
       "      <td>Large</td>\n",
       "      <td>33.0</td>\n",
       "      <td>34.7</td>\n",
       "      <td>36.3</td>\n",
       "      <td>16</td>\n",
       "      <td>25</td>\n",
       "      <td>Driver only</td>\n",
       "      <td>Front</td>\n",
       "      <td>8</td>\n",
       "      <td>4.9</td>\n",
       "      <td>200</td>\n",
       "      <td>4100</td>\n",
       "      <td>1510</td>\n",
       "      <td>No</td>\n",
       "      <td>18.0</td>\n",
       "      <td>6</td>\n",
       "      <td>206</td>\n",
       "      <td>114</td>\n",
       "      <td>73</td>\n",
       "      <td>43</td>\n",
       "      <td>35.0</td>\n",
       "      <td>18.0</td>\n",
       "      <td>3620</td>\n",
       "      <td>USA</td>\n",
       "      <td>Cadillac DeVille</td>\n",
       "    </tr>\n",
       "  </tbody>\n",
       "</table>\n",
       "</div>"
      ]
     },
     "metadata": {
      "application/vnd.databricks.v1+output": {
       "addedWidgets": {},
       "arguments": {},
       "data": "<div>\n<style scoped>\n    .dataframe tbody tr th:only-of-type {\n        vertical-align: middle;\n    }\n\n    .dataframe tbody tr th {\n        vertical-align: top;\n    }\n\n    .dataframe thead th {\n        text-align: right;\n    }\n</style>\n<table border=\"1\" class=\"dataframe\">\n  <thead>\n    <tr style=\"text-align: right;\">\n      <th></th>\n      <th>Unnamed: 0</th>\n      <th>Manufacturer</th>\n      <th>Model</th>\n      <th>Type</th>\n      <th>Min.Price</th>\n      <th>Price</th>\n      <th>Max.Price</th>\n      <th>MPG.city</th>\n      <th>MPG.highway</th>\n      <th>AirBags</th>\n      <th>DriveTrain</th>\n      <th>Cylinders</th>\n      <th>EngineSize</th>\n      <th>Horsepower</th>\n      <th>RPM</th>\n      <th>Rev.per.mile</th>\n      <th>Man.trans.avail</th>\n      <th>Fuel.tank.capacity</th>\n      <th>Passengers</th>\n      <th>Length</th>\n      <th>Wheelbase</th>\n      <th>Width</th>\n      <th>Turn.circle</th>\n      <th>Rear.seat.room</th>\n      <th>Luggage.room</th>\n      <th>Weight</th>\n      <th>Origin</th>\n      <th>Make</th>\n    </tr>\n  </thead>\n  <tbody>\n    <tr>\n      <th>6</th>\n      <td>7</td>\n      <td>Buick</td>\n      <td>LeSabre</td>\n      <td>Large</td>\n      <td>19.9</td>\n      <td>20.8</td>\n      <td>21.7</td>\n      <td>19</td>\n      <td>28</td>\n      <td>Driver only</td>\n      <td>Front</td>\n      <td>6</td>\n      <td>3.8</td>\n      <td>170</td>\n      <td>4800</td>\n      <td>1570</td>\n      <td>No</td>\n      <td>18.0</td>\n      <td>6</td>\n      <td>200</td>\n      <td>111</td>\n      <td>74</td>\n      <td>42</td>\n      <td>30.5</td>\n      <td>17.0</td>\n      <td>3470</td>\n      <td>USA</td>\n      <td>Buick LeSabre</td>\n    </tr>\n    <tr>\n      <th>7</th>\n      <td>8</td>\n      <td>Buick</td>\n      <td>Roadmaster</td>\n      <td>Large</td>\n      <td>22.6</td>\n      <td>23.7</td>\n      <td>24.9</td>\n      <td>16</td>\n      <td>25</td>\n      <td>Driver only</td>\n      <td>Rear</td>\n      <td>6</td>\n      <td>5.7</td>\n      <td>180</td>\n      <td>4000</td>\n      <td>1320</td>\n      <td>No</td>\n      <td>23.0</td>\n      <td>6</td>\n      <td>216</td>\n      <td>116</td>\n      <td>78</td>\n      <td>45</td>\n      <td>30.5</td>\n      <td>21.0</td>\n      <td>4105</td>\n      <td>USA</td>\n      <td>Buick Roadmaster</td>\n    </tr>\n    <tr>\n      <th>9</th>\n      <td>10</td>\n      <td>Cadillac</td>\n      <td>DeVille</td>\n      <td>Large</td>\n      <td>33.0</td>\n      <td>34.7</td>\n      <td>36.3</td>\n      <td>16</td>\n      <td>25</td>\n      <td>Driver only</td>\n      <td>Front</td>\n      <td>8</td>\n      <td>4.9</td>\n      <td>200</td>\n      <td>4100</td>\n      <td>1510</td>\n      <td>No</td>\n      <td>18.0</td>\n      <td>6</td>\n      <td>206</td>\n      <td>114</td>\n      <td>73</td>\n      <td>43</td>\n      <td>35.0</td>\n      <td>18.0</td>\n      <td>3620</td>\n      <td>USA</td>\n      <td>Cadillac DeVille</td>\n    </tr>\n  </tbody>\n</table>\n</div>",
       "datasetInfos": [],
       "metadata": {},
       "removedWidgets": [],
       "textData": null,
       "type": "htmlSandbox"
      }
     },
     "output_type": "display_data"
    }
   ],
   "source": [
    "large_car = df[df['Type']=='Large']\n",
    "large_car.head(3)"
   ]
  },
  {
   "cell_type": "markdown",
   "metadata": {
    "application/vnd.databricks.v1+cell": {
     "cellMetadata": {},
     "inputWidgets": {},
     "nuid": "398c2bac-0723-4e07-a6e0-2a2f07f82a99",
     "showTitle": false,
     "title": ""
    }
   },
   "source": [
    "What is the average price of smalls cars? Compare it with the average price of large cars."
   ]
  },
  {
   "cell_type": "code",
   "execution_count": 0,
   "metadata": {
    "application/vnd.databricks.v1+cell": {
     "cellMetadata": {
      "byteLimit": 2048000,
      "rowLimit": 10000
     },
     "inputWidgets": {},
     "nuid": "485899da-c46d-4b79-8f05-0717b7b447a8",
     "showTitle": false,
     "title": ""
    }
   },
   "outputs": [
    {
     "output_type": "display_data",
     "data": {
      "text/html": [
       "<style scoped>\n",
       "  .ansiout {\n",
       "    display: block;\n",
       "    unicode-bidi: embed;\n",
       "    white-space: pre-wrap;\n",
       "    word-wrap: break-word;\n",
       "    word-break: break-all;\n",
       "    font-family: \"Menlo\", \"Monaco\", \"Consolas\", \"Ubuntu Mono\", \"Source Code Pro\", monospace;\n",
       "    font-size: 13px;\n",
       "    color: #555;\n",
       "    margin-left: 4px;\n",
       "    line-height: 19px;\n",
       "  }\n",
       "</style>\n",
       "<div class=\"ansiout\">Out[23]: (10.166666666666666, 24.299999999999997)</div>"
      ]
     },
     "metadata": {
      "application/vnd.databricks.v1+output": {
       "addedWidgets": {},
       "arguments": {},
       "data": "<div class=\"ansiout\">Out[23]: (10.166666666666666, 24.299999999999997)</div>",
       "datasetInfos": [],
       "metadata": {},
       "removedWidgets": [],
       "type": "html"
      }
     },
     "output_type": "display_data"
    }
   ],
   "source": [
    "mean_small_car = small_car['Price'].mean()\n",
    "mean_large_car = large_car['Price'].mean()\n",
    "mean_small_car, mean_large_car"
   ]
  },
  {
   "cell_type": "markdown",
   "metadata": {
    "application/vnd.databricks.v1+cell": {
     "cellMetadata": {},
     "inputWidgets": {},
     "nuid": "106116c3-04d6-40a6-832f-78d8a6125bb4",
     "showTitle": false,
     "title": ""
    }
   },
   "source": [
    "Create a scatter plot 'Price vs Horsepower'."
   ]
  },
  {
   "cell_type": "code",
   "execution_count": 0,
   "metadata": {
    "application/vnd.databricks.v1+cell": {
     "cellMetadata": {
      "byteLimit": 2048000,
      "rowLimit": 10000
     },
     "inputWidgets": {},
     "nuid": "a9458a31-2eae-41a8-90ec-0fd7de2b7623",
     "showTitle": false,
     "title": ""
    }
   },
   "outputs": [
    {
     "output_type": "display_data",
     "data": {
      "text/html": [
       "<style scoped>\n",
       "  .ansiout {\n",
       "    display: block;\n",
       "    unicode-bidi: embed;\n",
       "    white-space: pre-wrap;\n",
       "    word-wrap: break-word;\n",
       "    word-break: break-all;\n",
       "    font-family: \"Menlo\", \"Monaco\", \"Consolas\", \"Ubuntu Mono\", \"Source Code Pro\", monospace;\n",
       "    font-size: 13px;\n",
       "    color: #555;\n",
       "    margin-left: 4px;\n",
       "    line-height: 19px;\n",
       "  }\n",
       "</style>\n",
       "<div class=\"ansiout\">Out[24]: </div>"
      ]
     },
     "metadata": {
      "application/vnd.databricks.v1+output": {
       "addedWidgets": {},
       "arguments": {},
       "data": "<div class=\"ansiout\">Out[24]: </div>",
       "datasetInfos": [],
       "metadata": {},
       "removedWidgets": [],
       "type": "html"
      }
     },
     "output_type": "display_data"
    },
    {
     "output_type": "display_data",
     "data": {
      "image/png": "[encoded data removed]"
     },
     "metadata": {
      "application/vnd.databricks.v1+output": {
       "addedWidgets": {},
       "arguments": {},
       "data": "data:image/png;base64,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",
       "datasetInfos": [],
       "metadata": {
        "imageDimensions": {
         "height": 262,
         "width": 389
        }
       },
       "removedWidgets": [],
       "type": "image"
      },
      "image/png": {
       "height": 262,
       "width": 389
      }
     },
     "output_type": "display_data"
    },
    {
     "output_type": "display_data",
     "data": {
      "text/html": [
       "<style scoped>\n",
       "  .ansiout {\n",
       "    display: block;\n",
       "    unicode-bidi: embed;\n",
       "    white-space: pre-wrap;\n",
       "    word-wrap: break-word;\n",
       "    word-break: break-all;\n",
       "    font-family: \"Menlo\", \"Monaco\", \"Consolas\", \"Ubuntu Mono\", \"Source Code Pro\", monospace;\n",
       "    font-size: 13px;\n",
       "    color: #555;\n",
       "    margin-left: 4px;\n",
       "    line-height: 19px;\n",
       "  }\n",
       "</style>\n",
       "<div class=\"ansiout\">&lt;AxesSubplot:xlabel=&#39;Price&#39;, ylabel=&#39;Horsepower&#39;&gt;</div>"
      ]
     },
     "metadata": {
      "application/vnd.databricks.v1+output": {
       "addedWidgets": {},
       "arguments": {},
       "data": "<div class=\"ansiout\">&lt;AxesSubplot:xlabel=&#39;Price&#39;, ylabel=&#39;Horsepower&#39;&gt;</div>",
       "datasetInfos": [],
       "metadata": {},
       "removedWidgets": [],
       "type": "html"
      }
     },
     "output_type": "display_data"
    }
   ],
   "source": [
    "df.plot.scatter(x='Price', y = 'Horsepower')"
   ]
  },
  {
   "cell_type": "markdown",
   "metadata": {
    "application/vnd.databricks.v1+cell": {
     "cellMetadata": {},
     "inputWidgets": {},
     "nuid": "9d9c5b04-22d7-4d39-8ddb-0ce26fb0504e",
     "showTitle": false,
     "title": ""
    }
   },
   "source": [
    "## How to convert a numpy array to a dataframe of given shape?\n",
    "\n",
    "Reshape the series ser into a dataframe with 7 rows and 5 columns "
   ]
  },
  {
   "cell_type": "code",
   "execution_count": 0,
   "metadata": {
    "application/vnd.databricks.v1+cell": {
     "cellMetadata": {
      "byteLimit": 2048000,
      "rowLimit": 10000
     },
     "inputWidgets": {},
     "nuid": "91c74cf1-acd8-4bf1-a8d0-296533201350",
     "showTitle": false,
     "title": ""
    }
   },
   "outputs": [
    {
     "output_type": "display_data",
     "data": {
      "text/html": [
       "<style scoped>\n",
       "  .ansiout {\n",
       "    display: block;\n",
       "    unicode-bidi: embed;\n",
       "    white-space: pre-wrap;\n",
       "    word-wrap: break-word;\n",
       "    word-break: break-all;\n",
       "    font-family: \"Menlo\", \"Monaco\", \"Consolas\", \"Ubuntu Mono\", \"Source Code Pro\", monospace;\n",
       "    font-size: 13px;\n",
       "    color: #555;\n",
       "    margin-left: 4px;\n",
       "    line-height: 19px;\n",
       "  }\n",
       "</style>\n",
       "<div class=\"ansiout\">    A\n",
       "0   9\n",
       "1   9\n",
       "2   6\n",
       "3   7\n",
       "4   6\n",
       "5   5\n",
       "6   6\n",
       "7   4\n",
       "8   7\n",
       "9   9\n",
       "10  1\n",
       "11  8\n",
       "12  5\n",
       "13  9\n",
       "14  3\n",
       "15  7\n",
       "16  5\n",
       "17  1\n",
       "18  1\n",
       "19  5\n",
       "20  6\n",
       "21  5\n",
       "22  4\n",
       "23  3\n",
       "24  3\n",
       "25  3\n",
       "26  3\n",
       "27  2\n",
       "28  9\n",
       "29  8\n",
       "30  7\n",
       "31  4\n",
       "32  8\n",
       "33  5\n",
       "34  3\n",
       "</div>"
      ]
     },
     "metadata": {
      "application/vnd.databricks.v1+output": {
       "addedWidgets": {},
       "arguments": {},
       "data": "<div class=\"ansiout\">    A\n0   9\n1   9\n2   6\n3   7\n4   6\n5   5\n6   6\n7   4\n8   7\n9   9\n10  1\n11  8\n12  5\n13  9\n14  3\n15  7\n16  5\n17  1\n18  1\n19  5\n20  6\n21  5\n22  4\n23  3\n24  3\n25  3\n26  3\n27  2\n28  9\n29  8\n30  7\n31  4\n32  8\n33  5\n34  3\n</div>",
       "datasetInfos": [],
       "metadata": {},
       "removedWidgets": [],
       "type": "html"
      }
     },
     "output_type": "display_data"
    }
   ],
   "source": [
    "df = pd.DataFrame(ser, columns=['A'])\n",
    "print(df)"
   ]
  },
  {
   "cell_type": "code",
   "execution_count": 0,
   "metadata": {
    "application/vnd.databricks.v1+cell": {
     "cellMetadata": {
      "byteLimit": 2048000,
      "rowLimit": 10000
     },
     "inputWidgets": {},
     "nuid": "26ab8fbd-5234-484f-add1-c0da9c8d68a4",
     "showTitle": false,
     "title": ""
    }
   },
   "outputs": [
    {
     "output_type": "display_data",
     "data": {
      "text/html": [
       "<style scoped>\n",
       "  .ansiout {\n",
       "    display: block;\n",
       "    unicode-bidi: embed;\n",
       "    white-space: pre-wrap;\n",
       "    word-wrap: break-word;\n",
       "    word-break: break-all;\n",
       "    font-family: \"Menlo\", \"Monaco\", \"Consolas\", \"Ubuntu Mono\", \"Source Code Pro\", monospace;\n",
       "    font-size: 13px;\n",
       "    color: #555;\n",
       "    margin-left: 4px;\n",
       "    line-height: 19px;\n",
       "  }\n",
       "</style>\n",
       "<div class=\"ansiout\">Out[22]: </div>"
      ]
     },
     "metadata": {
      "application/vnd.databricks.v1+output": {
       "addedWidgets": {},
       "arguments": {},
       "data": "<div class=\"ansiout\">Out[22]: </div>",
       "datasetInfos": [],
       "metadata": {},
       "removedWidgets": [],
       "type": "html"
      }
     },
     "output_type": "display_data"
    },
    {
     "output_type": "display_data",
     "data": {
      "text/html": [
       "<div>\n",
       "<style scoped>\n",
       "    .dataframe tbody tr th:only-of-type {\n",
       "        vertical-align: middle;\n",
       "    }\n",
       "\n",
       "    .dataframe tbody tr th {\n",
       "        vertical-align: top;\n",
       "    }\n",
       "\n",
       "    .dataframe thead th {\n",
       "        text-align: right;\n",
       "    }\n",
       "</style>\n",
       "<table border=\"1\" class=\"dataframe\">\n",
       "  <thead>\n",
       "    <tr style=\"text-align: right;\">\n",
       "      <th></th>\n",
       "      <th>0</th>\n",
       "      <th>1</th>\n",
       "      <th>2</th>\n",
       "      <th>3</th>\n",
       "      <th>4</th>\n",
       "    </tr>\n",
       "  </thead>\n",
       "  <tbody>\n",
       "    <tr>\n",
       "      <th>0</th>\n",
       "      <td>9</td>\n",
       "      <td>9</td>\n",
       "      <td>6</td>\n",
       "      <td>7</td>\n",
       "      <td>6</td>\n",
       "    </tr>\n",
       "    <tr>\n",
       "      <th>1</th>\n",
       "      <td>5</td>\n",
       "      <td>6</td>\n",
       "      <td>4</td>\n",
       "      <td>7</td>\n",
       "      <td>9</td>\n",
       "    </tr>\n",
       "    <tr>\n",
       "      <th>2</th>\n",
       "      <td>1</td>\n",
       "      <td>8</td>\n",
       "      <td>5</td>\n",
       "      <td>9</td>\n",
       "      <td>3</td>\n",
       "    </tr>\n",
       "    <tr>\n",
       "      <th>3</th>\n",
       "      <td>7</td>\n",
       "      <td>5</td>\n",
       "      <td>1</td>\n",
       "      <td>1</td>\n",
       "      <td>5</td>\n",
       "    </tr>\n",
       "    <tr>\n",
       "      <th>4</th>\n",
       "      <td>6</td>\n",
       "      <td>5</td>\n",
       "      <td>4</td>\n",
       "      <td>3</td>\n",
       "      <td>3</td>\n",
       "    </tr>\n",
       "    <tr>\n",
       "      <th>5</th>\n",
       "      <td>3</td>\n",
       "      <td>3</td>\n",
       "      <td>2</td>\n",
       "      <td>9</td>\n",
       "      <td>8</td>\n",
       "    </tr>\n",
       "    <tr>\n",
       "      <th>6</th>\n",
       "      <td>7</td>\n",
       "      <td>4</td>\n",
       "      <td>8</td>\n",
       "      <td>5</td>\n",
       "      <td>3</td>\n",
       "    </tr>\n",
       "  </tbody>\n",
       "</table>\n",
       "</div>"
      ]
     },
     "metadata": {
      "application/vnd.databricks.v1+output": {
       "addedWidgets": {},
       "arguments": {},
       "data": "<div>\n<style scoped>\n    .dataframe tbody tr th:only-of-type {\n        vertical-align: middle;\n    }\n\n    .dataframe tbody tr th {\n        vertical-align: top;\n    }\n\n    .dataframe thead th {\n        text-align: right;\n    }\n</style>\n<table border=\"1\" class=\"dataframe\">\n  <thead>\n    <tr style=\"text-align: right;\">\n      <th></th>\n      <th>0</th>\n      <th>1</th>\n      <th>2</th>\n      <th>3</th>\n      <th>4</th>\n    </tr>\n  </thead>\n  <tbody>\n    <tr>\n      <th>0</th>\n      <td>9</td>\n      <td>9</td>\n      <td>6</td>\n      <td>7</td>\n      <td>6</td>\n    </tr>\n    <tr>\n      <th>1</th>\n      <td>5</td>\n      <td>6</td>\n      <td>4</td>\n      <td>7</td>\n      <td>9</td>\n    </tr>\n    <tr>\n      <th>2</th>\n      <td>1</td>\n      <td>8</td>\n      <td>5</td>\n      <td>9</td>\n      <td>3</td>\n    </tr>\n    <tr>\n      <th>3</th>\n      <td>7</td>\n      <td>5</td>\n      <td>1</td>\n      <td>1</td>\n      <td>5</td>\n    </tr>\n    <tr>\n      <th>4</th>\n      <td>6</td>\n      <td>5</td>\n      <td>4</td>\n      <td>3</td>\n      <td>3</td>\n    </tr>\n    <tr>\n      <th>5</th>\n      <td>3</td>\n      <td>3</td>\n      <td>2</td>\n      <td>9</td>\n      <td>8</td>\n    </tr>\n    <tr>\n      <th>6</th>\n      <td>7</td>\n      <td>4</td>\n      <td>8</td>\n      <td>5</td>\n      <td>3</td>\n    </tr>\n  </tbody>\n</table>\n</div>",
       "datasetInfos": [],
       "metadata": {},
       "removedWidgets": [],
       "textData": null,
       "type": "htmlSandbox"
      }
     },
     "output_type": "display_data"
    }
   ],
   "source": [
    "ser_re = pd.DataFrame(df.values.reshape(7,5))\n",
    "ser_re"
   ]
  },
  {
   "cell_type": "code",
   "execution_count": 0,
   "metadata": {
    "application/vnd.databricks.v1+cell": {
     "cellMetadata": {},
     "inputWidgets": {},
     "nuid": "b3fbd20b-e405-422f-a37e-0a8c976f6e95",
     "showTitle": false,
     "title": ""
    }
   },
   "outputs": [],
   "source": []
  }
 ],
 "metadata": {
  "application/vnd.databricks.v1+notebook": {
   "dashboards": [],
   "language": "python",
   "notebookMetadata": {
    "pythonIndentUnit": 2
   },
   "notebookName": "Homework_week1_Dabin",
   "widgets": {}
  },
  "kernelspec": {
   "display_name": "Python 3",
   "language": "python",
   "name": "python3"
  },
  "language_info": {
   "codemirror_mode": {
    "name": "ipython",
    "version": 3
   },
   "file_extension": ".py",
   "mimetype": "text/x-python",
   "name": "python",
   "nbconvert_exporter": "python",
   "pygments_lexer": "ipython3",
   "version": "3.8.8"
  }
 },
 "nbformat": 4,
 "nbformat_minor": 0
}
