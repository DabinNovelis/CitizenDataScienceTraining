{
 "cells": [
  {
   "cell_type": "markdown",
   "metadata": {
    "application/vnd.databricks.v1+cell": {
     "cellMetadata": {},
     "inputWidgets": {},
     "nuid": "8f7f2ce2-a8b4-44be-b33c-b560a187e6cc",
     "showTitle": false,
     "title": ""
    }
   },
   "source": [
    "# Challenge - Week 2"
   ]
  },
  {
   "cell_type": "markdown",
   "metadata": {
    "application/vnd.databricks.v1+cell": {
     "cellMetadata": {},
     "inputWidgets": {},
     "nuid": "a8e72f13-c9b9-4f04-8be4-ff8efe4ba453",
     "showTitle": false,
     "title": ""
    }
   },
   "source": [
    "The dataset ***taxi_trip.csv*** contains the total ride duration of taxi trips in New York City. \n",
    "\n",
    "Path: /dbfs/FileStore/CDS2024/taxi_trip.csv\n",
    "\n",
    "Below you can find the description of each column in the dataset:"
   ]
  },
  {
   "cell_type": "markdown",
   "metadata": {
    "application/vnd.databricks.v1+cell": {
     "cellMetadata": {},
     "inputWidgets": {},
     "nuid": "67e6cafe-c82b-4e36-abd8-6a3d606ffc39",
     "showTitle": false,
     "title": ""
    }
   },
   "source": [
    "* **id** - a unique identifier for each trip\n",
    "* **vendor_id** - a code indicating the provider associated with the trip record\n",
    "* **pickup_datetime** - date and time when the meter was engaged\n",
    "* **dropoff_datetime** - date and time when the meter was disengaged\n",
    "* **passenger_count** - the number of passengers in the vehicle (driver entered value)\n",
    "* **pickup_longitude** - the longitude where the meter was engaged\n",
    "* **pickup_latitude** - the latitude where the meter was engaged\n",
    "* **dropoff_longitude** - the longitude where the meter was disengaged\n",
    "* **dropoff_latitude** - the latitude where the meter was disengaged\n",
    "* **store_and_fwd_flag** - This flag indicates whether the trip record was held in vehicle memory before sending to the vendor because the vehicle did not have a connection to the server - Y=store and forward; N=not a store and forward trip\n",
    "* **trip_duration** - duration of the trip in seconds"
   ]
  },
  {
   "cell_type": "markdown",
   "metadata": {
    "application/vnd.databricks.v1+cell": {
     "cellMetadata": {},
     "inputWidgets": {},
     "nuid": "b0168808-3daa-4f79-9351-d8daf8ea3873",
     "showTitle": false,
     "title": ""
    }
   },
   "source": [
    "## Goals: Create new features from existing columns in the dataset and plot some analysis"
   ]
  },
  {
   "cell_type": "markdown",
   "metadata": {
    "application/vnd.databricks.v1+cell": {
     "cellMetadata": {},
     "inputWidgets": {},
     "nuid": "405ce770-25c3-48ca-8a50-5c0c70b20bb2",
     "showTitle": false,
     "title": ""
    }
   },
   "source": [
    "The new feaures you will need to create are:\n",
    "\n",
    "* Datetimes features\n",
    "    * The **month** when a trip started\n",
    "    * The **hour** when a trip started\n",
    "    * The **week of the year** when a trip started\n",
    "    * The **day of the year** when a trip started\n",
    "    * The **day of the week** when a trip started\n",
    "    * If the trip started in an **USA holiday**\n",
    "\n",
    "\n",
    "* Coordinates features\n",
    "    * The **distances** from/to two near airports\n",
    "    * The **distance** of a trip\n",
    "    * The **speed** (in meters per seconds) of a trip\n",
    "    * The **bearing** (in degrees) of a trip - Hint: https://mapscaping.com/how-to-calculate-bearing-between-two-coordinates/"
   ]
  },
  {
   "cell_type": "markdown",
   "metadata": {
    "application/vnd.databricks.v1+cell": {
     "cellMetadata": {},
     "inputWidgets": {},
     "nuid": "b313b6a5-29af-490d-9a85-d6edebfa49be",
     "showTitle": false,
     "title": ""
    }
   },
   "source": [
    "**Tip:** Use geopy library to calculate the distance between two coordinates"
   ]
  },
  {
   "cell_type": "markdown",
   "metadata": {
    "application/vnd.databricks.v1+cell": {
     "cellMetadata": {},
     "inputWidgets": {},
     "nuid": "57301ad2-2830-477f-9394-177000c1476d",
     "showTitle": false,
     "title": ""
    }
   },
   "source": [
    "### After creating the new features, do the analysis bellow:\n",
    "\n",
    "* Check the average time taken by two different vendors vs weekday\n",
    "* Check the distributions between passenger_count and trip_duration for each vendor_id\n",
    "* Check the average speed by vender per day of the week\n",
    "* Check the average speed by vendor per hour of the week\n",
    "* Check the distribution of average speed per hour of a day and day of a week"
   ]
  },
  {
   "cell_type": "markdown",
   "metadata": {
    "application/vnd.databricks.v1+cell": {
     "cellMetadata": {},
     "inputWidgets": {},
     "nuid": "0a41d024-d7b1-4af5-87c9-0910b0957c56",
     "showTitle": false,
     "title": ""
    }
   },
   "source": [
    "**Tip:** Use the next two cells to install/import useful libraries for this challenge."
   ]
  },
  {
   "cell_type": "code",
   "execution_count": 0,
   "metadata": {
    "application/vnd.databricks.v1+cell": {
     "cellMetadata": {
      "byteLimit": 2048000,
      "rowLimit": 10000
     },
     "inputWidgets": {},
     "nuid": "ef62a51e-4008-4426-a441-90a927094127",
     "showTitle": false,
     "title": ""
    }
   },
   "outputs": [
    {
     "output_type": "display_data",
     "data": {
      "text/html": [
       "<style scoped>\n",
       "  .ansiout {\n",
       "    display: block;\n",
       "    unicode-bidi: embed;\n",
       "    white-space: pre-wrap;\n",
       "    word-wrap: break-word;\n",
       "    word-break: break-all;\n",
       "    font-family: \"Menlo\", \"Monaco\", \"Consolas\", \"Ubuntu Mono\", \"Source Code Pro\", monospace;\n",
       "    font-size: 13px;\n",
       "    color: #555;\n",
       "    margin-left: 4px;\n",
       "    line-height: 19px;\n",
       "  }\n",
       "</style>\n",
       "<div class=\"ansiout\">Python interpreter will be restarted.\n",
       "Requirement already satisfied: geopy in /local_disk0/.ephemeral_nfs/envs/pythonEnv-6d9c5504-b834-4ccd-a94e-1ae08705d5f9/lib/python3.8/site-packages (2.4.1)\n",
       "Requirement already satisfied: geographiclib&lt;3,&gt;=1.52 in /local_disk0/.ephemeral_nfs/envs/pythonEnv-6d9c5504-b834-4ccd-a94e-1ae08705d5f9/lib/python3.8/site-packages (from geopy) (2.0)\n",
       "Python interpreter will be restarted.\n",
       "</div>"
      ]
     },
     "metadata": {
      "application/vnd.databricks.v1+output": {
       "addedWidgets": {},
       "arguments": {},
       "data": "<div class=\"ansiout\">Python interpreter will be restarted.\nRequirement already satisfied: geopy in /local_disk0/.ephemeral_nfs/envs/pythonEnv-6d9c5504-b834-4ccd-a94e-1ae08705d5f9/lib/python3.8/site-packages (2.4.1)\nRequirement already satisfied: geographiclib&lt;3,&gt;=1.52 in /local_disk0/.ephemeral_nfs/envs/pythonEnv-6d9c5504-b834-4ccd-a94e-1ae08705d5f9/lib/python3.8/site-packages (from geopy) (2.0)\nPython interpreter will be restarted.\n</div>",
       "datasetInfos": [],
       "metadata": {},
       "removedWidgets": [],
       "type": "html"
      }
     },
     "output_type": "display_data"
    }
   ],
   "source": [
    "%pip install -U geopy"
   ]
  },
  {
   "cell_type": "code",
   "execution_count": 0,
   "metadata": {
    "ExecuteTime": {
     "end_time": "2023-04-19T22:00:33.347526Z",
     "start_time": "2023-04-19T22:00:30.718708Z"
    },
    "application/vnd.databricks.v1+cell": {
     "cellMetadata": {
      "byteLimit": 2048000,
      "rowLimit": 10000
     },
     "inputWidgets": {},
     "nuid": "4af8e972-7984-4820-ae8f-88b58aa46c5f",
     "showTitle": false,
     "title": ""
    }
   },
   "outputs": [
    {
     "output_type": "display_data",
     "data": {
      "text/html": [
       "<style scoped>\n",
       "  .ansiout {\n",
       "    display: block;\n",
       "    unicode-bidi: embed;\n",
       "    white-space: pre-wrap;\n",
       "    word-wrap: break-word;\n",
       "    word-break: break-all;\n",
       "    font-family: \"Menlo\", \"Monaco\", \"Consolas\", \"Ubuntu Mono\", \"Source Code Pro\", monospace;\n",
       "    font-size: 13px;\n",
       "    color: #555;\n",
       "    margin-left: 4px;\n",
       "    line-height: 19px;\n",
       "  }\n",
       "</style>\n",
       "<div class=\"ansiout\"></div>"
      ]
     },
     "metadata": {
      "application/vnd.databricks.v1+output": {
       "addedWidgets": {},
       "arguments": {},
       "data": "<div class=\"ansiout\"></div>",
       "datasetInfos": [],
       "metadata": {},
       "removedWidgets": [],
       "type": "html"
      }
     },
     "output_type": "display_data"
    }
   ],
   "source": [
    "from pandas.tseries.holiday import USFederalHolidayCalendar as calendar\n",
    "from geopy import distance\n",
    "import matplotlib.pyplot as plt\n",
    "import seaborn as sns\n",
    "import pandas as pd\n",
    "import numpy as np"
   ]
  },
  {
   "cell_type": "markdown",
   "metadata": {
    "application/vnd.databricks.v1+cell": {
     "cellMetadata": {},
     "inputWidgets": {},
     "nuid": "c0acb463-0fab-4e1e-b7b7-beb36a039f54",
     "showTitle": false,
     "title": ""
    }
   },
   "source": [
    "# Let's start"
   ]
  },
  {
   "cell_type": "markdown",
   "metadata": {
    "application/vnd.databricks.v1+cell": {
     "cellMetadata": {},
     "inputWidgets": {},
     "nuid": "874f3d50-2180-4553-9d64-3cd656d72d9f",
     "showTitle": false,
     "title": ""
    }
   },
   "source": [
    "Read the dataset with pandas. Path: /dbfs/FileStore/CDS2023/taxi_trip.csv"
   ]
  },
  {
   "cell_type": "code",
   "execution_count": 0,
   "metadata": {
    "application/vnd.databricks.v1+cell": {
     "cellMetadata": {
      "byteLimit": 2048000,
      "rowLimit": 10000
     },
     "inputWidgets": {},
     "nuid": "bae105d0-8f94-4b47-993f-5b80486970bf",
     "showTitle": false,
     "title": ""
    }
   },
   "outputs": [
    {
     "output_type": "display_data",
     "data": {
      "text/html": [
       "<style scoped>\n",
       "  .ansiout {\n",
       "    display: block;\n",
       "    unicode-bidi: embed;\n",
       "    white-space: pre-wrap;\n",
       "    word-wrap: break-word;\n",
       "    word-break: break-all;\n",
       "    font-family: \"Menlo\", \"Monaco\", \"Consolas\", \"Ubuntu Mono\", \"Source Code Pro\", monospace;\n",
       "    font-size: 13px;\n",
       "    color: #555;\n",
       "    margin-left: 4px;\n",
       "    line-height: 19px;\n",
       "  }\n",
       "</style>\n",
       "<div class=\"ansiout\"></div>"
      ]
     },
     "metadata": {
      "application/vnd.databricks.v1+output": {
       "addedWidgets": {},
       "arguments": {},
       "data": "<div class=\"ansiout\"></div>",
       "datasetInfos": [],
       "metadata": {},
       "removedWidgets": [],
       "type": "html"
      }
     },
     "output_type": "display_data"
    }
   ],
   "source": [
    "taxi = pd.read_csv('/dbfs/FileStore/CDS2023/taxi_trip.csv')"
   ]
  },
  {
   "cell_type": "code",
   "execution_count": 0,
   "metadata": {
    "application/vnd.databricks.v1+cell": {
     "cellMetadata": {
      "byteLimit": 2048000,
      "rowLimit": 10000
     },
     "inputWidgets": {},
     "nuid": "e2c3dc31-d47f-4cf9-956b-5b33648b2099",
     "showTitle": false,
     "title": ""
    }
   },
   "outputs": [
    {
     "output_type": "display_data",
     "data": {
      "text/html": [
       "<style scoped>\n",
       "  .ansiout {\n",
       "    display: block;\n",
       "    unicode-bidi: embed;\n",
       "    white-space: pre-wrap;\n",
       "    word-wrap: break-word;\n",
       "    word-break: break-all;\n",
       "    font-family: \"Menlo\", \"Monaco\", \"Consolas\", \"Ubuntu Mono\", \"Source Code Pro\", monospace;\n",
       "    font-size: 13px;\n",
       "    color: #555;\n",
       "    margin-left: 4px;\n",
       "    line-height: 19px;\n",
       "  }\n",
       "</style>\n",
       "<div class=\"ansiout\">Out[3]: </div>"
      ]
     },
     "metadata": {
      "application/vnd.databricks.v1+output": {
       "addedWidgets": {},
       "arguments": {},
       "data": "<div class=\"ansiout\">Out[3]: </div>",
       "datasetInfos": [],
       "metadata": {},
       "removedWidgets": [],
       "type": "html"
      }
     },
     "output_type": "display_data"
    },
    {
     "output_type": "display_data",
     "data": {
      "text/html": [
       "<div>\n",
       "<style scoped>\n",
       "    .dataframe tbody tr th:only-of-type {\n",
       "        vertical-align: middle;\n",
       "    }\n",
       "\n",
       "    .dataframe tbody tr th {\n",
       "        vertical-align: top;\n",
       "    }\n",
       "\n",
       "    .dataframe thead th {\n",
       "        text-align: right;\n",
       "    }\n",
       "</style>\n",
       "<table border=\"1\" class=\"dataframe\">\n",
       "  <thead>\n",
       "    <tr style=\"text-align: right;\">\n",
       "      <th></th>\n",
       "      <th>id</th>\n",
       "      <th>vendor_id</th>\n",
       "      <th>pickup_datetime</th>\n",
       "      <th>dropoff_datetime</th>\n",
       "      <th>passenger_count</th>\n",
       "      <th>pickup_longitude</th>\n",
       "      <th>pickup_latitude</th>\n",
       "      <th>dropoff_longitude</th>\n",
       "      <th>dropoff_latitude</th>\n",
       "      <th>store_and_fwd_flag</th>\n",
       "      <th>trip_duration</th>\n",
       "    </tr>\n",
       "  </thead>\n",
       "  <tbody>\n",
       "    <tr>\n",
       "      <th>0</th>\n",
       "      <td>id2875421</td>\n",
       "      <td>2</td>\n",
       "      <td>2016-03-14 17:24:55</td>\n",
       "      <td>2016-03-14 17:32:30</td>\n",
       "      <td>1</td>\n",
       "      <td>-73.982155</td>\n",
       "      <td>40.767937</td>\n",
       "      <td>-73.964630</td>\n",
       "      <td>40.765602</td>\n",
       "      <td>N</td>\n",
       "      <td>455</td>\n",
       "    </tr>\n",
       "    <tr>\n",
       "      <th>1</th>\n",
       "      <td>id2377394</td>\n",
       "      <td>1</td>\n",
       "      <td>2016-06-12 00:43:35</td>\n",
       "      <td>2016-06-12 00:54:38</td>\n",
       "      <td>1</td>\n",
       "      <td>-73.980415</td>\n",
       "      <td>40.738564</td>\n",
       "      <td>-73.999481</td>\n",
       "      <td>40.731152</td>\n",
       "      <td>N</td>\n",
       "      <td>663</td>\n",
       "    </tr>\n",
       "    <tr>\n",
       "      <th>2</th>\n",
       "      <td>id3858529</td>\n",
       "      <td>2</td>\n",
       "      <td>2016-01-19 11:35:24</td>\n",
       "      <td>2016-01-19 12:10:48</td>\n",
       "      <td>1</td>\n",
       "      <td>-73.979027</td>\n",
       "      <td>40.763939</td>\n",
       "      <td>-74.005333</td>\n",
       "      <td>40.710087</td>\n",
       "      <td>N</td>\n",
       "      <td>2124</td>\n",
       "    </tr>\n",
       "    <tr>\n",
       "      <th>3</th>\n",
       "      <td>id3504673</td>\n",
       "      <td>2</td>\n",
       "      <td>2016-04-06 19:32:31</td>\n",
       "      <td>2016-04-06 19:39:40</td>\n",
       "      <td>1</td>\n",
       "      <td>-74.010040</td>\n",
       "      <td>40.719971</td>\n",
       "      <td>-74.012268</td>\n",
       "      <td>40.706718</td>\n",
       "      <td>N</td>\n",
       "      <td>429</td>\n",
       "    </tr>\n",
       "    <tr>\n",
       "      <th>4</th>\n",
       "      <td>id2181028</td>\n",
       "      <td>2</td>\n",
       "      <td>2016-03-26 13:30:55</td>\n",
       "      <td>2016-03-26 13:38:10</td>\n",
       "      <td>1</td>\n",
       "      <td>-73.973053</td>\n",
       "      <td>40.793209</td>\n",
       "      <td>-73.972923</td>\n",
       "      <td>40.782520</td>\n",
       "      <td>N</td>\n",
       "      <td>435</td>\n",
       "    </tr>\n",
       "  </tbody>\n",
       "</table>\n",
       "</div>"
      ]
     },
     "metadata": {
      "application/vnd.databricks.v1+output": {
       "addedWidgets": {},
       "arguments": {},
       "data": "<div>\n<style scoped>\n    .dataframe tbody tr th:only-of-type {\n        vertical-align: middle;\n    }\n\n    .dataframe tbody tr th {\n        vertical-align: top;\n    }\n\n    .dataframe thead th {\n        text-align: right;\n    }\n</style>\n<table border=\"1\" class=\"dataframe\">\n  <thead>\n    <tr style=\"text-align: right;\">\n      <th></th>\n      <th>id</th>\n      <th>vendor_id</th>\n      <th>pickup_datetime</th>\n      <th>dropoff_datetime</th>\n      <th>passenger_count</th>\n      <th>pickup_longitude</th>\n      <th>pickup_latitude</th>\n      <th>dropoff_longitude</th>\n      <th>dropoff_latitude</th>\n      <th>store_and_fwd_flag</th>\n      <th>trip_duration</th>\n    </tr>\n  </thead>\n  <tbody>\n    <tr>\n      <th>0</th>\n      <td>id2875421</td>\n      <td>2</td>\n      <td>2016-03-14 17:24:55</td>\n      <td>2016-03-14 17:32:30</td>\n      <td>1</td>\n      <td>-73.982155</td>\n      <td>40.767937</td>\n      <td>-73.964630</td>\n      <td>40.765602</td>\n      <td>N</td>\n      <td>455</td>\n    </tr>\n    <tr>\n      <th>1</th>\n      <td>id2377394</td>\n      <td>1</td>\n      <td>2016-06-12 00:43:35</td>\n      <td>2016-06-12 00:54:38</td>\n      <td>1</td>\n      <td>-73.980415</td>\n      <td>40.738564</td>\n      <td>-73.999481</td>\n      <td>40.731152</td>\n      <td>N</td>\n      <td>663</td>\n    </tr>\n    <tr>\n      <th>2</th>\n      <td>id3858529</td>\n      <td>2</td>\n      <td>2016-01-19 11:35:24</td>\n      <td>2016-01-19 12:10:48</td>\n      <td>1</td>\n      <td>-73.979027</td>\n      <td>40.763939</td>\n      <td>-74.005333</td>\n      <td>40.710087</td>\n      <td>N</td>\n      <td>2124</td>\n    </tr>\n    <tr>\n      <th>3</th>\n      <td>id3504673</td>\n      <td>2</td>\n      <td>2016-04-06 19:32:31</td>\n      <td>2016-04-06 19:39:40</td>\n      <td>1</td>\n      <td>-74.010040</td>\n      <td>40.719971</td>\n      <td>-74.012268</td>\n      <td>40.706718</td>\n      <td>N</td>\n      <td>429</td>\n    </tr>\n    <tr>\n      <th>4</th>\n      <td>id2181028</td>\n      <td>2</td>\n      <td>2016-03-26 13:30:55</td>\n      <td>2016-03-26 13:38:10</td>\n      <td>1</td>\n      <td>-73.973053</td>\n      <td>40.793209</td>\n      <td>-73.972923</td>\n      <td>40.782520</td>\n      <td>N</td>\n      <td>435</td>\n    </tr>\n  </tbody>\n</table>\n</div>",
       "datasetInfos": [],
       "metadata": {},
       "removedWidgets": [],
       "textData": null,
       "type": "htmlSandbox"
      }
     },
     "output_type": "display_data"
    }
   ],
   "source": [
    "taxi.head()"
   ]
  },
  {
   "cell_type": "code",
   "execution_count": 0,
   "metadata": {
    "application/vnd.databricks.v1+cell": {
     "cellMetadata": {
      "byteLimit": 2048000,
      "rowLimit": 10000
     },
     "inputWidgets": {},
     "nuid": "f1df314c-0c59-480c-9360-6158b5db6c3f",
     "showTitle": false,
     "title": ""
    }
   },
   "outputs": [
    {
     "output_type": "display_data",
     "data": {
      "text/html": [
       "<style scoped>\n",
       "  .ansiout {\n",
       "    display: block;\n",
       "    unicode-bidi: embed;\n",
       "    white-space: pre-wrap;\n",
       "    word-wrap: break-word;\n",
       "    word-break: break-all;\n",
       "    font-family: \"Menlo\", \"Monaco\", \"Consolas\", \"Ubuntu Mono\", \"Source Code Pro\", monospace;\n",
       "    font-size: 13px;\n",
       "    color: #555;\n",
       "    margin-left: 4px;\n",
       "    line-height: 19px;\n",
       "  }\n",
       "</style>\n",
       "<div class=\"ansiout\">Out[4]: id                     object\n",
       "vendor_id               int64\n",
       "pickup_datetime        object\n",
       "dropoff_datetime       object\n",
       "passenger_count         int64\n",
       "pickup_longitude      float64\n",
       "pickup_latitude       float64\n",
       "dropoff_longitude     float64\n",
       "dropoff_latitude      float64\n",
       "store_and_fwd_flag     object\n",
       "trip_duration           int64\n",
       "dtype: object</div>"
      ]
     },
     "metadata": {
      "application/vnd.databricks.v1+output": {
       "addedWidgets": {},
       "arguments": {},
       "data": "<div class=\"ansiout\">Out[4]: id                     object\nvendor_id               int64\npickup_datetime        object\ndropoff_datetime       object\npassenger_count         int64\npickup_longitude      float64\npickup_latitude       float64\ndropoff_longitude     float64\ndropoff_latitude      float64\nstore_and_fwd_flag     object\ntrip_duration           int64\ndtype: object</div>",
       "datasetInfos": [],
       "metadata": {},
       "removedWidgets": [],
       "type": "html"
      }
     },
     "output_type": "display_data"
    }
   ],
   "source": [
    "taxi.dtypes"
   ]
  },
  {
   "cell_type": "code",
   "execution_count": 0,
   "metadata": {
    "application/vnd.databricks.v1+cell": {
     "cellMetadata": {
      "byteLimit": 2048000,
      "rowLimit": 10000
     },
     "inputWidgets": {},
     "nuid": "b67b8224-be69-4237-ba10-1fc55fc76910",
     "showTitle": false,
     "title": ""
    }
   },
   "outputs": [
    {
     "output_type": "display_data",
     "data": {
      "text/html": [
       "<style scoped>\n",
       "  .ansiout {\n",
       "    display: block;\n",
       "    unicode-bidi: embed;\n",
       "    white-space: pre-wrap;\n",
       "    word-wrap: break-word;\n",
       "    word-break: break-all;\n",
       "    font-family: \"Menlo\", \"Monaco\", \"Consolas\", \"Ubuntu Mono\", \"Source Code Pro\", monospace;\n",
       "    font-size: 13px;\n",
       "    color: #555;\n",
       "    margin-left: 4px;\n",
       "    line-height: 19px;\n",
       "  }\n",
       "</style>\n",
       "<div class=\"ansiout\"></div>"
      ]
     },
     "metadata": {
      "application/vnd.databricks.v1+output": {
       "addedWidgets": {},
       "arguments": {},
       "data": "<div class=\"ansiout\"></div>",
       "datasetInfos": [],
       "metadata": {},
       "removedWidgets": [],
       "type": "html"
      }
     },
     "output_type": "display_data"
    }
   ],
   "source": [
    "taxi['pickup_datetime'] = pd.to_datetime(taxi['pickup_datetime'])\n",
    "taxi['dropoff_datetime'] = pd.to_datetime(taxi['dropoff_datetime'])"
   ]
  },
  {
   "cell_type": "markdown",
   "metadata": {
    "application/vnd.databricks.v1+cell": {
     "cellMetadata": {},
     "inputWidgets": {},
     "nuid": "1403a826-b6f0-44bf-a757-862c48e71d41",
     "showTitle": false,
     "title": ""
    }
   },
   "source": [
    "# Create the new features"
   ]
  },
  {
   "cell_type": "markdown",
   "metadata": {
    "application/vnd.databricks.v1+cell": {
     "cellMetadata": {},
     "inputWidgets": {},
     "nuid": "ba9622ea-3864-40e3-b8bf-9ea56d05cd19",
     "showTitle": false,
     "title": ""
    }
   },
   "source": [
    "## Datetime Features"
   ]
  },
  {
   "cell_type": "markdown",
   "metadata": {
    "application/vnd.databricks.v1+cell": {
     "cellMetadata": {},
     "inputWidgets": {},
     "nuid": "6178cbab-1789-40f0-acef-7b17dd6da698",
     "showTitle": false,
     "title": ""
    }
   },
   "source": [
    "**Feature**: The month when a trip started"
   ]
  },
  {
   "cell_type": "code",
   "execution_count": 0,
   "metadata": {
    "application/vnd.databricks.v1+cell": {
     "cellMetadata": {
      "byteLimit": 2048000,
      "rowLimit": 10000
     },
     "inputWidgets": {},
     "nuid": "fb59fb64-f534-48c2-83e6-ed3357e4f396",
     "showTitle": false,
     "title": ""
    }
   },
   "outputs": [
    {
     "output_type": "display_data",
     "data": {
      "text/html": [
       "<style scoped>\n",
       "  .ansiout {\n",
       "    display: block;\n",
       "    unicode-bidi: embed;\n",
       "    white-space: pre-wrap;\n",
       "    word-wrap: break-word;\n",
       "    word-break: break-all;\n",
       "    font-family: \"Menlo\", \"Monaco\", \"Consolas\", \"Ubuntu Mono\", \"Source Code Pro\", monospace;\n",
       "    font-size: 13px;\n",
       "    color: #555;\n",
       "    margin-left: 4px;\n",
       "    line-height: 19px;\n",
       "  }\n",
       "</style>\n",
       "<div class=\"ansiout\">Out[6]: </div>"
      ]
     },
     "metadata": {
      "application/vnd.databricks.v1+output": {
       "addedWidgets": {},
       "arguments": {},
       "data": "<div class=\"ansiout\">Out[6]: </div>",
       "datasetInfos": [],
       "metadata": {},
       "removedWidgets": [],
       "type": "html"
      }
     },
     "output_type": "display_data"
    },
    {
     "output_type": "display_data",
     "data": {
      "text/html": [
       "<div>\n",
       "<style scoped>\n",
       "    .dataframe tbody tr th:only-of-type {\n",
       "        vertical-align: middle;\n",
       "    }\n",
       "\n",
       "    .dataframe tbody tr th {\n",
       "        vertical-align: top;\n",
       "    }\n",
       "\n",
       "    .dataframe thead th {\n",
       "        text-align: right;\n",
       "    }\n",
       "</style>\n",
       "<table border=\"1\" class=\"dataframe\">\n",
       "  <thead>\n",
       "    <tr style=\"text-align: right;\">\n",
       "      <th></th>\n",
       "      <th>id</th>\n",
       "      <th>vendor_id</th>\n",
       "      <th>pickup_datetime</th>\n",
       "      <th>dropoff_datetime</th>\n",
       "      <th>passenger_count</th>\n",
       "      <th>pickup_longitude</th>\n",
       "      <th>pickup_latitude</th>\n",
       "      <th>dropoff_longitude</th>\n",
       "      <th>dropoff_latitude</th>\n",
       "      <th>store_and_fwd_flag</th>\n",
       "      <th>trip_duration</th>\n",
       "      <th>trip_started_month</th>\n",
       "    </tr>\n",
       "  </thead>\n",
       "  <tbody>\n",
       "    <tr>\n",
       "      <th>0</th>\n",
       "      <td>id2875421</td>\n",
       "      <td>2</td>\n",
       "      <td>2016-03-14 17:24:55</td>\n",
       "      <td>2016-03-14 17:32:30</td>\n",
       "      <td>1</td>\n",
       "      <td>-73.982155</td>\n",
       "      <td>40.767937</td>\n",
       "      <td>-73.964630</td>\n",
       "      <td>40.765602</td>\n",
       "      <td>N</td>\n",
       "      <td>455</td>\n",
       "      <td>3</td>\n",
       "    </tr>\n",
       "    <tr>\n",
       "      <th>1</th>\n",
       "      <td>id2377394</td>\n",
       "      <td>1</td>\n",
       "      <td>2016-06-12 00:43:35</td>\n",
       "      <td>2016-06-12 00:54:38</td>\n",
       "      <td>1</td>\n",
       "      <td>-73.980415</td>\n",
       "      <td>40.738564</td>\n",
       "      <td>-73.999481</td>\n",
       "      <td>40.731152</td>\n",
       "      <td>N</td>\n",
       "      <td>663</td>\n",
       "      <td>6</td>\n",
       "    </tr>\n",
       "    <tr>\n",
       "      <th>2</th>\n",
       "      <td>id3858529</td>\n",
       "      <td>2</td>\n",
       "      <td>2016-01-19 11:35:24</td>\n",
       "      <td>2016-01-19 12:10:48</td>\n",
       "      <td>1</td>\n",
       "      <td>-73.979027</td>\n",
       "      <td>40.763939</td>\n",
       "      <td>-74.005333</td>\n",
       "      <td>40.710087</td>\n",
       "      <td>N</td>\n",
       "      <td>2124</td>\n",
       "      <td>1</td>\n",
       "    </tr>\n",
       "    <tr>\n",
       "      <th>3</th>\n",
       "      <td>id3504673</td>\n",
       "      <td>2</td>\n",
       "      <td>2016-04-06 19:32:31</td>\n",
       "      <td>2016-04-06 19:39:40</td>\n",
       "      <td>1</td>\n",
       "      <td>-74.010040</td>\n",
       "      <td>40.719971</td>\n",
       "      <td>-74.012268</td>\n",
       "      <td>40.706718</td>\n",
       "      <td>N</td>\n",
       "      <td>429</td>\n",
       "      <td>4</td>\n",
       "    </tr>\n",
       "    <tr>\n",
       "      <th>4</th>\n",
       "      <td>id2181028</td>\n",
       "      <td>2</td>\n",
       "      <td>2016-03-26 13:30:55</td>\n",
       "      <td>2016-03-26 13:38:10</td>\n",
       "      <td>1</td>\n",
       "      <td>-73.973053</td>\n",
       "      <td>40.793209</td>\n",
       "      <td>-73.972923</td>\n",
       "      <td>40.782520</td>\n",
       "      <td>N</td>\n",
       "      <td>435</td>\n",
       "      <td>3</td>\n",
       "    </tr>\n",
       "  </tbody>\n",
       "</table>\n",
       "</div>"
      ]
     },
     "metadata": {
      "application/vnd.databricks.v1+output": {
       "addedWidgets": {},
       "arguments": {},
       "data": "<div>\n<style scoped>\n    .dataframe tbody tr th:only-of-type {\n        vertical-align: middle;\n    }\n\n    .dataframe tbody tr th {\n        vertical-align: top;\n    }\n\n    .dataframe thead th {\n        text-align: right;\n    }\n</style>\n<table border=\"1\" class=\"dataframe\">\n  <thead>\n    <tr style=\"text-align: right;\">\n      <th></th>\n      <th>id</th>\n      <th>vendor_id</th>\n      <th>pickup_datetime</th>\n      <th>dropoff_datetime</th>\n      <th>passenger_count</th>\n      <th>pickup_longitude</th>\n      <th>pickup_latitude</th>\n      <th>dropoff_longitude</th>\n      <th>dropoff_latitude</th>\n      <th>store_and_fwd_flag</th>\n      <th>trip_duration</th>\n      <th>trip_started_month</th>\n    </tr>\n  </thead>\n  <tbody>\n    <tr>\n      <th>0</th>\n      <td>id2875421</td>\n      <td>2</td>\n      <td>2016-03-14 17:24:55</td>\n      <td>2016-03-14 17:32:30</td>\n      <td>1</td>\n      <td>-73.982155</td>\n      <td>40.767937</td>\n      <td>-73.964630</td>\n      <td>40.765602</td>\n      <td>N</td>\n      <td>455</td>\n      <td>3</td>\n    </tr>\n    <tr>\n      <th>1</th>\n      <td>id2377394</td>\n      <td>1</td>\n      <td>2016-06-12 00:43:35</td>\n      <td>2016-06-12 00:54:38</td>\n      <td>1</td>\n      <td>-73.980415</td>\n      <td>40.738564</td>\n      <td>-73.999481</td>\n      <td>40.731152</td>\n      <td>N</td>\n      <td>663</td>\n      <td>6</td>\n    </tr>\n    <tr>\n      <th>2</th>\n      <td>id3858529</td>\n      <td>2</td>\n      <td>2016-01-19 11:35:24</td>\n      <td>2016-01-19 12:10:48</td>\n      <td>1</td>\n      <td>-73.979027</td>\n      <td>40.763939</td>\n      <td>-74.005333</td>\n      <td>40.710087</td>\n      <td>N</td>\n      <td>2124</td>\n      <td>1</td>\n    </tr>\n    <tr>\n      <th>3</th>\n      <td>id3504673</td>\n      <td>2</td>\n      <td>2016-04-06 19:32:31</td>\n      <td>2016-04-06 19:39:40</td>\n      <td>1</td>\n      <td>-74.010040</td>\n      <td>40.719971</td>\n      <td>-74.012268</td>\n      <td>40.706718</td>\n      <td>N</td>\n      <td>429</td>\n      <td>4</td>\n    </tr>\n    <tr>\n      <th>4</th>\n      <td>id2181028</td>\n      <td>2</td>\n      <td>2016-03-26 13:30:55</td>\n      <td>2016-03-26 13:38:10</td>\n      <td>1</td>\n      <td>-73.973053</td>\n      <td>40.793209</td>\n      <td>-73.972923</td>\n      <td>40.782520</td>\n      <td>N</td>\n      <td>435</td>\n      <td>3</td>\n    </tr>\n  </tbody>\n</table>\n</div>",
       "datasetInfos": [],
       "metadata": {},
       "removedWidgets": [],
       "textData": null,
       "type": "htmlSandbox"
      }
     },
     "output_type": "display_data"
    }
   ],
   "source": [
    "taxi['trip_started_month'] = taxi['pickup_datetime'].dt.month\n",
    "taxi.head()"
   ]
  },
  {
   "cell_type": "markdown",
   "metadata": {
    "application/vnd.databricks.v1+cell": {
     "cellMetadata": {},
     "inputWidgets": {},
     "nuid": "d94e53f8-9e30-4d1f-932b-cdc70245cfa1",
     "showTitle": false,
     "title": ""
    }
   },
   "source": [
    "**Feature**: The hour when a trip started"
   ]
  },
  {
   "cell_type": "code",
   "execution_count": 0,
   "metadata": {
    "application/vnd.databricks.v1+cell": {
     "cellMetadata": {
      "byteLimit": 2048000,
      "rowLimit": 10000
     },
     "inputWidgets": {},
     "nuid": "c06f8e4f-d677-4ab3-895c-b329ea5271a2",
     "showTitle": false,
     "title": ""
    }
   },
   "outputs": [
    {
     "output_type": "display_data",
     "data": {
      "text/html": [
       "<style scoped>\n",
       "  .ansiout {\n",
       "    display: block;\n",
       "    unicode-bidi: embed;\n",
       "    white-space: pre-wrap;\n",
       "    word-wrap: break-word;\n",
       "    word-break: break-all;\n",
       "    font-family: \"Menlo\", \"Monaco\", \"Consolas\", \"Ubuntu Mono\", \"Source Code Pro\", monospace;\n",
       "    font-size: 13px;\n",
       "    color: #555;\n",
       "    margin-left: 4px;\n",
       "    line-height: 19px;\n",
       "  }\n",
       "</style>\n",
       "<div class=\"ansiout\">Out[7]: </div>"
      ]
     },
     "metadata": {
      "application/vnd.databricks.v1+output": {
       "addedWidgets": {},
       "arguments": {},
       "data": "<div class=\"ansiout\">Out[7]: </div>",
       "datasetInfos": [],
       "metadata": {},
       "removedWidgets": [],
       "type": "html"
      }
     },
     "output_type": "display_data"
    },
    {
     "output_type": "display_data",
     "data": {
      "text/html": [
       "<div>\n",
       "<style scoped>\n",
       "    .dataframe tbody tr th:only-of-type {\n",
       "        vertical-align: middle;\n",
       "    }\n",
       "\n",
       "    .dataframe tbody tr th {\n",
       "        vertical-align: top;\n",
       "    }\n",
       "\n",
       "    .dataframe thead th {\n",
       "        text-align: right;\n",
       "    }\n",
       "</style>\n",
       "<table border=\"1\" class=\"dataframe\">\n",
       "  <thead>\n",
       "    <tr style=\"text-align: right;\">\n",
       "      <th></th>\n",
       "      <th>id</th>\n",
       "      <th>vendor_id</th>\n",
       "      <th>pickup_datetime</th>\n",
       "      <th>dropoff_datetime</th>\n",
       "      <th>passenger_count</th>\n",
       "      <th>pickup_longitude</th>\n",
       "      <th>pickup_latitude</th>\n",
       "      <th>dropoff_longitude</th>\n",
       "      <th>dropoff_latitude</th>\n",
       "      <th>store_and_fwd_flag</th>\n",
       "      <th>trip_duration</th>\n",
       "      <th>trip_started_month</th>\n",
       "      <th>trip_started_hour</th>\n",
       "    </tr>\n",
       "  </thead>\n",
       "  <tbody>\n",
       "    <tr>\n",
       "      <th>0</th>\n",
       "      <td>id2875421</td>\n",
       "      <td>2</td>\n",
       "      <td>2016-03-14 17:24:55</td>\n",
       "      <td>2016-03-14 17:32:30</td>\n",
       "      <td>1</td>\n",
       "      <td>-73.982155</td>\n",
       "      <td>40.767937</td>\n",
       "      <td>-73.964630</td>\n",
       "      <td>40.765602</td>\n",
       "      <td>N</td>\n",
       "      <td>455</td>\n",
       "      <td>3</td>\n",
       "      <td>17</td>\n",
       "    </tr>\n",
       "    <tr>\n",
       "      <th>1</th>\n",
       "      <td>id2377394</td>\n",
       "      <td>1</td>\n",
       "      <td>2016-06-12 00:43:35</td>\n",
       "      <td>2016-06-12 00:54:38</td>\n",
       "      <td>1</td>\n",
       "      <td>-73.980415</td>\n",
       "      <td>40.738564</td>\n",
       "      <td>-73.999481</td>\n",
       "      <td>40.731152</td>\n",
       "      <td>N</td>\n",
       "      <td>663</td>\n",
       "      <td>6</td>\n",
       "      <td>0</td>\n",
       "    </tr>\n",
       "    <tr>\n",
       "      <th>2</th>\n",
       "      <td>id3858529</td>\n",
       "      <td>2</td>\n",
       "      <td>2016-01-19 11:35:24</td>\n",
       "      <td>2016-01-19 12:10:48</td>\n",
       "      <td>1</td>\n",
       "      <td>-73.979027</td>\n",
       "      <td>40.763939</td>\n",
       "      <td>-74.005333</td>\n",
       "      <td>40.710087</td>\n",
       "      <td>N</td>\n",
       "      <td>2124</td>\n",
       "      <td>1</td>\n",
       "      <td>11</td>\n",
       "    </tr>\n",
       "    <tr>\n",
       "      <th>3</th>\n",
       "      <td>id3504673</td>\n",
       "      <td>2</td>\n",
       "      <td>2016-04-06 19:32:31</td>\n",
       "      <td>2016-04-06 19:39:40</td>\n",
       "      <td>1</td>\n",
       "      <td>-74.010040</td>\n",
       "      <td>40.719971</td>\n",
       "      <td>-74.012268</td>\n",
       "      <td>40.706718</td>\n",
       "      <td>N</td>\n",
       "      <td>429</td>\n",
       "      <td>4</td>\n",
       "      <td>19</td>\n",
       "    </tr>\n",
       "    <tr>\n",
       "      <th>4</th>\n",
       "      <td>id2181028</td>\n",
       "      <td>2</td>\n",
       "      <td>2016-03-26 13:30:55</td>\n",
       "      <td>2016-03-26 13:38:10</td>\n",
       "      <td>1</td>\n",
       "      <td>-73.973053</td>\n",
       "      <td>40.793209</td>\n",
       "      <td>-73.972923</td>\n",
       "      <td>40.782520</td>\n",
       "      <td>N</td>\n",
       "      <td>435</td>\n",
       "      <td>3</td>\n",
       "      <td>13</td>\n",
       "    </tr>\n",
       "  </tbody>\n",
       "</table>\n",
       "</div>"
      ]
     },
     "metadata": {
      "application/vnd.databricks.v1+output": {
       "addedWidgets": {},
       "arguments": {},
       "data": "<div>\n<style scoped>\n    .dataframe tbody tr th:only-of-type {\n        vertical-align: middle;\n    }\n\n    .dataframe tbody tr th {\n        vertical-align: top;\n    }\n\n    .dataframe thead th {\n        text-align: right;\n    }\n</style>\n<table border=\"1\" class=\"dataframe\">\n  <thead>\n    <tr style=\"text-align: right;\">\n      <th></th>\n      <th>id</th>\n      <th>vendor_id</th>\n      <th>pickup_datetime</th>\n      <th>dropoff_datetime</th>\n      <th>passenger_count</th>\n      <th>pickup_longitude</th>\n      <th>pickup_latitude</th>\n      <th>dropoff_longitude</th>\n      <th>dropoff_latitude</th>\n      <th>store_and_fwd_flag</th>\n      <th>trip_duration</th>\n      <th>trip_started_month</th>\n      <th>trip_started_hour</th>\n    </tr>\n  </thead>\n  <tbody>\n    <tr>\n      <th>0</th>\n      <td>id2875421</td>\n      <td>2</td>\n      <td>2016-03-14 17:24:55</td>\n      <td>2016-03-14 17:32:30</td>\n      <td>1</td>\n      <td>-73.982155</td>\n      <td>40.767937</td>\n      <td>-73.964630</td>\n      <td>40.765602</td>\n      <td>N</td>\n      <td>455</td>\n      <td>3</td>\n      <td>17</td>\n    </tr>\n    <tr>\n      <th>1</th>\n      <td>id2377394</td>\n      <td>1</td>\n      <td>2016-06-12 00:43:35</td>\n      <td>2016-06-12 00:54:38</td>\n      <td>1</td>\n      <td>-73.980415</td>\n      <td>40.738564</td>\n      <td>-73.999481</td>\n      <td>40.731152</td>\n      <td>N</td>\n      <td>663</td>\n      <td>6</td>\n      <td>0</td>\n    </tr>\n    <tr>\n      <th>2</th>\n      <td>id3858529</td>\n      <td>2</td>\n      <td>2016-01-19 11:35:24</td>\n      <td>2016-01-19 12:10:48</td>\n      <td>1</td>\n      <td>-73.979027</td>\n      <td>40.763939</td>\n      <td>-74.005333</td>\n      <td>40.710087</td>\n      <td>N</td>\n      <td>2124</td>\n      <td>1</td>\n      <td>11</td>\n    </tr>\n    <tr>\n      <th>3</th>\n      <td>id3504673</td>\n      <td>2</td>\n      <td>2016-04-06 19:32:31</td>\n      <td>2016-04-06 19:39:40</td>\n      <td>1</td>\n      <td>-74.010040</td>\n      <td>40.719971</td>\n      <td>-74.012268</td>\n      <td>40.706718</td>\n      <td>N</td>\n      <td>429</td>\n      <td>4</td>\n      <td>19</td>\n    </tr>\n    <tr>\n      <th>4</th>\n      <td>id2181028</td>\n      <td>2</td>\n      <td>2016-03-26 13:30:55</td>\n      <td>2016-03-26 13:38:10</td>\n      <td>1</td>\n      <td>-73.973053</td>\n      <td>40.793209</td>\n      <td>-73.972923</td>\n      <td>40.782520</td>\n      <td>N</td>\n      <td>435</td>\n      <td>3</td>\n      <td>13</td>\n    </tr>\n  </tbody>\n</table>\n</div>",
       "datasetInfos": [],
       "metadata": {},
       "removedWidgets": [],
       "textData": null,
       "type": "htmlSandbox"
      }
     },
     "output_type": "display_data"
    }
   ],
   "source": [
    "taxi['trip_started_hour'] = taxi['pickup_datetime'].dt.hour\n",
    "taxi.head()"
   ]
  },
  {
   "cell_type": "markdown",
   "metadata": {
    "application/vnd.databricks.v1+cell": {
     "cellMetadata": {},
     "inputWidgets": {},
     "nuid": "894f4ebc-1616-422a-84f3-3ba6d648535f",
     "showTitle": false,
     "title": ""
    }
   },
   "source": [
    "**Feature**: The week of the year when a trip started"
   ]
  },
  {
   "cell_type": "code",
   "execution_count": 0,
   "metadata": {
    "application/vnd.databricks.v1+cell": {
     "cellMetadata": {
      "byteLimit": 2048000,
      "rowLimit": 10000
     },
     "inputWidgets": {},
     "nuid": "97737a34-87b8-411c-b30d-6cb676a35f08",
     "showTitle": false,
     "title": ""
    }
   },
   "outputs": [
    {
     "output_type": "display_data",
     "data": {
      "text/html": [
       "<style scoped>\n",
       "  .ansiout {\n",
       "    display: block;\n",
       "    unicode-bidi: embed;\n",
       "    white-space: pre-wrap;\n",
       "    word-wrap: break-word;\n",
       "    word-break: break-all;\n",
       "    font-family: \"Menlo\", \"Monaco\", \"Consolas\", \"Ubuntu Mono\", \"Source Code Pro\", monospace;\n",
       "    font-size: 13px;\n",
       "    color: #555;\n",
       "    margin-left: 4px;\n",
       "    line-height: 19px;\n",
       "  }\n",
       "</style>\n",
       "<div class=\"ansiout\">&lt;command-606318613618241&gt;:2: FutureWarning: Series.dt.weekofyear and Series.dt.week have been deprecated.  Please use Series.dt.isocalendar().week instead.\n",
       "  taxi[&#39;trip_started_week&#39;] = taxi[&#39;pickup_datetime&#39;].dt.week\n",
       "Out[8]: </div>"
      ]
     },
     "metadata": {
      "application/vnd.databricks.v1+output": {
       "addedWidgets": {},
       "arguments": {},
       "data": "<div class=\"ansiout\">&lt;command-606318613618241&gt;:2: FutureWarning: Series.dt.weekofyear and Series.dt.week have been deprecated.  Please use Series.dt.isocalendar().week instead.\n  taxi[&#39;trip_started_week&#39;] = taxi[&#39;pickup_datetime&#39;].dt.week\nOut[8]: </div>",
       "datasetInfos": [],
       "metadata": {},
       "removedWidgets": [],
       "type": "html"
      }
     },
     "output_type": "display_data"
    },
    {
     "output_type": "display_data",
     "data": {
      "text/html": [
       "<div>\n",
       "<style scoped>\n",
       "    .dataframe tbody tr th:only-of-type {\n",
       "        vertical-align: middle;\n",
       "    }\n",
       "\n",
       "    .dataframe tbody tr th {\n",
       "        vertical-align: top;\n",
       "    }\n",
       "\n",
       "    .dataframe thead th {\n",
       "        text-align: right;\n",
       "    }\n",
       "</style>\n",
       "<table border=\"1\" class=\"dataframe\">\n",
       "  <thead>\n",
       "    <tr style=\"text-align: right;\">\n",
       "      <th></th>\n",
       "      <th>id</th>\n",
       "      <th>vendor_id</th>\n",
       "      <th>pickup_datetime</th>\n",
       "      <th>dropoff_datetime</th>\n",
       "      <th>passenger_count</th>\n",
       "      <th>pickup_longitude</th>\n",
       "      <th>pickup_latitude</th>\n",
       "      <th>dropoff_longitude</th>\n",
       "      <th>dropoff_latitude</th>\n",
       "      <th>store_and_fwd_flag</th>\n",
       "      <th>trip_duration</th>\n",
       "      <th>trip_started_month</th>\n",
       "      <th>trip_started_hour</th>\n",
       "      <th>trip_started_week</th>\n",
       "    </tr>\n",
       "  </thead>\n",
       "  <tbody>\n",
       "    <tr>\n",
       "      <th>0</th>\n",
       "      <td>id2875421</td>\n",
       "      <td>2</td>\n",
       "      <td>2016-03-14 17:24:55</td>\n",
       "      <td>2016-03-14 17:32:30</td>\n",
       "      <td>1</td>\n",
       "      <td>-73.982155</td>\n",
       "      <td>40.767937</td>\n",
       "      <td>-73.964630</td>\n",
       "      <td>40.765602</td>\n",
       "      <td>N</td>\n",
       "      <td>455</td>\n",
       "      <td>3</td>\n",
       "      <td>17</td>\n",
       "      <td>11</td>\n",
       "    </tr>\n",
       "    <tr>\n",
       "      <th>1</th>\n",
       "      <td>id2377394</td>\n",
       "      <td>1</td>\n",
       "      <td>2016-06-12 00:43:35</td>\n",
       "      <td>2016-06-12 00:54:38</td>\n",
       "      <td>1</td>\n",
       "      <td>-73.980415</td>\n",
       "      <td>40.738564</td>\n",
       "      <td>-73.999481</td>\n",
       "      <td>40.731152</td>\n",
       "      <td>N</td>\n",
       "      <td>663</td>\n",
       "      <td>6</td>\n",
       "      <td>0</td>\n",
       "      <td>23</td>\n",
       "    </tr>\n",
       "    <tr>\n",
       "      <th>2</th>\n",
       "      <td>id3858529</td>\n",
       "      <td>2</td>\n",
       "      <td>2016-01-19 11:35:24</td>\n",
       "      <td>2016-01-19 12:10:48</td>\n",
       "      <td>1</td>\n",
       "      <td>-73.979027</td>\n",
       "      <td>40.763939</td>\n",
       "      <td>-74.005333</td>\n",
       "      <td>40.710087</td>\n",
       "      <td>N</td>\n",
       "      <td>2124</td>\n",
       "      <td>1</td>\n",
       "      <td>11</td>\n",
       "      <td>3</td>\n",
       "    </tr>\n",
       "    <tr>\n",
       "      <th>3</th>\n",
       "      <td>id3504673</td>\n",
       "      <td>2</td>\n",
       "      <td>2016-04-06 19:32:31</td>\n",
       "      <td>2016-04-06 19:39:40</td>\n",
       "      <td>1</td>\n",
       "      <td>-74.010040</td>\n",
       "      <td>40.719971</td>\n",
       "      <td>-74.012268</td>\n",
       "      <td>40.706718</td>\n",
       "      <td>N</td>\n",
       "      <td>429</td>\n",
       "      <td>4</td>\n",
       "      <td>19</td>\n",
       "      <td>14</td>\n",
       "    </tr>\n",
       "    <tr>\n",
       "      <th>4</th>\n",
       "      <td>id2181028</td>\n",
       "      <td>2</td>\n",
       "      <td>2016-03-26 13:30:55</td>\n",
       "      <td>2016-03-26 13:38:10</td>\n",
       "      <td>1</td>\n",
       "      <td>-73.973053</td>\n",
       "      <td>40.793209</td>\n",
       "      <td>-73.972923</td>\n",
       "      <td>40.782520</td>\n",
       "      <td>N</td>\n",
       "      <td>435</td>\n",
       "      <td>3</td>\n",
       "      <td>13</td>\n",
       "      <td>12</td>\n",
       "    </tr>\n",
       "  </tbody>\n",
       "</table>\n",
       "</div>"
      ]
     },
     "metadata": {
      "application/vnd.databricks.v1+output": {
       "addedWidgets": {},
       "arguments": {},
       "data": "<div>\n<style scoped>\n    .dataframe tbody tr th:only-of-type {\n        vertical-align: middle;\n    }\n\n    .dataframe tbody tr th {\n        vertical-align: top;\n    }\n\n    .dataframe thead th {\n        text-align: right;\n    }\n</style>\n<table border=\"1\" class=\"dataframe\">\n  <thead>\n    <tr style=\"text-align: right;\">\n      <th></th>\n      <th>id</th>\n      <th>vendor_id</th>\n      <th>pickup_datetime</th>\n      <th>dropoff_datetime</th>\n      <th>passenger_count</th>\n      <th>pickup_longitude</th>\n      <th>pickup_latitude</th>\n      <th>dropoff_longitude</th>\n      <th>dropoff_latitude</th>\n      <th>store_and_fwd_flag</th>\n      <th>trip_duration</th>\n      <th>trip_started_month</th>\n      <th>trip_started_hour</th>\n      <th>trip_started_week</th>\n    </tr>\n  </thead>\n  <tbody>\n    <tr>\n      <th>0</th>\n      <td>id2875421</td>\n      <td>2</td>\n      <td>2016-03-14 17:24:55</td>\n      <td>2016-03-14 17:32:30</td>\n      <td>1</td>\n      <td>-73.982155</td>\n      <td>40.767937</td>\n      <td>-73.964630</td>\n      <td>40.765602</td>\n      <td>N</td>\n      <td>455</td>\n      <td>3</td>\n      <td>17</td>\n      <td>11</td>\n    </tr>\n    <tr>\n      <th>1</th>\n      <td>id2377394</td>\n      <td>1</td>\n      <td>2016-06-12 00:43:35</td>\n      <td>2016-06-12 00:54:38</td>\n      <td>1</td>\n      <td>-73.980415</td>\n      <td>40.738564</td>\n      <td>-73.999481</td>\n      <td>40.731152</td>\n      <td>N</td>\n      <td>663</td>\n      <td>6</td>\n      <td>0</td>\n      <td>23</td>\n    </tr>\n    <tr>\n      <th>2</th>\n      <td>id3858529</td>\n      <td>2</td>\n      <td>2016-01-19 11:35:24</td>\n      <td>2016-01-19 12:10:48</td>\n      <td>1</td>\n      <td>-73.979027</td>\n      <td>40.763939</td>\n      <td>-74.005333</td>\n      <td>40.710087</td>\n      <td>N</td>\n      <td>2124</td>\n      <td>1</td>\n      <td>11</td>\n      <td>3</td>\n    </tr>\n    <tr>\n      <th>3</th>\n      <td>id3504673</td>\n      <td>2</td>\n      <td>2016-04-06 19:32:31</td>\n      <td>2016-04-06 19:39:40</td>\n      <td>1</td>\n      <td>-74.010040</td>\n      <td>40.719971</td>\n      <td>-74.012268</td>\n      <td>40.706718</td>\n      <td>N</td>\n      <td>429</td>\n      <td>4</td>\n      <td>19</td>\n      <td>14</td>\n    </tr>\n    <tr>\n      <th>4</th>\n      <td>id2181028</td>\n      <td>2</td>\n      <td>2016-03-26 13:30:55</td>\n      <td>2016-03-26 13:38:10</td>\n      <td>1</td>\n      <td>-73.973053</td>\n      <td>40.793209</td>\n      <td>-73.972923</td>\n      <td>40.782520</td>\n      <td>N</td>\n      <td>435</td>\n      <td>3</td>\n      <td>13</td>\n      <td>12</td>\n    </tr>\n  </tbody>\n</table>\n</div>",
       "datasetInfos": [],
       "metadata": {},
       "removedWidgets": [],
       "textData": null,
       "type": "htmlSandbox"
      }
     },
     "output_type": "display_data"
    }
   ],
   "source": [
    "from datetime import datetime\n",
    "taxi['trip_started_week'] = taxi['pickup_datetime'].dt.week\n",
    "taxi.head()"
   ]
  },
  {
   "cell_type": "markdown",
   "metadata": {
    "application/vnd.databricks.v1+cell": {
     "cellMetadata": {},
     "inputWidgets": {},
     "nuid": "1f5cdceb-5efd-4db5-aeaf-2a217e8c9e35",
     "showTitle": false,
     "title": ""
    }
   },
   "source": [
    "**Feature**: The day of the year when a trip started"
   ]
  },
  {
   "cell_type": "code",
   "execution_count": 0,
   "metadata": {
    "application/vnd.databricks.v1+cell": {
     "cellMetadata": {
      "byteLimit": 2048000,
      "rowLimit": 10000
     },
     "inputWidgets": {},
     "nuid": "34ffed3c-f140-47e9-81f0-56ce1edce2f6",
     "showTitle": false,
     "title": ""
    }
   },
   "outputs": [
    {
     "output_type": "display_data",
     "data": {
      "text/html": [
       "<style scoped>\n",
       "  .ansiout {\n",
       "    display: block;\n",
       "    unicode-bidi: embed;\n",
       "    white-space: pre-wrap;\n",
       "    word-wrap: break-word;\n",
       "    word-break: break-all;\n",
       "    font-family: \"Menlo\", \"Monaco\", \"Consolas\", \"Ubuntu Mono\", \"Source Code Pro\", monospace;\n",
       "    font-size: 13px;\n",
       "    color: #555;\n",
       "    margin-left: 4px;\n",
       "    line-height: 19px;\n",
       "  }\n",
       "</style>\n",
       "<div class=\"ansiout\">Out[9]: </div>"
      ]
     },
     "metadata": {
      "application/vnd.databricks.v1+output": {
       "addedWidgets": {},
       "arguments": {},
       "data": "<div class=\"ansiout\">Out[9]: </div>",
       "datasetInfos": [],
       "metadata": {},
       "removedWidgets": [],
       "type": "html"
      }
     },
     "output_type": "display_data"
    },
    {
     "output_type": "display_data",
     "data": {
      "text/html": [
       "<div>\n",
       "<style scoped>\n",
       "    .dataframe tbody tr th:only-of-type {\n",
       "        vertical-align: middle;\n",
       "    }\n",
       "\n",
       "    .dataframe tbody tr th {\n",
       "        vertical-align: top;\n",
       "    }\n",
       "\n",
       "    .dataframe thead th {\n",
       "        text-align: right;\n",
       "    }\n",
       "</style>\n",
       "<table border=\"1\" class=\"dataframe\">\n",
       "  <thead>\n",
       "    <tr style=\"text-align: right;\">\n",
       "      <th></th>\n",
       "      <th>id</th>\n",
       "      <th>vendor_id</th>\n",
       "      <th>pickup_datetime</th>\n",
       "      <th>dropoff_datetime</th>\n",
       "      <th>passenger_count</th>\n",
       "      <th>pickup_longitude</th>\n",
       "      <th>pickup_latitude</th>\n",
       "      <th>dropoff_longitude</th>\n",
       "      <th>dropoff_latitude</th>\n",
       "      <th>store_and_fwd_flag</th>\n",
       "      <th>trip_duration</th>\n",
       "      <th>trip_started_month</th>\n",
       "      <th>trip_started_hour</th>\n",
       "      <th>trip_started_week</th>\n",
       "      <th>trip_started_day</th>\n",
       "    </tr>\n",
       "  </thead>\n",
       "  <tbody>\n",
       "    <tr>\n",
       "      <th>0</th>\n",
       "      <td>id2875421</td>\n",
       "      <td>2</td>\n",
       "      <td>2016-03-14 17:24:55</td>\n",
       "      <td>2016-03-14 17:32:30</td>\n",
       "      <td>1</td>\n",
       "      <td>-73.982155</td>\n",
       "      <td>40.767937</td>\n",
       "      <td>-73.964630</td>\n",
       "      <td>40.765602</td>\n",
       "      <td>N</td>\n",
       "      <td>455</td>\n",
       "      <td>3</td>\n",
       "      <td>17</td>\n",
       "      <td>11</td>\n",
       "      <td>14</td>\n",
       "    </tr>\n",
       "    <tr>\n",
       "      <th>1</th>\n",
       "      <td>id2377394</td>\n",
       "      <td>1</td>\n",
       "      <td>2016-06-12 00:43:35</td>\n",
       "      <td>2016-06-12 00:54:38</td>\n",
       "      <td>1</td>\n",
       "      <td>-73.980415</td>\n",
       "      <td>40.738564</td>\n",
       "      <td>-73.999481</td>\n",
       "      <td>40.731152</td>\n",
       "      <td>N</td>\n",
       "      <td>663</td>\n",
       "      <td>6</td>\n",
       "      <td>0</td>\n",
       "      <td>23</td>\n",
       "      <td>12</td>\n",
       "    </tr>\n",
       "    <tr>\n",
       "      <th>2</th>\n",
       "      <td>id3858529</td>\n",
       "      <td>2</td>\n",
       "      <td>2016-01-19 11:35:24</td>\n",
       "      <td>2016-01-19 12:10:48</td>\n",
       "      <td>1</td>\n",
       "      <td>-73.979027</td>\n",
       "      <td>40.763939</td>\n",
       "      <td>-74.005333</td>\n",
       "      <td>40.710087</td>\n",
       "      <td>N</td>\n",
       "      <td>2124</td>\n",
       "      <td>1</td>\n",
       "      <td>11</td>\n",
       "      <td>3</td>\n",
       "      <td>19</td>\n",
       "    </tr>\n",
       "    <tr>\n",
       "      <th>3</th>\n",
       "      <td>id3504673</td>\n",
       "      <td>2</td>\n",
       "      <td>2016-04-06 19:32:31</td>\n",
       "      <td>2016-04-06 19:39:40</td>\n",
       "      <td>1</td>\n",
       "      <td>-74.010040</td>\n",
       "      <td>40.719971</td>\n",
       "      <td>-74.012268</td>\n",
       "      <td>40.706718</td>\n",
       "      <td>N</td>\n",
       "      <td>429</td>\n",
       "      <td>4</td>\n",
       "      <td>19</td>\n",
       "      <td>14</td>\n",
       "      <td>6</td>\n",
       "    </tr>\n",
       "    <tr>\n",
       "      <th>4</th>\n",
       "      <td>id2181028</td>\n",
       "      <td>2</td>\n",
       "      <td>2016-03-26 13:30:55</td>\n",
       "      <td>2016-03-26 13:38:10</td>\n",
       "      <td>1</td>\n",
       "      <td>-73.973053</td>\n",
       "      <td>40.793209</td>\n",
       "      <td>-73.972923</td>\n",
       "      <td>40.782520</td>\n",
       "      <td>N</td>\n",
       "      <td>435</td>\n",
       "      <td>3</td>\n",
       "      <td>13</td>\n",
       "      <td>12</td>\n",
       "      <td>26</td>\n",
       "    </tr>\n",
       "  </tbody>\n",
       "</table>\n",
       "</div>"
      ]
     },
     "metadata": {
      "application/vnd.databricks.v1+output": {
       "addedWidgets": {},
       "arguments": {},
       "data": "<div>\n<style scoped>\n    .dataframe tbody tr th:only-of-type {\n        vertical-align: middle;\n    }\n\n    .dataframe tbody tr th {\n        vertical-align: top;\n    }\n\n    .dataframe thead th {\n        text-align: right;\n    }\n</style>\n<table border=\"1\" class=\"dataframe\">\n  <thead>\n    <tr style=\"text-align: right;\">\n      <th></th>\n      <th>id</th>\n      <th>vendor_id</th>\n      <th>pickup_datetime</th>\n      <th>dropoff_datetime</th>\n      <th>passenger_count</th>\n      <th>pickup_longitude</th>\n      <th>pickup_latitude</th>\n      <th>dropoff_longitude</th>\n      <th>dropoff_latitude</th>\n      <th>store_and_fwd_flag</th>\n      <th>trip_duration</th>\n      <th>trip_started_month</th>\n      <th>trip_started_hour</th>\n      <th>trip_started_week</th>\n      <th>trip_started_day</th>\n    </tr>\n  </thead>\n  <tbody>\n    <tr>\n      <th>0</th>\n      <td>id2875421</td>\n      <td>2</td>\n      <td>2016-03-14 17:24:55</td>\n      <td>2016-03-14 17:32:30</td>\n      <td>1</td>\n      <td>-73.982155</td>\n      <td>40.767937</td>\n      <td>-73.964630</td>\n      <td>40.765602</td>\n      <td>N</td>\n      <td>455</td>\n      <td>3</td>\n      <td>17</td>\n      <td>11</td>\n      <td>14</td>\n    </tr>\n    <tr>\n      <th>1</th>\n      <td>id2377394</td>\n      <td>1</td>\n      <td>2016-06-12 00:43:35</td>\n      <td>2016-06-12 00:54:38</td>\n      <td>1</td>\n      <td>-73.980415</td>\n      <td>40.738564</td>\n      <td>-73.999481</td>\n      <td>40.731152</td>\n      <td>N</td>\n      <td>663</td>\n      <td>6</td>\n      <td>0</td>\n      <td>23</td>\n      <td>12</td>\n    </tr>\n    <tr>\n      <th>2</th>\n      <td>id3858529</td>\n      <td>2</td>\n      <td>2016-01-19 11:35:24</td>\n      <td>2016-01-19 12:10:48</td>\n      <td>1</td>\n      <td>-73.979027</td>\n      <td>40.763939</td>\n      <td>-74.005333</td>\n      <td>40.710087</td>\n      <td>N</td>\n      <td>2124</td>\n      <td>1</td>\n      <td>11</td>\n      <td>3</td>\n      <td>19</td>\n    </tr>\n    <tr>\n      <th>3</th>\n      <td>id3504673</td>\n      <td>2</td>\n      <td>2016-04-06 19:32:31</td>\n      <td>2016-04-06 19:39:40</td>\n      <td>1</td>\n      <td>-74.010040</td>\n      <td>40.719971</td>\n      <td>-74.012268</td>\n      <td>40.706718</td>\n      <td>N</td>\n      <td>429</td>\n      <td>4</td>\n      <td>19</td>\n      <td>14</td>\n      <td>6</td>\n    </tr>\n    <tr>\n      <th>4</th>\n      <td>id2181028</td>\n      <td>2</td>\n      <td>2016-03-26 13:30:55</td>\n      <td>2016-03-26 13:38:10</td>\n      <td>1</td>\n      <td>-73.973053</td>\n      <td>40.793209</td>\n      <td>-73.972923</td>\n      <td>40.782520</td>\n      <td>N</td>\n      <td>435</td>\n      <td>3</td>\n      <td>13</td>\n      <td>12</td>\n      <td>26</td>\n    </tr>\n  </tbody>\n</table>\n</div>",
       "datasetInfos": [],
       "metadata": {},
       "removedWidgets": [],
       "textData": null,
       "type": "htmlSandbox"
      }
     },
     "output_type": "display_data"
    }
   ],
   "source": [
    "from datetime import datetime\n",
    "taxi['trip_started_day'] = taxi['pickup_datetime'].dt.day\n",
    "taxi.head()"
   ]
  },
  {
   "cell_type": "markdown",
   "metadata": {
    "application/vnd.databricks.v1+cell": {
     "cellMetadata": {},
     "inputWidgets": {},
     "nuid": "0e165400-7952-4351-8d8e-ad05d29bb7b2",
     "showTitle": false,
     "title": ""
    }
   },
   "source": [
    "**Feature**: The day of the week when a trip started"
   ]
  },
  {
   "cell_type": "code",
   "execution_count": 0,
   "metadata": {
    "application/vnd.databricks.v1+cell": {
     "cellMetadata": {
      "byteLimit": 2048000,
      "rowLimit": 10000
     },
     "inputWidgets": {},
     "nuid": "34fe8fe4-4d0c-4e40-9abe-bc6a20a71aea",
     "showTitle": false,
     "title": ""
    }
   },
   "outputs": [
    {
     "output_type": "display_data",
     "data": {
      "text/html": [
       "<style scoped>\n",
       "  .ansiout {\n",
       "    display: block;\n",
       "    unicode-bidi: embed;\n",
       "    white-space: pre-wrap;\n",
       "    word-wrap: break-word;\n",
       "    word-break: break-all;\n",
       "    font-family: \"Menlo\", \"Monaco\", \"Consolas\", \"Ubuntu Mono\", \"Source Code Pro\", monospace;\n",
       "    font-size: 13px;\n",
       "    color: #555;\n",
       "    margin-left: 4px;\n",
       "    line-height: 19px;\n",
       "  }\n",
       "</style>\n",
       "<div class=\"ansiout\">Out[10]: </div>"
      ]
     },
     "metadata": {
      "application/vnd.databricks.v1+output": {
       "addedWidgets": {},
       "arguments": {},
       "data": "<div class=\"ansiout\">Out[10]: </div>",
       "datasetInfos": [],
       "metadata": {},
       "removedWidgets": [],
       "type": "html"
      }
     },
     "output_type": "display_data"
    },
    {
     "output_type": "display_data",
     "data": {
      "text/html": [
       "<div>\n",
       "<style scoped>\n",
       "    .dataframe tbody tr th:only-of-type {\n",
       "        vertical-align: middle;\n",
       "    }\n",
       "\n",
       "    .dataframe tbody tr th {\n",
       "        vertical-align: top;\n",
       "    }\n",
       "\n",
       "    .dataframe thead th {\n",
       "        text-align: right;\n",
       "    }\n",
       "</style>\n",
       "<table border=\"1\" class=\"dataframe\">\n",
       "  <thead>\n",
       "    <tr style=\"text-align: right;\">\n",
       "      <th></th>\n",
       "      <th>id</th>\n",
       "      <th>vendor_id</th>\n",
       "      <th>pickup_datetime</th>\n",
       "      <th>dropoff_datetime</th>\n",
       "      <th>passenger_count</th>\n",
       "      <th>pickup_longitude</th>\n",
       "      <th>pickup_latitude</th>\n",
       "      <th>dropoff_longitude</th>\n",
       "      <th>dropoff_latitude</th>\n",
       "      <th>store_and_fwd_flag</th>\n",
       "      <th>trip_duration</th>\n",
       "      <th>trip_started_month</th>\n",
       "      <th>trip_started_hour</th>\n",
       "      <th>trip_started_week</th>\n",
       "      <th>trip_started_day</th>\n",
       "      <th>trip_started_weekday</th>\n",
       "    </tr>\n",
       "  </thead>\n",
       "  <tbody>\n",
       "    <tr>\n",
       "      <th>0</th>\n",
       "      <td>id2875421</td>\n",
       "      <td>2</td>\n",
       "      <td>2016-03-14 17:24:55</td>\n",
       "      <td>2016-03-14 17:32:30</td>\n",
       "      <td>1</td>\n",
       "      <td>-73.982155</td>\n",
       "      <td>40.767937</td>\n",
       "      <td>-73.964630</td>\n",
       "      <td>40.765602</td>\n",
       "      <td>N</td>\n",
       "      <td>455</td>\n",
       "      <td>3</td>\n",
       "      <td>17</td>\n",
       "      <td>11</td>\n",
       "      <td>14</td>\n",
       "      <td>0</td>\n",
       "    </tr>\n",
       "    <tr>\n",
       "      <th>1</th>\n",
       "      <td>id2377394</td>\n",
       "      <td>1</td>\n",
       "      <td>2016-06-12 00:43:35</td>\n",
       "      <td>2016-06-12 00:54:38</td>\n",
       "      <td>1</td>\n",
       "      <td>-73.980415</td>\n",
       "      <td>40.738564</td>\n",
       "      <td>-73.999481</td>\n",
       "      <td>40.731152</td>\n",
       "      <td>N</td>\n",
       "      <td>663</td>\n",
       "      <td>6</td>\n",
       "      <td>0</td>\n",
       "      <td>23</td>\n",
       "      <td>12</td>\n",
       "      <td>6</td>\n",
       "    </tr>\n",
       "    <tr>\n",
       "      <th>2</th>\n",
       "      <td>id3858529</td>\n",
       "      <td>2</td>\n",
       "      <td>2016-01-19 11:35:24</td>\n",
       "      <td>2016-01-19 12:10:48</td>\n",
       "      <td>1</td>\n",
       "      <td>-73.979027</td>\n",
       "      <td>40.763939</td>\n",
       "      <td>-74.005333</td>\n",
       "      <td>40.710087</td>\n",
       "      <td>N</td>\n",
       "      <td>2124</td>\n",
       "      <td>1</td>\n",
       "      <td>11</td>\n",
       "      <td>3</td>\n",
       "      <td>19</td>\n",
       "      <td>1</td>\n",
       "    </tr>\n",
       "    <tr>\n",
       "      <th>3</th>\n",
       "      <td>id3504673</td>\n",
       "      <td>2</td>\n",
       "      <td>2016-04-06 19:32:31</td>\n",
       "      <td>2016-04-06 19:39:40</td>\n",
       "      <td>1</td>\n",
       "      <td>-74.010040</td>\n",
       "      <td>40.719971</td>\n",
       "      <td>-74.012268</td>\n",
       "      <td>40.706718</td>\n",
       "      <td>N</td>\n",
       "      <td>429</td>\n",
       "      <td>4</td>\n",
       "      <td>19</td>\n",
       "      <td>14</td>\n",
       "      <td>6</td>\n",
       "      <td>2</td>\n",
       "    </tr>\n",
       "    <tr>\n",
       "      <th>4</th>\n",
       "      <td>id2181028</td>\n",
       "      <td>2</td>\n",
       "      <td>2016-03-26 13:30:55</td>\n",
       "      <td>2016-03-26 13:38:10</td>\n",
       "      <td>1</td>\n",
       "      <td>-73.973053</td>\n",
       "      <td>40.793209</td>\n",
       "      <td>-73.972923</td>\n",
       "      <td>40.782520</td>\n",
       "      <td>N</td>\n",
       "      <td>435</td>\n",
       "      <td>3</td>\n",
       "      <td>13</td>\n",
       "      <td>12</td>\n",
       "      <td>26</td>\n",
       "      <td>5</td>\n",
       "    </tr>\n",
       "    <tr>\n",
       "      <th>5</th>\n",
       "      <td>id0801584</td>\n",
       "      <td>2</td>\n",
       "      <td>2016-01-30 22:01:40</td>\n",
       "      <td>2016-01-30 22:09:03</td>\n",
       "      <td>6</td>\n",
       "      <td>-73.982857</td>\n",
       "      <td>40.742195</td>\n",
       "      <td>-73.992081</td>\n",
       "      <td>40.749184</td>\n",
       "      <td>N</td>\n",
       "      <td>443</td>\n",
       "      <td>1</td>\n",
       "      <td>22</td>\n",
       "      <td>4</td>\n",
       "      <td>30</td>\n",
       "      <td>5</td>\n",
       "    </tr>\n",
       "    <tr>\n",
       "      <th>6</th>\n",
       "      <td>id1813257</td>\n",
       "      <td>1</td>\n",
       "      <td>2016-06-17 22:34:59</td>\n",
       "      <td>2016-06-17 22:40:40</td>\n",
       "      <td>4</td>\n",
       "      <td>-73.969017</td>\n",
       "      <td>40.757839</td>\n",
       "      <td>-73.957405</td>\n",
       "      <td>40.765896</td>\n",
       "      <td>N</td>\n",
       "      <td>341</td>\n",
       "      <td>6</td>\n",
       "      <td>22</td>\n",
       "      <td>24</td>\n",
       "      <td>17</td>\n",
       "      <td>4</td>\n",
       "    </tr>\n",
       "    <tr>\n",
       "      <th>7</th>\n",
       "      <td>id1324603</td>\n",
       "      <td>2</td>\n",
       "      <td>2016-05-21 07:54:58</td>\n",
       "      <td>2016-05-21 08:20:49</td>\n",
       "      <td>1</td>\n",
       "      <td>-73.969276</td>\n",
       "      <td>40.797779</td>\n",
       "      <td>-73.922470</td>\n",
       "      <td>40.760559</td>\n",
       "      <td>N</td>\n",
       "      <td>1551</td>\n",
       "      <td>5</td>\n",
       "      <td>7</td>\n",
       "      <td>20</td>\n",
       "      <td>21</td>\n",
       "      <td>5</td>\n",
       "    </tr>\n",
       "    <tr>\n",
       "      <th>8</th>\n",
       "      <td>id1301050</td>\n",
       "      <td>1</td>\n",
       "      <td>2016-05-27 23:12:23</td>\n",
       "      <td>2016-05-27 23:16:38</td>\n",
       "      <td>1</td>\n",
       "      <td>-73.999481</td>\n",
       "      <td>40.738400</td>\n",
       "      <td>-73.985786</td>\n",
       "      <td>40.732815</td>\n",
       "      <td>N</td>\n",
       "      <td>255</td>\n",
       "      <td>5</td>\n",
       "      <td>23</td>\n",
       "      <td>21</td>\n",
       "      <td>27</td>\n",
       "      <td>4</td>\n",
       "    </tr>\n",
       "    <tr>\n",
       "      <th>9</th>\n",
       "      <td>id0012891</td>\n",
       "      <td>2</td>\n",
       "      <td>2016-03-10 21:45:01</td>\n",
       "      <td>2016-03-10 22:05:26</td>\n",
       "      <td>1</td>\n",
       "      <td>-73.981049</td>\n",
       "      <td>40.744339</td>\n",
       "      <td>-73.973000</td>\n",
       "      <td>40.789989</td>\n",
       "      <td>N</td>\n",
       "      <td>1225</td>\n",
       "      <td>3</td>\n",
       "      <td>21</td>\n",
       "      <td>10</td>\n",
       "      <td>10</td>\n",
       "      <td>3</td>\n",
       "    </tr>\n",
       "  </tbody>\n",
       "</table>\n",
       "</div>"
      ]
     },
     "metadata": {
      "application/vnd.databricks.v1+output": {
       "addedWidgets": {},
       "arguments": {},
       "data": "<div>\n<style scoped>\n    .dataframe tbody tr th:only-of-type {\n        vertical-align: middle;\n    }\n\n    .dataframe tbody tr th {\n        vertical-align: top;\n    }\n\n    .dataframe thead th {\n        text-align: right;\n    }\n</style>\n<table border=\"1\" class=\"dataframe\">\n  <thead>\n    <tr style=\"text-align: right;\">\n      <th></th>\n      <th>id</th>\n      <th>vendor_id</th>\n      <th>pickup_datetime</th>\n      <th>dropoff_datetime</th>\n      <th>passenger_count</th>\n      <th>pickup_longitude</th>\n      <th>pickup_latitude</th>\n      <th>dropoff_longitude</th>\n      <th>dropoff_latitude</th>\n      <th>store_and_fwd_flag</th>\n      <th>trip_duration</th>\n      <th>trip_started_month</th>\n      <th>trip_started_hour</th>\n      <th>trip_started_week</th>\n      <th>trip_started_day</th>\n      <th>trip_started_weekday</th>\n    </tr>\n  </thead>\n  <tbody>\n    <tr>\n      <th>0</th>\n      <td>id2875421</td>\n      <td>2</td>\n      <td>2016-03-14 17:24:55</td>\n      <td>2016-03-14 17:32:30</td>\n      <td>1</td>\n      <td>-73.982155</td>\n      <td>40.767937</td>\n      <td>-73.964630</td>\n      <td>40.765602</td>\n      <td>N</td>\n      <td>455</td>\n      <td>3</td>\n      <td>17</td>\n      <td>11</td>\n      <td>14</td>\n      <td>0</td>\n    </tr>\n    <tr>\n      <th>1</th>\n      <td>id2377394</td>\n      <td>1</td>\n      <td>2016-06-12 00:43:35</td>\n      <td>2016-06-12 00:54:38</td>\n      <td>1</td>\n      <td>-73.980415</td>\n      <td>40.738564</td>\n      <td>-73.999481</td>\n      <td>40.731152</td>\n      <td>N</td>\n      <td>663</td>\n      <td>6</td>\n      <td>0</td>\n      <td>23</td>\n      <td>12</td>\n      <td>6</td>\n    </tr>\n    <tr>\n      <th>2</th>\n      <td>id3858529</td>\n      <td>2</td>\n      <td>2016-01-19 11:35:24</td>\n      <td>2016-01-19 12:10:48</td>\n      <td>1</td>\n      <td>-73.979027</td>\n      <td>40.763939</td>\n      <td>-74.005333</td>\n      <td>40.710087</td>\n      <td>N</td>\n      <td>2124</td>\n      <td>1</td>\n      <td>11</td>\n      <td>3</td>\n      <td>19</td>\n      <td>1</td>\n    </tr>\n    <tr>\n      <th>3</th>\n      <td>id3504673</td>\n      <td>2</td>\n      <td>2016-04-06 19:32:31</td>\n      <td>2016-04-06 19:39:40</td>\n      <td>1</td>\n      <td>-74.010040</td>\n      <td>40.719971</td>\n      <td>-74.012268</td>\n      <td>40.706718</td>\n      <td>N</td>\n      <td>429</td>\n      <td>4</td>\n      <td>19</td>\n      <td>14</td>\n      <td>6</td>\n      <td>2</td>\n    </tr>\n    <tr>\n      <th>4</th>\n      <td>id2181028</td>\n      <td>2</td>\n      <td>2016-03-26 13:30:55</td>\n      <td>2016-03-26 13:38:10</td>\n      <td>1</td>\n      <td>-73.973053</td>\n      <td>40.793209</td>\n      <td>-73.972923</td>\n      <td>40.782520</td>\n      <td>N</td>\n      <td>435</td>\n      <td>3</td>\n      <td>13</td>\n      <td>12</td>\n      <td>26</td>\n      <td>5</td>\n    </tr>\n    <tr>\n      <th>5</th>\n      <td>id0801584</td>\n      <td>2</td>\n      <td>2016-01-30 22:01:40</td>\n      <td>2016-01-30 22:09:03</td>\n      <td>6</td>\n      <td>-73.982857</td>\n      <td>40.742195</td>\n      <td>-73.992081</td>\n      <td>40.749184</td>\n      <td>N</td>\n      <td>443</td>\n      <td>1</td>\n      <td>22</td>\n      <td>4</td>\n      <td>30</td>\n      <td>5</td>\n    </tr>\n    <tr>\n      <th>6</th>\n      <td>id1813257</td>\n      <td>1</td>\n      <td>2016-06-17 22:34:59</td>\n      <td>2016-06-17 22:40:40</td>\n      <td>4</td>\n      <td>-73.969017</td>\n      <td>40.757839</td>\n      <td>-73.957405</td>\n      <td>40.765896</td>\n      <td>N</td>\n      <td>341</td>\n      <td>6</td>\n      <td>22</td>\n      <td>24</td>\n      <td>17</td>\n      <td>4</td>\n    </tr>\n    <tr>\n      <th>7</th>\n      <td>id1324603</td>\n      <td>2</td>\n      <td>2016-05-21 07:54:58</td>\n      <td>2016-05-21 08:20:49</td>\n      <td>1</td>\n      <td>-73.969276</td>\n      <td>40.797779</td>\n      <td>-73.922470</td>\n      <td>40.760559</td>\n      <td>N</td>\n      <td>1551</td>\n      <td>5</td>\n      <td>7</td>\n      <td>20</td>\n      <td>21</td>\n      <td>5</td>\n    </tr>\n    <tr>\n      <th>8</th>\n      <td>id1301050</td>\n      <td>1</td>\n      <td>2016-05-27 23:12:23</td>\n      <td>2016-05-27 23:16:38</td>\n      <td>1</td>\n      <td>-73.999481</td>\n      <td>40.738400</td>\n      <td>-73.985786</td>\n      <td>40.732815</td>\n      <td>N</td>\n      <td>255</td>\n      <td>5</td>\n      <td>23</td>\n      <td>21</td>\n      <td>27</td>\n      <td>4</td>\n    </tr>\n    <tr>\n      <th>9</th>\n      <td>id0012891</td>\n      <td>2</td>\n      <td>2016-03-10 21:45:01</td>\n      <td>2016-03-10 22:05:26</td>\n      <td>1</td>\n      <td>-73.981049</td>\n      <td>40.744339</td>\n      <td>-73.973000</td>\n      <td>40.789989</td>\n      <td>N</td>\n      <td>1225</td>\n      <td>3</td>\n      <td>21</td>\n      <td>10</td>\n      <td>10</td>\n      <td>3</td>\n    </tr>\n  </tbody>\n</table>\n</div>",
       "datasetInfos": [],
       "metadata": {},
       "removedWidgets": [],
       "textData": null,
       "type": "htmlSandbox"
      }
     },
     "output_type": "display_data"
    }
   ],
   "source": [
    "from datetime import datetime\n",
    "taxi['trip_started_weekday'] = taxi['pickup_datetime'].dt.weekday\n",
    "taxi.head(10)"
   ]
  },
  {
   "cell_type": "code",
   "execution_count": 0,
   "metadata": {
    "application/vnd.databricks.v1+cell": {
     "cellMetadata": {
      "byteLimit": 2048000,
      "rowLimit": 10000
     },
     "inputWidgets": {},
     "nuid": "3696d396-cc49-4b40-9697-4784cdedfd7a",
     "showTitle": false,
     "title": ""
    }
   },
   "outputs": [
    {
     "output_type": "display_data",
     "data": {
      "text/html": [
       "<style scoped>\n",
       "  .ansiout {\n",
       "    display: block;\n",
       "    unicode-bidi: embed;\n",
       "    white-space: pre-wrap;\n",
       "    word-wrap: break-word;\n",
       "    word-break: break-all;\n",
       "    font-family: \"Menlo\", \"Monaco\", \"Consolas\", \"Ubuntu Mono\", \"Source Code Pro\", monospace;\n",
       "    font-size: 13px;\n",
       "    color: #555;\n",
       "    margin-left: 4px;\n",
       "    line-height: 19px;\n",
       "  }\n",
       "</style>\n",
       "<div class=\"ansiout\">&lt;command-2156986132222270&gt;:1: FutureWarning: Treating datetime data as categorical rather than numeric in `.describe` is deprecated and will be removed in a future version of pandas. Specify `datetime_is_numeric=True` to silence this warning and adopt the future behavior now.\n",
       "  taxi[&#39;pickup_datetime&#39;].describe()\n",
       "Out[11]: count                 1458644\n",
       "unique                1380222\n",
       "top       2016-04-05 18:55:21\n",
       "freq                        5\n",
       "first     2016-01-01 00:00:17\n",
       "last      2016-06-30 23:59:39\n",
       "Name: pickup_datetime, dtype: object</div>"
      ]
     },
     "metadata": {
      "application/vnd.databricks.v1+output": {
       "addedWidgets": {},
       "arguments": {},
       "data": "<div class=\"ansiout\">&lt;command-2156986132222270&gt;:1: FutureWarning: Treating datetime data as categorical rather than numeric in `.describe` is deprecated and will be removed in a future version of pandas. Specify `datetime_is_numeric=True` to silence this warning and adopt the future behavior now.\n  taxi[&#39;pickup_datetime&#39;].describe()\nOut[11]: count                 1458644\nunique                1380222\ntop       2016-04-05 18:55:21\nfreq                        5\nfirst     2016-01-01 00:00:17\nlast      2016-06-30 23:59:39\nName: pickup_datetime, dtype: object</div>",
       "datasetInfos": [],
       "metadata": {},
       "removedWidgets": [],
       "type": "html"
      }
     },
     "output_type": "display_data"
    }
   ],
   "source": [
    "taxi['pickup_datetime'].describe()"
   ]
  },
  {
   "cell_type": "markdown",
   "metadata": {
    "application/vnd.databricks.v1+cell": {
     "cellMetadata": {},
     "inputWidgets": {},
     "nuid": "583f8c59-b7c5-4df8-bf30-f22193d1bf84",
     "showTitle": false,
     "title": ""
    }
   },
   "source": [
    "**Feature**: If the trip started in an US holiday"
   ]
  },
  {
   "cell_type": "code",
   "execution_count": 0,
   "metadata": {
    "application/vnd.databricks.v1+cell": {
     "cellMetadata": {
      "byteLimit": 2048000,
      "rowLimit": 10000
     },
     "inputWidgets": {},
     "nuid": "bed6d186-d994-476c-96a6-68b8903055f4",
     "showTitle": false,
     "title": ""
    }
   },
   "outputs": [
    {
     "output_type": "display_data",
     "data": {
      "text/html": [
       "<style scoped>\n",
       "  .ansiout {\n",
       "    display: block;\n",
       "    unicode-bidi: embed;\n",
       "    white-space: pre-wrap;\n",
       "    word-wrap: break-word;\n",
       "    word-break: break-all;\n",
       "    font-family: \"Menlo\", \"Monaco\", \"Consolas\", \"Ubuntu Mono\", \"Source Code Pro\", monospace;\n",
       "    font-size: 13px;\n",
       "    color: #555;\n",
       "    margin-left: 4px;\n",
       "    line-height: 19px;\n",
       "  }\n",
       "</style>\n",
       "<div class=\"ansiout\">Python interpreter will be restarted.\n",
       "Requirement already satisfied: holidays in /local_disk0/.ephemeral_nfs/envs/pythonEnv-6d9c5504-b834-4ccd-a94e-1ae08705d5f9/lib/python3.8/site-packages (0.46)\n",
       "Requirement already satisfied: python-dateutil in /databricks/python3/lib/python3.8/site-packages (from holidays) (2.9.0.post0)\n",
       "Requirement already satisfied: six&gt;=1.5 in /databricks/python3/lib/python3.8/site-packages (from python-dateutil-&gt;holidays) (1.15.0)\n",
       "Python interpreter will be restarted.\n",
       "</div>"
      ]
     },
     "metadata": {
      "application/vnd.databricks.v1+output": {
       "addedWidgets": {},
       "arguments": {},
       "data": "<div class=\"ansiout\">Python interpreter will be restarted.\nRequirement already satisfied: holidays in /local_disk0/.ephemeral_nfs/envs/pythonEnv-6d9c5504-b834-4ccd-a94e-1ae08705d5f9/lib/python3.8/site-packages (0.46)\nRequirement already satisfied: python-dateutil in /databricks/python3/lib/python3.8/site-packages (from holidays) (2.9.0.post0)\nRequirement already satisfied: six&gt;=1.5 in /databricks/python3/lib/python3.8/site-packages (from python-dateutil-&gt;holidays) (1.15.0)\nPython interpreter will be restarted.\n</div>",
       "datasetInfos": [],
       "metadata": {},
       "removedWidgets": [],
       "type": "html"
      }
     },
     "output_type": "display_data"
    }
   ],
   "source": [
    "%pip install holidays"
   ]
  },
  {
   "cell_type": "code",
   "execution_count": 0,
   "metadata": {
    "application/vnd.databricks.v1+cell": {
     "cellMetadata": {
      "byteLimit": 2048000,
      "rowLimit": 10000
     },
     "inputWidgets": {},
     "nuid": "dab89380-faf5-4e4c-8bea-a2df7c923129",
     "showTitle": false,
     "title": ""
    }
   },
   "outputs": [
    {
     "output_type": "display_data",
     "data": {
      "text/html": [
       "<style scoped>\n",
       "  .ansiout {\n",
       "    display: block;\n",
       "    unicode-bidi: embed;\n",
       "    white-space: pre-wrap;\n",
       "    word-wrap: break-word;\n",
       "    word-break: break-all;\n",
       "    font-family: \"Menlo\", \"Monaco\", \"Consolas\", \"Ubuntu Mono\", \"Source Code Pro\", monospace;\n",
       "    font-size: 13px;\n",
       "    color: #555;\n",
       "    margin-left: 4px;\n",
       "    line-height: 19px;\n",
       "  }\n",
       "</style>\n",
       "<div class=\"ansiout\">True\n",
       "False\n",
       "New Year&#39;s Day\n",
       "None\n",
       "</div>"
      ]
     },
     "metadata": {
      "application/vnd.databricks.v1+output": {
       "addedWidgets": {},
       "arguments": {},
       "data": "<div class=\"ansiout\">True\nFalse\nNew Year&#39;s Day\nNone\n</div>",
       "datasetInfos": [],
       "metadata": {},
       "removedWidgets": [],
       "type": "html"
      }
     },
     "output_type": "display_data"
    }
   ],
   "source": [
    "import holidays\n",
    "\n",
    "# Select country\n",
    "us_holidays = holidays.US()\n",
    "\n",
    "# If it is a holidays then it returns True else False\n",
    "print('01-01-2016' in us_holidays)\n",
    "print('06-30-2016' in us_holidays)\n",
    "\n",
    "# What holidays is it?\n",
    "print(us_holidays.get('01-01-2016'))\n",
    "print(us_holidays.get('06-30-2016'))"
   ]
  },
  {
   "cell_type": "code",
   "execution_count": 0,
   "metadata": {
    "application/vnd.databricks.v1+cell": {
     "cellMetadata": {
      "byteLimit": 2048000,
      "rowLimit": 10000
     },
     "inputWidgets": {},
     "nuid": "3d283d13-aa5b-4455-b5bd-2b9bbd03c11f",
     "showTitle": false,
     "title": ""
    }
   },
   "outputs": [
    {
     "output_type": "display_data",
     "data": {
      "text/html": [
       "<style scoped>\n",
       "  .ansiout {\n",
       "    display: block;\n",
       "    unicode-bidi: embed;\n",
       "    white-space: pre-wrap;\n",
       "    word-wrap: break-word;\n",
       "    word-break: break-all;\n",
       "    font-family: \"Menlo\", \"Monaco\", \"Consolas\", \"Ubuntu Mono\", \"Source Code Pro\", monospace;\n",
       "    font-size: 13px;\n",
       "    color: #555;\n",
       "    margin-left: 4px;\n",
       "    line-height: 19px;\n",
       "  }\n",
       "</style>\n",
       "<div class=\"ansiout\">(datetime.date(2016, 1, 1), &#34;New Year&#39;s Day&#34;)\n",
       "(datetime.date(2016, 5, 30), &#39;Memorial Day&#39;)\n",
       "(datetime.date(2016, 7, 4), &#39;Independence Day&#39;)\n",
       "(datetime.date(2016, 9, 5), &#39;Labor Day&#39;)\n",
       "(datetime.date(2016, 11, 11), &#39;Veterans Day&#39;)\n",
       "(datetime.date(2016, 11, 24), &#39;Thanksgiving&#39;)\n",
       "(datetime.date(2016, 12, 25), &#39;Christmas Day&#39;)\n",
       "(datetime.date(2016, 12, 26), &#39;Christmas Day (observed)&#39;)\n",
       "(datetime.date(2016, 1, 18), &#39;Martin Luther King Jr. Day&#39;)\n",
       "(datetime.date(2016, 2, 15), &#34;Washington&#39;s Birthday&#34;)\n",
       "(datetime.date(2016, 10, 10), &#39;Columbus Day&#39;)\n",
       "</div>"
      ]
     },
     "metadata": {
      "application/vnd.databricks.v1+output": {
       "addedWidgets": {},
       "arguments": {},
       "data": "<div class=\"ansiout\">(datetime.date(2016, 1, 1), &#34;New Year&#39;s Day&#34;)\n(datetime.date(2016, 5, 30), &#39;Memorial Day&#39;)\n(datetime.date(2016, 7, 4), &#39;Independence Day&#39;)\n(datetime.date(2016, 9, 5), &#39;Labor Day&#39;)\n(datetime.date(2016, 11, 11), &#39;Veterans Day&#39;)\n(datetime.date(2016, 11, 24), &#39;Thanksgiving&#39;)\n(datetime.date(2016, 12, 25), &#39;Christmas Day&#39;)\n(datetime.date(2016, 12, 26), &#39;Christmas Day (observed)&#39;)\n(datetime.date(2016, 1, 18), &#39;Martin Luther King Jr. Day&#39;)\n(datetime.date(2016, 2, 15), &#34;Washington&#39;s Birthday&#34;)\n(datetime.date(2016, 10, 10), &#39;Columbus Day&#39;)\n</div>",
       "datasetInfos": [],
       "metadata": {},
       "removedWidgets": [],
       "type": "html"
      }
     },
     "output_type": "display_data"
    }
   ],
   "source": [
    "# Select country\n",
    "us_holidays = holidays.US()\n",
    "\n",
    "# Print all the holidays in US in year 2018\n",
    "for ptr in holidays.US(years = 2016).items():\n",
    "    print(ptr)"
   ]
  },
  {
   "cell_type": "code",
   "execution_count": 0,
   "metadata": {
    "application/vnd.databricks.v1+cell": {
     "cellMetadata": {},
     "inputWidgets": {},
     "nuid": "33bebe9c-8324-48b5-a1fa-aeb121b8def9",
     "showTitle": false,
     "title": ""
    }
   },
   "outputs": [],
   "source": []
  },
  {
   "cell_type": "markdown",
   "metadata": {
    "application/vnd.databricks.v1+cell": {
     "cellMetadata": {},
     "inputWidgets": {},
     "nuid": "ef1c921d-cfb6-4361-b2cc-155652d9fad7",
     "showTitle": false,
     "title": ""
    }
   },
   "source": [
    "## Coordinates Features"
   ]
  },
  {
   "cell_type": "code",
   "execution_count": 0,
   "metadata": {
    "application/vnd.databricks.v1+cell": {
     "cellMetadata": {
      "byteLimit": 2048000,
      "rowLimit": 10000
     },
     "inputWidgets": {},
     "nuid": "ddae7a30-882a-41f2-b681-b8fe57747063",
     "showTitle": false,
     "title": ""
    }
   },
   "outputs": [
    {
     "output_type": "display_data",
     "data": {
      "text/html": [
       "<style scoped>\n",
       "  .ansiout {\n",
       "    display: block;\n",
       "    unicode-bidi: embed;\n",
       "    white-space: pre-wrap;\n",
       "    word-wrap: break-word;\n",
       "    word-break: break-all;\n",
       "    font-family: \"Menlo\", \"Monaco\", \"Consolas\", \"Ubuntu Mono\", \"Source Code Pro\", monospace;\n",
       "    font-size: 13px;\n",
       "    color: #555;\n",
       "    margin-left: 4px;\n",
       "    line-height: 19px;\n",
       "  }\n",
       "</style>\n",
       "<div class=\"ansiout\">&lt;class &#39;pandas.core.frame.DataFrame&#39;&gt;\n",
       "RangeIndex: 1458644 entries, 0 to 1458643\n",
       "Data columns (total 11 columns):\n",
       " #   Column              Non-Null Count    Dtype  \n",
       "---  ------              --------------    -----  \n",
       " 0   id                  1458644 non-null  object \n",
       " 1   vendor_id           1458644 non-null  int64  \n",
       " 2   pickup_datetime     1458644 non-null  object \n",
       " 3   dropoff_datetime    1458644 non-null  object \n",
       " 4   passenger_count     1458644 non-null  int64  \n",
       " 5   pickup_longitude    1458644 non-null  float64\n",
       " 6   pickup_latitude     1458644 non-null  float64\n",
       " 7   dropoff_longitude   1458644 non-null  float64\n",
       " 8   dropoff_latitude    1458644 non-null  float64\n",
       " 9   store_and_fwd_flag  1458644 non-null  object \n",
       " 10  trip_duration       1458644 non-null  int64  \n",
       "dtypes: float64(4), int64(3), object(4)\n",
       "memory usage: 122.4+ MB\n",
       "</div>"
      ]
     },
     "metadata": {
      "application/vnd.databricks.v1+output": {
       "addedWidgets": {},
       "arguments": {},
       "data": "<div class=\"ansiout\">&lt;class &#39;pandas.core.frame.DataFrame&#39;&gt;\nRangeIndex: 1458644 entries, 0 to 1458643\nData columns (total 11 columns):\n #   Column              Non-Null Count    Dtype  \n---  ------              --------------    -----  \n 0   id                  1458644 non-null  object \n 1   vendor_id           1458644 non-null  int64  \n 2   pickup_datetime     1458644 non-null  object \n 3   dropoff_datetime    1458644 non-null  object \n 4   passenger_count     1458644 non-null  int64  \n 5   pickup_longitude    1458644 non-null  float64\n 6   pickup_latitude     1458644 non-null  float64\n 7   dropoff_longitude   1458644 non-null  float64\n 8   dropoff_latitude    1458644 non-null  float64\n 9   store_and_fwd_flag  1458644 non-null  object \n 10  trip_duration       1458644 non-null  int64  \ndtypes: float64(4), int64(3), object(4)\nmemory usage: 122.4+ MB\n</div>",
       "datasetInfos": [],
       "metadata": {},
       "removedWidgets": [],
       "type": "html"
      }
     },
     "output_type": "display_data"
    }
   ],
   "source": [
    "taxi.info()"
   ]
  },
  {
   "cell_type": "markdown",
   "metadata": {
    "application/vnd.databricks.v1+cell": {
     "cellMetadata": {},
     "inputWidgets": {},
     "nuid": "b2245773-351f-4d7d-8c54-8349a525b60e",
     "showTitle": false,
     "title": ""
    }
   },
   "source": [
    "**Feature**: The distance of a trip"
   ]
  },
  {
   "cell_type": "code",
   "execution_count": 0,
   "metadata": {
    "application/vnd.databricks.v1+cell": {
     "cellMetadata": {},
     "inputWidgets": {},
     "nuid": "819f735f-a11f-46a2-8526-913a507a8a3e",
     "showTitle": false,
     "title": ""
    }
   },
   "outputs": [],
   "source": [
    "taxi['distance'] = taxi['dropoff_longitude']"
   ]
  },
  {
   "cell_type": "markdown",
   "metadata": {
    "application/vnd.databricks.v1+cell": {
     "cellMetadata": {},
     "inputWidgets": {},
     "nuid": "fb31951a-0c9e-43dc-9d60-365242de1abe",
     "showTitle": false,
     "title": ""
    }
   },
   "source": [
    "**Feature**: The speed (in meters per seconds) of a trip"
   ]
  },
  {
   "cell_type": "code",
   "execution_count": 0,
   "metadata": {
    "application/vnd.databricks.v1+cell": {
     "cellMetadata": {},
     "inputWidgets": {},
     "nuid": "f1cc8538-8c93-4c69-a3ec-484f967daa85",
     "showTitle": false,
     "title": ""
    }
   },
   "outputs": [],
   "source": []
  },
  {
   "cell_type": "markdown",
   "metadata": {
    "application/vnd.databricks.v1+cell": {
     "cellMetadata": {},
     "inputWidgets": {},
     "nuid": "86a1b64a-a322-4203-bbfc-d367f68b6458",
     "showTitle": false,
     "title": ""
    }
   },
   "source": [
    "**Feature**: The bearing (in degrees) of a trip"
   ]
  },
  {
   "cell_type": "code",
   "execution_count": 0,
   "metadata": {
    "application/vnd.databricks.v1+cell": {
     "cellMetadata": {},
     "inputWidgets": {},
     "nuid": "622153e2-87c4-431e-9e31-b7ac23c68c25",
     "showTitle": false,
     "title": ""
    }
   },
   "outputs": [],
   "source": []
  },
  {
   "cell_type": "markdown",
   "metadata": {
    "application/vnd.databricks.v1+cell": {
     "cellMetadata": {},
     "inputWidgets": {},
     "nuid": "45bdc656-2943-41ca-b8c9-9f8d9e662702",
     "showTitle": false,
     "title": ""
    }
   },
   "source": [
    "## Analysis"
   ]
  },
  {
   "cell_type": "markdown",
   "metadata": {
    "application/vnd.databricks.v1+cell": {
     "cellMetadata": {},
     "inputWidgets": {},
     "nuid": "c64b716e-33c7-4219-b5b6-86e2ce184e20",
     "showTitle": false,
     "title": ""
    }
   },
   "source": [
    "Check the average time taken by two different vendors vs weekday"
   ]
  },
  {
   "cell_type": "code",
   "execution_count": 0,
   "metadata": {
    "application/vnd.databricks.v1+cell": {
     "cellMetadata": {},
     "inputWidgets": {},
     "nuid": "9b9301f2-ef20-4355-b36f-a0cd36f51c0e",
     "showTitle": false,
     "title": ""
    }
   },
   "outputs": [],
   "source": []
  },
  {
   "cell_type": "markdown",
   "metadata": {
    "application/vnd.databricks.v1+cell": {
     "cellMetadata": {},
     "inputWidgets": {},
     "nuid": "b8f27d49-258d-4e71-afa2-2f3dc80156a5",
     "showTitle": false,
     "title": ""
    }
   },
   "source": [
    "Check the distributions between passenger_count and trip_duration for each vendor_id"
   ]
  },
  {
   "cell_type": "code",
   "execution_count": 0,
   "metadata": {
    "application/vnd.databricks.v1+cell": {
     "cellMetadata": {},
     "inputWidgets": {},
     "nuid": "216ccd9b-b609-4a17-998f-f7c4c663a0e2",
     "showTitle": false,
     "title": ""
    }
   },
   "outputs": [],
   "source": []
  },
  {
   "cell_type": "markdown",
   "metadata": {
    "application/vnd.databricks.v1+cell": {
     "cellMetadata": {},
     "inputWidgets": {},
     "nuid": "88b1a919-aaca-4ae3-8eb7-c630c868eb0b",
     "showTitle": false,
     "title": ""
    }
   },
   "source": [
    "Check the average speed by vender per day of the week"
   ]
  },
  {
   "cell_type": "code",
   "execution_count": 0,
   "metadata": {
    "application/vnd.databricks.v1+cell": {
     "cellMetadata": {},
     "inputWidgets": {},
     "nuid": "d6228d19-c061-41a2-ab6e-39ad5ac8a68a",
     "showTitle": false,
     "title": ""
    }
   },
   "outputs": [],
   "source": []
  },
  {
   "cell_type": "markdown",
   "metadata": {
    "application/vnd.databricks.v1+cell": {
     "cellMetadata": {},
     "inputWidgets": {},
     "nuid": "192758fd-d849-4f65-bab1-0a363564330b",
     "showTitle": false,
     "title": ""
    }
   },
   "source": [
    "Check the average speed by vendor per hour of the day"
   ]
  },
  {
   "cell_type": "code",
   "execution_count": 0,
   "metadata": {
    "application/vnd.databricks.v1+cell": {
     "cellMetadata": {},
     "inputWidgets": {},
     "nuid": "bdc35968-8255-46b7-a016-254bb11db760",
     "showTitle": false,
     "title": ""
    }
   },
   "outputs": [],
   "source": []
  },
  {
   "cell_type": "markdown",
   "metadata": {
    "application/vnd.databricks.v1+cell": {
     "cellMetadata": {},
     "inputWidgets": {},
     "nuid": "c82cf76e-de00-4783-9d59-74bae9be710b",
     "showTitle": false,
     "title": ""
    }
   },
   "source": [
    "Check the distribution of average speed per hour of a day and day of a week"
   ]
  },
  {
   "cell_type": "code",
   "execution_count": 0,
   "metadata": {
    "application/vnd.databricks.v1+cell": {
     "cellMetadata": {},
     "inputWidgets": {},
     "nuid": "7220e603-af36-4697-a5b3-6c2a9fab090f",
     "showTitle": false,
     "title": ""
    }
   },
   "outputs": [],
   "source": []
  }
 ],
 "metadata": {
  "application/vnd.databricks.v1+notebook": {
   "dashboards": [],
   "language": "python",
   "notebookMetadata": {
    "pythonIndentUnit": 2
   },
   "notebookName": "Challenge_week2",
   "widgets": {}
  },
  "kernelspec": {
   "display_name": "Python 3",
   "language": "python",
   "name": "python3"
  },
  "language_info": {
   "codemirror_mode": {
    "name": "ipython",
    "version": 3
   },
   "file_extension": ".py",
   "mimetype": "text/x-python",
   "name": "python",
   "nbconvert_exporter": "python",
   "pygments_lexer": "ipython3",
   "version": "3.8.8"
  }
 },
 "nbformat": 4,
 "nbformat_minor": 0
}
