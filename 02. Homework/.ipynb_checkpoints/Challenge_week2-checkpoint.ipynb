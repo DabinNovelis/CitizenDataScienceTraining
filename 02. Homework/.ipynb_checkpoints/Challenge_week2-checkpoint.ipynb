{
 "cells": [
  {
   "cell_type": "markdown",
   "metadata": {
    "application/vnd.databricks.v1+cell": {
     "cellMetadata": {},
     "inputWidgets": {},
     "nuid": "8f7f2ce2-a8b4-44be-b33c-b560a187e6cc",
     "showTitle": false,
     "title": ""
    }
   },
   "source": [
    "# Challenge - Week 2"
   ]
  },
  {
   "cell_type": "markdown",
   "metadata": {
    "application/vnd.databricks.v1+cell": {
     "cellMetadata": {},
     "inputWidgets": {},
     "nuid": "a8e72f13-c9b9-4f04-8be4-ff8efe4ba453",
     "showTitle": false,
     "title": ""
    }
   },
   "source": [
    "The dataset ***taxi_trip.csv*** contains the total ride duration of taxi trips in New York City. \n",
    "\n",
    "Path: /dbfs/FileStore/CDS2024/taxi_trip.csv\n",
    "\n",
    "Below you can find the description of each column in the dataset:"
   ]
  },
  {
   "cell_type": "markdown",
   "metadata": {
    "application/vnd.databricks.v1+cell": {
     "cellMetadata": {},
     "inputWidgets": {},
     "nuid": "67e6cafe-c82b-4e36-abd8-6a3d606ffc39",
     "showTitle": false,
     "title": ""
    }
   },
   "source": [
    "* **id** - a unique identifier for each trip\n",
    "* **vendor_id** - a code indicating the provider associated with the trip record\n",
    "* **pickup_datetime** - date and time when the meter was engaged\n",
    "* **dropoff_datetime** - date and time when the meter was disengaged\n",
    "* **passenger_count** - the number of passengers in the vehicle (driver entered value)\n",
    "* **pickup_longitude** - the longitude where the meter was engaged\n",
    "* **pickup_latitude** - the latitude where the meter was engaged\n",
    "* **dropoff_longitude** - the longitude where the meter was disengaged\n",
    "* **dropoff_latitude** - the latitude where the meter was disengaged\n",
    "* **store_and_fwd_flag** - This flag indicates whether the trip record was held in vehicle memory before sending to the vendor because the vehicle did not have a connection to the server - Y=store and forward; N=not a store and forward trip\n",
    "* **trip_duration** - duration of the trip in seconds"
   ]
  },
  {
   "cell_type": "markdown",
   "metadata": {
    "application/vnd.databricks.v1+cell": {
     "cellMetadata": {},
     "inputWidgets": {},
     "nuid": "b0168808-3daa-4f79-9351-d8daf8ea3873",
     "showTitle": false,
     "title": ""
    }
   },
   "source": [
    "## Goals: Create new features from existing columns in the dataset and plot some analysis"
   ]
  },
  {
   "cell_type": "markdown",
   "metadata": {
    "application/vnd.databricks.v1+cell": {
     "cellMetadata": {},
     "inputWidgets": {},
     "nuid": "405ce770-25c3-48ca-8a50-5c0c70b20bb2",
     "showTitle": false,
     "title": ""
    }
   },
   "source": [
    "The new feaures you will need to create are:\n",
    "\n",
    "* Datetimes features\n",
    "    * The **month** when a trip started\n",
    "    * The **hour** when a trip started\n",
    "    * The **week of the year** when a trip started\n",
    "    * The **day of the year** when a trip started\n",
    "    * The **day of the week** when a trip started\n",
    "    * If the trip started in an **USA holiday**\n",
    "\n",
    "\n",
    "* Coordinates features\n",
    "    * The **distances** from/to two near airports\n",
    "    * The **distance** of a trip\n",
    "    * The **speed** (in meters per seconds) of a trip\n",
    "    * The **bearing** (in degrees) of a trip - Hint: https://mapscaping.com/how-to-calculate-bearing-between-two-coordinates/"
   ]
  },
  {
   "cell_type": "markdown",
   "metadata": {
    "application/vnd.databricks.v1+cell": {
     "cellMetadata": {},
     "inputWidgets": {},
     "nuid": "b313b6a5-29af-490d-9a85-d6edebfa49be",
     "showTitle": false,
     "title": ""
    }
   },
   "source": [
    "**Tip:** Use geopy library to calculate the distance between two coordinates"
   ]
  },
  {
   "cell_type": "markdown",
   "metadata": {
    "application/vnd.databricks.v1+cell": {
     "cellMetadata": {},
     "inputWidgets": {},
     "nuid": "57301ad2-2830-477f-9394-177000c1476d",
     "showTitle": false,
     "title": ""
    }
   },
   "source": [
    "### After creating the new features, do the analysis bellow:\n",
    "\n",
    "* Check the average time taken by two different vendors vs weekday\n",
    "* Check the distributions between passenger_count and trip_duration for each vendor_id\n",
    "* Check the average speed by vender per day of the week\n",
    "* Check the average speed by vendor per hour of the week\n",
    "* Check the distribution of average speed per hour of a day and day of a week"
   ]
  },
  {
   "cell_type": "markdown",
   "metadata": {
    "application/vnd.databricks.v1+cell": {
     "cellMetadata": {},
     "inputWidgets": {},
     "nuid": "0a41d024-d7b1-4af5-87c9-0910b0957c56",
     "showTitle": false,
     "title": ""
    }
   },
   "source": [
    "**Tip:** Use the next two cells to install/import useful libraries for this challenge."
   ]
  },
  {
   "cell_type": "code",
   "execution_count": 0,
   "metadata": {
    "application/vnd.databricks.v1+cell": {
     "cellMetadata": {
      "byteLimit": 2048000,
      "rowLimit": 10000
     },
     "inputWidgets": {},
     "nuid": "ef62a51e-4008-4426-a441-90a927094127",
     "showTitle": false,
     "title": ""
    }
   },
   "outputs": [],
   "source": [
    "%pip install -U geopy"
   ]
  },
  {
   "cell_type": "code",
   "execution_count": 0,
   "metadata": {
    "ExecuteTime": {
     "end_time": "2023-04-19T22:00:33.347526Z",
     "start_time": "2023-04-19T22:00:30.718708Z"
    },
    "application/vnd.databricks.v1+cell": {
     "cellMetadata": {
      "byteLimit": 2048000,
      "rowLimit": 10000
     },
     "inputWidgets": {},
     "nuid": "4af8e972-7984-4820-ae8f-88b58aa46c5f",
     "showTitle": false,
     "title": ""
    }
   },
   "outputs": [],
   "source": [
    "from pandas.tseries.holiday import USFederalHolidayCalendar as calendar\n",
    "from geopy import distance\n",
    "import matplotlib.pyplot as plt\n",
    "import seaborn as sns\n",
    "import pandas as pd\n",
    "import numpy as np"
   ]
  },
  {
   "cell_type": "markdown",
   "metadata": {
    "application/vnd.databricks.v1+cell": {
     "cellMetadata": {},
     "inputWidgets": {},
     "nuid": "c0acb463-0fab-4e1e-b7b7-beb36a039f54",
     "showTitle": false,
     "title": ""
    }
   },
   "source": [
    "# Let's start"
   ]
  },
  {
   "cell_type": "markdown",
   "metadata": {
    "application/vnd.databricks.v1+cell": {
     "cellMetadata": {},
     "inputWidgets": {},
     "nuid": "874f3d50-2180-4553-9d64-3cd656d72d9f",
     "showTitle": false,
     "title": ""
    }
   },
   "source": [
    "Read the dataset with pandas. Path: /dbfs/FileStore/CDS2023/taxi_trip.csv"
   ]
  },
  {
   "cell_type": "code",
   "execution_count": 0,
   "metadata": {
    "application/vnd.databricks.v1+cell": {
     "cellMetadata": {},
     "inputWidgets": {},
     "nuid": "bae105d0-8f94-4b47-993f-5b80486970bf",
     "showTitle": false,
     "title": ""
    }
   },
   "outputs": [],
   "source": []
  },
  {
   "cell_type": "markdown",
   "metadata": {
    "application/vnd.databricks.v1+cell": {
     "cellMetadata": {},
     "inputWidgets": {},
     "nuid": "1403a826-b6f0-44bf-a757-862c48e71d41",
     "showTitle": false,
     "title": ""
    }
   },
   "source": [
    "# Create the new features"
   ]
  },
  {
   "cell_type": "markdown",
   "metadata": {
    "application/vnd.databricks.v1+cell": {
     "cellMetadata": {},
     "inputWidgets": {},
     "nuid": "ba9622ea-3864-40e3-b8bf-9ea56d05cd19",
     "showTitle": false,
     "title": ""
    }
   },
   "source": [
    "## Datetime Features"
   ]
  },
  {
   "cell_type": "markdown",
   "metadata": {
    "application/vnd.databricks.v1+cell": {
     "cellMetadata": {},
     "inputWidgets": {},
     "nuid": "6178cbab-1789-40f0-acef-7b17dd6da698",
     "showTitle": false,
     "title": ""
    }
   },
   "source": [
    "**Feature**: The month when a trip started"
   ]
  },
  {
   "cell_type": "code",
   "execution_count": 0,
   "metadata": {
    "application/vnd.databricks.v1+cell": {
     "cellMetadata": {},
     "inputWidgets": {},
     "nuid": "7b37c03f-fafd-447b-8607-f301dcdfdd5c",
     "showTitle": false,
     "title": ""
    }
   },
   "outputs": [],
   "source": []
  },
  {
   "cell_type": "markdown",
   "metadata": {
    "application/vnd.databricks.v1+cell": {
     "cellMetadata": {},
     "inputWidgets": {},
     "nuid": "d94e53f8-9e30-4d1f-932b-cdc70245cfa1",
     "showTitle": false,
     "title": ""
    }
   },
   "source": [
    "**Feature**: The hour when a trip started"
   ]
  },
  {
   "cell_type": "code",
   "execution_count": 0,
   "metadata": {
    "application/vnd.databricks.v1+cell": {
     "cellMetadata": {},
     "inputWidgets": {},
     "nuid": "c06f8e4f-d677-4ab3-895c-b329ea5271a2",
     "showTitle": false,
     "title": ""
    }
   },
   "outputs": [],
   "source": []
  },
  {
   "cell_type": "markdown",
   "metadata": {
    "application/vnd.databricks.v1+cell": {
     "cellMetadata": {},
     "inputWidgets": {},
     "nuid": "894f4ebc-1616-422a-84f3-3ba6d648535f",
     "showTitle": false,
     "title": ""
    }
   },
   "source": [
    "**Feature**: The week of the year when a trip started"
   ]
  },
  {
   "cell_type": "code",
   "execution_count": 0,
   "metadata": {
    "application/vnd.databricks.v1+cell": {
     "cellMetadata": {},
     "inputWidgets": {},
     "nuid": "97737a34-87b8-411c-b30d-6cb676a35f08",
     "showTitle": false,
     "title": ""
    }
   },
   "outputs": [],
   "source": []
  },
  {
   "cell_type": "markdown",
   "metadata": {
    "application/vnd.databricks.v1+cell": {
     "cellMetadata": {},
     "inputWidgets": {},
     "nuid": "1f5cdceb-5efd-4db5-aeaf-2a217e8c9e35",
     "showTitle": false,
     "title": ""
    }
   },
   "source": [
    "**Feature**: The day of the year when a trip started"
   ]
  },
  {
   "cell_type": "code",
   "execution_count": 0,
   "metadata": {
    "application/vnd.databricks.v1+cell": {
     "cellMetadata": {},
     "inputWidgets": {},
     "nuid": "34ffed3c-f140-47e9-81f0-56ce1edce2f6",
     "showTitle": false,
     "title": ""
    }
   },
   "outputs": [],
   "source": []
  },
  {
   "cell_type": "markdown",
   "metadata": {
    "application/vnd.databricks.v1+cell": {
     "cellMetadata": {},
     "inputWidgets": {},
     "nuid": "0e165400-7952-4351-8d8e-ad05d29bb7b2",
     "showTitle": false,
     "title": ""
    }
   },
   "source": [
    "**Feature**: The day of the week when a trip started"
   ]
  },
  {
   "cell_type": "code",
   "execution_count": 0,
   "metadata": {
    "application/vnd.databricks.v1+cell": {
     "cellMetadata": {},
     "inputWidgets": {},
     "nuid": "34fe8fe4-4d0c-4e40-9abe-bc6a20a71aea",
     "showTitle": false,
     "title": ""
    }
   },
   "outputs": [],
   "source": []
  },
  {
   "cell_type": "markdown",
   "metadata": {
    "application/vnd.databricks.v1+cell": {
     "cellMetadata": {},
     "inputWidgets": {},
     "nuid": "583f8c59-b7c5-4df8-bf30-f22193d1bf84",
     "showTitle": false,
     "title": ""
    }
   },
   "source": [
    "**Feature**: If the trip started in an US holiday"
   ]
  },
  {
   "cell_type": "code",
   "execution_count": 0,
   "metadata": {
    "application/vnd.databricks.v1+cell": {
     "cellMetadata": {},
     "inputWidgets": {},
     "nuid": "34dffffa-2174-4287-905b-99c7d72d380c",
     "showTitle": false,
     "title": ""
    }
   },
   "outputs": [],
   "source": []
  },
  {
   "cell_type": "markdown",
   "metadata": {
    "application/vnd.databricks.v1+cell": {
     "cellMetadata": {},
     "inputWidgets": {},
     "nuid": "097611b6-e9bc-4f6e-ae46-62798945a4c0",
     "showTitle": false,
     "title": ""
    }
   },
   "source": [
    "## Coordinates Features"
   ]
  },
  {
   "cell_type": "markdown",
   "metadata": {
    "application/vnd.databricks.v1+cell": {
     "cellMetadata": {},
     "inputWidgets": {},
     "nuid": "b2245773-351f-4d7d-8c54-8349a525b60e",
     "showTitle": false,
     "title": ""
    }
   },
   "source": [
    "**Feature**: The distance of a trip"
   ]
  },
  {
   "cell_type": "code",
   "execution_count": 0,
   "metadata": {
    "application/vnd.databricks.v1+cell": {
     "cellMetadata": {},
     "inputWidgets": {},
     "nuid": "819f735f-a11f-46a2-8526-913a507a8a3e",
     "showTitle": false,
     "title": ""
    }
   },
   "outputs": [],
   "source": []
  },
  {
   "cell_type": "markdown",
   "metadata": {
    "application/vnd.databricks.v1+cell": {
     "cellMetadata": {},
     "inputWidgets": {},
     "nuid": "fb31951a-0c9e-43dc-9d60-365242de1abe",
     "showTitle": false,
     "title": ""
    }
   },
   "source": [
    "**Feature**: The speed (in meters per seconds) of a trip"
   ]
  },
  {
   "cell_type": "code",
   "execution_count": 0,
   "metadata": {
    "application/vnd.databricks.v1+cell": {
     "cellMetadata": {},
     "inputWidgets": {},
     "nuid": "f1cc8538-8c93-4c69-a3ec-484f967daa85",
     "showTitle": false,
     "title": ""
    }
   },
   "outputs": [],
   "source": []
  },
  {
   "cell_type": "markdown",
   "metadata": {
    "application/vnd.databricks.v1+cell": {
     "cellMetadata": {},
     "inputWidgets": {},
     "nuid": "86a1b64a-a322-4203-bbfc-d367f68b6458",
     "showTitle": false,
     "title": ""
    }
   },
   "source": [
    "**Feature**: The bearing (in degrees) of a trip"
   ]
  },
  {
   "cell_type": "code",
   "execution_count": 0,
   "metadata": {
    "application/vnd.databricks.v1+cell": {
     "cellMetadata": {},
     "inputWidgets": {},
     "nuid": "622153e2-87c4-431e-9e31-b7ac23c68c25",
     "showTitle": false,
     "title": ""
    }
   },
   "outputs": [],
   "source": []
  },
  {
   "cell_type": "markdown",
   "metadata": {
    "application/vnd.databricks.v1+cell": {
     "cellMetadata": {},
     "inputWidgets": {},
     "nuid": "45bdc656-2943-41ca-b8c9-9f8d9e662702",
     "showTitle": false,
     "title": ""
    }
   },
   "source": [
    "## Analysis"
   ]
  },
  {
   "cell_type": "markdown",
   "metadata": {
    "application/vnd.databricks.v1+cell": {
     "cellMetadata": {},
     "inputWidgets": {},
     "nuid": "c64b716e-33c7-4219-b5b6-86e2ce184e20",
     "showTitle": false,
     "title": ""
    }
   },
   "source": [
    "Check the average time taken by two different vendors vs weekday"
   ]
  },
  {
   "cell_type": "code",
   "execution_count": 0,
   "metadata": {
    "application/vnd.databricks.v1+cell": {
     "cellMetadata": {},
     "inputWidgets": {},
     "nuid": "9b9301f2-ef20-4355-b36f-a0cd36f51c0e",
     "showTitle": false,
     "title": ""
    }
   },
   "outputs": [],
   "source": []
  },
  {
   "cell_type": "markdown",
   "metadata": {
    "application/vnd.databricks.v1+cell": {
     "cellMetadata": {},
     "inputWidgets": {},
     "nuid": "b8f27d49-258d-4e71-afa2-2f3dc80156a5",
     "showTitle": false,
     "title": ""
    }
   },
   "source": [
    "Check the distributions between passenger_count and trip_duration for each vendor_id"
   ]
  },
  {
   "cell_type": "code",
   "execution_count": 0,
   "metadata": {
    "application/vnd.databricks.v1+cell": {
     "cellMetadata": {},
     "inputWidgets": {},
     "nuid": "216ccd9b-b609-4a17-998f-f7c4c663a0e2",
     "showTitle": false,
     "title": ""
    }
   },
   "outputs": [],
   "source": []
  },
  {
   "cell_type": "markdown",
   "metadata": {
    "application/vnd.databricks.v1+cell": {
     "cellMetadata": {},
     "inputWidgets": {},
     "nuid": "88b1a919-aaca-4ae3-8eb7-c630c868eb0b",
     "showTitle": false,
     "title": ""
    }
   },
   "source": [
    "Check the average speed by vender per day of the week"
   ]
  },
  {
   "cell_type": "code",
   "execution_count": 0,
   "metadata": {
    "application/vnd.databricks.v1+cell": {
     "cellMetadata": {},
     "inputWidgets": {},
     "nuid": "d6228d19-c061-41a2-ab6e-39ad5ac8a68a",
     "showTitle": false,
     "title": ""
    }
   },
   "outputs": [],
   "source": []
  },
  {
   "cell_type": "markdown",
   "metadata": {
    "application/vnd.databricks.v1+cell": {
     "cellMetadata": {},
     "inputWidgets": {},
     "nuid": "192758fd-d849-4f65-bab1-0a363564330b",
     "showTitle": false,
     "title": ""
    }
   },
   "source": [
    "Check the average speed by vendor per hour of the day"
   ]
  },
  {
   "cell_type": "code",
   "execution_count": 0,
   "metadata": {
    "application/vnd.databricks.v1+cell": {
     "cellMetadata": {},
     "inputWidgets": {},
     "nuid": "bdc35968-8255-46b7-a016-254bb11db760",
     "showTitle": false,
     "title": ""
    }
   },
   "outputs": [],
   "source": []
  },
  {
   "cell_type": "markdown",
   "metadata": {
    "application/vnd.databricks.v1+cell": {
     "cellMetadata": {},
     "inputWidgets": {},
     "nuid": "c82cf76e-de00-4783-9d59-74bae9be710b",
     "showTitle": false,
     "title": ""
    }
   },
   "source": [
    "Check the distribution of average speed per hour of a day and day of a week"
   ]
  },
  {
   "cell_type": "code",
   "execution_count": 0,
   "metadata": {
    "application/vnd.databricks.v1+cell": {
     "cellMetadata": {},
     "inputWidgets": {},
     "nuid": "7220e603-af36-4697-a5b3-6c2a9fab090f",
     "showTitle": false,
     "title": ""
    }
   },
   "outputs": [],
   "source": []
  }
 ],
 "metadata": {
  "application/vnd.databricks.v1+notebook": {
   "dashboards": [],
   "language": "python",
   "notebookMetadata": {
    "pythonIndentUnit": 2
   },
   "notebookName": "Challenge_week2",
   "widgets": {}
  },
  "kernelspec": {
   "display_name": "Python 3",
   "language": "python",
   "name": "python3"
  },
  "language_info": {
   "codemirror_mode": {
    "name": "ipython",
    "version": 3
   },
   "file_extension": ".py",
   "mimetype": "text/x-python",
   "name": "python",
   "nbconvert_exporter": "python",
   "pygments_lexer": "ipython3",
   "version": "3.8.8"
  }
 },
 "nbformat": 4,
 "nbformat_minor": 0
}
