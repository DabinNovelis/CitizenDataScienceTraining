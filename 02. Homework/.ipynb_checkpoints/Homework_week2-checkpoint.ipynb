{
 "cells": [
  {
   "cell_type": "markdown",
   "metadata": {
    "application/vnd.databricks.v1+cell": {
     "cellMetadata": {},
     "inputWidgets": {},
     "nuid": "3e29a7e6-0e96-4038-97dc-2485af4f1f68",
     "showTitle": false,
     "title": ""
    }
   },
   "source": [
    "# Homework - Week 2"
   ]
  },
  {
   "cell_type": "code",
   "execution_count": 0,
   "metadata": {
    "ExecuteTime": {
     "end_time": "2023-04-19T17:02:52.271712Z",
     "start_time": "2023-04-19T17:02:49.529804Z"
    },
    "application/vnd.databricks.v1+cell": {
     "cellMetadata": {},
     "inputWidgets": {},
     "nuid": "cabb8372-f6a1-49e2-b33d-e0e38299548e",
     "showTitle": false,
     "title": ""
    }
   },
   "outputs": [],
   "source": [
    "from sklearn.impute import SimpleImputer\n",
    "from scipy import stats\n",
    "\n",
    "import matplotlib.pyplot as plt\n",
    "import seaborn as sns\n",
    "import pandas as pd\n",
    "import numpy as np"
   ]
  },
  {
   "cell_type": "code",
   "execution_count": 0,
   "metadata": {
    "ExecuteTime": {
     "end_time": "2023-04-19T17:02:52.287833Z",
     "start_time": "2023-04-19T17:02:52.273592Z"
    },
    "application/vnd.databricks.v1+cell": {
     "cellMetadata": {},
     "inputWidgets": {},
     "nuid": "c2ef0dc5-5eb2-4406-a57a-23bcef1461f8",
     "showTitle": false,
     "title": ""
    }
   },
   "outputs": [],
   "source": [
    "plt.rcParams[\"figure.figsize\"] = (18, 8)\n",
    "pd.set_option('max.columns', None)"
   ]
  },
  {
   "cell_type": "markdown",
   "metadata": {
    "application/vnd.databricks.v1+cell": {
     "cellMetadata": {},
     "inputWidgets": {},
     "nuid": "c255c26f-4bd3-4777-8643-48ea37eeb063",
     "showTitle": false,
     "title": ""
    }
   },
   "source": [
    "# EDA + Seaborn\n",
    "\n",
    "Read the dataset heart_disease.csv using pandas. Path: /dbfs/FileStore/CDS2024/heart_disease.csv"
   ]
  },
  {
   "cell_type": "code",
   "execution_count": 0,
   "metadata": {
    "application/vnd.databricks.v1+cell": {
     "cellMetadata": {},
     "inputWidgets": {},
     "nuid": "4f404952-75f2-4da4-a092-647da7b3addc",
     "showTitle": false,
     "title": ""
    }
   },
   "outputs": [],
   "source": []
  },
  {
   "cell_type": "markdown",
   "metadata": {
    "application/vnd.databricks.v1+cell": {
     "cellMetadata": {},
     "inputWidgets": {},
     "nuid": "8f61a70e-125e-4a01-90f6-bd1ecafc3227",
     "showTitle": false,
     "title": ""
    }
   },
   "source": [
    "### Are there any missing values in dataset? How many missing values are there in each dataset column?\n",
    "\n",
    "Use seaborn to plot if there are any missing values and use pandas to count the number of missing values in each column"
   ]
  },
  {
   "cell_type": "code",
   "execution_count": 0,
   "metadata": {
    "application/vnd.databricks.v1+cell": {
     "cellMetadata": {},
     "inputWidgets": {},
     "nuid": "36ff002a-6c89-4eb4-accc-81bace8a10ba",
     "showTitle": false,
     "title": ""
    }
   },
   "outputs": [],
   "source": []
  },
  {
   "cell_type": "markdown",
   "metadata": {
    "application/vnd.databricks.v1+cell": {
     "cellMetadata": {},
     "inputWidgets": {},
     "nuid": "525c0b18-7f17-4c34-ba2c-ad3bd585b917",
     "showTitle": false,
     "title": ""
    }
   },
   "source": [
    "### What is the distribution of target variable \"target\"?\n",
    "\n",
    "Use seaborn library to show the result and panda functions to show the result in percentage"
   ]
  },
  {
   "cell_type": "code",
   "execution_count": 0,
   "metadata": {
    "application/vnd.databricks.v1+cell": {
     "cellMetadata": {},
     "inputWidgets": {},
     "nuid": "8acdd5c8-a8be-440b-aa1b-9a2ff9628b44",
     "showTitle": false,
     "title": ""
    }
   },
   "outputs": [],
   "source": []
  },
  {
   "cell_type": "markdown",
   "metadata": {
    "application/vnd.databricks.v1+cell": {
     "cellMetadata": {},
     "inputWidgets": {},
     "nuid": "f6276e0c-2e6f-40d5-b8bc-bb6079500b59",
     "showTitle": false,
     "title": ""
    }
   },
   "source": [
    "### What is the age distribution of the patients in the dataset? \n",
    "\n",
    "Plot a histogram of age distribution using seaborn"
   ]
  },
  {
   "cell_type": "code",
   "execution_count": 0,
   "metadata": {
    "application/vnd.databricks.v1+cell": {
     "cellMetadata": {},
     "inputWidgets": {},
     "nuid": "5c730f78-9c86-42b0-9bb1-d8bc2d8bdfc4",
     "showTitle": false,
     "title": ""
    }
   },
   "outputs": [],
   "source": []
  },
  {
   "cell_type": "markdown",
   "metadata": {
    "application/vnd.databricks.v1+cell": {
     "cellMetadata": {},
     "inputWidgets": {},
     "nuid": "fc25ac6f-c18a-4c97-a7f9-b63b09ee6a6d",
     "showTitle": false,
     "title": ""
    }
   },
   "source": [
    "### What are the basic statistics of the age column by each target variable?\n",
    "Use pandas to group the target variable and calculate the descriptive statistics"
   ]
  },
  {
   "cell_type": "code",
   "execution_count": 0,
   "metadata": {
    "application/vnd.databricks.v1+cell": {
     "cellMetadata": {},
     "inputWidgets": {},
     "nuid": "4192775c-c528-4349-9bfa-d4f3916ced83",
     "showTitle": false,
     "title": ""
    }
   },
   "outputs": [],
   "source": []
  },
  {
   "cell_type": "markdown",
   "metadata": {
    "application/vnd.databricks.v1+cell": {
     "cellMetadata": {},
     "inputWidgets": {},
     "nuid": "ac13f676-2d44-4245-8c5a-ad59735e6d29",
     "showTitle": false,
     "title": ""
    }
   },
   "source": [
    "### Is there any correlation between age and thalach columns? \n",
    "Create a heatmap of the correlation matrix to show the result"
   ]
  },
  {
   "cell_type": "code",
   "execution_count": 0,
   "metadata": {
    "application/vnd.databricks.v1+cell": {
     "cellMetadata": {},
     "inputWidgets": {},
     "nuid": "00df68fe-a572-406f-a94f-851efcb46f2f",
     "showTitle": false,
     "title": ""
    }
   },
   "outputs": [],
   "source": []
  },
  {
   "cell_type": "markdown",
   "metadata": {
    "application/vnd.databricks.v1+cell": {
     "cellMetadata": {},
     "inputWidgets": {},
     "nuid": "554b2562-2e1d-4027-a0a2-03b388a983e5",
     "showTitle": false,
     "title": ""
    }
   },
   "source": [
    "### What is the distribution of thalach column for patients with and without heart disease? \n",
    "Use a boxplot to visualize the distribution"
   ]
  },
  {
   "cell_type": "code",
   "execution_count": 0,
   "metadata": {
    "application/vnd.databricks.v1+cell": {
     "cellMetadata": {},
     "inputWidgets": {},
     "nuid": "54b9aab7-b6e5-46b4-b161-80ce8a45ba01",
     "showTitle": false,
     "title": ""
    }
   },
   "outputs": [],
   "source": []
  },
  {
   "cell_type": "markdown",
   "metadata": {
    "application/vnd.databricks.v1+cell": {
     "cellMetadata": {},
     "inputWidgets": {},
     "nuid": "b68dda2a-4bae-4b36-814b-54280edefdf8",
     "showTitle": false,
     "title": ""
    }
   },
   "source": [
    "### What is the relationship between age and chol columns?\n",
    "Use a hexplot to visualize the relationship"
   ]
  },
  {
   "cell_type": "code",
   "execution_count": 0,
   "metadata": {
    "application/vnd.databricks.v1+cell": {
     "cellMetadata": {},
     "inputWidgets": {},
     "nuid": "c3f9979d-4403-4a24-b652-3f1904a0398b",
     "showTitle": false,
     "title": ""
    }
   },
   "outputs": [],
   "source": []
  },
  {
   "cell_type": "markdown",
   "metadata": {
    "application/vnd.databricks.v1+cell": {
     "cellMetadata": {},
     "inputWidgets": {},
     "nuid": "11873885-440f-41c9-860f-8c3dab908990",
     "showTitle": false,
     "title": ""
    }
   },
   "source": [
    "### Is there any difference in mean age of patients with different chest pain types? \n",
    "Perform an ANOVA test and plot the results using seaborn"
   ]
  },
  {
   "cell_type": "code",
   "execution_count": 0,
   "metadata": {
    "application/vnd.databricks.v1+cell": {
     "cellMetadata": {},
     "inputWidgets": {},
     "nuid": "18e7722c-13fc-4ce4-a0ce-3b4ef00cf7da",
     "showTitle": false,
     "title": ""
    }
   },
   "outputs": [],
   "source": []
  },
  {
   "cell_type": "markdown",
   "metadata": {
    "application/vnd.databricks.v1+cell": {
     "cellMetadata": {},
     "inputWidgets": {},
     "nuid": "8cee5092-cd3b-4056-a57b-3521451b231d",
     "showTitle": false,
     "title": ""
    }
   },
   "source": [
    "# Feature engineering\n",
    "\n",
    "Read the dataset house_price.csv using pandas. Path: /dbfs/FileStore/CDS2024/houseprice.csv"
   ]
  },
  {
   "cell_type": "code",
   "execution_count": 0,
   "metadata": {
    "application/vnd.databricks.v1+cell": {
     "cellMetadata": {},
     "inputWidgets": {},
     "nuid": "c93333cb-c231-4d40-bcef-069cd9e03c1f",
     "showTitle": false,
     "title": ""
    }
   },
   "outputs": [],
   "source": []
  },
  {
   "cell_type": "markdown",
   "metadata": {
    "application/vnd.databricks.v1+cell": {
     "cellMetadata": {},
     "inputWidgets": {},
     "nuid": "331b2595-840a-4fb1-a0ed-a9092a3c035c",
     "showTitle": false,
     "title": ""
    }
   },
   "source": [
    "### Explore the dataset using pandas. Are there any missing values? How many missing values are there in each feature? \n",
    "Use seaborn library to plot the results. "
   ]
  },
  {
   "cell_type": "code",
   "execution_count": 0,
   "metadata": {
    "application/vnd.databricks.v1+cell": {
     "cellMetadata": {},
     "inputWidgets": {},
     "nuid": "da4f5084-f5a0-4a9e-8ee3-02bdf137055f",
     "showTitle": false,
     "title": ""
    }
   },
   "outputs": [],
   "source": []
  },
  {
   "cell_type": "markdown",
   "metadata": {
    "application/vnd.databricks.v1+cell": {
     "cellMetadata": {},
     "inputWidgets": {},
     "nuid": "aacef50d-52da-401f-af76-622309a6cfe4",
     "showTitle": false,
     "title": ""
    }
   },
   "source": [
    "### Implement univariate imputation to handle missing values in the dataset.\n",
    "For each feature, tell us what imputation strategy you choose. Plot the results."
   ]
  },
  {
   "cell_type": "code",
   "execution_count": 0,
   "metadata": {
    "application/vnd.databricks.v1+cell": {
     "cellMetadata": {},
     "inputWidgets": {},
     "nuid": "bfed066e-e90d-4a91-9b7b-4b554ea5c9b4",
     "showTitle": false,
     "title": ""
    }
   },
   "outputs": [],
   "source": []
  },
  {
   "cell_type": "markdown",
   "metadata": {
    "application/vnd.databricks.v1+cell": {
     "cellMetadata": {},
     "inputWidgets": {},
     "nuid": "6ef7e5dc-e42e-498f-8c49-b7305be867b6",
     "showTitle": false,
     "title": ""
    }
   },
   "source": [
    "### Explore the distribution of the target variable SalePrice using seaborn. Is it normally distributed? If not, how can you transform it to make it more normal?\n",
    "\n",
    "Use seaborn to plot the results"
   ]
  },
  {
   "cell_type": "code",
   "execution_count": 0,
   "metadata": {
    "application/vnd.databricks.v1+cell": {
     "cellMetadata": {},
     "inputWidgets": {},
     "nuid": "ebe6d591-c9e0-43a7-a857-ecf631299880",
     "showTitle": false,
     "title": ""
    }
   },
   "outputs": [],
   "source": []
  }
 ],
 "metadata": {
  "application/vnd.databricks.v1+notebook": {
   "dashboards": [],
   "language": "python",
   "notebookMetadata": {
    "pythonIndentUnit": 2
   },
   "notebookName": "Homework_week2",
   "widgets": {}
  },
  "kernelspec": {
   "display_name": "Python 3",
   "language": "python",
   "name": "python3"
  },
  "language_info": {
   "codemirror_mode": {
    "name": "ipython",
    "version": 3
   },
   "file_extension": ".py",
   "mimetype": "text/x-python",
   "name": "python",
   "nbconvert_exporter": "python",
   "pygments_lexer": "ipython3",
   "version": "3.8.8"
  }
 },
 "nbformat": 4,
 "nbformat_minor": 0
}
