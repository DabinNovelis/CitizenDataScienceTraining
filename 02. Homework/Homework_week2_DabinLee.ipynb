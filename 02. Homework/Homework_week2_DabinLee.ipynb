{
 "cells": [
  {
   "cell_type": "markdown",
   "metadata": {
    "application/vnd.databricks.v1+cell": {
     "cellMetadata": {},
     "inputWidgets": {},
     "nuid": "3e29a7e6-0e96-4038-97dc-2485af4f1f68",
     "showTitle": false,
     "title": ""
    }
   },
   "source": [
    "# Homework - Week 2"
   ]
  },
  {
   "cell_type": "code",
   "execution_count": 0,
   "metadata": {
    "ExecuteTime": {
     "end_time": "2023-04-19T17:02:52.271712Z",
     "start_time": "2023-04-19T17:02:49.529804Z"
    },
    "application/vnd.databricks.v1+cell": {
     "cellMetadata": {
      "byteLimit": 2048000,
      "rowLimit": 10000
     },
     "inputWidgets": {},
     "nuid": "cabb8372-f6a1-49e2-b33d-e0e38299548e",
     "showTitle": false,
     "title": ""
    }
   },
   "outputs": [
    {
     "output_type": "display_data",
     "data": {
      "text/html": [
       "<style scoped>\n",
       "  .ansiout {\n",
       "    display: block;\n",
       "    unicode-bidi: embed;\n",
       "    white-space: pre-wrap;\n",
       "    word-wrap: break-word;\n",
       "    word-break: break-all;\n",
       "    font-family: \"Menlo\", \"Monaco\", \"Consolas\", \"Ubuntu Mono\", \"Source Code Pro\", monospace;\n",
       "    font-size: 13px;\n",
       "    color: #555;\n",
       "    margin-left: 4px;\n",
       "    line-height: 19px;\n",
       "  }\n",
       "</style>\n",
       "<div class=\"ansiout\"></div>"
      ]
     },
     "metadata": {
      "application/vnd.databricks.v1+output": {
       "addedWidgets": {},
       "arguments": {},
       "data": "<div class=\"ansiout\"></div>",
       "datasetInfos": [],
       "metadata": {},
       "removedWidgets": [],
       "type": "html"
      }
     },
     "output_type": "display_data"
    }
   ],
   "source": [
    "from sklearn.impute import SimpleImputer\n",
    "from scipy import stats\n",
    "\n",
    "import matplotlib.pyplot as plt\n",
    "import seaborn as sns\n",
    "import pandas as pd\n",
    "import numpy as np"
   ]
  },
  {
   "cell_type": "code",
   "execution_count": 0,
   "metadata": {
    "ExecuteTime": {
     "end_time": "2023-04-19T17:02:52.287833Z",
     "start_time": "2023-04-19T17:02:52.273592Z"
    },
    "application/vnd.databricks.v1+cell": {
     "cellMetadata": {
      "byteLimit": 2048000,
      "rowLimit": 10000
     },
     "inputWidgets": {},
     "nuid": "c2ef0dc5-5eb2-4406-a57a-23bcef1461f8",
     "showTitle": false,
     "title": ""
    }
   },
   "outputs": [
    {
     "output_type": "display_data",
     "data": {
      "text/html": [
       "<style scoped>\n",
       "  .ansiout {\n",
       "    display: block;\n",
       "    unicode-bidi: embed;\n",
       "    white-space: pre-wrap;\n",
       "    word-wrap: break-word;\n",
       "    word-break: break-all;\n",
       "    font-family: \"Menlo\", \"Monaco\", \"Consolas\", \"Ubuntu Mono\", \"Source Code Pro\", monospace;\n",
       "    font-size: 13px;\n",
       "    color: #555;\n",
       "    margin-left: 4px;\n",
       "    line-height: 19px;\n",
       "  }\n",
       "</style>\n",
       "<div class=\"ansiout\"></div>"
      ]
     },
     "metadata": {
      "application/vnd.databricks.v1+output": {
       "addedWidgets": {},
       "arguments": {},
       "data": "<div class=\"ansiout\"></div>",
       "datasetInfos": [],
       "metadata": {},
       "removedWidgets": [],
       "type": "html"
      }
     },
     "output_type": "display_data"
    }
   ],
   "source": [
    "plt.rcParams[\"figure.figsize\"] = (18, 8)\n",
    "pd.set_option('max.columns', None)"
   ]
  },
  {
   "cell_type": "markdown",
   "metadata": {
    "application/vnd.databricks.v1+cell": {
     "cellMetadata": {},
     "inputWidgets": {},
     "nuid": "c255c26f-4bd3-4777-8643-48ea37eeb063",
     "showTitle": false,
     "title": ""
    }
   },
   "source": [
    "# EDA + Seaborn\n",
    "\n",
    "Read the dataset heart_disease.csv using pandas. Path: /dbfs/FileStore/CDS2024/heart_disease.csv"
   ]
  },
  {
   "cell_type": "code",
   "execution_count": 0,
   "metadata": {
    "application/vnd.databricks.v1+cell": {
     "cellMetadata": {
      "byteLimit": 2048000,
      "rowLimit": 10000
     },
     "inputWidgets": {},
     "nuid": "4f404952-75f2-4da4-a092-647da7b3addc",
     "showTitle": false,
     "title": ""
    }
   },
   "outputs": [
    {
     "output_type": "display_data",
     "data": {
      "text/html": [
       "<style scoped>\n",
       "  .ansiout {\n",
       "    display: block;\n",
       "    unicode-bidi: embed;\n",
       "    white-space: pre-wrap;\n",
       "    word-wrap: break-word;\n",
       "    word-break: break-all;\n",
       "    font-family: \"Menlo\", \"Monaco\", \"Consolas\", \"Ubuntu Mono\", \"Source Code Pro\", monospace;\n",
       "    font-size: 13px;\n",
       "    color: #555;\n",
       "    margin-left: 4px;\n",
       "    line-height: 19px;\n",
       "  }\n",
       "</style>\n",
       "<div class=\"ansiout\">Out[3]: </div>"
      ]
     },
     "metadata": {
      "application/vnd.databricks.v1+output": {
       "addedWidgets": {},
       "arguments": {},
       "data": "<div class=\"ansiout\">Out[3]: </div>",
       "datasetInfos": [],
       "metadata": {},
       "removedWidgets": [],
       "type": "html"
      }
     },
     "output_type": "display_data"
    },
    {
     "output_type": "display_data",
     "data": {
      "text/html": [
       "<div>\n",
       "<style scoped>\n",
       "    .dataframe tbody tr th:only-of-type {\n",
       "        vertical-align: middle;\n",
       "    }\n",
       "\n",
       "    .dataframe tbody tr th {\n",
       "        vertical-align: top;\n",
       "    }\n",
       "\n",
       "    .dataframe thead th {\n",
       "        text-align: right;\n",
       "    }\n",
       "</style>\n",
       "<table border=\"1\" class=\"dataframe\">\n",
       "  <thead>\n",
       "    <tr style=\"text-align: right;\">\n",
       "      <th></th>\n",
       "      <th>age</th>\n",
       "      <th>sex</th>\n",
       "      <th>cp</th>\n",
       "      <th>trestbps</th>\n",
       "      <th>chol</th>\n",
       "      <th>fbs</th>\n",
       "      <th>restecg</th>\n",
       "      <th>thalach</th>\n",
       "      <th>exang</th>\n",
       "      <th>oldpeak</th>\n",
       "      <th>slope</th>\n",
       "      <th>ca</th>\n",
       "      <th>thal</th>\n",
       "      <th>target</th>\n",
       "    </tr>\n",
       "  </thead>\n",
       "  <tbody>\n",
       "    <tr>\n",
       "      <th>0</th>\n",
       "      <td>63</td>\n",
       "      <td>1</td>\n",
       "      <td>3</td>\n",
       "      <td>145</td>\n",
       "      <td>233</td>\n",
       "      <td>1</td>\n",
       "      <td>0</td>\n",
       "      <td>150</td>\n",
       "      <td>0</td>\n",
       "      <td>2.3</td>\n",
       "      <td>0</td>\n",
       "      <td>0</td>\n",
       "      <td>1</td>\n",
       "      <td>1</td>\n",
       "    </tr>\n",
       "    <tr>\n",
       "      <th>1</th>\n",
       "      <td>37</td>\n",
       "      <td>1</td>\n",
       "      <td>2</td>\n",
       "      <td>130</td>\n",
       "      <td>250</td>\n",
       "      <td>0</td>\n",
       "      <td>1</td>\n",
       "      <td>187</td>\n",
       "      <td>0</td>\n",
       "      <td>3.5</td>\n",
       "      <td>0</td>\n",
       "      <td>0</td>\n",
       "      <td>2</td>\n",
       "      <td>1</td>\n",
       "    </tr>\n",
       "    <tr>\n",
       "      <th>2</th>\n",
       "      <td>41</td>\n",
       "      <td>0</td>\n",
       "      <td>1</td>\n",
       "      <td>130</td>\n",
       "      <td>204</td>\n",
       "      <td>0</td>\n",
       "      <td>0</td>\n",
       "      <td>172</td>\n",
       "      <td>0</td>\n",
       "      <td>1.4</td>\n",
       "      <td>2</td>\n",
       "      <td>0</td>\n",
       "      <td>2</td>\n",
       "      <td>1</td>\n",
       "    </tr>\n",
       "    <tr>\n",
       "      <th>3</th>\n",
       "      <td>56</td>\n",
       "      <td>1</td>\n",
       "      <td>1</td>\n",
       "      <td>120</td>\n",
       "      <td>236</td>\n",
       "      <td>0</td>\n",
       "      <td>1</td>\n",
       "      <td>178</td>\n",
       "      <td>0</td>\n",
       "      <td>0.8</td>\n",
       "      <td>2</td>\n",
       "      <td>0</td>\n",
       "      <td>2</td>\n",
       "      <td>1</td>\n",
       "    </tr>\n",
       "    <tr>\n",
       "      <th>4</th>\n",
       "      <td>57</td>\n",
       "      <td>0</td>\n",
       "      <td>0</td>\n",
       "      <td>120</td>\n",
       "      <td>354</td>\n",
       "      <td>0</td>\n",
       "      <td>1</td>\n",
       "      <td>163</td>\n",
       "      <td>1</td>\n",
       "      <td>0.6</td>\n",
       "      <td>2</td>\n",
       "      <td>0</td>\n",
       "      <td>2</td>\n",
       "      <td>1</td>\n",
       "    </tr>\n",
       "  </tbody>\n",
       "</table>\n",
       "</div>"
      ]
     },
     "metadata": {
      "application/vnd.databricks.v1+output": {
       "addedWidgets": {},
       "arguments": {},
       "data": "<div>\n<style scoped>\n    .dataframe tbody tr th:only-of-type {\n        vertical-align: middle;\n    }\n\n    .dataframe tbody tr th {\n        vertical-align: top;\n    }\n\n    .dataframe thead th {\n        text-align: right;\n    }\n</style>\n<table border=\"1\" class=\"dataframe\">\n  <thead>\n    <tr style=\"text-align: right;\">\n      <th></th>\n      <th>age</th>\n      <th>sex</th>\n      <th>cp</th>\n      <th>trestbps</th>\n      <th>chol</th>\n      <th>fbs</th>\n      <th>restecg</th>\n      <th>thalach</th>\n      <th>exang</th>\n      <th>oldpeak</th>\n      <th>slope</th>\n      <th>ca</th>\n      <th>thal</th>\n      <th>target</th>\n    </tr>\n  </thead>\n  <tbody>\n    <tr>\n      <th>0</th>\n      <td>63</td>\n      <td>1</td>\n      <td>3</td>\n      <td>145</td>\n      <td>233</td>\n      <td>1</td>\n      <td>0</td>\n      <td>150</td>\n      <td>0</td>\n      <td>2.3</td>\n      <td>0</td>\n      <td>0</td>\n      <td>1</td>\n      <td>1</td>\n    </tr>\n    <tr>\n      <th>1</th>\n      <td>37</td>\n      <td>1</td>\n      <td>2</td>\n      <td>130</td>\n      <td>250</td>\n      <td>0</td>\n      <td>1</td>\n      <td>187</td>\n      <td>0</td>\n      <td>3.5</td>\n      <td>0</td>\n      <td>0</td>\n      <td>2</td>\n      <td>1</td>\n    </tr>\n    <tr>\n      <th>2</th>\n      <td>41</td>\n      <td>0</td>\n      <td>1</td>\n      <td>130</td>\n      <td>204</td>\n      <td>0</td>\n      <td>0</td>\n      <td>172</td>\n      <td>0</td>\n      <td>1.4</td>\n      <td>2</td>\n      <td>0</td>\n      <td>2</td>\n      <td>1</td>\n    </tr>\n    <tr>\n      <th>3</th>\n      <td>56</td>\n      <td>1</td>\n      <td>1</td>\n      <td>120</td>\n      <td>236</td>\n      <td>0</td>\n      <td>1</td>\n      <td>178</td>\n      <td>0</td>\n      <td>0.8</td>\n      <td>2</td>\n      <td>0</td>\n      <td>2</td>\n      <td>1</td>\n    </tr>\n    <tr>\n      <th>4</th>\n      <td>57</td>\n      <td>0</td>\n      <td>0</td>\n      <td>120</td>\n      <td>354</td>\n      <td>0</td>\n      <td>1</td>\n      <td>163</td>\n      <td>1</td>\n      <td>0.6</td>\n      <td>2</td>\n      <td>0</td>\n      <td>2</td>\n      <td>1</td>\n    </tr>\n  </tbody>\n</table>\n</div>",
       "datasetInfos": [],
       "metadata": {},
       "removedWidgets": [],
       "textData": null,
       "type": "htmlSandbox"
      }
     },
     "output_type": "display_data"
    }
   ],
   "source": [
    "heart = pd.read_csv('/dbfs/FileStore/CDS2024/heart_disease.csv')\n",
    "heart.head()"
   ]
  },
  {
   "cell_type": "markdown",
   "metadata": {
    "application/vnd.databricks.v1+cell": {
     "cellMetadata": {},
     "inputWidgets": {},
     "nuid": "8f61a70e-125e-4a01-90f6-bd1ecafc3227",
     "showTitle": false,
     "title": ""
    }
   },
   "source": [
    "### Are there any missing values in dataset? How many missing values are there in each dataset column?\n",
    "\n",
    "Use seaborn to plot if there are any missing values and use pandas to count the number of missing values in each column"
   ]
  },
  {
   "cell_type": "code",
   "execution_count": 0,
   "metadata": {
    "application/vnd.databricks.v1+cell": {
     "cellMetadata": {
      "byteLimit": 2048000,
      "rowLimit": 10000
     },
     "inputWidgets": {},
     "nuid": "36ff002a-6c89-4eb4-accc-81bace8a10ba",
     "showTitle": false,
     "title": ""
    }
   },
   "outputs": [
    {
     "output_type": "display_data",
     "data": {
      "text/html": [
       "<style scoped>\n",
       "  .ansiout {\n",
       "    display: block;\n",
       "    unicode-bidi: embed;\n",
       "    white-space: pre-wrap;\n",
       "    word-wrap: break-word;\n",
       "    word-break: break-all;\n",
       "    font-family: \"Menlo\", \"Monaco\", \"Consolas\", \"Ubuntu Mono\", \"Source Code Pro\", monospace;\n",
       "    font-size: 13px;\n",
       "    color: #555;\n",
       "    margin-left: 4px;\n",
       "    line-height: 19px;\n",
       "  }\n",
       "</style>\n",
       "<div class=\"ansiout\">Out[4]: age         0\n",
       "sex         0\n",
       "cp          0\n",
       "trestbps    0\n",
       "chol        0\n",
       "fbs         0\n",
       "restecg     0\n",
       "thalach     0\n",
       "exang       0\n",
       "oldpeak     0\n",
       "slope       0\n",
       "ca          0\n",
       "thal        0\n",
       "target      0\n",
       "dtype: int64</div>"
      ]
     },
     "metadata": {
      "application/vnd.databricks.v1+output": {
       "addedWidgets": {},
       "arguments": {},
       "data": "<div class=\"ansiout\">Out[4]: age         0\nsex         0\ncp          0\ntrestbps    0\nchol        0\nfbs         0\nrestecg     0\nthalach     0\nexang       0\noldpeak     0\nslope       0\nca          0\nthal        0\ntarget      0\ndtype: int64</div>",
       "datasetInfos": [],
       "metadata": {},
       "removedWidgets": [],
       "type": "html"
      }
     },
     "output_type": "display_data"
    }
   ],
   "source": [
    "heart.isnull().sum()"
   ]
  },
  {
   "cell_type": "markdown",
   "metadata": {
    "application/vnd.databricks.v1+cell": {
     "cellMetadata": {},
     "inputWidgets": {},
     "nuid": "525c0b18-7f17-4c34-ba2c-ad3bd585b917",
     "showTitle": false,
     "title": ""
    }
   },
   "source": [
    "### What is the distribution of target variable \"target\"?\n",
    "\n",
    "Use seaborn library to show the result and panda functions to show the result in percentage"
   ]
  },
  {
   "cell_type": "code",
   "execution_count": 0,
   "metadata": {
    "application/vnd.databricks.v1+cell": {
     "cellMetadata": {
      "byteLimit": 2048000,
      "rowLimit": 10000
     },
     "inputWidgets": {},
     "nuid": "8acdd5c8-a8be-440b-aa1b-9a2ff9628b44",
     "showTitle": false,
     "title": ""
    }
   },
   "outputs": [
    {
     "output_type": "display_data",
     "data": {
      "text/html": [
       "<style scoped>\n",
       "  .ansiout {\n",
       "    display: block;\n",
       "    unicode-bidi: embed;\n",
       "    white-space: pre-wrap;\n",
       "    word-wrap: break-word;\n",
       "    word-break: break-all;\n",
       "    font-family: \"Menlo\", \"Monaco\", \"Consolas\", \"Ubuntu Mono\", \"Source Code Pro\", monospace;\n",
       "    font-size: 13px;\n",
       "    color: #555;\n",
       "    margin-left: 4px;\n",
       "    line-height: 19px;\n",
       "  }\n",
       "</style>\n",
       "<div class=\"ansiout\">Out[5]: count    303.000000\n",
       "mean       0.544554\n",
       "std        0.498835\n",
       "min        0.000000\n",
       "25%        0.000000\n",
       "50%        1.000000\n",
       "75%        1.000000\n",
       "max        1.000000\n",
       "Name: target, dtype: float64</div>"
      ]
     },
     "metadata": {
      "application/vnd.databricks.v1+output": {
       "addedWidgets": {},
       "arguments": {},
       "data": "<div class=\"ansiout\">Out[5]: count    303.000000\nmean       0.544554\nstd        0.498835\nmin        0.000000\n25%        0.000000\n50%        1.000000\n75%        1.000000\nmax        1.000000\nName: target, dtype: float64</div>",
       "datasetInfos": [],
       "metadata": {},
       "removedWidgets": [],
       "type": "html"
      }
     },
     "output_type": "display_data"
    }
   ],
   "source": [
    "heart['target'].describe()"
   ]
  },
  {
   "cell_type": "markdown",
   "metadata": {
    "application/vnd.databricks.v1+cell": {
     "cellMetadata": {},
     "inputWidgets": {},
     "nuid": "f6276e0c-2e6f-40d5-b8bc-bb6079500b59",
     "showTitle": false,
     "title": ""
    }
   },
   "source": [
    "### What is the age distribution of the patients in the dataset? \n",
    "\n",
    "Plot a histogram of age distribution using seaborn"
   ]
  },
  {
   "cell_type": "code",
   "execution_count": 0,
   "metadata": {
    "application/vnd.databricks.v1+cell": {
     "cellMetadata": {
      "byteLimit": 2048000,
      "rowLimit": 10000
     },
     "inputWidgets": {},
     "nuid": "5c730f78-9c86-42b0-9bb1-d8bc2d8bdfc4",
     "showTitle": false,
     "title": ""
    }
   },
   "outputs": [
    {
     "output_type": "display_data",
     "data": {
      "text/html": [
       "<style scoped>\n",
       "  .ansiout {\n",
       "    display: block;\n",
       "    unicode-bidi: embed;\n",
       "    white-space: pre-wrap;\n",
       "    word-wrap: break-word;\n",
       "    word-break: break-all;\n",
       "    font-family: \"Menlo\", \"Monaco\", \"Consolas\", \"Ubuntu Mono\", \"Source Code Pro\", monospace;\n",
       "    font-size: 13px;\n",
       "    color: #555;\n",
       "    margin-left: 4px;\n",
       "    line-height: 19px;\n",
       "  }\n",
       "</style>\n",
       "<div class=\"ansiout\">Out[26]: count    303.000000\n",
       "mean      54.366337\n",
       "std        9.082101\n",
       "min       29.000000\n",
       "25%       47.500000\n",
       "50%       55.000000\n",
       "75%       61.000000\n",
       "max       77.000000\n",
       "Name: age, dtype: float64</div>"
      ]
     },
     "metadata": {
      "application/vnd.databricks.v1+output": {
       "addedWidgets": {},
       "arguments": {},
       "data": "<div class=\"ansiout\">Out[26]: count    303.000000\nmean      54.366337\nstd        9.082101\nmin       29.000000\n25%       47.500000\n50%       55.000000\n75%       61.000000\nmax       77.000000\nName: age, dtype: float64</div>",
       "datasetInfos": [],
       "metadata": {},
       "removedWidgets": [],
       "type": "html"
      }
     },
     "output_type": "display_data"
    }
   ],
   "source": [
    "heart.age.describe()"
   ]
  },
  {
   "cell_type": "code",
   "execution_count": 0,
   "metadata": {
    "application/vnd.databricks.v1+cell": {
     "cellMetadata": {
      "byteLimit": 2048000,
      "rowLimit": 10000
     },
     "inputWidgets": {},
     "nuid": "ebfa8f3f-94d2-4069-be82-c701e9dd8645",
     "showTitle": false,
     "title": ""
    }
   },
   "outputs": [
    {
     "output_type": "display_data",
     "data": {
      "text/html": [
       "<style scoped>\n",
       "  .ansiout {\n",
       "    display: block;\n",
       "    unicode-bidi: embed;\n",
       "    white-space: pre-wrap;\n",
       "    word-wrap: break-word;\n",
       "    word-break: break-all;\n",
       "    font-family: \"Menlo\", \"Monaco\", \"Consolas\", \"Ubuntu Mono\", \"Source Code Pro\", monospace;\n",
       "    font-size: 13px;\n",
       "    color: #555;\n",
       "    margin-left: 4px;\n",
       "    line-height: 19px;\n",
       "  }\n",
       "</style>\n",
       "<div class=\"ansiout\">Out[27]: </div>"
      ]
     },
     "metadata": {
      "application/vnd.databricks.v1+output": {
       "addedWidgets": {},
       "arguments": {},
       "data": "<div class=\"ansiout\">Out[27]: </div>",
       "datasetInfos": [],
       "metadata": {},
       "removedWidgets": [],
       "type": "html"
      }
     },
     "output_type": "display_data"
    },
    {
     "output_type": "display_data",
     "data": {
      "image/png": "[encoded data removed]"
     },
     "metadata": {
      "application/vnd.databricks.v1+output": {
       "addedWidgets": {},
       "arguments": {},
       "data": "data:image/png;base64,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",
       "datasetInfos": [],
       "metadata": {
        "imageDimensions": {
         "height": 480,
         "width": 1052
        }
       },
       "removedWidgets": [],
       "type": "image"
      },
      "image/png": {
       "height": 480,
       "width": 1052
      }
     },
     "output_type": "display_data"
    },
    {
     "output_type": "display_data",
     "data": {
      "text/html": [
       "<style scoped>\n",
       "  .ansiout {\n",
       "    display: block;\n",
       "    unicode-bidi: embed;\n",
       "    white-space: pre-wrap;\n",
       "    word-wrap: break-word;\n",
       "    word-break: break-all;\n",
       "    font-family: \"Menlo\", \"Monaco\", \"Consolas\", \"Ubuntu Mono\", \"Source Code Pro\", monospace;\n",
       "    font-size: 13px;\n",
       "    color: #555;\n",
       "    margin-left: 4px;\n",
       "    line-height: 19px;\n",
       "  }\n",
       "</style>\n",
       "<div class=\"ansiout\">&lt;AxesSubplot:xlabel=&#39;age&#39;, ylabel=&#39;Count&#39;&gt;</div>"
      ]
     },
     "metadata": {
      "application/vnd.databricks.v1+output": {
       "addedWidgets": {},
       "arguments": {},
       "data": "<div class=\"ansiout\">&lt;AxesSubplot:xlabel=&#39;age&#39;, ylabel=&#39;Count&#39;&gt;</div>",
       "datasetInfos": [],
       "metadata": {},
       "removedWidgets": [],
       "type": "html"
      }
     },
     "output_type": "display_data"
    }
   ],
   "source": [
    "sns.histplot(data=heart, x='age')"
   ]
  },
  {
   "cell_type": "markdown",
   "metadata": {
    "application/vnd.databricks.v1+cell": {
     "cellMetadata": {},
     "inputWidgets": {},
     "nuid": "fc25ac6f-c18a-4c97-a7f9-b63b09ee6a6d",
     "showTitle": false,
     "title": ""
    }
   },
   "source": [
    "### What are the basic statistics of the age column by each target variable?\n",
    "Use pandas to group the target variable and calculate the descriptive statistics"
   ]
  },
  {
   "cell_type": "code",
   "execution_count": 0,
   "metadata": {
    "application/vnd.databricks.v1+cell": {
     "cellMetadata": {
      "byteLimit": 2048000,
      "rowLimit": 10000
     },
     "inputWidgets": {},
     "nuid": "4192775c-c528-4349-9bfa-d4f3916ced83",
     "showTitle": false,
     "title": ""
    }
   },
   "outputs": [
    {
     "output_type": "display_data",
     "data": {
      "text/html": [
       "<style scoped>\n",
       "  .ansiout {\n",
       "    display: block;\n",
       "    unicode-bidi: embed;\n",
       "    white-space: pre-wrap;\n",
       "    word-wrap: break-word;\n",
       "    word-break: break-all;\n",
       "    font-family: \"Menlo\", \"Monaco\", \"Consolas\", \"Ubuntu Mono\", \"Source Code Pro\", monospace;\n",
       "    font-size: 13px;\n",
       "    color: #555;\n",
       "    margin-left: 4px;\n",
       "    line-height: 19px;\n",
       "  }\n",
       "</style>\n",
       "<div class=\"ansiout\">Out[12]: </div>"
      ]
     },
     "metadata": {
      "application/vnd.databricks.v1+output": {
       "addedWidgets": {},
       "arguments": {},
       "data": "<div class=\"ansiout\">Out[12]: </div>",
       "datasetInfos": [],
       "metadata": {},
       "removedWidgets": [],
       "type": "html"
      }
     },
     "output_type": "display_data"
    },
    {
     "output_type": "display_data",
     "data": {
      "text/html": [
       "<div>\n",
       "<style scoped>\n",
       "    .dataframe tbody tr th:only-of-type {\n",
       "        vertical-align: middle;\n",
       "    }\n",
       "\n",
       "    .dataframe tbody tr th {\n",
       "        vertical-align: top;\n",
       "    }\n",
       "\n",
       "    .dataframe thead th {\n",
       "        text-align: right;\n",
       "    }\n",
       "</style>\n",
       "<table border=\"1\" class=\"dataframe\">\n",
       "  <thead>\n",
       "    <tr style=\"text-align: right;\">\n",
       "      <th></th>\n",
       "      <th>count</th>\n",
       "      <th>mean</th>\n",
       "      <th>std</th>\n",
       "      <th>min</th>\n",
       "      <th>25%</th>\n",
       "      <th>50%</th>\n",
       "      <th>75%</th>\n",
       "      <th>max</th>\n",
       "    </tr>\n",
       "    <tr>\n",
       "      <th>target</th>\n",
       "      <th></th>\n",
       "      <th></th>\n",
       "      <th></th>\n",
       "      <th></th>\n",
       "      <th></th>\n",
       "      <th></th>\n",
       "      <th></th>\n",
       "      <th></th>\n",
       "    </tr>\n",
       "  </thead>\n",
       "  <tbody>\n",
       "    <tr>\n",
       "      <th>0</th>\n",
       "      <td>138.0</td>\n",
       "      <td>56.601449</td>\n",
       "      <td>7.962082</td>\n",
       "      <td>35.0</td>\n",
       "      <td>52.0</td>\n",
       "      <td>58.0</td>\n",
       "      <td>62.0</td>\n",
       "      <td>77.0</td>\n",
       "    </tr>\n",
       "    <tr>\n",
       "      <th>1</th>\n",
       "      <td>165.0</td>\n",
       "      <td>52.496970</td>\n",
       "      <td>9.550651</td>\n",
       "      <td>29.0</td>\n",
       "      <td>44.0</td>\n",
       "      <td>52.0</td>\n",
       "      <td>59.0</td>\n",
       "      <td>76.0</td>\n",
       "    </tr>\n",
       "  </tbody>\n",
       "</table>\n",
       "</div>"
      ]
     },
     "metadata": {
      "application/vnd.databricks.v1+output": {
       "addedWidgets": {},
       "arguments": {},
       "data": "<div>\n<style scoped>\n    .dataframe tbody tr th:only-of-type {\n        vertical-align: middle;\n    }\n\n    .dataframe tbody tr th {\n        vertical-align: top;\n    }\n\n    .dataframe thead th {\n        text-align: right;\n    }\n</style>\n<table border=\"1\" class=\"dataframe\">\n  <thead>\n    <tr style=\"text-align: right;\">\n      <th></th>\n      <th>count</th>\n      <th>mean</th>\n      <th>std</th>\n      <th>min</th>\n      <th>25%</th>\n      <th>50%</th>\n      <th>75%</th>\n      <th>max</th>\n    </tr>\n    <tr>\n      <th>target</th>\n      <th></th>\n      <th></th>\n      <th></th>\n      <th></th>\n      <th></th>\n      <th></th>\n      <th></th>\n      <th></th>\n    </tr>\n  </thead>\n  <tbody>\n    <tr>\n      <th>0</th>\n      <td>138.0</td>\n      <td>56.601449</td>\n      <td>7.962082</td>\n      <td>35.0</td>\n      <td>52.0</td>\n      <td>58.0</td>\n      <td>62.0</td>\n      <td>77.0</td>\n    </tr>\n    <tr>\n      <th>1</th>\n      <td>165.0</td>\n      <td>52.496970</td>\n      <td>9.550651</td>\n      <td>29.0</td>\n      <td>44.0</td>\n      <td>52.0</td>\n      <td>59.0</td>\n      <td>76.0</td>\n    </tr>\n  </tbody>\n</table>\n</div>",
       "datasetInfos": [],
       "metadata": {},
       "removedWidgets": [],
       "textData": null,
       "type": "htmlSandbox"
      }
     },
     "output_type": "display_data"
    }
   ],
   "source": [
    "heart.groupby('target')['age'].describe()"
   ]
  },
  {
   "cell_type": "markdown",
   "metadata": {
    "application/vnd.databricks.v1+cell": {
     "cellMetadata": {},
     "inputWidgets": {},
     "nuid": "ac13f676-2d44-4245-8c5a-ad59735e6d29",
     "showTitle": false,
     "title": ""
    }
   },
   "source": [
    "### Is there any correlation between age and thalach columns? \n",
    "Create a heatmap of the correlation matrix to show the result"
   ]
  },
  {
   "cell_type": "code",
   "execution_count": 0,
   "metadata": {
    "application/vnd.databricks.v1+cell": {
     "cellMetadata": {
      "byteLimit": 2048000,
      "rowLimit": 10000
     },
     "inputWidgets": {},
     "nuid": "00df68fe-a572-406f-a94f-851efcb46f2f",
     "showTitle": false,
     "title": ""
    }
   },
   "outputs": [
    {
     "output_type": "display_data",
     "data": {
      "text/html": [
       "<style scoped>\n",
       "  .ansiout {\n",
       "    display: block;\n",
       "    unicode-bidi: embed;\n",
       "    white-space: pre-wrap;\n",
       "    word-wrap: break-word;\n",
       "    word-break: break-all;\n",
       "    font-family: \"Menlo\", \"Monaco\", \"Consolas\", \"Ubuntu Mono\", \"Source Code Pro\", monospace;\n",
       "    font-size: 13px;\n",
       "    color: #555;\n",
       "    margin-left: 4px;\n",
       "    line-height: 19px;\n",
       "  }\n",
       "</style>\n",
       "<div class=\"ansiout\">Out[21]: </div>"
      ]
     },
     "metadata": {
      "application/vnd.databricks.v1+output": {
       "addedWidgets": {},
       "arguments": {},
       "data": "<div class=\"ansiout\">Out[21]: </div>",
       "datasetInfos": [],
       "metadata": {},
       "removedWidgets": [],
       "type": "html"
      }
     },
     "output_type": "display_data"
    },
    {
     "output_type": "display_data",
     "data": {
      "text/html": [
       "<div>\n",
       "<style scoped>\n",
       "    .dataframe tbody tr th:only-of-type {\n",
       "        vertical-align: middle;\n",
       "    }\n",
       "\n",
       "    .dataframe tbody tr th {\n",
       "        vertical-align: top;\n",
       "    }\n",
       "\n",
       "    .dataframe thead th {\n",
       "        text-align: right;\n",
       "    }\n",
       "</style>\n",
       "<table border=\"1\" class=\"dataframe\">\n",
       "  <thead>\n",
       "    <tr style=\"text-align: right;\">\n",
       "      <th></th>\n",
       "      <th>age</th>\n",
       "      <th>thalach</th>\n",
       "    </tr>\n",
       "  </thead>\n",
       "  <tbody>\n",
       "    <tr>\n",
       "      <th>age</th>\n",
       "      <td>1.000000</td>\n",
       "      <td>-0.398522</td>\n",
       "    </tr>\n",
       "    <tr>\n",
       "      <th>thalach</th>\n",
       "      <td>-0.398522</td>\n",
       "      <td>1.000000</td>\n",
       "    </tr>\n",
       "  </tbody>\n",
       "</table>\n",
       "</div>"
      ]
     },
     "metadata": {
      "application/vnd.databricks.v1+output": {
       "addedWidgets": {},
       "arguments": {},
       "data": "<div>\n<style scoped>\n    .dataframe tbody tr th:only-of-type {\n        vertical-align: middle;\n    }\n\n    .dataframe tbody tr th {\n        vertical-align: top;\n    }\n\n    .dataframe thead th {\n        text-align: right;\n    }\n</style>\n<table border=\"1\" class=\"dataframe\">\n  <thead>\n    <tr style=\"text-align: right;\">\n      <th></th>\n      <th>age</th>\n      <th>thalach</th>\n    </tr>\n  </thead>\n  <tbody>\n    <tr>\n      <th>age</th>\n      <td>1.000000</td>\n      <td>-0.398522</td>\n    </tr>\n    <tr>\n      <th>thalach</th>\n      <td>-0.398522</td>\n      <td>1.000000</td>\n    </tr>\n  </tbody>\n</table>\n</div>",
       "datasetInfos": [],
       "metadata": {},
       "removedWidgets": [],
       "textData": null,
       "type": "htmlSandbox"
      }
     },
     "output_type": "display_data"
    }
   ],
   "source": [
    "a = heart[['age', 'thalach']].corr()\n",
    "a"
   ]
  },
  {
   "cell_type": "code",
   "execution_count": 0,
   "metadata": {
    "application/vnd.databricks.v1+cell": {
     "cellMetadata": {
      "byteLimit": 2048000,
      "rowLimit": 10000
     },
     "inputWidgets": {},
     "nuid": "eff1d397-aa88-4cdc-a70c-a60184acc1e7",
     "showTitle": false,
     "title": ""
    }
   },
   "outputs": [
    {
     "output_type": "display_data",
     "data": {
      "text/html": [
       "<style scoped>\n",
       "  .ansiout {\n",
       "    display: block;\n",
       "    unicode-bidi: embed;\n",
       "    white-space: pre-wrap;\n",
       "    word-wrap: break-word;\n",
       "    word-break: break-all;\n",
       "    font-family: \"Menlo\", \"Monaco\", \"Consolas\", \"Ubuntu Mono\", \"Source Code Pro\", monospace;\n",
       "    font-size: 13px;\n",
       "    color: #555;\n",
       "    margin-left: 4px;\n",
       "    line-height: 19px;\n",
       "  }\n",
       "</style>\n",
       "<div class=\"ansiout\">Out[22]: </div>"
      ]
     },
     "metadata": {
      "application/vnd.databricks.v1+output": {
       "addedWidgets": {},
       "arguments": {},
       "data": "<div class=\"ansiout\">Out[22]: </div>",
       "datasetInfos": [],
       "metadata": {},
       "removedWidgets": [],
       "type": "html"
      }
     },
     "output_type": "display_data"
    },
    {
     "output_type": "display_data",
     "data": {
      "image/png": "[encoded data removed]"
     },
     "metadata": {
      "application/vnd.databricks.v1+output": {
       "addedWidgets": {},
       "arguments": {},
       "data": "data:image/png;base64,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",
       "datasetInfos": [],
       "metadata": {
        "imageDimensions": {
         "height": 470,
         "width": 938
        }
       },
       "removedWidgets": [],
       "type": "image"
      },
      "image/png": {
       "height": 470,
       "width": 938
      }
     },
     "output_type": "display_data"
    },
    {
     "output_type": "display_data",
     "data": {
      "text/html": [
       "<style scoped>\n",
       "  .ansiout {\n",
       "    display: block;\n",
       "    unicode-bidi: embed;\n",
       "    white-space: pre-wrap;\n",
       "    word-wrap: break-word;\n",
       "    word-break: break-all;\n",
       "    font-family: \"Menlo\", \"Monaco\", \"Consolas\", \"Ubuntu Mono\", \"Source Code Pro\", monospace;\n",
       "    font-size: 13px;\n",
       "    color: #555;\n",
       "    margin-left: 4px;\n",
       "    line-height: 19px;\n",
       "  }\n",
       "</style>\n",
       "<div class=\"ansiout\">&lt;AxesSubplot:&gt;</div>"
      ]
     },
     "metadata": {
      "application/vnd.databricks.v1+output": {
       "addedWidgets": {},
       "arguments": {},
       "data": "<div class=\"ansiout\">&lt;AxesSubplot:&gt;</div>",
       "datasetInfos": [],
       "metadata": {},
       "removedWidgets": [],
       "type": "html"
      }
     },
     "output_type": "display_data"
    }
   ],
   "source": [
    "sns.heatmap(a, cmap='YlGnBu')"
   ]
  },
  {
   "cell_type": "markdown",
   "metadata": {
    "application/vnd.databricks.v1+cell": {
     "cellMetadata": {},
     "inputWidgets": {},
     "nuid": "554b2562-2e1d-4027-a0a2-03b388a983e5",
     "showTitle": false,
     "title": ""
    }
   },
   "source": [
    "### What is the distribution of thalach column for patients with and without heart disease? \n",
    "Use a boxplot to visualize the distribution"
   ]
  },
  {
   "cell_type": "code",
   "execution_count": 0,
   "metadata": {
    "application/vnd.databricks.v1+cell": {
     "cellMetadata": {
      "byteLimit": 2048000,
      "rowLimit": 10000
     },
     "inputWidgets": {},
     "nuid": "f1792392-b226-41ec-965c-e1c469f3f5dc",
     "showTitle": false,
     "title": ""
    }
   },
   "outputs": [
    {
     "output_type": "display_data",
     "data": {
      "text/html": [
       "<style scoped>\n",
       "  .ansiout {\n",
       "    display: block;\n",
       "    unicode-bidi: embed;\n",
       "    white-space: pre-wrap;\n",
       "    word-wrap: break-word;\n",
       "    word-break: break-all;\n",
       "    font-family: \"Menlo\", \"Monaco\", \"Consolas\", \"Ubuntu Mono\", \"Source Code Pro\", monospace;\n",
       "    font-size: 13px;\n",
       "    color: #555;\n",
       "    margin-left: 4px;\n",
       "    line-height: 19px;\n",
       "  }\n",
       "</style>\n",
       "<div class=\"ansiout\">Out[24]: </div>"
      ]
     },
     "metadata": {
      "application/vnd.databricks.v1+output": {
       "addedWidgets": {},
       "arguments": {},
       "data": "<div class=\"ansiout\">Out[24]: </div>",
       "datasetInfos": [],
       "metadata": {},
       "removedWidgets": [],
       "type": "html"
      }
     },
     "output_type": "display_data"
    },
    {
     "output_type": "display_data",
     "data": {
      "text/html": [
       "<div>\n",
       "<style scoped>\n",
       "    .dataframe tbody tr th:only-of-type {\n",
       "        vertical-align: middle;\n",
       "    }\n",
       "\n",
       "    .dataframe tbody tr th {\n",
       "        vertical-align: top;\n",
       "    }\n",
       "\n",
       "    .dataframe thead th {\n",
       "        text-align: right;\n",
       "    }\n",
       "</style>\n",
       "<table border=\"1\" class=\"dataframe\">\n",
       "  <thead>\n",
       "    <tr style=\"text-align: right;\">\n",
       "      <th></th>\n",
       "      <th>age</th>\n",
       "      <th>sex</th>\n",
       "      <th>cp</th>\n",
       "      <th>trestbps</th>\n",
       "      <th>chol</th>\n",
       "      <th>fbs</th>\n",
       "      <th>restecg</th>\n",
       "      <th>thalach</th>\n",
       "      <th>exang</th>\n",
       "      <th>oldpeak</th>\n",
       "      <th>slope</th>\n",
       "      <th>ca</th>\n",
       "      <th>thal</th>\n",
       "      <th>target</th>\n",
       "    </tr>\n",
       "  </thead>\n",
       "  <tbody>\n",
       "    <tr>\n",
       "      <th>0</th>\n",
       "      <td>63</td>\n",
       "      <td>1</td>\n",
       "      <td>3</td>\n",
       "      <td>145</td>\n",
       "      <td>233</td>\n",
       "      <td>1</td>\n",
       "      <td>0</td>\n",
       "      <td>150</td>\n",
       "      <td>0</td>\n",
       "      <td>2.3</td>\n",
       "      <td>0</td>\n",
       "      <td>0</td>\n",
       "      <td>1</td>\n",
       "      <td>1</td>\n",
       "    </tr>\n",
       "    <tr>\n",
       "      <th>1</th>\n",
       "      <td>37</td>\n",
       "      <td>1</td>\n",
       "      <td>2</td>\n",
       "      <td>130</td>\n",
       "      <td>250</td>\n",
       "      <td>0</td>\n",
       "      <td>1</td>\n",
       "      <td>187</td>\n",
       "      <td>0</td>\n",
       "      <td>3.5</td>\n",
       "      <td>0</td>\n",
       "      <td>0</td>\n",
       "      <td>2</td>\n",
       "      <td>1</td>\n",
       "    </tr>\n",
       "    <tr>\n",
       "      <th>2</th>\n",
       "      <td>41</td>\n",
       "      <td>0</td>\n",
       "      <td>1</td>\n",
       "      <td>130</td>\n",
       "      <td>204</td>\n",
       "      <td>0</td>\n",
       "      <td>0</td>\n",
       "      <td>172</td>\n",
       "      <td>0</td>\n",
       "      <td>1.4</td>\n",
       "      <td>2</td>\n",
       "      <td>0</td>\n",
       "      <td>2</td>\n",
       "      <td>1</td>\n",
       "    </tr>\n",
       "    <tr>\n",
       "      <th>3</th>\n",
       "      <td>56</td>\n",
       "      <td>1</td>\n",
       "      <td>1</td>\n",
       "      <td>120</td>\n",
       "      <td>236</td>\n",
       "      <td>0</td>\n",
       "      <td>1</td>\n",
       "      <td>178</td>\n",
       "      <td>0</td>\n",
       "      <td>0.8</td>\n",
       "      <td>2</td>\n",
       "      <td>0</td>\n",
       "      <td>2</td>\n",
       "      <td>1</td>\n",
       "    </tr>\n",
       "    <tr>\n",
       "      <th>4</th>\n",
       "      <td>57</td>\n",
       "      <td>0</td>\n",
       "      <td>0</td>\n",
       "      <td>120</td>\n",
       "      <td>354</td>\n",
       "      <td>0</td>\n",
       "      <td>1</td>\n",
       "      <td>163</td>\n",
       "      <td>1</td>\n",
       "      <td>0.6</td>\n",
       "      <td>2</td>\n",
       "      <td>0</td>\n",
       "      <td>2</td>\n",
       "      <td>1</td>\n",
       "    </tr>\n",
       "  </tbody>\n",
       "</table>\n",
       "</div>"
      ]
     },
     "metadata": {
      "application/vnd.databricks.v1+output": {
       "addedWidgets": {},
       "arguments": {},
       "data": "<div>\n<style scoped>\n    .dataframe tbody tr th:only-of-type {\n        vertical-align: middle;\n    }\n\n    .dataframe tbody tr th {\n        vertical-align: top;\n    }\n\n    .dataframe thead th {\n        text-align: right;\n    }\n</style>\n<table border=\"1\" class=\"dataframe\">\n  <thead>\n    <tr style=\"text-align: right;\">\n      <th></th>\n      <th>age</th>\n      <th>sex</th>\n      <th>cp</th>\n      <th>trestbps</th>\n      <th>chol</th>\n      <th>fbs</th>\n      <th>restecg</th>\n      <th>thalach</th>\n      <th>exang</th>\n      <th>oldpeak</th>\n      <th>slope</th>\n      <th>ca</th>\n      <th>thal</th>\n      <th>target</th>\n    </tr>\n  </thead>\n  <tbody>\n    <tr>\n      <th>0</th>\n      <td>63</td>\n      <td>1</td>\n      <td>3</td>\n      <td>145</td>\n      <td>233</td>\n      <td>1</td>\n      <td>0</td>\n      <td>150</td>\n      <td>0</td>\n      <td>2.3</td>\n      <td>0</td>\n      <td>0</td>\n      <td>1</td>\n      <td>1</td>\n    </tr>\n    <tr>\n      <th>1</th>\n      <td>37</td>\n      <td>1</td>\n      <td>2</td>\n      <td>130</td>\n      <td>250</td>\n      <td>0</td>\n      <td>1</td>\n      <td>187</td>\n      <td>0</td>\n      <td>3.5</td>\n      <td>0</td>\n      <td>0</td>\n      <td>2</td>\n      <td>1</td>\n    </tr>\n    <tr>\n      <th>2</th>\n      <td>41</td>\n      <td>0</td>\n      <td>1</td>\n      <td>130</td>\n      <td>204</td>\n      <td>0</td>\n      <td>0</td>\n      <td>172</td>\n      <td>0</td>\n      <td>1.4</td>\n      <td>2</td>\n      <td>0</td>\n      <td>2</td>\n      <td>1</td>\n    </tr>\n    <tr>\n      <th>3</th>\n      <td>56</td>\n      <td>1</td>\n      <td>1</td>\n      <td>120</td>\n      <td>236</td>\n      <td>0</td>\n      <td>1</td>\n      <td>178</td>\n      <td>0</td>\n      <td>0.8</td>\n      <td>2</td>\n      <td>0</td>\n      <td>2</td>\n      <td>1</td>\n    </tr>\n    <tr>\n      <th>4</th>\n      <td>57</td>\n      <td>0</td>\n      <td>0</td>\n      <td>120</td>\n      <td>354</td>\n      <td>0</td>\n      <td>1</td>\n      <td>163</td>\n      <td>1</td>\n      <td>0.6</td>\n      <td>2</td>\n      <td>0</td>\n      <td>2</td>\n      <td>1</td>\n    </tr>\n  </tbody>\n</table>\n</div>",
       "datasetInfos": [],
       "metadata": {},
       "removedWidgets": [],
       "textData": null,
       "type": "htmlSandbox"
      }
     },
     "output_type": "display_data"
    }
   ],
   "source": [
    "heart.head()"
   ]
  },
  {
   "cell_type": "code",
   "execution_count": 0,
   "metadata": {
    "application/vnd.databricks.v1+cell": {
     "cellMetadata": {
      "byteLimit": 2048000,
      "rowLimit": 10000
     },
     "inputWidgets": {},
     "nuid": "54b9aab7-b6e5-46b4-b161-80ce8a45ba01",
     "showTitle": false,
     "title": ""
    }
   },
   "outputs": [
    {
     "output_type": "display_data",
     "data": {
      "text/html": [
       "<style scoped>\n",
       "  .ansiout {\n",
       "    display: block;\n",
       "    unicode-bidi: embed;\n",
       "    white-space: pre-wrap;\n",
       "    word-wrap: break-word;\n",
       "    word-break: break-all;\n",
       "    font-family: \"Menlo\", \"Monaco\", \"Consolas\", \"Ubuntu Mono\", \"Source Code Pro\", monospace;\n",
       "    font-size: 13px;\n",
       "    color: #555;\n",
       "    margin-left: 4px;\n",
       "    line-height: 19px;\n",
       "  }\n",
       "</style>\n",
       "<div class=\"ansiout\">Out[28]: </div>"
      ]
     },
     "metadata": {
      "application/vnd.databricks.v1+output": {
       "addedWidgets": {},
       "arguments": {},
       "data": "<div class=\"ansiout\">Out[28]: </div>",
       "datasetInfos": [],
       "metadata": {},
       "removedWidgets": [],
       "type": "html"
      }
     },
     "output_type": "display_data"
    },
    {
     "output_type": "display_data",
     "data": {
      "image/png": "[encoded data removed]"
     },
     "metadata": {
      "application/vnd.databricks.v1+output": {
       "addedWidgets": {},
       "arguments": {},
       "data": "data:image/png;base64,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",
       "datasetInfos": [],
       "metadata": {
        "imageDimensions": {
         "height": 480,
         "width": 1058
        }
       },
       "removedWidgets": [],
       "type": "image"
      },
      "image/png": {
       "height": 480,
       "width": 1058
      }
     },
     "output_type": "display_data"
    },
    {
     "output_type": "display_data",
     "data": {
      "text/html": [
       "<style scoped>\n",
       "  .ansiout {\n",
       "    display: block;\n",
       "    unicode-bidi: embed;\n",
       "    white-space: pre-wrap;\n",
       "    word-wrap: break-word;\n",
       "    word-break: break-all;\n",
       "    font-family: \"Menlo\", \"Monaco\", \"Consolas\", \"Ubuntu Mono\", \"Source Code Pro\", monospace;\n",
       "    font-size: 13px;\n",
       "    color: #555;\n",
       "    margin-left: 4px;\n",
       "    line-height: 19px;\n",
       "  }\n",
       "</style>\n",
       "<div class=\"ansiout\">&lt;AxesSubplot:xlabel=&#39;target&#39;, ylabel=&#39;thalach&#39;&gt;</div>"
      ]
     },
     "metadata": {
      "application/vnd.databricks.v1+output": {
       "addedWidgets": {},
       "arguments": {},
       "data": "<div class=\"ansiout\">&lt;AxesSubplot:xlabel=&#39;target&#39;, ylabel=&#39;thalach&#39;&gt;</div>",
       "datasetInfos": [],
       "metadata": {},
       "removedWidgets": [],
       "type": "html"
      }
     },
     "output_type": "display_data"
    }
   ],
   "source": [
    "sns.boxplot(x='target', y='thalach', data=heart)"
   ]
  },
  {
   "cell_type": "markdown",
   "metadata": {
    "application/vnd.databricks.v1+cell": {
     "cellMetadata": {},
     "inputWidgets": {},
     "nuid": "b68dda2a-4bae-4b36-814b-54280edefdf8",
     "showTitle": false,
     "title": ""
    }
   },
   "source": [
    "### What is the relationship between age and chol columns?\n",
    "Use a hexplot to visualize the relationship"
   ]
  },
  {
   "cell_type": "code",
   "execution_count": 0,
   "metadata": {
    "application/vnd.databricks.v1+cell": {
     "cellMetadata": {
      "byteLimit": 2048000,
      "rowLimit": 10000
     },
     "inputWidgets": {},
     "nuid": "c3f9979d-4403-4a24-b652-3f1904a0398b",
     "showTitle": false,
     "title": ""
    }
   },
   "outputs": [
    {
     "output_type": "display_data",
     "data": {
      "text/html": [
       "<style scoped>\n",
       "  .ansiout {\n",
       "    display: block;\n",
       "    unicode-bidi: embed;\n",
       "    white-space: pre-wrap;\n",
       "    word-wrap: break-word;\n",
       "    word-break: break-all;\n",
       "    font-family: \"Menlo\", \"Monaco\", \"Consolas\", \"Ubuntu Mono\", \"Source Code Pro\", monospace;\n",
       "    font-size: 13px;\n",
       "    color: #555;\n",
       "    margin-left: 4px;\n",
       "    line-height: 19px;\n",
       "  }\n",
       "</style>\n",
       "<div class=\"ansiout\">Out[32]: </div>"
      ]
     },
     "metadata": {
      "application/vnd.databricks.v1+output": {
       "addedWidgets": {},
       "arguments": {},
       "data": "<div class=\"ansiout\">Out[32]: </div>",
       "datasetInfos": [],
       "metadata": {},
       "removedWidgets": [],
       "type": "html"
      }
     },
     "output_type": "display_data"
    },
    {
     "output_type": "display_data",
     "data": {
      "image/png": "[encoded data removed]"
     },
     "metadata": {
      "application/vnd.databricks.v1+output": {
       "addedWidgets": {},
       "arguments": {},
       "data": "data:image/png;base64,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",
       "datasetInfos": [],
       "metadata": {
        "imageDimensions": {
         "height": 480,
         "width": 1058
        }
       },
       "removedWidgets": [],
       "type": "image"
      },
      "image/png": {
       "height": 480,
       "width": 1058
      }
     },
     "output_type": "display_data"
    },
    {
     "output_type": "display_data",
     "data": {
      "text/html": [
       "<style scoped>\n",
       "  .ansiout {\n",
       "    display: block;\n",
       "    unicode-bidi: embed;\n",
       "    white-space: pre-wrap;\n",
       "    word-wrap: break-word;\n",
       "    word-break: break-all;\n",
       "    font-family: \"Menlo\", \"Monaco\", \"Consolas\", \"Ubuntu Mono\", \"Source Code Pro\", monospace;\n",
       "    font-size: 13px;\n",
       "    color: #555;\n",
       "    margin-left: 4px;\n",
       "    line-height: 19px;\n",
       "  }\n",
       "</style>\n",
       "<div class=\"ansiout\">&lt;AxesSubplot:xlabel=&#39;age&#39;, ylabel=&#39;chol&#39;&gt;</div>"
      ]
     },
     "metadata": {
      "application/vnd.databricks.v1+output": {
       "addedWidgets": {},
       "arguments": {},
       "data": "<div class=\"ansiout\">&lt;AxesSubplot:xlabel=&#39;age&#39;, ylabel=&#39;chol&#39;&gt;</div>",
       "datasetInfos": [],
       "metadata": {},
       "removedWidgets": [],
       "type": "html"
      }
     },
     "output_type": "display_data"
    }
   ],
   "source": [
    "sns.scatterplot(x='age', y='chol', data=heart)"
   ]
  },
  {
   "cell_type": "markdown",
   "metadata": {
    "application/vnd.databricks.v1+cell": {
     "cellMetadata": {},
     "inputWidgets": {},
     "nuid": "11873885-440f-41c9-860f-8c3dab908990",
     "showTitle": false,
     "title": ""
    }
   },
   "source": [
    "### Is there any difference in mean age of patients with different chest pain types? \n",
    "Perform an ANOVA test and plot the results using seaborn"
   ]
  },
  {
   "cell_type": "code",
   "execution_count": 0,
   "metadata": {
    "application/vnd.databricks.v1+cell": {
     "cellMetadata": {
      "byteLimit": 2048000,
      "rowLimit": 10000
     },
     "inputWidgets": {},
     "nuid": "18e7722c-13fc-4ce4-a0ce-3b4ef00cf7da",
     "showTitle": false,
     "title": ""
    }
   },
   "outputs": [
    {
     "output_type": "display_data",
     "data": {
      "text/html": [
       "<style scoped>\n",
       "  .ansiout {\n",
       "    display: block;\n",
       "    unicode-bidi: embed;\n",
       "    white-space: pre-wrap;\n",
       "    word-wrap: break-word;\n",
       "    word-break: break-all;\n",
       "    font-family: \"Menlo\", \"Monaco\", \"Consolas\", \"Ubuntu Mono\", \"Source Code Pro\", monospace;\n",
       "    font-size: 13px;\n",
       "    color: #555;\n",
       "    margin-left: 4px;\n",
       "    line-height: 19px;\n",
       "  }\n",
       "</style>\n",
       "<div class=\"ansiout\"></div>"
      ]
     },
     "metadata": {
      "application/vnd.databricks.v1+output": {
       "addedWidgets": {},
       "arguments": {},
       "data": "<div class=\"ansiout\"></div>",
       "datasetInfos": [],
       "metadata": {},
       "removedWidgets": [],
       "type": "html"
      }
     },
     "output_type": "display_data"
    }
   ],
   "source": [
    "from scipy import stats"
   ]
  },
  {
   "cell_type": "code",
   "execution_count": 0,
   "metadata": {
    "application/vnd.databricks.v1+cell": {
     "cellMetadata": {
      "byteLimit": 2048000,
      "rowLimit": 10000
     },
     "inputWidgets": {},
     "nuid": "b391dc5c-52ec-4489-b074-b554542428f8",
     "showTitle": false,
     "title": ""
    }
   },
   "outputs": [
    {
     "output_type": "display_data",
     "data": {
      "text/html": [
       "<style scoped>\n",
       "  .ansiout {\n",
       "    display: block;\n",
       "    unicode-bidi: embed;\n",
       "    white-space: pre-wrap;\n",
       "    word-wrap: break-word;\n",
       "    word-break: break-all;\n",
       "    font-family: \"Menlo\", \"Monaco\", \"Consolas\", \"Ubuntu Mono\", \"Source Code Pro\", monospace;\n",
       "    font-size: 13px;\n",
       "    color: #555;\n",
       "    margin-left: 4px;\n",
       "    line-height: 19px;\n",
       "  }\n",
       "</style>\n",
       "<div class=\"ansiout\">Out[34]: Index([&#39;age&#39;, &#39;sex&#39;, &#39;cp&#39;, &#39;trestbps&#39;, &#39;chol&#39;, &#39;fbs&#39;, &#39;restecg&#39;, &#39;thalach&#39;,\n",
       "       &#39;exang&#39;, &#39;oldpeak&#39;, &#39;slope&#39;, &#39;ca&#39;, &#39;thal&#39;, &#39;target&#39;],\n",
       "      dtype=&#39;object&#39;)</div>"
      ]
     },
     "metadata": {
      "application/vnd.databricks.v1+output": {
       "addedWidgets": {},
       "arguments": {},
       "data": "<div class=\"ansiout\">Out[34]: Index([&#39;age&#39;, &#39;sex&#39;, &#39;cp&#39;, &#39;trestbps&#39;, &#39;chol&#39;, &#39;fbs&#39;, &#39;restecg&#39;, &#39;thalach&#39;,\n       &#39;exang&#39;, &#39;oldpeak&#39;, &#39;slope&#39;, &#39;ca&#39;, &#39;thal&#39;, &#39;target&#39;],\n      dtype=&#39;object&#39;)</div>",
       "datasetInfos": [],
       "metadata": {},
       "removedWidgets": [],
       "type": "html"
      }
     },
     "output_type": "display_data"
    }
   ],
   "source": [
    "heart.columns"
   ]
  },
  {
   "cell_type": "code",
   "execution_count": 0,
   "metadata": {
    "application/vnd.databricks.v1+cell": {
     "cellMetadata": {
      "byteLimit": 2048000,
      "rowLimit": 10000
     },
     "inputWidgets": {},
     "nuid": "bfa030e0-3cbb-4b9b-ad62-de4e6b07de23",
     "showTitle": false,
     "title": ""
    }
   },
   "outputs": [
    {
     "output_type": "display_data",
     "data": {
      "text/html": [
       "<style scoped>\n",
       "  .ansiout {\n",
       "    display: block;\n",
       "    unicode-bidi: embed;\n",
       "    white-space: pre-wrap;\n",
       "    word-wrap: break-word;\n",
       "    word-break: break-all;\n",
       "    font-family: \"Menlo\", \"Monaco\", \"Consolas\", \"Ubuntu Mono\", \"Source Code Pro\", monospace;\n",
       "    font-size: 13px;\n",
       "    color: #555;\n",
       "    margin-left: 4px;\n",
       "    line-height: 19px;\n",
       "  }\n",
       "</style>\n",
       "<div class=\"ansiout\">Out[35]: array([3, 2, 1, 0])</div>"
      ]
     },
     "metadata": {
      "application/vnd.databricks.v1+output": {
       "addedWidgets": {},
       "arguments": {},
       "data": "<div class=\"ansiout\">Out[35]: array([3, 2, 1, 0])</div>",
       "datasetInfos": [],
       "metadata": {},
       "removedWidgets": [],
       "type": "html"
      }
     },
     "output_type": "display_data"
    }
   ],
   "source": [
    "heart['cp'].unique()"
   ]
  },
  {
   "cell_type": "code",
   "execution_count": 0,
   "metadata": {
    "application/vnd.databricks.v1+cell": {
     "cellMetadata": {
      "byteLimit": 2048000,
      "rowLimit": 10000
     },
     "inputWidgets": {},
     "nuid": "158a1fb9-32f9-40b5-8198-9ef31401146e",
     "showTitle": false,
     "title": ""
    }
   },
   "outputs": [
    {
     "output_type": "display_data",
     "data": {
      "text/html": [
       "<style scoped>\n",
       "  .ansiout {\n",
       "    display: block;\n",
       "    unicode-bidi: embed;\n",
       "    white-space: pre-wrap;\n",
       "    word-wrap: break-word;\n",
       "    word-break: break-all;\n",
       "    font-family: \"Menlo\", \"Monaco\", \"Consolas\", \"Ubuntu Mono\", \"Source Code Pro\", monospace;\n",
       "    font-size: 13px;\n",
       "    color: #555;\n",
       "    margin-left: 4px;\n",
       "    line-height: 19px;\n",
       "  }\n",
       "</style>\n",
       "<div class=\"ansiout\">Out[38]: cp\n",
       "0    55.7\n",
       "1    51.4\n",
       "2    53.5\n",
       "3    55.9\n",
       "Name: age, dtype: float64</div>"
      ]
     },
     "metadata": {
      "application/vnd.databricks.v1+output": {
       "addedWidgets": {},
       "arguments": {},
       "data": "<div class=\"ansiout\">Out[38]: cp\n0    55.7\n1    51.4\n2    53.5\n3    55.9\nName: age, dtype: float64</div>",
       "datasetInfos": [],
       "metadata": {},
       "removedWidgets": [],
       "type": "html"
      }
     },
     "output_type": "display_data"
    }
   ],
   "source": [
    "heart.groupby('cp')['age'].mean().round(1)"
   ]
  },
  {
   "cell_type": "code",
   "execution_count": 0,
   "metadata": {
    "application/vnd.databricks.v1+cell": {
     "cellMetadata": {
      "byteLimit": 2048000,
      "rowLimit": 10000
     },
     "inputWidgets": {},
     "nuid": "e4aca799-2b68-4c61-b2c7-2c056c1de3f9",
     "showTitle": false,
     "title": ""
    }
   },
   "outputs": [
    {
     "output_type": "display_data",
     "data": {
      "text/html": [
       "<style scoped>\n",
       "  .ansiout {\n",
       "    display: block;\n",
       "    unicode-bidi: embed;\n",
       "    white-space: pre-wrap;\n",
       "    word-wrap: break-word;\n",
       "    word-break: break-all;\n",
       "    font-family: \"Menlo\", \"Monaco\", \"Consolas\", \"Ubuntu Mono\", \"Source Code Pro\", monospace;\n",
       "    font-size: 13px;\n",
       "    color: #555;\n",
       "    margin-left: 4px;\n",
       "    line-height: 19px;\n",
       "  }\n",
       "</style>\n",
       "<div class=\"ansiout\">The Pearson Correlation Coefficient is -0.06865301584014488 with a P-value of P = 0.23345628530697077\n",
       "</div>"
      ]
     },
     "metadata": {
      "application/vnd.databricks.v1+output": {
       "addedWidgets": {},
       "arguments": {},
       "data": "<div class=\"ansiout\">The Pearson Correlation Coefficient is -0.06865301584014488 with a P-value of P = 0.23345628530697077\n</div>",
       "datasetInfos": [],
       "metadata": {},
       "removedWidgets": [],
       "type": "html"
      }
     },
     "output_type": "display_data"
    }
   ],
   "source": [
    "pearson_coef, p_value=stats.pearsonr(heart['cp'], heart['age'])\n",
    "print('The Pearson Correlation Coefficient is', pearson_coef, \"with a P-value of P =\", p_value)"
   ]
  },
  {
   "cell_type": "code",
   "execution_count": 0,
   "metadata": {
    "application/vnd.databricks.v1+cell": {
     "cellMetadata": {
      "byteLimit": 2048000,
      "rowLimit": 10000
     },
     "inputWidgets": {},
     "nuid": "12f5d7cb-291f-472c-bd02-b33d68c54f3d",
     "showTitle": false,
     "title": ""
    }
   },
   "outputs": [
    {
     "output_type": "display_data",
     "data": {
      "text/html": [
       "<style scoped>\n",
       "  .ansiout {\n",
       "    display: block;\n",
       "    unicode-bidi: embed;\n",
       "    white-space: pre-wrap;\n",
       "    word-wrap: break-word;\n",
       "    word-break: break-all;\n",
       "    font-family: \"Menlo\", \"Monaco\", \"Consolas\", \"Ubuntu Mono\", \"Source Code Pro\", monospace;\n",
       "    font-size: 13px;\n",
       "    color: #555;\n",
       "    margin-left: 4px;\n",
       "    line-height: 19px;\n",
       "  }\n",
       "</style>\n",
       "<div class=\"ansiout\">Out[49]: </div>"
      ]
     },
     "metadata": {
      "application/vnd.databricks.v1+output": {
       "addedWidgets": {},
       "arguments": {},
       "data": "<div class=\"ansiout\">Out[49]: </div>",
       "datasetInfos": [],
       "metadata": {},
       "removedWidgets": [],
       "type": "html"
      }
     },
     "output_type": "display_data"
    },
    {
     "output_type": "display_data",
     "data": {
      "text/html": [
       "<div>\n",
       "<style scoped>\n",
       "    .dataframe tbody tr th:only-of-type {\n",
       "        vertical-align: middle;\n",
       "    }\n",
       "\n",
       "    .dataframe tbody tr th {\n",
       "        vertical-align: top;\n",
       "    }\n",
       "\n",
       "    .dataframe thead th {\n",
       "        text-align: right;\n",
       "    }\n",
       "</style>\n",
       "<table border=\"1\" class=\"dataframe\">\n",
       "  <thead>\n",
       "    <tr style=\"text-align: right;\">\n",
       "      <th></th>\n",
       "      <th>age</th>\n",
       "    </tr>\n",
       "    <tr>\n",
       "      <th>cp</th>\n",
       "      <th></th>\n",
       "    </tr>\n",
       "  </thead>\n",
       "  <tbody>\n",
       "    <tr>\n",
       "      <th>0</th>\n",
       "      <td>55.692308</td>\n",
       "    </tr>\n",
       "    <tr>\n",
       "      <th>1</th>\n",
       "      <td>51.360000</td>\n",
       "    </tr>\n",
       "    <tr>\n",
       "      <th>2</th>\n",
       "      <td>53.517241</td>\n",
       "    </tr>\n",
       "    <tr>\n",
       "      <th>3</th>\n",
       "      <td>55.869565</td>\n",
       "    </tr>\n",
       "  </tbody>\n",
       "</table>\n",
       "</div>"
      ]
     },
     "metadata": {
      "application/vnd.databricks.v1+output": {
       "addedWidgets": {},
       "arguments": {},
       "data": "<div>\n<style scoped>\n    .dataframe tbody tr th:only-of-type {\n        vertical-align: middle;\n    }\n\n    .dataframe tbody tr th {\n        vertical-align: top;\n    }\n\n    .dataframe thead th {\n        text-align: right;\n    }\n</style>\n<table border=\"1\" class=\"dataframe\">\n  <thead>\n    <tr style=\"text-align: right;\">\n      <th></th>\n      <th>age</th>\n    </tr>\n    <tr>\n      <th>cp</th>\n      <th></th>\n    </tr>\n  </thead>\n  <tbody>\n    <tr>\n      <th>0</th>\n      <td>55.692308</td>\n    </tr>\n    <tr>\n      <th>1</th>\n      <td>51.360000</td>\n    </tr>\n    <tr>\n      <th>2</th>\n      <td>53.517241</td>\n    </tr>\n    <tr>\n      <th>3</th>\n      <td>55.869565</td>\n    </tr>\n  </tbody>\n</table>\n</div>",
       "datasetInfos": [],
       "metadata": {},
       "removedWidgets": [],
       "textData": null,
       "type": "htmlSandbox"
      }
     },
     "output_type": "display_data"
    }
   ],
   "source": [
    "grouped = heart.groupby('cp')['age'].mean().to_frame()\n",
    "grouped"
   ]
  },
  {
   "cell_type": "code",
   "execution_count": 0,
   "metadata": {
    "application/vnd.databricks.v1+cell": {
     "cellMetadata": {
      "byteLimit": 2048000,
      "rowLimit": 10000
     },
     "inputWidgets": {},
     "nuid": "3ad79708-5c6e-45d9-ad5b-6466595ddfe7",
     "showTitle": false,
     "title": ""
    }
   },
   "outputs": [
    {
     "output_type": "display_data",
     "data": {
      "text/html": [
       "<style scoped>\n",
       "  .ansiout {\n",
       "    display: block;\n",
       "    unicode-bidi: embed;\n",
       "    white-space: pre-wrap;\n",
       "    word-wrap: break-word;\n",
       "    word-break: break-all;\n",
       "    font-family: \"Menlo\", \"Monaco\", \"Consolas\", \"Ubuntu Mono\", \"Source Code Pro\", monospace;\n",
       "    font-size: 13px;\n",
       "    color: #555;\n",
       "    margin-left: 4px;\n",
       "    line-height: 19px;\n",
       "  }\n",
       "</style>\n",
       "<div class=\"ansiout\">Out[57]: </div>"
      ]
     },
     "metadata": {
      "application/vnd.databricks.v1+output": {
       "addedWidgets": {},
       "arguments": {},
       "data": "<div class=\"ansiout\">Out[57]: </div>",
       "datasetInfos": [],
       "metadata": {},
       "removedWidgets": [],
       "type": "html"
      }
     },
     "output_type": "display_data"
    },
    {
     "output_type": "display_data",
     "data": {
      "image/png": "[encoded data removed]"
     },
     "metadata": {
      "application/vnd.databricks.v1+output": {
       "addedWidgets": {},
       "arguments": {},
       "data": "data:image/png;base64,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",
       "datasetInfos": [],
       "metadata": {
        "imageDimensions": {
         "height": 523,
         "width": 1070
        }
       },
       "removedWidgets": [],
       "type": "image"
      },
      "image/png": {
       "height": 523,
       "width": 1070
      }
     },
     "output_type": "display_data"
    },
    {
     "output_type": "display_data",
     "data": {
      "text/html": [
       "<style scoped>\n",
       "  .ansiout {\n",
       "    display: block;\n",
       "    unicode-bidi: embed;\n",
       "    white-space: pre-wrap;\n",
       "    word-wrap: break-word;\n",
       "    word-break: break-all;\n",
       "    font-family: \"Menlo\", \"Monaco\", \"Consolas\", \"Ubuntu Mono\", \"Source Code Pro\", monospace;\n",
       "    font-size: 13px;\n",
       "    color: #555;\n",
       "    margin-left: 4px;\n",
       "    line-height: 19px;\n",
       "  }\n",
       "</style>\n",
       "<div class=\"ansiout\">&lt;AxesSubplot:title={&#39;center&#39;:&#39;age&#39;}, xlabel=&#39;cp&#39;&gt;</div>"
      ]
     },
     "metadata": {
      "application/vnd.databricks.v1+output": {
       "addedWidgets": {},
       "arguments": {},
       "data": "<div class=\"ansiout\">&lt;AxesSubplot:title={&#39;center&#39;:&#39;age&#39;}, xlabel=&#39;cp&#39;&gt;</div>",
       "datasetInfos": [],
       "metadata": {},
       "removedWidgets": [],
       "type": "html"
      }
     },
     "output_type": "display_data"
    }
   ],
   "source": [
    "df = pd.DataFrame(heart, columns=['cp', 'age'])\n",
    "df.boxplot(column='age', by='cp', grid=True)"
   ]
  },
  {
   "cell_type": "code",
   "execution_count": 0,
   "metadata": {
    "application/vnd.databricks.v1+cell": {
     "cellMetadata": {
      "byteLimit": 2048000,
      "rowLimit": 10000
     },
     "inputWidgets": {},
     "nuid": "9228d74d-2241-4ef3-92cd-5e754679d9c2",
     "showTitle": false,
     "title": ""
    }
   },
   "outputs": [
    {
     "output_type": "display_data",
     "data": {
      "text/html": [
       "<style scoped>\n",
       "  .ansiout {\n",
       "    display: block;\n",
       "    unicode-bidi: embed;\n",
       "    white-space: pre-wrap;\n",
       "    word-wrap: break-word;\n",
       "    word-break: break-all;\n",
       "    font-family: \"Menlo\", \"Monaco\", \"Consolas\", \"Ubuntu Mono\", \"Source Code Pro\", monospace;\n",
       "    font-size: 13px;\n",
       "    color: #555;\n",
       "    margin-left: 4px;\n",
       "    line-height: 19px;\n",
       "  }\n",
       "</style>\n",
       "<div class=\"ansiout\">Out[60]: </div>"
      ]
     },
     "metadata": {
      "application/vnd.databricks.v1+output": {
       "addedWidgets": {},
       "arguments": {},
       "data": "<div class=\"ansiout\">Out[60]: </div>",
       "datasetInfos": [],
       "metadata": {},
       "removedWidgets": [],
       "type": "html"
      }
     },
     "output_type": "display_data"
    },
    {
     "output_type": "display_data",
     "data": {
      "text/html": [
       "<div>\n",
       "<style scoped>\n",
       "    .dataframe tbody tr th:only-of-type {\n",
       "        vertical-align: middle;\n",
       "    }\n",
       "\n",
       "    .dataframe tbody tr th {\n",
       "        vertical-align: top;\n",
       "    }\n",
       "\n",
       "    .dataframe thead th {\n",
       "        text-align: right;\n",
       "    }\n",
       "</style>\n",
       "<table border=\"1\" class=\"dataframe\">\n",
       "  <thead>\n",
       "    <tr style=\"text-align: right;\">\n",
       "      <th></th>\n",
       "      <th>df</th>\n",
       "      <th>sum_sq</th>\n",
       "      <th>mean_sq</th>\n",
       "      <th>F</th>\n",
       "      <th>PR(&gt;F)</th>\n",
       "    </tr>\n",
       "  </thead>\n",
       "  <tbody>\n",
       "    <tr>\n",
       "      <th>age</th>\n",
       "      <td>1.0</td>\n",
       "      <td>1.516107e+00</td>\n",
       "      <td>1.516107e+00</td>\n",
       "      <td>6.195419e+27</td>\n",
       "      <td>0.000000</td>\n",
       "    </tr>\n",
       "    <tr>\n",
       "      <th>cp</th>\n",
       "      <td>1.0</td>\n",
       "      <td>3.201539e+02</td>\n",
       "      <td>3.201539e+02</td>\n",
       "      <td>1.308277e+30</td>\n",
       "      <td>0.000000</td>\n",
       "    </tr>\n",
       "    <tr>\n",
       "      <th>age:cp</th>\n",
       "      <td>1.0</td>\n",
       "      <td>3.674388e-32</td>\n",
       "      <td>3.674388e-32</td>\n",
       "      <td>1.501502e-04</td>\n",
       "      <td>0.990231</td>\n",
       "    </tr>\n",
       "    <tr>\n",
       "      <th>Residual</th>\n",
       "      <td>299.0</td>\n",
       "      <td>7.316953e-26</td>\n",
       "      <td>2.447141e-28</td>\n",
       "      <td>NaN</td>\n",
       "      <td>NaN</td>\n",
       "    </tr>\n",
       "  </tbody>\n",
       "</table>\n",
       "</div>"
      ]
     },
     "metadata": {
      "application/vnd.databricks.v1+output": {
       "addedWidgets": {},
       "arguments": {},
       "data": "<div>\n<style scoped>\n    .dataframe tbody tr th:only-of-type {\n        vertical-align: middle;\n    }\n\n    .dataframe tbody tr th {\n        vertical-align: top;\n    }\n\n    .dataframe thead th {\n        text-align: right;\n    }\n</style>\n<table border=\"1\" class=\"dataframe\">\n  <thead>\n    <tr style=\"text-align: right;\">\n      <th></th>\n      <th>df</th>\n      <th>sum_sq</th>\n      <th>mean_sq</th>\n      <th>F</th>\n      <th>PR(&gt;F)</th>\n    </tr>\n  </thead>\n  <tbody>\n    <tr>\n      <th>age</th>\n      <td>1.0</td>\n      <td>1.516107e+00</td>\n      <td>1.516107e+00</td>\n      <td>6.195419e+27</td>\n      <td>0.000000</td>\n    </tr>\n    <tr>\n      <th>cp</th>\n      <td>1.0</td>\n      <td>3.201539e+02</td>\n      <td>3.201539e+02</td>\n      <td>1.308277e+30</td>\n      <td>0.000000</td>\n    </tr>\n    <tr>\n      <th>age:cp</th>\n      <td>1.0</td>\n      <td>3.674388e-32</td>\n      <td>3.674388e-32</td>\n      <td>1.501502e-04</td>\n      <td>0.990231</td>\n    </tr>\n    <tr>\n      <th>Residual</th>\n      <td>299.0</td>\n      <td>7.316953e-26</td>\n      <td>2.447141e-28</td>\n      <td>NaN</td>\n      <td>NaN</td>\n    </tr>\n  </tbody>\n</table>\n</div>",
       "datasetInfos": [],
       "metadata": {},
       "removedWidgets": [],
       "textData": null,
       "type": "htmlSandbox"
      }
     },
     "output_type": "display_data"
    }
   ],
   "source": [
    "from statsmodels.formula.api import ols\n",
    "from statsmodels.stats.anova import anova_lm\n",
    "\n",
    "model = 'cp ~ age*cp'\n",
    "\n",
    "two_anova = ols(model, data=heart).fit()\n",
    "\n",
    "anova_lm(two_anova)"
   ]
  },
  {
   "cell_type": "code",
   "execution_count": 0,
   "metadata": {
    "application/vnd.databricks.v1+cell": {
     "cellMetadata": {
      "byteLimit": 2048000,
      "rowLimit": 10000
     },
     "inputWidgets": {},
     "nuid": "df2c74d3-9031-4412-9944-4255e8da84b2",
     "showTitle": false,
     "title": ""
    }
   },
   "outputs": [
    {
     "output_type": "display_data",
     "data": {
      "text/html": [
       "<style scoped>\n",
       "  .ansiout {\n",
       "    display: block;\n",
       "    unicode-bidi: embed;\n",
       "    white-space: pre-wrap;\n",
       "    word-wrap: break-word;\n",
       "    word-break: break-all;\n",
       "    font-family: \"Menlo\", \"Monaco\", \"Consolas\", \"Ubuntu Mono\", \"Source Code Pro\", monospace;\n",
       "    font-size: 13px;\n",
       "    color: #555;\n",
       "    margin-left: 4px;\n",
       "    line-height: 19px;\n",
       "  }\n",
       "</style>\n",
       "<div class=\"ansiout\">Out[62]: </div>"
      ]
     },
     "metadata": {
      "application/vnd.databricks.v1+output": {
       "addedWidgets": {},
       "arguments": {},
       "data": "<div class=\"ansiout\">Out[62]: </div>",
       "datasetInfos": [],
       "metadata": {},
       "removedWidgets": [],
       "type": "html"
      }
     },
     "output_type": "display_data"
    },
    {
     "output_type": "display_data",
     "data": {
      "image/png": "[encoded data removed]"
     },
     "metadata": {
      "application/vnd.databricks.v1+output": {
       "addedWidgets": {},
       "arguments": {},
       "data": "data:image/png;base64,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",
       "datasetInfos": [],
       "metadata": {
        "imageDimensions": {
         "height": 480,
         "width": 1052
        }
       },
       "removedWidgets": [],
       "type": "image"
      },
      "image/png": {
       "height": 480,
       "width": 1052
      }
     },
     "output_type": "display_data"
    },
    {
     "output_type": "display_data",
     "data": {
      "text/html": [
       "<style scoped>\n",
       "  .ansiout {\n",
       "    display: block;\n",
       "    unicode-bidi: embed;\n",
       "    white-space: pre-wrap;\n",
       "    word-wrap: break-word;\n",
       "    word-break: break-all;\n",
       "    font-family: \"Menlo\", \"Monaco\", \"Consolas\", \"Ubuntu Mono\", \"Source Code Pro\", monospace;\n",
       "    font-size: 13px;\n",
       "    color: #555;\n",
       "    margin-left: 4px;\n",
       "    line-height: 19px;\n",
       "  }\n",
       "</style>\n",
       "<div class=\"ansiout\">&lt;AxesSubplot:xlabel=&#39;cp&#39;, ylabel=&#39;age&#39;&gt;</div>"
      ]
     },
     "metadata": {
      "application/vnd.databricks.v1+output": {
       "addedWidgets": {},
       "arguments": {},
       "data": "<div class=\"ansiout\">&lt;AxesSubplot:xlabel=&#39;cp&#39;, ylabel=&#39;age&#39;&gt;</div>",
       "datasetInfos": [],
       "metadata": {},
       "removedWidgets": [],
       "type": "html"
      }
     },
     "output_type": "display_data"
    }
   ],
   "source": [
    "import seaborn as sns\n",
    "sns.pointplot(x='cp', y='age', hue='cp', data=heart)"
   ]
  },
  {
   "cell_type": "markdown",
   "metadata": {
    "application/vnd.databricks.v1+cell": {
     "cellMetadata": {},
     "inputWidgets": {},
     "nuid": "8cee5092-cd3b-4056-a57b-3521451b231d",
     "showTitle": false,
     "title": ""
    }
   },
   "source": [
    "# Feature engineering\n",
    "\n",
    "Read the dataset house_price.csv using pandas. Path: /dbfs/FileStore/CDS2024/houseprice.csv"
   ]
  },
  {
   "cell_type": "code",
   "execution_count": 0,
   "metadata": {
    "application/vnd.databricks.v1+cell": {
     "cellMetadata": {
      "byteLimit": 2048000,
      "rowLimit": 10000
     },
     "inputWidgets": {},
     "nuid": "4da2af21-8e09-4a91-83ec-62409acdd7d1",
     "showTitle": false,
     "title": ""
    }
   },
   "outputs": [
    {
     "output_type": "display_data",
     "data": {
      "text/html": [
       "<style scoped>\n",
       "  .ansiout {\n",
       "    display: block;\n",
       "    unicode-bidi: embed;\n",
       "    white-space: pre-wrap;\n",
       "    word-wrap: break-word;\n",
       "    word-break: break-all;\n",
       "    font-family: \"Menlo\", \"Monaco\", \"Consolas\", \"Ubuntu Mono\", \"Source Code Pro\", monospace;\n",
       "    font-size: 13px;\n",
       "    color: #555;\n",
       "    margin-left: 4px;\n",
       "    line-height: 19px;\n",
       "  }\n",
       "</style>\n",
       "<div class=\"ansiout\"></div>"
      ]
     },
     "metadata": {
      "application/vnd.databricks.v1+output": {
       "addedWidgets": {},
       "arguments": {},
       "data": "<div class=\"ansiout\"></div>",
       "datasetInfos": [],
       "metadata": {},
       "removedWidgets": [],
       "type": "html"
      }
     },
     "output_type": "display_data"
    }
   ],
   "source": [
    "house = pd.read_csv('/dbfs/FileStore/CDS2024/houseprice.csv')"
   ]
  },
  {
   "cell_type": "markdown",
   "metadata": {
    "application/vnd.databricks.v1+cell": {
     "cellMetadata": {},
     "inputWidgets": {},
     "nuid": "331b2595-840a-4fb1-a0ed-a9092a3c035c",
     "showTitle": false,
     "title": ""
    }
   },
   "source": [
    "### Explore the dataset using pandas. Are there any missing values? How many missing values are there in each feature? \n",
    "Use seaborn library to plot the results. "
   ]
  },
  {
   "cell_type": "code",
   "execution_count": 0,
   "metadata": {
    "application/vnd.databricks.v1+cell": {
     "cellMetadata": {
      "byteLimit": 2048000,
      "rowLimit": 10000
     },
     "inputWidgets": {},
     "nuid": "da4f5084-f5a0-4a9e-8ee3-02bdf137055f",
     "showTitle": false,
     "title": ""
    }
   },
   "outputs": [
    {
     "output_type": "display_data",
     "data": {
      "text/html": [
       "<style scoped>\n",
       "  .ansiout {\n",
       "    display: block;\n",
       "    unicode-bidi: embed;\n",
       "    white-space: pre-wrap;\n",
       "    word-wrap: break-word;\n",
       "    word-break: break-all;\n",
       "    font-family: \"Menlo\", \"Monaco\", \"Consolas\", \"Ubuntu Mono\", \"Source Code Pro\", monospace;\n",
       "    font-size: 13px;\n",
       "    color: #555;\n",
       "    margin-left: 4px;\n",
       "    line-height: 19px;\n",
       "  }\n",
       "</style>\n",
       "<div class=\"ansiout\">Out[68]: Unnamed: 0         0\n",
       "Id                 0\n",
       "MSSubClass         0\n",
       "MSZoning           0\n",
       "LotFrontage      259\n",
       "                ... \n",
       "MoSold             0\n",
       "YrSold             0\n",
       "SaleType           0\n",
       "SaleCondition      0\n",
       "SalePrice          0\n",
       "Length: 82, dtype: int64</div>"
      ]
     },
     "metadata": {
      "application/vnd.databricks.v1+output": {
       "addedWidgets": {},
       "arguments": {},
       "data": "<div class=\"ansiout\">Out[68]: Unnamed: 0         0\nId                 0\nMSSubClass         0\nMSZoning           0\nLotFrontage      259\n                ... \nMoSold             0\nYrSold             0\nSaleType           0\nSaleCondition      0\nSalePrice          0\nLength: 82, dtype: int64</div>",
       "datasetInfos": [],
       "metadata": {},
       "removedWidgets": [],
       "type": "html"
      }
     },
     "output_type": "display_data"
    }
   ],
   "source": [
    "\n",
    "house.isnull().sum()"
   ]
  },
  {
   "cell_type": "code",
   "execution_count": 0,
   "metadata": {
    "application/vnd.databricks.v1+cell": {
     "cellMetadata": {
      "byteLimit": 2048000,
      "rowLimit": 10000
     },
     "inputWidgets": {},
     "nuid": "acaa5d62-de18-46e6-b7f0-e518edb42da9",
     "showTitle": false,
     "title": ""
    }
   },
   "outputs": [
    {
     "output_type": "display_data",
     "data": {
      "text/html": [
       "<style scoped>\n",
       "  .ansiout {\n",
       "    display: block;\n",
       "    unicode-bidi: embed;\n",
       "    white-space: pre-wrap;\n",
       "    word-wrap: break-word;\n",
       "    word-break: break-all;\n",
       "    font-family: \"Menlo\", \"Monaco\", \"Consolas\", \"Ubuntu Mono\", \"Source Code Pro\", monospace;\n",
       "    font-size: 13px;\n",
       "    color: #555;\n",
       "    margin-left: 4px;\n",
       "    line-height: 19px;\n",
       "  }\n",
       "</style>\n",
       "<div class=\"ansiout\">Out[69]: Unnamed: 0       0.000000\n",
       "Id               0.000000\n",
       "MSSubClass       0.000000\n",
       "MSZoning         0.000000\n",
       "LotFrontage      0.177397\n",
       "                   ...   \n",
       "MoSold           0.000000\n",
       "YrSold           0.000000\n",
       "SaleType         0.000000\n",
       "SaleCondition    0.000000\n",
       "SalePrice        0.000000\n",
       "Length: 82, dtype: float64</div>"
      ]
     },
     "metadata": {
      "application/vnd.databricks.v1+output": {
       "addedWidgets": {},
       "arguments": {},
       "data": "<div class=\"ansiout\">Out[69]: Unnamed: 0       0.000000\nId               0.000000\nMSSubClass       0.000000\nMSZoning         0.000000\nLotFrontage      0.177397\n                   ...   \nMoSold           0.000000\nYrSold           0.000000\nSaleType         0.000000\nSaleCondition    0.000000\nSalePrice        0.000000\nLength: 82, dtype: float64</div>",
       "datasetInfos": [],
       "metadata": {},
       "removedWidgets": [],
       "type": "html"
      }
     },
     "output_type": "display_data"
    }
   ],
   "source": [
    "house.isnull().mean()"
   ]
  },
  {
   "cell_type": "code",
   "execution_count": 0,
   "metadata": {
    "application/vnd.databricks.v1+cell": {
     "cellMetadata": {
      "byteLimit": 2048000,
      "rowLimit": 10000
     },
     "inputWidgets": {},
     "nuid": "403f4395-bac3-4d8c-b613-1ae5e89ff440",
     "showTitle": false,
     "title": ""
    }
   },
   "outputs": [
    {
     "output_type": "display_data",
     "data": {
      "text/html": [
       "<style scoped>\n",
       "  .ansiout {\n",
       "    display: block;\n",
       "    unicode-bidi: embed;\n",
       "    white-space: pre-wrap;\n",
       "    word-wrap: break-word;\n",
       "    word-break: break-all;\n",
       "    font-family: \"Menlo\", \"Monaco\", \"Consolas\", \"Ubuntu Mono\", \"Source Code Pro\", monospace;\n",
       "    font-size: 13px;\n",
       "    color: #555;\n",
       "    margin-left: 4px;\n",
       "    line-height: 19px;\n",
       "  }\n",
       "</style>\n",
       "<div class=\"ansiout\">Out[70]: (1460, 82)</div>"
      ]
     },
     "metadata": {
      "application/vnd.databricks.v1+output": {
       "addedWidgets": {},
       "arguments": {},
       "data": "<div class=\"ansiout\">Out[70]: (1460, 82)</div>",
       "datasetInfos": [],
       "metadata": {},
       "removedWidgets": [],
       "type": "html"
      }
     },
     "output_type": "display_data"
    }
   ],
   "source": [
    "house.shape"
   ]
  },
  {
   "cell_type": "code",
   "execution_count": 0,
   "metadata": {
    "application/vnd.databricks.v1+cell": {
     "cellMetadata": {
      "byteLimit": 2048000,
      "rowLimit": 10000
     },
     "inputWidgets": {},
     "nuid": "1fc51e35-8649-447e-b9f0-2b0d505238af",
     "showTitle": false,
     "title": ""
    }
   },
   "outputs": [
    {
     "output_type": "display_data",
     "data": {
      "text/html": [
       "<style scoped>\n",
       "  .ansiout {\n",
       "    display: block;\n",
       "    unicode-bidi: embed;\n",
       "    white-space: pre-wrap;\n",
       "    word-wrap: break-word;\n",
       "    word-break: break-all;\n",
       "    font-family: \"Menlo\", \"Monaco\", \"Consolas\", \"Ubuntu Mono\", \"Source Code Pro\", monospace;\n",
       "    font-size: 13px;\n",
       "    color: #555;\n",
       "    margin-left: 4px;\n",
       "    line-height: 19px;\n",
       "  }\n",
       "</style>\n",
       "<div class=\"ansiout\">Out[71]: [&#39;LotFrontage&#39;,\n",
       " &#39;Alley&#39;,\n",
       " &#39;MasVnrType&#39;,\n",
       " &#39;MasVnrArea&#39;,\n",
       " &#39;BsmtQual&#39;,\n",
       " &#39;BsmtCond&#39;,\n",
       " &#39;BsmtExposure&#39;,\n",
       " &#39;BsmtFinType1&#39;,\n",
       " &#39;BsmtFinType2&#39;,\n",
       " &#39;Electrical&#39;,\n",
       " &#39;FireplaceQu&#39;,\n",
       " &#39;GarageType&#39;,\n",
       " &#39;GarageYrBlt&#39;,\n",
       " &#39;GarageFinish&#39;,\n",
       " &#39;GarageQual&#39;,\n",
       " &#39;GarageCond&#39;,\n",
       " &#39;PoolQC&#39;,\n",
       " &#39;Fence&#39;,\n",
       " &#39;MiscFeature&#39;]</div>"
      ]
     },
     "metadata": {
      "application/vnd.databricks.v1+output": {
       "addedWidgets": {},
       "arguments": {},
       "data": "<div class=\"ansiout\">Out[71]: [&#39;LotFrontage&#39;,\n &#39;Alley&#39;,\n &#39;MasVnrType&#39;,\n &#39;MasVnrArea&#39;,\n &#39;BsmtQual&#39;,\n &#39;BsmtCond&#39;,\n &#39;BsmtExposure&#39;,\n &#39;BsmtFinType1&#39;,\n &#39;BsmtFinType2&#39;,\n &#39;Electrical&#39;,\n &#39;FireplaceQu&#39;,\n &#39;GarageType&#39;,\n &#39;GarageYrBlt&#39;,\n &#39;GarageFinish&#39;,\n &#39;GarageQual&#39;,\n &#39;GarageCond&#39;,\n &#39;PoolQC&#39;,\n &#39;Fence&#39;,\n &#39;MiscFeature&#39;]</div>",
       "datasetInfos": [],
       "metadata": {},
       "removedWidgets": [],
       "type": "html"
      }
     },
     "output_type": "display_data"
    }
   ],
   "source": [
    "# we can calculate the percentage of missing values('NA' = Not Available) for each variable and select those with more than 0%.\n",
    "\n",
    "vars_with_na = [var for var in house.columns if house[var].isnull().mean() > 0]\n",
    "vars_with_na"
   ]
  },
  {
   "cell_type": "code",
   "execution_count": 0,
   "metadata": {
    "application/vnd.databricks.v1+cell": {
     "cellMetadata": {
      "byteLimit": 2048000,
      "rowLimit": 10000
     },
     "inputWidgets": {},
     "nuid": "a979ddce-ab38-47c2-b947-d1f9efd47a4e",
     "showTitle": false,
     "title": ""
    }
   },
   "outputs": [
    {
     "output_type": "display_data",
     "data": {
      "text/html": [
       "<style scoped>\n",
       "  .ansiout {\n",
       "    display: block;\n",
       "    unicode-bidi: embed;\n",
       "    white-space: pre-wrap;\n",
       "    word-wrap: break-word;\n",
       "    word-break: break-all;\n",
       "    font-family: \"Menlo\", \"Monaco\", \"Consolas\", \"Ubuntu Mono\", \"Source Code Pro\", monospace;\n",
       "    font-size: 13px;\n",
       "    color: #555;\n",
       "    margin-left: 4px;\n",
       "    line-height: 19px;\n",
       "  }\n",
       "</style>\n",
       "<div class=\"ansiout\">Out[72]: LotFrontage     float64\n",
       "Alley            object\n",
       "MasVnrType       object\n",
       "MasVnrArea      float64\n",
       "BsmtQual         object\n",
       "BsmtCond         object\n",
       "BsmtExposure     object\n",
       "BsmtFinType1     object\n",
       "BsmtFinType2     object\n",
       "Electrical       object\n",
       "FireplaceQu      object\n",
       "GarageType       object\n",
       "GarageYrBlt     float64\n",
       "GarageFinish     object\n",
       "GarageQual       object\n",
       "GarageCond       object\n",
       "PoolQC           object\n",
       "Fence            object\n",
       "MiscFeature      object\n",
       "dtype: object</div>"
      ]
     },
     "metadata": {
      "application/vnd.databricks.v1+output": {
       "addedWidgets": {},
       "arguments": {},
       "data": "<div class=\"ansiout\">Out[72]: LotFrontage     float64\nAlley            object\nMasVnrType       object\nMasVnrArea      float64\nBsmtQual         object\nBsmtCond         object\nBsmtExposure     object\nBsmtFinType1     object\nBsmtFinType2     object\nElectrical       object\nFireplaceQu      object\nGarageType       object\nGarageYrBlt     float64\nGarageFinish     object\nGarageQual       object\nGarageCond       object\nPoolQC           object\nFence            object\nMiscFeature      object\ndtype: object</div>",
       "datasetInfos": [],
       "metadata": {},
       "removedWidgets": [],
       "type": "html"
      }
     },
     "output_type": "display_data"
    }
   ],
   "source": [
    "house[vars_with_na].dtypes"
   ]
  },
  {
   "cell_type": "markdown",
   "metadata": {
    "application/vnd.databricks.v1+cell": {
     "cellMetadata": {},
     "inputWidgets": {},
     "nuid": "aacef50d-52da-401f-af76-622309a6cfe4",
     "showTitle": false,
     "title": ""
    }
   },
   "source": [
    "### Implement univariate imputation to handle missing values in the dataset.\n",
    "For each feature, tell us what imputation strategy you choose. Plot the results."
   ]
  },
  {
   "cell_type": "code",
   "execution_count": 0,
   "metadata": {
    "application/vnd.databricks.v1+cell": {
     "cellMetadata": {
      "byteLimit": 2048000,
      "rowLimit": 10000
     },
     "inputWidgets": {},
     "nuid": "bfed066e-e90d-4a91-9b7b-4b554ea5c9b4",
     "showTitle": false,
     "title": ""
    }
   },
   "outputs": [
    {
     "output_type": "display_data",
     "data": {
      "text/html": [
       "<style scoped>\n",
       "  .ansiout {\n",
       "    display: block;\n",
       "    unicode-bidi: embed;\n",
       "    white-space: pre-wrap;\n",
       "    word-wrap: break-word;\n",
       "    word-break: break-all;\n",
       "    font-family: \"Menlo\", \"Monaco\", \"Consolas\", \"Ubuntu Mono\", \"Source Code Pro\", monospace;\n",
       "    font-size: 13px;\n",
       "    color: #555;\n",
       "    margin-left: 4px;\n",
       "    line-height: 19px;\n",
       "  }\n",
       "</style>\n",
       "<div class=\"ansiout\">Out[79]: </div>"
      ]
     },
     "metadata": {
      "application/vnd.databricks.v1+output": {
       "addedWidgets": {},
       "arguments": {},
       "data": "<div class=\"ansiout\">Out[79]: </div>",
       "datasetInfos": [],
       "metadata": {},
       "removedWidgets": [],
       "type": "html"
      }
     },
     "output_type": "display_data"
    },
    {
     "output_type": "display_data",
     "data": {
      "text/html": [
       "<div>\n",
       "<style scoped>\n",
       "    .dataframe tbody tr th:only-of-type {\n",
       "        vertical-align: middle;\n",
       "    }\n",
       "\n",
       "    .dataframe tbody tr th {\n",
       "        vertical-align: top;\n",
       "    }\n",
       "\n",
       "    .dataframe thead th {\n",
       "        text-align: right;\n",
       "    }\n",
       "</style>\n",
       "<table border=\"1\" class=\"dataframe\">\n",
       "  <thead>\n",
       "    <tr style=\"text-align: right;\">\n",
       "      <th></th>\n",
       "      <th>variable</th>\n",
       "      <th>na_percentage</th>\n",
       "    </tr>\n",
       "  </thead>\n",
       "  <tbody>\n",
       "    <tr>\n",
       "      <th>16</th>\n",
       "      <td>PoolQC</td>\n",
       "      <td>0.995205</td>\n",
       "    </tr>\n",
       "    <tr>\n",
       "      <th>18</th>\n",
       "      <td>MiscFeature</td>\n",
       "      <td>0.963014</td>\n",
       "    </tr>\n",
       "    <tr>\n",
       "      <th>1</th>\n",
       "      <td>Alley</td>\n",
       "      <td>0.937671</td>\n",
       "    </tr>\n",
       "    <tr>\n",
       "      <th>17</th>\n",
       "      <td>Fence</td>\n",
       "      <td>0.807534</td>\n",
       "    </tr>\n",
       "    <tr>\n",
       "      <th>10</th>\n",
       "      <td>FireplaceQu</td>\n",
       "      <td>0.472603</td>\n",
       "    </tr>\n",
       "    <tr>\n",
       "      <th>0</th>\n",
       "      <td>LotFrontage</td>\n",
       "      <td>0.177397</td>\n",
       "    </tr>\n",
       "    <tr>\n",
       "      <th>11</th>\n",
       "      <td>GarageType</td>\n",
       "      <td>0.055479</td>\n",
       "    </tr>\n",
       "    <tr>\n",
       "      <th>12</th>\n",
       "      <td>GarageYrBlt</td>\n",
       "      <td>0.055479</td>\n",
       "    </tr>\n",
       "    <tr>\n",
       "      <th>13</th>\n",
       "      <td>GarageFinish</td>\n",
       "      <td>0.055479</td>\n",
       "    </tr>\n",
       "    <tr>\n",
       "      <th>14</th>\n",
       "      <td>GarageQual</td>\n",
       "      <td>0.055479</td>\n",
       "    </tr>\n",
       "    <tr>\n",
       "      <th>15</th>\n",
       "      <td>GarageCond</td>\n",
       "      <td>0.055479</td>\n",
       "    </tr>\n",
       "    <tr>\n",
       "      <th>6</th>\n",
       "      <td>BsmtExposure</td>\n",
       "      <td>0.026027</td>\n",
       "    </tr>\n",
       "    <tr>\n",
       "      <th>8</th>\n",
       "      <td>BsmtFinType2</td>\n",
       "      <td>0.026027</td>\n",
       "    </tr>\n",
       "    <tr>\n",
       "      <th>7</th>\n",
       "      <td>BsmtFinType1</td>\n",
       "      <td>0.025342</td>\n",
       "    </tr>\n",
       "    <tr>\n",
       "      <th>5</th>\n",
       "      <td>BsmtCond</td>\n",
       "      <td>0.025342</td>\n",
       "    </tr>\n",
       "    <tr>\n",
       "      <th>4</th>\n",
       "      <td>BsmtQual</td>\n",
       "      <td>0.025342</td>\n",
       "    </tr>\n",
       "    <tr>\n",
       "      <th>3</th>\n",
       "      <td>MasVnrArea</td>\n",
       "      <td>0.005479</td>\n",
       "    </tr>\n",
       "    <tr>\n",
       "      <th>2</th>\n",
       "      <td>MasVnrType</td>\n",
       "      <td>0.005479</td>\n",
       "    </tr>\n",
       "    <tr>\n",
       "      <th>9</th>\n",
       "      <td>Electrical</td>\n",
       "      <td>0.000685</td>\n",
       "    </tr>\n",
       "  </tbody>\n",
       "</table>\n",
       "</div>"
      ]
     },
     "metadata": {
      "application/vnd.databricks.v1+output": {
       "addedWidgets": {},
       "arguments": {},
       "data": "<div>\n<style scoped>\n    .dataframe tbody tr th:only-of-type {\n        vertical-align: middle;\n    }\n\n    .dataframe tbody tr th {\n        vertical-align: top;\n    }\n\n    .dataframe thead th {\n        text-align: right;\n    }\n</style>\n<table border=\"1\" class=\"dataframe\">\n  <thead>\n    <tr style=\"text-align: right;\">\n      <th></th>\n      <th>variable</th>\n      <th>na_percentage</th>\n    </tr>\n  </thead>\n  <tbody>\n    <tr>\n      <th>16</th>\n      <td>PoolQC</td>\n      <td>0.995205</td>\n    </tr>\n    <tr>\n      <th>18</th>\n      <td>MiscFeature</td>\n      <td>0.963014</td>\n    </tr>\n    <tr>\n      <th>1</th>\n      <td>Alley</td>\n      <td>0.937671</td>\n    </tr>\n    <tr>\n      <th>17</th>\n      <td>Fence</td>\n      <td>0.807534</td>\n    </tr>\n    <tr>\n      <th>10</th>\n      <td>FireplaceQu</td>\n      <td>0.472603</td>\n    </tr>\n    <tr>\n      <th>0</th>\n      <td>LotFrontage</td>\n      <td>0.177397</td>\n    </tr>\n    <tr>\n      <th>11</th>\n      <td>GarageType</td>\n      <td>0.055479</td>\n    </tr>\n    <tr>\n      <th>12</th>\n      <td>GarageYrBlt</td>\n      <td>0.055479</td>\n    </tr>\n    <tr>\n      <th>13</th>\n      <td>GarageFinish</td>\n      <td>0.055479</td>\n    </tr>\n    <tr>\n      <th>14</th>\n      <td>GarageQual</td>\n      <td>0.055479</td>\n    </tr>\n    <tr>\n      <th>15</th>\n      <td>GarageCond</td>\n      <td>0.055479</td>\n    </tr>\n    <tr>\n      <th>6</th>\n      <td>BsmtExposure</td>\n      <td>0.026027</td>\n    </tr>\n    <tr>\n      <th>8</th>\n      <td>BsmtFinType2</td>\n      <td>0.026027</td>\n    </tr>\n    <tr>\n      <th>7</th>\n      <td>BsmtFinType1</td>\n      <td>0.025342</td>\n    </tr>\n    <tr>\n      <th>5</th>\n      <td>BsmtCond</td>\n      <td>0.025342</td>\n    </tr>\n    <tr>\n      <th>4</th>\n      <td>BsmtQual</td>\n      <td>0.025342</td>\n    </tr>\n    <tr>\n      <th>3</th>\n      <td>MasVnrArea</td>\n      <td>0.005479</td>\n    </tr>\n    <tr>\n      <th>2</th>\n      <td>MasVnrType</td>\n      <td>0.005479</td>\n    </tr>\n    <tr>\n      <th>9</th>\n      <td>Electrical</td>\n      <td>0.000685</td>\n    </tr>\n  </tbody>\n</table>\n</div>",
       "datasetInfos": [],
       "metadata": {},
       "removedWidgets": [],
       "textData": null,
       "type": "htmlSandbox"
      }
     },
     "output_type": "display_data"
    }
   ],
   "source": [
    "house_na = house[vars_with_na].isnull().mean()\n",
    "house_na = pd.DataFrame(house_na.reset_index())\n",
    "house_na.columns = ['variable', 'na_percentage']\n",
    "house_na.sort_values(by='na_percentage', ascending=False, inplace=True)\n",
    "house_na"
   ]
  },
  {
   "cell_type": "markdown",
   "metadata": {
    "application/vnd.databricks.v1+cell": {
     "cellMetadata": {},
     "inputWidgets": {},
     "nuid": "6ef7e5dc-e42e-498f-8c49-b7305be867b6",
     "showTitle": false,
     "title": ""
    }
   },
   "source": [
    "### Explore the distribution of the target variable SalePrice using seaborn. Is it normally distributed? If not, how can you transform it to make it more normal?\n",
    "\n",
    "Use seaborn to plot the results"
   ]
  },
  {
   "cell_type": "code",
   "execution_count": 0,
   "metadata": {
    "application/vnd.databricks.v1+cell": {
     "cellMetadata": {
      "byteLimit": 2048000,
      "rowLimit": 10000
     },
     "inputWidgets": {},
     "nuid": "ebe6d591-c9e0-43a7-a857-ecf631299880",
     "showTitle": false,
     "title": ""
    }
   },
   "outputs": [
    {
     "output_type": "display_data",
     "data": {
      "text/html": [
       "<style scoped>\n",
       "  .ansiout {\n",
       "    display: block;\n",
       "    unicode-bidi: embed;\n",
       "    white-space: pre-wrap;\n",
       "    word-wrap: break-word;\n",
       "    word-break: break-all;\n",
       "    font-family: \"Menlo\", \"Monaco\", \"Consolas\", \"Ubuntu Mono\", \"Source Code Pro\", monospace;\n",
       "    font-size: 13px;\n",
       "    color: #555;\n",
       "    margin-left: 4px;\n",
       "    line-height: 19px;\n",
       "  }\n",
       "</style>\n",
       "<div class=\"ansiout\">Out[73]: </div>"
      ]
     },
     "metadata": {
      "application/vnd.databricks.v1+output": {
       "addedWidgets": {},
       "arguments": {},
       "data": "<div class=\"ansiout\">Out[73]: </div>",
       "datasetInfos": [],
       "metadata": {},
       "removedWidgets": [],
       "type": "html"
      }
     },
     "output_type": "display_data"
    },
    {
     "output_type": "display_data",
     "data": {
      "image/png": "[encoded data removed]"
     },
     "metadata": {
      "application/vnd.databricks.v1+output": {
       "addedWidgets": {},
       "arguments": {},
       "data": "data:image/png;base64,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",
       "datasetInfos": [],
       "metadata": {
        "imageDimensions": {
         "height": 480,
         "width": 1058
        }
       },
       "removedWidgets": [],
       "type": "image"
      },
      "image/png": {
       "height": 480,
       "width": 1058
      }
     },
     "output_type": "display_data"
    },
    {
     "output_type": "display_data",
     "data": {
      "text/html": [
       "<style scoped>\n",
       "  .ansiout {\n",
       "    display: block;\n",
       "    unicode-bidi: embed;\n",
       "    white-space: pre-wrap;\n",
       "    word-wrap: break-word;\n",
       "    word-break: break-all;\n",
       "    font-family: \"Menlo\", \"Monaco\", \"Consolas\", \"Ubuntu Mono\", \"Source Code Pro\", monospace;\n",
       "    font-size: 13px;\n",
       "    color: #555;\n",
       "    margin-left: 4px;\n",
       "    line-height: 19px;\n",
       "  }\n",
       "</style>\n",
       "<div class=\"ansiout\">&lt;AxesSubplot:xlabel=&#39;SalePrice&#39;, ylabel=&#39;Count&#39;&gt;</div>"
      ]
     },
     "metadata": {
      "application/vnd.databricks.v1+output": {
       "addedWidgets": {},
       "arguments": {},
       "data": "<div class=\"ansiout\">&lt;AxesSubplot:xlabel=&#39;SalePrice&#39;, ylabel=&#39;Count&#39;&gt;</div>",
       "datasetInfos": [],
       "metadata": {},
       "removedWidgets": [],
       "type": "html"
      }
     },
     "output_type": "display_data"
    }
   ],
   "source": [
    "sns.histplot(house, x='SalePrice')"
   ]
  },
  {
   "cell_type": "code",
   "execution_count": 0,
   "metadata": {
    "application/vnd.databricks.v1+cell": {
     "cellMetadata": {},
     "inputWidgets": {},
     "nuid": "54ec18da-36f2-4a79-a43b-09a77642801c",
     "showTitle": false,
     "title": ""
    }
   },
   "outputs": [],
   "source": []
  }
 ],
 "metadata": {
  "application/vnd.databricks.v1+notebook": {
   "dashboards": [],
   "language": "python",
   "notebookMetadata": {
    "pythonIndentUnit": 2
   },
   "notebookName": "Homework_week2",
   "widgets": {}
  },
  "kernelspec": {
   "display_name": "Python 3 (ipykernel)",
   "language": "python",
   "name": "python3"
  },
  "language_info": {
   "codemirror_mode": {
    "name": "ipython",
    "version": 3
   },
   "file_extension": ".py",
   "mimetype": "text/x-python",
   "name": "python",
   "nbconvert_exporter": "python",
   "pygments_lexer": "ipython3",
   "version": "3.9.18"
  }
 },
 "nbformat": 4,
 "nbformat_minor": 0
}
