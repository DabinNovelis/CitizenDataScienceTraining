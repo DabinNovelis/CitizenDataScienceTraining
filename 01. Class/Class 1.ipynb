{
 "cells": [
  {
   "cell_type": "code",
   "execution_count": 1,
   "id": "e1278004-b519-40b7-b64c-f4c9be798a0b",
   "metadata": {},
   "outputs": [],
   "source": [
    "# CDS 실습 "
   ]
  },
  {
   "cell_type": "code",
   "execution_count": null,
   "id": "fb73051e-d80a-43fa-99f2-dc1bc4185b48",
   "metadata": {},
   "outputs": [],
   "source": []
  },
  {
   "cell_type": "code",
   "execution_count": 2,
   "id": "e1ad882e-1492-486b-9b0c-5259f63961a0",
   "metadata": {},
   "outputs": [],
   "source": [
    "students = ['Maria Cunha', 'Maria Lorenz', 'Dabin Lee', 'Marke Prugosk', 'Micheal', 'Soo', 'Yoobin' ,'Bok']"
   ]
  },
  {
   "cell_type": "code",
   "execution_count": 3,
   "id": "a68e538a-357a-4f36-b537-7fb2469267cb",
   "metadata": {},
   "outputs": [],
   "source": [
    "students_M = [name for name in students if name.startswith('M')]"
   ]
  },
  {
   "cell_type": "code",
   "execution_count": 4,
   "id": "da7cd0c4-624e-42be-9c90-dd10bf901f8b",
   "metadata": {},
   "outputs": [
    {
     "data": {
      "text/plain": [
       "['Maria Cunha', 'Maria Lorenz', 'Marke Prugosk', 'Micheal']"
      ]
     },
     "execution_count": 4,
     "metadata": {},
     "output_type": "execute_result"
    }
   ],
   "source": [
    "students_M"
   ]
  },
  {
   "cell_type": "code",
   "execution_count": 5,
   "id": "e62ab469-8bf0-4ab5-9485-66dd4cee4cd7",
   "metadata": {},
   "outputs": [],
   "source": [
    "students_D = [d for d in students if d.startswith('D')]"
   ]
  },
  {
   "cell_type": "code",
   "execution_count": 6,
   "id": "91f6aea9-801a-4d8a-87d5-b0c43a7e1479",
   "metadata": {},
   "outputs": [
    {
     "data": {
      "text/plain": [
       "['Dabin Lee']"
      ]
     },
     "execution_count": 6,
     "metadata": {},
     "output_type": "execute_result"
    }
   ],
   "source": [
    "students_D"
   ]
  },
  {
   "cell_type": "code",
   "execution_count": 9,
   "id": "763f739b-f8cb-4016-8b52-67010578c0a2",
   "metadata": {},
   "outputs": [],
   "source": [
    "office_desk = ['laptop' ,'pen', 'notebook','bottle of water']"
   ]
  },
  {
   "cell_type": "code",
   "execution_count": 10,
   "id": "2a18b58e-8592-41e2-9283-0d2ba464a0ee",
   "metadata": {},
   "outputs": [
    {
     "data": {
      "text/plain": [
       "2"
      ]
     },
     "execution_count": 10,
     "metadata": {},
     "output_type": "execute_result"
    }
   ],
   "source": [
    "office_desk.index('notebook')"
   ]
  },
  {
   "cell_type": "code",
   "execution_count": 11,
   "id": "a681f835-02ca-4840-bc97-f281f5274e8c",
   "metadata": {},
   "outputs": [
    {
     "data": {
      "text/plain": [
       "'pen'"
      ]
     },
     "execution_count": 11,
     "metadata": {},
     "output_type": "execute_result"
    }
   ],
   "source": [
    "office_desk[1]"
   ]
  },
  {
   "cell_type": "code",
   "execution_count": 12,
   "id": "4a894935-8c00-44f0-8741-129f36461414",
   "metadata": {},
   "outputs": [
    {
     "name": "stdout",
     "output_type": "stream",
     "text": [
      "['laptop', 'pen', 'notebook', 'bottle of water']\n"
     ]
    },
    {
     "data": {
      "text/plain": [
       "['bottle of water', 'laptop', 'notebook', 'pen']"
      ]
     },
     "execution_count": 12,
     "metadata": {},
     "output_type": "execute_result"
    }
   ],
   "source": [
    "print(office_desk)\n",
    "office_desk.sort()\n",
    "office_desk"
   ]
  },
  {
   "cell_type": "code",
   "execution_count": 13,
   "id": "94e8cde1-0494-468c-86a5-649f5a74a8aa",
   "metadata": {},
   "outputs": [
    {
     "ename": "NameError",
     "evalue": "name 'office_deck' is not defined",
     "output_type": "error",
     "traceback": [
      "\u001b[1;31m---------------------------------------------------------------------------\u001b[0m",
      "\u001b[1;31mNameError\u001b[0m                                 Traceback (most recent call last)",
      "Cell \u001b[1;32mIn[13], line 1\u001b[0m\n\u001b[1;32m----> 1\u001b[0m \u001b[43moffice_deck\u001b[49m\u001b[38;5;241m.\u001b[39mappend(\u001b[38;5;124m'\u001b[39m\u001b[38;5;124mcharger\u001b[39m\u001b[38;5;124m'\u001b[39m)\n",
      "\u001b[1;31mNameError\u001b[0m: name 'office_deck' is not defined"
     ]
    }
   ],
   "source": [
    "office_desk.append('charger')"
   ]
  },
  {
   "cell_type": "code",
   "execution_count": 14,
   "id": "3abe622f-21ea-44ce-9311-5fee0e45eda9",
   "metadata": {},
   "outputs": [
    {
     "data": {
      "text/plain": [
       "['bottle of water', 'laptop', 'notebook', 'pen']"
      ]
     },
     "execution_count": 14,
     "metadata": {},
     "output_type": "execute_result"
    }
   ],
   "source": [
    "office_desk"
   ]
  },
  {
   "cell_type": "markdown",
   "id": "2ad7f817-61e7-48b1-a1a1-71e06b6cc2a8",
   "metadata": {},
   "source": [
    "### Let' use a list of the height of some Got actor"
   ]
  },
  {
   "cell_type": "code",
   "execution_count": 15,
   "id": "1ecf7182-0c1c-4194-a2fb-5aab5109a690",
   "metadata": {},
   "outputs": [],
   "source": [
    "height = [1.55, 1.35, 1.45, 1.73, 1.75]"
   ]
  },
  {
   "cell_type": "code",
   "execution_count": 16,
   "id": "9541d0f3-8f36-4055-a9af-b6934d2a2314",
   "metadata": {},
   "outputs": [
    {
     "data": {
      "text/plain": [
       "7.83"
      ]
     },
     "execution_count": 16,
     "metadata": {},
     "output_type": "execute_result"
    }
   ],
   "source": [
    "sum(height)"
   ]
  },
  {
   "cell_type": "code",
   "execution_count": 17,
   "id": "282fc052-4f2a-4d23-afee-388e276c5752",
   "metadata": {},
   "outputs": [
    {
     "data": {
      "text/plain": [
       "1.35"
      ]
     },
     "execution_count": 17,
     "metadata": {},
     "output_type": "execute_result"
    }
   ],
   "source": [
    "min(height)"
   ]
  },
  {
   "cell_type": "code",
   "execution_count": 18,
   "id": "2b2135ef-ae7a-4263-8f4d-b67d5a4a9ec8",
   "metadata": {},
   "outputs": [
    {
     "data": {
      "text/plain": [
       "1.75"
      ]
     },
     "execution_count": 18,
     "metadata": {},
     "output_type": "execute_result"
    }
   ],
   "source": [
    "max(height)"
   ]
  },
  {
   "cell_type": "code",
   "execution_count": 19,
   "id": "66f93d5b-0492-43fa-9bec-bb71c464488e",
   "metadata": {},
   "outputs": [
    {
     "data": {
      "text/plain": [
       "5"
      ]
     },
     "execution_count": 19,
     "metadata": {},
     "output_type": "execute_result"
    }
   ],
   "source": [
    "len(height)"
   ]
  },
  {
   "cell_type": "markdown",
   "id": "0c6b6d74-bdd2-4874-bc66-5ad8382cfaa4",
   "metadata": {},
   "source": [
    "### Walking through the set of data"
   ]
  },
  {
   "cell_type": "code",
   "execution_count": 22,
   "id": "e147f9c6-f888-4261-ac8e-9b5b3d063382",
   "metadata": {},
   "outputs": [
    {
     "name": "stdout",
     "output_type": "stream",
     "text": [
      "1.35 0\n",
      "1.7 1.35\n"
     ]
    },
    {
     "data": {
      "text/plain": [
       "3.05"
      ]
     },
     "execution_count": 22,
     "metadata": {},
     "output_type": "execute_result"
    }
   ],
   "source": [
    "height = [1.35, 1.70, 1.73, 1.75, 1.80]\n",
    "total = 0\n",
    "\n",
    "for each_height in height:\n",
    "    print(each_height, total)\n",
    "    total = each_height + total\n",
    "    if total > 3:\n",
    "        break\n",
    "    else:\n",
    "        continue    \n",
    "\n",
    "total"
   ]
  },
  {
   "cell_type": "code",
   "execution_count": 23,
   "id": "d0132029-a130-4a1f-9fc7-6a83e88b9689",
   "metadata": {},
   "outputs": [
    {
     "name": "stdout",
     "output_type": "stream",
     "text": [
      "height in centimeters:  180.0\n",
      "height in centimeters:  164.0\n",
      "height in centimeters:  174.0\n"
     ]
    }
   ],
   "source": [
    "height_meters = [1.80, 1.64, 1.74]\n",
    "for each_height in height_meters:\n",
    "    print(\"height in centimeters: \", each_height * 100)\n"
   ]
  },
  {
   "cell_type": "markdown",
   "id": "a7948b3e-e68a-4adf-add1-29bb3dc649ae",
   "metadata": {},
   "source": [
    "#### Challenge"
   ]
  },
  {
   "cell_type": "code",
   "execution_count": 24,
   "id": "61f1f0f8-c219-4174-b2b4-1feb553ef4a9",
   "metadata": {},
   "outputs": [
    {
     "data": {
      "text/plain": [
       "'42'"
      ]
     },
     "execution_count": 24,
     "metadata": {},
     "output_type": "execute_result"
    }
   ],
   "source": [
    "answer = 42\n",
    "str(answer)"
   ]
  },
  {
   "cell_type": "markdown",
   "id": "9f6b7df0-52da-4379-a2f0-90198c64f01a",
   "metadata": {},
   "source": [
    "#### Dictionaries"
   ]
  },
  {
   "cell_type": "code",
   "execution_count": 25,
   "id": "6721e6ee-99d4-4297-9c45-4d5c2e68d4f1",
   "metadata": {},
   "outputs": [
    {
     "data": {
      "text/plain": [
       "{'name': 'John', 'age': 28, 'height': 1.85}"
      ]
     },
     "execution_count": 25,
     "metadata": {},
     "output_type": "execute_result"
    }
   ],
   "source": [
    "personal_data = {\n",
    "    \"name\": 'John',\n",
    "    'age': 28, \n",
    "    'height': 1.85\n",
    "}\n",
    "personal_data"
   ]
  },
  {
   "cell_type": "code",
   "execution_count": 26,
   "id": "1f225d5f-3d97-4f8b-81a1-7b98aad3cf9d",
   "metadata": {},
   "outputs": [
    {
     "data": {
      "text/plain": [
       "{'name': 'John',\n",
       " 'age': 28,\n",
       " 'height': 1.85,\n",
       " 'address': 'street x, 123',\n",
       " 'postcode': 22808693}"
      ]
     },
     "execution_count": 26,
     "metadata": {},
     "output_type": "execute_result"
    }
   ],
   "source": [
    "personal_data['address'] = 'street x, 123'\n",
    "personal_data['postcode'] = 22808693\n",
    "personal_data"
   ]
  },
  {
   "cell_type": "code",
   "execution_count": 27,
   "id": "ac0bc873-30ba-4514-9098-5e5f816c4387",
   "metadata": {},
   "outputs": [
    {
     "data": {
      "text/plain": [
       "{'name': 'John', 'age': 28, 'height': 1.85, 'postcode': 22808693}"
      ]
     },
     "execution_count": 27,
     "metadata": {},
     "output_type": "execute_result"
    }
   ],
   "source": [
    "del personal_data['address']\n",
    "personal_data"
   ]
  },
  {
   "cell_type": "code",
   "execution_count": 28,
   "id": "a85da6ed-e527-4ae7-83dc-fa1c7115d51d",
   "metadata": {},
   "outputs": [
    {
     "data": {
      "text/plain": [
       "{'name': 'John', 'age': 29, 'height': 1.85, 'postcode': 22808693}"
      ]
     },
     "execution_count": 28,
     "metadata": {},
     "output_type": "execute_result"
    }
   ],
   "source": [
    "personal_data['age']= 29\n",
    "personal_data"
   ]
  },
  {
   "cell_type": "code",
   "execution_count": 29,
   "id": "b999c894-a28d-44de-843d-592a6c8c26f4",
   "metadata": {},
   "outputs": [
    {
     "name": "stdout",
     "output_type": "stream",
     "text": [
      "name: John\n",
      "age: 29\n",
      "height: 1.85\n",
      "postcode: 22808693\n"
     ]
    }
   ],
   "source": [
    "for key in personal_data:\n",
    "    print(key + \": \" + str(personal_data[key]))"
   ]
  },
  {
   "cell_type": "code",
   "execution_count": 31,
   "id": "c4fd703c-1587-46ce-93c2-6368fe12771c",
   "metadata": {},
   "outputs": [
    {
     "name": "stdout",
     "output_type": "stream",
     "text": [
      "dict_items([('name', 'John'), ('age', 29), ('height', 1.85), ('postcode', 22808693)])\n",
      "name John\n",
      "age 29\n",
      "height 1.85\n",
      "postcode 22808693\n"
     ]
    }
   ],
   "source": [
    "print(personal_data.items())\n",
    "for key, value in personal_data.items():\n",
    "    print(key, value)"
   ]
  },
  {
   "cell_type": "code",
   "execution_count": null,
   "id": "29137c22-c0c2-4f7c-8e11-7706075e2a73",
   "metadata": {},
   "outputs": [],
   "source": [
    "### Dictionaries and lists: let's put it all together!"
   ]
  },
  {
   "cell_type": "code",
   "execution_count": 32,
   "id": "d8529211-b6a2-43ea-a37a-434fac24db16",
   "metadata": {},
   "outputs": [],
   "source": [
    "student1 = {'name': 'Dabin', 'age' : 31}\n",
    "student2 = {'name': 'Bok', 'age': 36}"
   ]
  },
  {
   "cell_type": "code",
   "execution_count": 33,
   "id": "2af7a129-affd-41af-a9fe-2eb157203c34",
   "metadata": {},
   "outputs": [
    {
     "data": {
      "text/plain": [
       "[{'name': 'Dabin', 'age': 31}, {'name': 'Bok', 'age': 36}]"
      ]
     },
     "execution_count": 33,
     "metadata": {},
     "output_type": "execute_result"
    }
   ],
   "source": [
    "list_student = [student1, student2]\n",
    "list_student"
   ]
  },
  {
   "cell_type": "code",
   "execution_count": 34,
   "id": "5250ff7d-2f3c-4fb4-962b-4c1fb7b0ad7d",
   "metadata": {},
   "outputs": [
    {
     "data": {
      "text/plain": [
       "'Dabin'"
      ]
     },
     "execution_count": 34,
     "metadata": {},
     "output_type": "execute_result"
    }
   ],
   "source": [
    "first_student = list_student[0]\n",
    "first_student['name']"
   ]
  },
  {
   "cell_type": "code",
   "execution_count": 35,
   "id": "1027c62a-5450-43e7-9154-90f9981b3c1e",
   "metadata": {},
   "outputs": [
    {
     "data": {
      "text/plain": [
       "36"
      ]
     },
     "execution_count": 35,
     "metadata": {},
     "output_type": "execute_result"
    }
   ],
   "source": [
    "list_student[1]['age']"
   ]
  },
  {
   "cell_type": "markdown",
   "id": "953811ed-b2f9-49fd-a65a-8e1e5b07b934",
   "metadata": {},
   "source": [
    "#### Filtering data"
   ]
  },
  {
   "cell_type": "code",
   "execution_count": 36,
   "id": "bda8f1e2-0d5e-4c97-a481-8b919ebf00f7",
   "metadata": {},
   "outputs": [
    {
     "data": {
      "text/plain": [
       "True"
      ]
     },
     "execution_count": 36,
     "metadata": {},
     "output_type": "execute_result"
    }
   ],
   "source": [
    "1 == 1"
   ]
  },
  {
   "cell_type": "code",
   "execution_count": 37,
   "id": "b3baf576-275e-4532-b8b3-58bd0014383f",
   "metadata": {},
   "outputs": [
    {
     "data": {
      "text/plain": [
       "False"
      ]
     },
     "execution_count": 37,
     "metadata": {},
     "output_type": "execute_result"
    }
   ],
   "source": [
    "1 != 1"
   ]
  },
  {
   "cell_type": "code",
   "execution_count": 38,
   "id": "0f75eb96-4096-4a53-a258-343fd9f24075",
   "metadata": {},
   "outputs": [
    {
     "data": {
      "text/plain": [
       "True"
      ]
     },
     "execution_count": 38,
     "metadata": {},
     "output_type": "execute_result"
    }
   ],
   "source": [
    "1 > 0"
   ]
  },
  {
   "cell_type": "code",
   "execution_count": 39,
   "id": "892d4e07-bff7-46c3-8a1d-5ec2434ec03b",
   "metadata": {},
   "outputs": [
    {
     "data": {
      "text/plain": [
       "True"
      ]
     },
     "execution_count": 39,
     "metadata": {},
     "output_type": "execute_result"
    }
   ],
   "source": [
    "2 >= 2"
   ]
  },
  {
   "cell_type": "code",
   "execution_count": 40,
   "id": "fb0f03a1-b70e-41c8-a719-1eeed3ea99c8",
   "metadata": {},
   "outputs": [
    {
     "data": {
      "text/plain": [
       "True"
      ]
     },
     "execution_count": 40,
     "metadata": {},
     "output_type": "execute_result"
    }
   ],
   "source": [
    "not 1 != 1"
   ]
  },
  {
   "cell_type": "markdown",
   "id": "899c7d8e-e07d-437a-a352-879e414ae949",
   "metadata": {},
   "source": [
    "#### Applying conditions on 'IF'"
   ]
  },
  {
   "cell_type": "code",
   "execution_count": 41,
   "id": "fa00db01-9332-407a-b14d-ba0390bb3f21",
   "metadata": {},
   "outputs": [
    {
     "name": "stdout",
     "output_type": "stream",
     "text": [
      "1 equals to 1\n"
     ]
    }
   ],
   "source": [
    "if 1 == 1 or 5 == 2:\n",
    "    print('1 equals to 1')"
   ]
  },
  {
   "cell_type": "markdown",
   "id": "2b6bde26-5136-4f97-9027-131fd8cf6402",
   "metadata": {},
   "source": [
    "#### The opposite of IF is Else"
   ]
  },
  {
   "cell_type": "code",
   "execution_count": 42,
   "id": "3bd808d3-8f06-4dfe-b3e8-911361f93301",
   "metadata": {},
   "outputs": [
    {
     "name": "stdout",
     "output_type": "stream",
     "text": [
      "1 equals to 1\n"
     ]
    }
   ],
   "source": [
    "if 2 == 1:\n",
    "    print('2 equals to 1')\n",
    "elif 1 == 1:\n",
    "    print('1 equals to 1')\n",
    "else:\n",
    "    print('2 does not equal to 1')"
   ]
  },
  {
   "cell_type": "markdown",
   "id": "bb782511-21b5-477c-97ea-d54eb925cf3b",
   "metadata": {},
   "source": [
    "#### Functions\n",
    "* When we have a block of code that we have to run repeatedly, we isolate it in a function so that reuse is easier. Let's see how this is possible in Pyhton! "
   ]
  },
  {
   "cell_type": "code",
   "execution_count": 43,
   "id": "732ed212-5a32-4ffc-82cb-3e48c7c09681",
   "metadata": {},
   "outputs": [],
   "source": [
    "def total_sum(list):   # defining a new funtion, with a name and a parameter\n",
    "    total = 0\n",
    "    for item in list:\n",
    "        total = item + total \n",
    "\n",
    "    return total       # returns (out of the function) the total sum "
   ]
  },
  {
   "cell_type": "code",
   "execution_count": 44,
   "id": "bce41c1d-213e-40fd-b218-cded62517dc8",
   "metadata": {},
   "outputs": [
    {
     "data": {
      "text/plain": [
       "8.33"
      ]
     },
     "execution_count": 44,
     "metadata": {},
     "output_type": "execute_result"
    }
   ],
   "source": [
    "total_sum(height)"
   ]
  },
  {
   "cell_type": "code",
   "execution_count": 45,
   "id": "2397dab6-37aa-4984-a8fb-f5d4595a5d73",
   "metadata": {},
   "outputs": [
    {
     "name": "stdout",
     "output_type": "stream",
     "text": [
      "tall people:  [1.8, 1.7, 1.95]\n",
      "short people:  [1.62, 1.55]\n"
     ]
    }
   ],
   "source": [
    "list = [1.80, 1.70, 1.62, 1.95, 1.55]\n",
    "tall_people = []\n",
    "short_people = []\n",
    "\n",
    "for height in list:\n",
    "    if height >= 1.70:\n",
    "        tall_people.append(height)\n",
    "    else:\n",
    "        short_people.append(height)\n",
    "\n",
    "print(\"tall people: \", tall_people)\n",
    "print(\"short people: \", short_people)"
   ]
  },
  {
   "cell_type": "code",
   "execution_count": null,
   "id": "a4c81973-f647-4903-bad7-906b7b7682e0",
   "metadata": {},
   "outputs": [],
   "source": []
  }
 ],
 "metadata": {
  "kernelspec": {
   "display_name": "Python 3 (ipykernel)",
   "language": "python",
   "name": "python3"
  },
  "language_info": {
   "codemirror_mode": {
    "name": "ipython",
    "version": 3
   },
   "file_extension": ".py",
   "mimetype": "text/x-python",
   "name": "python",
   "nbconvert_exporter": "python",
   "pygments_lexer": "ipython3",
   "version": "3.9.18"
  }
 },
 "nbformat": 4,
 "nbformat_minor": 5
}
