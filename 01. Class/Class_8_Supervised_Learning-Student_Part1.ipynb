{
 "cells": [
  {
   "cell_type": "markdown",
   "metadata": {
    "application/vnd.databricks.v1+cell": {
     "cellMetadata": {},
     "inputWidgets": {},
     "nuid": "b73a47b8-691b-411b-ac76-6e8a5e2b30c1",
     "showTitle": false,
     "title": ""
    }
   },
   "source": [
    "## Class 8 - Part 1\n",
    "### Classification\n",
    "This practical lesson focuses on the application of classification algorithms using the Iris dataset in Python with the *scikit-learn* library. The primary goal is to teach students fundamental machine learning concepts and techniques through hands-on experience in training, testing, and evaluating different classifiers.\n",
    "\n",
    "Three classification models are introduced and compared:\n",
    "1. **K-Nearest Neighbors (KNN)**: This model, configured with three neighbors, serves as an example of instance-based learning, where predictions are based on the nearest training examples in the feature space.\n",
    "2. **Support Vector Machine (SVM)**: Using a linear kernel, this model demonstrates the concept of maximizing the margin between different classes, which is key to enhancing model generalization.\n",
    "3. **Naive Bayes**: This classifier introduces probabilistic modeling, particularly Gaussian Naive Bayes, which assumes that features are independent and normally distributed.\n",
    "\n",
    "Each classifier is trained on the training data and then tasked with making predictions on the test set. The accuracy of these predictions is calculated and compared, providing practical insights into the effectiveness and suitability of each method under various conditions."
   ]
  },
  {
   "cell_type": "code",
   "execution_count": 0,
   "metadata": {
    "application/vnd.databricks.v1+cell": {
     "cellMetadata": {
      "byteLimit": 2048000,
      "rowLimit": 10000
     },
     "inputWidgets": {},
     "nuid": "e13ba69e-1ce9-489c-982e-01b827efcece",
     "showTitle": false,
     "title": ""
    }
   },
   "outputs": [],
   "source": [
    "# Import necessary libraries for data handling, machine learning model building, preprocessing, evaluation, and visualization.\n",
    "import pandas as pd\n",
    "import seaborn as sns\n",
    "import matplotlib.pyplot as plt\n",
    "from sklearn.model_selection import train_test_split\n",
    "from sklearn.neighbors import KNeighborsClassifier\n",
    "from sklearn.svm import SVC\n",
    "from sklearn.naive_bayes import GaussianNB\n",
    "from sklearn.metrics import accuracy_score\n",
    "# Load the Iris dataset from the scikit-learn datasets module\n",
    "from sklearn.datasets import load_iris"
   ]
  },
  {
   "cell_type": "code",
   "execution_count": 0,
   "metadata": {
    "application/vnd.databricks.v1+cell": {
     "cellMetadata": {
      "byteLimit": 2048000,
      "rowLimit": 10000
     },
     "inputWidgets": {},
     "nuid": "487711aa-17e8-404b-a619-1d44d9d8c615",
     "showTitle": false,
     "title": ""
    }
   },
   "outputs": [],
   "source": [
    "# Load the Iris dataset into the variable 'data'\n",
    "data = load_iris()\n",
    "# Create a DataFrame from the Iris dataset, setting the columns to the feature names provided in the dataset\n",
    "iris = pd.DataFrame(data=data.data, columns=data.feature_names)\n",
    "# Add a new column 'target' to the Iris DataFrame, containing the target labels from the dataset\n",
    "iris['target'] = data.target"
   ]
  },
  {
   "cell_type": "code",
   "execution_count": 0,
   "metadata": {
    "application/vnd.databricks.v1+cell": {
     "cellMetadata": {
      "byteLimit": 2048000,
      "rowLimit": 10000
     },
     "inputWidgets": {},
     "nuid": "80bb308e-e46c-4e0f-8f9f-b12675b89053",
     "showTitle": false,
     "title": ""
    }
   },
   "outputs": [],
   "source": [
    "# Iris DataFrame dimensionality\n",
    "iris.shape"
   ]
  },
  {
   "cell_type": "code",
   "execution_count": 0,
   "metadata": {
    "application/vnd.databricks.v1+cell": {
     "cellMetadata": {
      "byteLimit": 2048000,
      "rowLimit": 10000
     },
     "inputWidgets": {},
     "nuid": "1e74d8d7-af20-4fa0-88c2-86635b8b4b8e",
     "showTitle": false,
     "title": ""
    }
   },
   "outputs": [],
   "source": [
    "# Display the first five rows of the Iris DataFrame to get an initial overview of the data structure and values.\n",
    "iris.head()"
   ]
  },
  {
   "cell_type": "markdown",
   "metadata": {
    "application/vnd.databricks.v1+cell": {
     "cellMetadata": {},
     "inputWidgets": {},
     "nuid": "bc1cb490-859f-4d2f-93c5-923ef52c1784",
     "showTitle": false,
     "title": ""
    }
   },
   "source": [
    "### Data Description:\n",
    "The Iris dataset is one of the most well-known datasets in the field of machine learning. It was introduced by British statistician and biologist Ronald Fisher in 1936 as an example of linear discriminant analysis. This dataset is often used for classification tasks and testing machine learning algorithms.\n",
    "\n",
    "The Iris dataset consists of 150 instances of iris flowers, each with four attributes: sepal length, sepal width, petal length, and petal width. All measurements are in centimeters. These data are used to classify the instances into one of three species or classes of iris, which are:\n",
    " - Iris-setosa (0)\n",
    " - Iris-versicolor (1)\n",
    " - Iris-virginica(2)"
   ]
  },
  {
   "cell_type": "markdown",
   "metadata": {
    "application/vnd.databricks.v1+cell": {
     "cellMetadata": {},
     "inputWidgets": {},
     "nuid": "f644ec7c-7acb-4ab6-b7f4-45958483525c",
     "showTitle": false,
     "title": ""
    }
   },
   "source": [
    "![Iris](https://www.math.umd.edu/~petersd/666/html/iris_with_labels.jpg)"
   ]
  },
  {
   "cell_type": "code",
   "execution_count": 0,
   "metadata": {
    "application/vnd.databricks.v1+cell": {
     "cellMetadata": {
      "byteLimit": 2048000,
      "rowLimit": 10000
     },
     "inputWidgets": {},
     "nuid": "a663b9d6-1bd2-4161-837f-a17572bddf02",
     "showTitle": false,
     "title": ""
    }
   },
   "outputs": [],
   "source": [
    "# Create a pair plot of the Iris dataset features, differentiating the data points by class\n",
    "# 'hue' is set to 'target' to color data points based on the Iris species\n",
    "# 'vars' specifies the dataset features to include in the plot\n",
    "# 'markers' assigns different markers to each class for better visual distinction\n",
    "# Specify a custom color palette for clearer distinction among the classes\n",
    "sns.pairplot(iris, hue='target', vars=data.feature_names, markers=[\"o\", \"s\", \"D\"], palette='bright')\n",
    "# Add a title above the pair plot with a specific font size and adjusted position\n",
    "plt.suptitle('Pair Plot of Iris Dataset Features by Class', size=16, y=1.02)\n",
    "# Display the plot\n",
    "plt.show()"
   ]
  },
  {
   "cell_type": "code",
   "execution_count": 0,
   "metadata": {
    "application/vnd.databricks.v1+cell": {
     "cellMetadata": {
      "byteLimit": 2048000,
      "rowLimit": 10000
     },
     "inputWidgets": {},
     "nuid": "a1285f23-59ff-4437-b61d-6ba1656b4ff2",
     "showTitle": false,
     "title": ""
    }
   },
   "outputs": [
    {
     "output_type": "display_data",
     "data": {
      "text/html": [
       "<style scoped>\n",
       "  .ansiout {\n",
       "    display: block;\n",
       "    unicode-bidi: embed;\n",
       "    white-space: pre-wrap;\n",
       "    word-wrap: break-word;\n",
       "    word-break: break-all;\n",
       "    font-family: \"Menlo\", \"Monaco\", \"Consolas\", \"Ubuntu Mono\", \"Source Code Pro\", monospace;\n",
       "    font-size: 13px;\n",
       "    color: #555;\n",
       "    margin-left: 4px;\n",
       "    line-height: 19px;\n",
       "  }\n",
       "</style>\n",
       "<div class=\"ansiout\"></div>"
      ]
     },
     "metadata": {
      "application/vnd.databricks.v1+output": {
       "addedWidgets": {},
       "arguments": {},
       "data": "<div class=\"ansiout\"></div>",
       "datasetInfos": [],
       "metadata": {},
       "removedWidgets": [],
       "type": "html"
      }
     },
     "output_type": "display_data"
    }
   ],
   "source": [
    "# Drop the 'petal length (cm)' feature\n",
    "#iris = iris.drop('petal width (cm)', axis=1)"
   ]
  },
  {
   "cell_type": "code",
   "execution_count": 0,
   "metadata": {
    "application/vnd.databricks.v1+cell": {
     "cellMetadata": {
      "byteLimit": 2048000,
      "rowLimit": 10000
     },
     "inputWidgets": {},
     "nuid": "d681a9f4-0c04-4b88-a466-5a39345adaff",
     "showTitle": false,
     "title": ""
    }
   },
   "outputs": [],
   "source": [
    "# Split the dataset into training and testing sets. \n",
    "# Features (X) are obtained by dropping the 'target' column, and targets (y) are the 'target' column.\n",
    "# 30% of the data is reserved for testing, and the split is reproducible with a random state set to 22.\n",
    "X_train, X_test, y_train, y_test = train_test_split(iris.drop('target', axis=1), iris['target'], test_size=0.3, random_state=22)\n",
    "print(\"Dimensions of X_train:\", X_train.shape)\n",
    "print(\"Dimensions of X_test:\", X_test.shape)\n",
    "print(\"Dimensions of y_train:\", y_train.shape)\n",
    "print(\"Dimensions of y_test:\", y_test.shape)"
   ]
  },
  {
   "cell_type": "code",
   "execution_count": 0,
   "metadata": {
    "application/vnd.databricks.v1+cell": {
     "cellMetadata": {
      "byteLimit": 2048000,
      "rowLimit": 10000
     },
     "inputWidgets": {},
     "nuid": "c59a1173-57ad-4aa9-bc2d-80e90dfdee47",
     "showTitle": false,
     "title": ""
    }
   },
   "outputs": [],
   "source": [
    "# Initialize the k-Nearest Neighbors classifier with 3 neighbors\n",
    "knn = KNeighborsClassifier(n_neighbors=3)\n",
    "# Fit the classifier to the training data\n",
    "knn.fit(X_train, y_train)\n",
    "# Make predictions on the test data\n",
    "knn_predictions = knn.predict(X_test)\n",
    "# Calculate and print the accuracy of the model on the test data\n",
    "knn_accuracy = accuracy_score(y_test, knn_predictions)\n",
    "print(f\"KNN Accuracy: {knn_accuracy:.2f}\")"
   ]
  },
  {
   "cell_type": "code",
   "execution_count": 0,
   "metadata": {
    "application/vnd.databricks.v1+cell": {
     "cellMetadata": {
      "byteLimit": 2048000,
      "rowLimit": 10000
     },
     "inputWidgets": {},
     "nuid": "a54117e2-9f3c-4092-89fe-8646e4e4ff37",
     "showTitle": false,
     "title": ""
    }
   },
   "outputs": [],
   "source": [
    "# Initialize the Support Vector Machine classifier with a linear kernel\n",
    "svm = SVC(kernel='linear')\n",
    "# Fit the classifier to the training data\n",
    "svm.fit(X_train, y_train)\n",
    "# Make predictions on the test data\n",
    "svm_predictions = svm.predict(X_test)\n",
    "# Calculate and print the accuracy of the model on the test data\n",
    "svm_accuracy = accuracy_score(y_test, svm_predictions)\n",
    "print(f\"SVM Accuracy: {svm_accuracy:.2f}\")"
   ]
  },
  {
   "cell_type": "code",
   "execution_count": 0,
   "metadata": {
    "application/vnd.databricks.v1+cell": {
     "cellMetadata": {
      "byteLimit": 2048000,
      "rowLimit": 10000
     },
     "inputWidgets": {},
     "nuid": "4ca15df0-27f5-4b50-9e02-c30ad1b97e5a",
     "showTitle": false,
     "title": ""
    }
   },
   "outputs": [],
   "source": [
    "# Initialize the Naive Bayes classifier using the Gaussian distribution\n",
    "nb = GaussianNB()\n",
    "# Fit the classifier to the training data\n",
    "nb.fit(X_train, y_train)\n",
    "# Make predictions on the test data\n",
    "nb_predictions = nb.predict(X_test)\n",
    "# Calculate and print the accuracy of the model on the test data\n",
    "nb_accuracy = accuracy_score(y_test, nb_predictions)\n",
    "print(f\"Naive Bayes Accuracy: {nb_accuracy:.2f}\")"
   ]
  },
  {
   "cell_type": "code",
   "execution_count": 0,
   "metadata": {
    "application/vnd.databricks.v1+cell": {
     "cellMetadata": {
      "byteLimit": 2048000,
      "rowLimit": 10000
     },
     "inputWidgets": {},
     "nuid": "e75a15e5-f3cf-4e33-a6e4-1aba2691cbe1",
     "showTitle": false,
     "title": ""
    }
   },
   "outputs": [],
   "source": [
    "# Compare the accuracy of the three classifiers\n",
    "print(\"\\nAccuracy Summary:\")\n",
    "print(f\"KNN: {knn_accuracy:.2f}, SVM: {svm_accuracy:.2f}, Naive Bayes: {nb_accuracy:.2f}\")"
   ]
  },
  {
   "cell_type": "code",
   "execution_count": 0,
   "metadata": {
    "application/vnd.databricks.v1+cell": {
     "cellMetadata": {
      "byteLimit": 2048000,
      "rowLimit": 10000
     },
     "inputWidgets": {},
     "nuid": "8856e19d-094c-4489-876a-0633769ab645",
     "showTitle": false,
     "title": ""
    }
   },
   "outputs": [],
   "source": [
    "# Selecting the best model based on accuracy\n",
    "best_accuracy = max(knn_accuracy, svm_accuracy, nb_accuracy)\n",
    "best_model = 'KNN' if best_accuracy == knn_accuracy else 'SVM' if best_accuracy == svm_accuracy else 'Naive Bayes'\n",
    "print(f\"Best performing model: {best_model} with accuracy of {best_accuracy:.2f}\")"
   ]
  },
  {
   "cell_type": "markdown",
   "metadata": {
    "application/vnd.databricks.v1+cell": {
     "cellMetadata": {},
     "inputWidgets": {},
     "nuid": "37f5d186-ed19-4661-8d8e-64979320e5c0",
     "showTitle": false,
     "title": ""
    }
   },
   "source": [
    "---------------------------------------------------------------------------------------------------------------------------\n",
    "\n",
    "Author: <b>Julio Iglesias</b>"
   ]
  }
 ],
 "metadata": {
  "application/vnd.databricks.v1+notebook": {
   "dashboards": [],
   "language": "python",
   "notebookMetadata": {
    "pythonIndentUnit": 2
   },
   "notebookName": "Class_8_Supervised_Learning-Student_Part1",
   "widgets": {}
  },
  "kernelspec": {
   "display_name": "Python 3",
   "language": "python",
   "name": "python3"
  },
  "language_info": {
   "codemirror_mode": {
    "name": "ipython",
    "version": 3
   },
   "file_extension": ".py",
   "mimetype": "text/x-python",
   "name": "python",
   "nbconvert_exporter": "python",
   "pygments_lexer": "ipython3",
   "version": "3.8.8"
  },
  "widgets": {
   "state": {},
   "version": "1.1.2"
  }
 },
 "nbformat": 4,
 "nbformat_minor": 0
}
