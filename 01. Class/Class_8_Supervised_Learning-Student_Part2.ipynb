{
 "cells": [
  {
   "cell_type": "markdown",
   "metadata": {
    "application/vnd.databricks.v1+cell": {
     "cellMetadata": {
      "byteLimit": 2048000,
      "rowLimit": 10000
     },
     "inputWidgets": {},
     "nuid": "b73a47b8-691b-411b-ac76-6e8a5e2b30c1",
     "showTitle": false,
     "title": ""
    }
   },
   "source": [
    "## Class 8 - Part 2\n",
    "### Classification\n",
    "This practical lesson focuses on the application of classification algorithms using the Red-Wine-Quality dataset in Python with the *scikit-learn* library. The primary goal is to teach students fundamental machine learning concepts and techniques through hands-on experience in training, testing, and evaluating different classifiers.\n",
    "\n",
    "Three classification models are introduced and compared:\n",
    "1. **K-Nearest Neighbors (KNN)**: This model, configured with three neighbors, serves as an example of instance-based learning, where predictions are based on the nearest training examples in the feature space.\n",
    "2. **Support Vector Machine (SVM)**: Using a linear kernel, this model demonstrates the concept of maximizing the margin between different classes, which is key to enhancing model generalization.\n",
    "3. **Naive Bayes**: This classifier introduces probabilistic modeling, particularly Gaussian Naive Bayes, which assumes that features are independent and normally distributed.\n",
    "\n",
    "Each classifier is trained on the training data and then tasked with making predictions on the test set. The accuracy of these predictions is calculated and compared, providing practical insights into the effectiveness and suitability of each method under various conditions."
   ]
  },
  {
   "cell_type": "code",
   "execution_count": 0,
   "metadata": {
    "application/vnd.databricks.v1+cell": {
     "cellMetadata": {
      "byteLimit": 2048000,
      "rowLimit": 10000
     },
     "inputWidgets": {},
     "nuid": "e13ba69e-1ce9-489c-982e-01b827efcece",
     "showTitle": false,
     "title": ""
    }
   },
   "outputs": [],
   "source": [
    "# Import necessary libraries for data handling, machine learning model building, preprocessing, evaluation, and visualization.\n",
    "import pandas as pd\n",
    "import matplotlib.pyplot as plt\n",
    "import seaborn as sns\n",
    "from sklearn.model_selection import train_test_split\n",
    "from sklearn.neighbors import KNeighborsClassifier\n",
    "from sklearn.svm import SVC\n",
    "from sklearn.naive_bayes import GaussianNB\n",
    "from sklearn.metrics import accuracy_score\n",
    "import numpy as np"
   ]
  },
  {
   "cell_type": "code",
   "execution_count": 0,
   "metadata": {
    "application/vnd.databricks.v1+cell": {
     "cellMetadata": {
      "byteLimit": 2048000,
      "rowLimit": 10000
     },
     "inputWidgets": {},
     "nuid": "487711aa-17e8-404b-a619-1d44d9d8c615",
     "showTitle": false,
     "title": ""
    }
   },
   "outputs": [],
   "source": [
    "# Load the Red-Wine-Quality datasetfrom a CSV file\n",
    "wine = pd.read_csv('/dbfs/FileStore/CDS2024/winequality_red.csv')"
   ]
  },
  {
   "cell_type": "code",
   "execution_count": 0,
   "metadata": {
    "application/vnd.databricks.v1+cell": {
     "cellMetadata": {
      "byteLimit": 2048000,
      "rowLimit": 10000
     },
     "inputWidgets": {},
     "nuid": "80bb308e-e46c-4e0f-8f9f-b12675b89053",
     "showTitle": false,
     "title": ""
    }
   },
   "outputs": [],
   "source": [
    "# Red-Wine-Quality DataFrame dimensionality\n",
    "wine.shape"
   ]
  },
  {
   "cell_type": "code",
   "execution_count": 0,
   "metadata": {
    "application/vnd.databricks.v1+cell": {
     "cellMetadata": {
      "byteLimit": 2048000,
      "rowLimit": 10000
     },
     "inputWidgets": {},
     "nuid": "1e74d8d7-af20-4fa0-88c2-86635b8b4b8e",
     "showTitle": false,
     "title": ""
    }
   },
   "outputs": [],
   "source": [
    "# Display the first five rows of the Red-Wine-Quality DataFrame to get an initial overview of the data structure and values.\n",
    "wine.head()"
   ]
  },
  {
   "cell_type": "markdown",
   "metadata": {
    "application/vnd.databricks.v1+cell": {
     "cellMetadata": {
      "byteLimit": 2048000,
      "rowLimit": 10000
     },
     "inputWidgets": {},
     "nuid": "bc1cb490-859f-4d2f-93c5-923ef52c1784",
     "showTitle": false,
     "title": ""
    }
   },
   "source": [
    "### Data Description:\n",
    "Red Wine quality classification Model The two datasets are related to red and white variants of the Portuguese \"Vinho Verde\" wine. For more details, consult the reference [Cortez et al., 2009]. Due to privacy and logistic issues, only physicochemical (inputs) and sensory (the output) variables are available (e.g. there is no data about grape types, wine brand, wine selling price, etc.).\n",
    "\n",
    "These datasets can be viewed as classification or regression tasks. The classes are ordered and not balanced (e.g. there are much more normal wines than excellent or poor ones). Content For more information, read [Cortez et al., 2009]. Input variables (based on physicochemical tests): 1 - fixed acidity 2 - volatile acidity 3 - citric acid 4 - residual sugar 5 - chlorides 6 - free sulfur dioxide 7 - total sulfur dioxide 8 - density 9 - pH 10 - sulphates 11 - alcohol Output variable (based on sensory data): 12 - quality (**score between 0 and 10**)."
   ]
  },
  {
   "cell_type": "code",
   "execution_count": 0,
   "metadata": {
    "application/vnd.databricks.v1+cell": {
     "cellMetadata": {
      "byteLimit": 2048000,
      "rowLimit": 10000
     },
     "inputWidgets": {},
     "nuid": "a663b9d6-1bd2-4161-837f-a17572bddf02",
     "showTitle": false,
     "title": ""
    }
   },
   "outputs": [],
   "source": [
    "# Create a pair plot of the Wine Quality dataset features, differentiating data points by wine quality\n",
    "# 'vars' specifies the dataset features to include in the plot, excluding the last column\n",
    "# 'hue' sets the column 'quality' as the category for color coding, allowing visualization of data by quality levels\n",
    "# 'palette' is set to 'tab10', which offers a distinct set of 10 colors for better visual differentiation\n",
    "sns.pairplot(wine, vars=wine.columns[:-1], hue=\"quality\", palette='tab10')\n",
    "# Add a title to the plot for better understanding and presentation\n",
    "plt.suptitle('Pair Plot of Wine Quality Dataset Features by Quality', size=16, y=1.02)\n",
    "# Display the plot\n",
    "plt.show()"
   ]
  },
  {
   "cell_type": "code",
   "execution_count": 0,
   "metadata": {
    "application/vnd.databricks.v1+cell": {
     "cellMetadata": {
      "byteLimit": 2048000,
      "rowLimit": 10000
     },
     "inputWidgets": {},
     "nuid": "d681a9f4-0c04-4b88-a466-5a39345adaff",
     "showTitle": false,
     "title": ""
    }
   },
   "outputs": [],
   "source": [
    "# Split the wine dataset into training and testing sets.\n",
    "# Features (X) are obtained by dropping the 'quality' column, which is the target variable.\n",
    "# Targets (y) are extracted from the 'quality' column.\n",
    "# The dataset is split such that 30% of the data is used for testing and 70% for training.\n",
    "# 'random_state=42' ensures that the split is reproducible, meaning the same random split will occur each time the code is run.\n",
    "X_train, X_test, y_train, y_test = train_test_split(wine.drop('quality', axis=1), wine['quality'], test_size=0.3, random_state=42)\n",
    "print(\"Dimensions of X_train:\", X_train.shape)\n",
    "print(\"Dimensions of X_test:\", X_test.shape)\n",
    "print(\"Dimensions of y_train:\", y_train.shape)\n",
    "print(\"Dimensions of y_test:\", y_test.shape)"
   ]
  },
  {
   "cell_type": "code",
   "execution_count": 0,
   "metadata": {
    "application/vnd.databricks.v1+cell": {
     "cellMetadata": {
      "byteLimit": 2048000,
      "rowLimit": 10000
     },
     "inputWidgets": {},
     "nuid": "c59a1173-57ad-4aa9-bc2d-80e90dfdee47",
     "showTitle": false,
     "title": ""
    }
   },
   "outputs": [],
   "source": [
    "# Initialize the k-Nearest Neighbors classifier with 3 neighbors\n",
    "knn = KNeighborsClassifier(n_neighbors=3)\n",
    "# Fit the classifier to the training data\n",
    "knn.fit(X_train, y_train)\n",
    "# Make predictions on the test data\n",
    "knn_predictions = knn.predict(X_test)\n",
    "# Calculate and print the accuracy of the model on the test data\n",
    "knn_accuracy = accuracy_score(y_test, knn_predictions)\n",
    "print(f\"KNN Accuracy: {knn_accuracy:.2f}\")"
   ]
  },
  {
   "cell_type": "code",
   "execution_count": 0,
   "metadata": {
    "application/vnd.databricks.v1+cell": {
     "cellMetadata": {
      "byteLimit": 2048000,
      "rowLimit": 10000
     },
     "inputWidgets": {},
     "nuid": "a54117e2-9f3c-4092-89fe-8646e4e4ff37",
     "showTitle": false,
     "title": ""
    }
   },
   "outputs": [],
   "source": [
    "# Initialize the Support Vector Machine classifier with a linear kernel\n",
    "svm = SVC(kernel='linear')\n",
    "# Fit the classifier to the training data\n",
    "svm.fit(X_train, y_train)\n",
    "# Make predictions on the test data\n",
    "svm_predictions = svm.predict(X_test)\n",
    "# Calculate and print the accuracy of the model on the test data\n",
    "svm_accuracy = accuracy_score(y_test, svm_predictions)\n",
    "print(f\"SVM Accuracy: {svm_accuracy:.2f}\")"
   ]
  },
  {
   "cell_type": "code",
   "execution_count": 0,
   "metadata": {
    "application/vnd.databricks.v1+cell": {
     "cellMetadata": {
      "byteLimit": 2048000,
      "rowLimit": 10000
     },
     "inputWidgets": {},
     "nuid": "4ca15df0-27f5-4b50-9e02-c30ad1b97e5a",
     "showTitle": false,
     "title": ""
    }
   },
   "outputs": [],
   "source": [
    "# Initialize the Naive Bayes classifier using the Gaussian distribution\n",
    "nb = GaussianNB()\n",
    "# Fit the classifier to the training data\n",
    "nb.fit(X_train, y_train)\n",
    "# Make predictions on the test data\n",
    "nb_predictions = nb.predict(X_test)\n",
    "# Calculate and print the accuracy of the model on the test data\n",
    "nb_accuracy = accuracy_score(y_test, nb_predictions)\n",
    "print(f\"Naive Bayes Accuracy: {nb_accuracy:.2f}\")"
   ]
  },
  {
   "cell_type": "code",
   "execution_count": 0,
   "metadata": {
    "application/vnd.databricks.v1+cell": {
     "cellMetadata": {
      "byteLimit": 2048000,
      "rowLimit": 10000
     },
     "inputWidgets": {},
     "nuid": "e75a15e5-f3cf-4e33-a6e4-1aba2691cbe1",
     "showTitle": false,
     "title": ""
    }
   },
   "outputs": [],
   "source": [
    "# Compare the accuracy of the three classifiers\n",
    "print(\"\\nAccuracy Summary:\")\n",
    "print(f\"KNN: {knn_accuracy:.2f}, SVM: {svm_accuracy:.2f}, Naive Bayes: {nb_accuracy:.2f}\")"
   ]
  },
  {
   "cell_type": "code",
   "execution_count": 0,
   "metadata": {
    "application/vnd.databricks.v1+cell": {
     "cellMetadata": {
      "byteLimit": 2048000,
      "rowLimit": 10000
     },
     "inputWidgets": {},
     "nuid": "8856e19d-094c-4489-876a-0633769ab645",
     "showTitle": false,
     "title": ""
    }
   },
   "outputs": [],
   "source": [
    "# Selecting the best model based on accuracy\n",
    "best_accuracy = max(knn_accuracy, svm_accuracy, nb_accuracy)\n",
    "best_model = 'KNN' if best_accuracy == knn_accuracy else 'SVM' if best_accuracy == svm_accuracy else 'Naive Bayes'\n",
    "print(f\"Best performing model: {best_model} with accuracy of {best_accuracy:.2f}\")"
   ]
  },
  {
   "cell_type": "markdown",
   "metadata": {
    "application/vnd.databricks.v1+cell": {
     "cellMetadata": {
      "byteLimit": 2048000,
      "rowLimit": 10000
     },
     "inputWidgets": {},
     "nuid": "37f5d186-ed19-4661-8d8e-64979320e5c0",
     "showTitle": false,
     "title": ""
    }
   },
   "source": [
    "---------------------------------------------------------------------------------------------------------------------------\n",
    "\n",
    "Author: <b>Julio Iglesias</b>"
   ]
  }
 ],
 "metadata": {
  "application/vnd.databricks.v1+notebook": {
   "dashboards": [],
   "language": "python",
   "notebookMetadata": {
    "pythonIndentUnit": 2
   },
   "notebookName": "Class_8_Supervised_Learning-Student_Part2",
   "widgets": {}
  },
  "kernelspec": {
   "display_name": "Python 3",
   "language": "python",
   "name": "python3"
  },
  "language_info": {
   "codemirror_mode": {
    "name": "ipython",
    "version": 3
   },
   "file_extension": ".py",
   "mimetype": "text/x-python",
   "name": "python",
   "nbconvert_exporter": "python",
   "pygments_lexer": "ipython3",
   "version": "3.8.8"
  },
  "widgets": {
   "state": {},
   "version": "1.1.2"
  }
 },
 "nbformat": 4,
 "nbformat_minor": 0
}
