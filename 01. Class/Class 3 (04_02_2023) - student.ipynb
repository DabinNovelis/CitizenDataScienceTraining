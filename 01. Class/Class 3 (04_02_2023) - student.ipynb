{
 "cells": [
  {
   "cell_type": "markdown",
   "metadata": {
    "application/vnd.databricks.v1+cell": {
     "cellMetadata": {
      "byteLimit": 2048000,
      "rowLimit": 10000
     },
     "inputWidgets": {},
     "nuid": "f4d569a1-5c65-4f61-8bcc-f81669f6be35",
     "showTitle": false,
     "title": ""
    }
   },
   "source": [
    "# Exploratory Data Analysis (EDA)"
   ]
  },
  {
   "cell_type": "markdown",
   "metadata": {
    "application/vnd.databricks.v1+cell": {
     "cellMetadata": {
      "byteLimit": 2048000,
      "rowLimit": 10000
     },
     "inputWidgets": {},
     "nuid": "add9e300-a4c9-44a2-a876-67e8e090add5",
     "showTitle": false,
     "title": ""
    }
   },
   "source": [
    "<h3> What are the main characteristics of a car that have major impact in the price? </h3>"
   ]
  },
  {
   "cell_type": "markdown",
   "metadata": {
    "application/vnd.databricks.v1+cell": {
     "cellMetadata": {
      "byteLimit": 2048000,
      "rowLimit": 10000
     },
     "inputWidgets": {},
     "nuid": "5fb49df6-f008-4fb0-becd-4b993c720fb2",
     "showTitle": false,
     "title": ""
    }
   },
   "source": [
    "<h2 id=\"import_data\">1. Importing pre processed data </h2>"
   ]
  },
  {
   "cell_type": "markdown",
   "metadata": {
    "application/vnd.databricks.v1+cell": {
     "cellMetadata": {
      "byteLimit": 2048000,
      "rowLimit": 10000
     },
     "inputWidgets": {},
     "nuid": "b9f613db-91ae-417a-926b-10e0c2b29379",
     "showTitle": false,
     "title": ""
    }
   },
   "source": [
    "<h4>Setup</h4>"
   ]
  },
  {
   "cell_type": "markdown",
   "metadata": {
    "application/vnd.databricks.v1+cell": {
     "cellMetadata": {
      "byteLimit": 2048000,
      "rowLimit": 10000
     },
     "inputWidgets": {},
     "nuid": "0e60c125-60da-4e33-98e8-fdaee8d86ff0",
     "showTitle": false,
     "title": ""
    }
   },
   "source": [
    "Importing libraries"
   ]
  },
  {
   "cell_type": "code",
   "execution_count": null,
   "metadata": {
    "application/vnd.databricks.v1+cell": {
     "cellMetadata": {
      "byteLimit": 2048000,
      "rowLimit": 10000
     },
     "inputWidgets": {},
     "nuid": "9217b2cc-744e-4f5b-a5e1-1aeb80301a28",
     "showTitle": false,
     "title": ""
    }
   },
   "outputs": [],
   "source": [
    "import pandas as pd\n",
    "import numpy as np"
   ]
  },
  {
   "cell_type": "markdown",
   "metadata": {
    "application/vnd.databricks.v1+cell": {
     "cellMetadata": {
      "byteLimit": 2048000,
      "rowLimit": 10000
     },
     "inputWidgets": {},
     "nuid": "a2d2c433-f38f-4422-afea-348c2f112246",
     "showTitle": false,
     "title": ""
    }
   },
   "source": [
    "loading data and storing it in a dataframe:"
   ]
  },
  {
   "cell_type": "code",
   "execution_count": null,
   "metadata": {
    "application/vnd.databricks.v1+cell": {
     "cellMetadata": {
      "byteLimit": 2048000,
      "rowLimit": 10000
     },
     "inputWidgets": {},
     "nuid": "75544f92-20de-4238-904e-757ba55216c4",
     "showTitle": false,
     "title": ""
    },
    "scrolled": true
   },
   "outputs": [],
   "source": [
    "path='https://s3-api.us-geo.objectstorage.softlayer.net/cf-courses-data/CognitiveClass/DA0101EN/automobileEDA.csv'\n",
    "df = pd.read_csv(path)\n",
    "df.head()"
   ]
  },
  {
   "cell_type": "markdown",
   "metadata": {
    "application/vnd.databricks.v1+cell": {
     "cellMetadata": {
      "byteLimit": 2048000,
      "rowLimit": 10000
     },
     "inputWidgets": {},
     "nuid": "aa040546-3102-41b3-936c-5c4ae0629141",
     "showTitle": false,
     "title": ""
    }
   },
   "source": [
    "<h2 id=\"pattern_visualization\">2. Analyzing patterns of attributes individually using visualization</h2>"
   ]
  },
  {
   "cell_type": "markdown",
   "metadata": {
    "application/vnd.databricks.v1+cell": {
     "cellMetadata": {
      "byteLimit": 2048000,
      "rowLimit": 10000
     },
     "inputWidgets": {},
     "nuid": "9e16bda0-5456-4efd-8775-19e54eaec688",
     "showTitle": false,
     "title": ""
    }
   },
   "source": [
    "Import \"Matplotlib\" and \"Seaborn\" visualization packages."
   ]
  },
  {
   "cell_type": "code",
   "execution_count": null,
   "metadata": {
    "application/vnd.databricks.v1+cell": {
     "cellMetadata": {
      "byteLimit": 2048000,
      "rowLimit": 10000
     },
     "inputWidgets": {},
     "nuid": "f9d8c072-7995-4b09-84db-486917b559ef",
     "showTitle": false,
     "title": ""
    }
   },
   "outputs": [],
   "source": [
    "import matplotlib.pyplot as plt\n",
    "import seaborn as sns"
   ]
  },
  {
   "cell_type": "markdown",
   "metadata": {
    "application/vnd.databricks.v1+cell": {
     "cellMetadata": {
      "byteLimit": 2048000,
      "rowLimit": 10000
     },
     "inputWidgets": {},
     "nuid": "9ddab90d-9787-4bcb-addb-720f1e1e5c2c",
     "showTitle": false,
     "title": ""
    }
   },
   "source": [
    "<h2> Continuous numeric variables:</h2> \n",
    "\n",
    "<p> Continuous numeric variables are variables that can hold any value within some range. Continuous numeric variables can have type \"int64\" or \"float64\". A great way to visualize these variables is to use scatterplots with regression lines. </p>\n",
    "\n",
    "<p> To begin with, let's understand the (linear) relationship between an individual variable and price. We can do this using \"regplot\", which plots the scatterplot plus the regression line adjusted to the data. </p>"
   ]
  },
  {
   "cell_type": "markdown",
   "metadata": {
    "application/vnd.databricks.v1+cell": {
     "cellMetadata": {
      "byteLimit": 2048000,
      "rowLimit": 10000
     },
     "inputWidgets": {},
     "nuid": "c67e27d1-fc1e-4336-85f3-b0bb239343b9",
     "showTitle": false,
     "title": ""
    }
   },
   "source": [
    "We'll see different examples of linear relationship."
   ]
  },
  {
   "cell_type": "markdown",
   "metadata": {
    "application/vnd.databricks.v1+cell": {
     "cellMetadata": {
      "byteLimit": 2048000,
      "rowLimit": 10000
     },
     "inputWidgets": {},
     "nuid": "2b309d9f-fd31-4fa6-b4b9-335a65619762",
     "showTitle": false,
     "title": ""
    }
   },
   "source": [
    "<h4> Positive linear relationship </h4>"
   ]
  },
  {
   "cell_type": "markdown",
   "metadata": {
    "application/vnd.databricks.v1+cell": {
     "cellMetadata": {
      "byteLimit": 2048000,
      "rowLimit": 10000
     },
     "inputWidgets": {},
     "nuid": "02e69bc4-200e-404c-9f14-9fab3180a50f",
     "showTitle": false,
     "title": ""
    }
   },
   "source": [
    "Let's see the scatter plot \"engine-size\" vs \"price."
   ]
  },
  {
   "cell_type": "code",
   "execution_count": null,
   "metadata": {
    "application/vnd.databricks.v1+cell": {
     "cellMetadata": {
      "byteLimit": 2048000,
      "rowLimit": 10000
     },
     "inputWidgets": {},
     "nuid": "afa65a0c-2856-4169-bf57-68ef1f368f9f",
     "showTitle": false,
     "title": ""
    },
    "scrolled": true
   },
   "outputs": [],
   "source": [
    "# Engine size as potential predictor variable of price\n",
    "sns.regplot(x=\"engine-size\", y=\"price\", data=df)"
   ]
  },
  {
   "cell_type": "markdown",
   "metadata": {
    "application/vnd.databricks.v1+cell": {
     "cellMetadata": {
      "byteLimit": 2048000,
      "rowLimit": 10000
     },
     "inputWidgets": {},
     "nuid": "0ebbcf13-b6f9-420d-9923-d9f9f67d0c20",
     "showTitle": false,
     "title": ""
    }
   },
   "source": [
    "<p> As the \"engine-size\" increases, the price increases: this indicates a direct positive correlation between these two variables. The \"engine-size\" looks like a good predictor of price, as the regression line is almost a perfect diagonal line.</p>"
   ]
  },
  {
   "cell_type": "markdown",
   "metadata": {
    "application/vnd.databricks.v1+cell": {
     "cellMetadata": {
      "byteLimit": 2048000,
      "rowLimit": 10000
     },
     "inputWidgets": {},
     "nuid": "0e425601-ebe6-40ba-80e2-b8775e344a6b",
     "showTitle": false,
     "title": ""
    }
   },
   "source": [
    "Is Highway mpg a good predictor of the price?"
   ]
  },
  {
   "cell_type": "code",
   "execution_count": null,
   "metadata": {
    "application/vnd.databricks.v1+cell": {
     "cellMetadata": {
      "byteLimit": 2048000,
      "rowLimit": 10000
     },
     "inputWidgets": {},
     "nuid": "5dcec30a-b12b-41d2-adc9-5c1ca3c2d567",
     "showTitle": false,
     "title": ""
    }
   },
   "outputs": [],
   "source": [
    "sns.regplot(x=\"highway-mpg\", y=\"price\", data=df)"
   ]
  },
  {
   "cell_type": "markdown",
   "metadata": {
    "application/vnd.databricks.v1+cell": {
     "cellMetadata": {
      "byteLimit": 2048000,
      "rowLimit": 10000
     },
     "inputWidgets": {},
     "nuid": "75df520f-33f9-471b-a06a-dfa10f46fb6d",
     "showTitle": false,
     "title": ""
    }
   },
   "source": [
    "<p> As Highway-mpg increases, price decreases: this indicates an inverse/negative relationship between these two variables. Highway-mpg can be a price predictor.</p>"
   ]
  },
  {
   "cell_type": "markdown",
   "metadata": {
    "application/vnd.databricks.v1+cell": {
     "cellMetadata": {
      "byteLimit": 2048000,
      "rowLimit": 10000
     },
     "inputWidgets": {},
     "nuid": "8195497a-f26a-4f38-b9f6-ed7f9284c8cf",
     "showTitle": false,
     "title": ""
    }
   },
   "source": [
    "<h3> Weak linear relationship </h3>"
   ]
  },
  {
   "cell_type": "markdown",
   "metadata": {
    "application/vnd.databricks.v1+cell": {
     "cellMetadata": {
      "byteLimit": 2048000,
      "rowLimit": 10000
     },
     "inputWidgets": {},
     "nuid": "85c688b2-bc6a-43d3-bd2d-e78aae037b68",
     "showTitle": false,
     "title": ""
    }
   },
   "source": [
    "Let's see if \"Peak-rpm\" is a predictor of the \"price\"."
   ]
  },
  {
   "cell_type": "code",
   "execution_count": null,
   "metadata": {
    "application/vnd.databricks.v1+cell": {
     "cellMetadata": {
      "byteLimit": 2048000,
      "rowLimit": 10000
     },
     "inputWidgets": {},
     "nuid": "99152908-c4b6-42ec-b6d9-5df820f04244",
     "showTitle": false,
     "title": ""
    },
    "scrolled": true
   },
   "outputs": [],
   "source": [
    "sns.regplot(x=\"peak-rpm\", y=\"price\", data=df)"
   ]
  },
  {
   "cell_type": "markdown",
   "metadata": {
    "application/vnd.databricks.v1+cell": {
     "cellMetadata": {
      "byteLimit": 2048000,
      "rowLimit": 10000
     },
     "inputWidgets": {},
     "nuid": "f9d673b7-063b-4d75-8231-202d2fba428c",
     "showTitle": false,
     "title": ""
    }
   },
   "source": [
    "<p> Peak-rpm doesn't seem to be a good price indicator, since the regression line is close to the horizontal. In addition, the data points are very scattered and far from the adjusted line, showing a lot of variability. Therefore, it is not a reliable variable. </p>"
   ]
  },
  {
   "cell_type": "markdown",
   "metadata": {
    "application/vnd.databricks.v1+cell": {
     "cellMetadata": {
      "byteLimit": 2048000,
      "rowLimit": 10000
     },
     "inputWidgets": {},
     "nuid": "278efcb1-82af-4578-87e5-a6beaeb41cb1",
     "showTitle": false,
     "title": ""
    }
   },
   "source": [
    "<div class=\"alert alert-danger alertdanger\" style=\"margin-top: 20px\">\n",
    "<h1>Exercise:</h1>\n",
    "\n",
    "<p>Given the results of the correlation between \"price\" and \"stroke\", do you expect a linear relationship? Create the scatter plot.</p> \n",
    "\n",
    "</div>"
   ]
  },
  {
   "cell_type": "code",
   "execution_count": null,
   "metadata": {},
   "outputs": [],
   "source": []
  },
  {
   "cell_type": "markdown",
   "metadata": {
    "application/vnd.databricks.v1+cell": {
     "cellMetadata": {
      "byteLimit": 2048000,
      "rowLimit": 10000
     },
     "inputWidgets": {},
     "nuid": "6fd39cbb-6a24-425a-872f-f0eb690d904e",
     "showTitle": false,
     "title": ""
    }
   },
   "source": [
    "# Visualizing relationships in pairs \n",
    "\n",
    "It creates a matrix of axes and shows the relationship for each pair of columns in a DataFrame. By default, it also draws the univariate distribution of each variable diagonally."
   ]
  },
  {
   "cell_type": "code",
   "execution_count": null,
   "metadata": {
    "application/vnd.databricks.v1+cell": {
     "cellMetadata": {
      "byteLimit": 2048000,
      "rowLimit": 10000
     },
     "inputWidgets": {},
     "nuid": "b8ea441d-b2f9-4c33-b429-31c88a30a24e",
     "showTitle": false,
     "title": ""
    },
    "scrolled": false
   },
   "outputs": [],
   "source": [
    "#sns.pairplot(df, kind='reg', diag_kind='kde')\n",
    "sns.pairplot(df, vars=[\"engine-size\",\"city-L/100km\",\"stroke\",'peak-rpm',\"price\"], kind='reg', diag_kind='kde')"
   ]
  },
  {
   "cell_type": "markdown",
   "metadata": {
    "application/vnd.databricks.v1+cell": {
     "cellMetadata": {
      "byteLimit": 2048000,
      "rowLimit": 10000
     },
     "inputWidgets": {},
     "nuid": "de68dae1-c465-46bf-83e1-3e34bf0b63bc",
     "showTitle": false,
     "title": ""
    }
   },
   "source": [
    "<h3>Categorical variables</h3>\n",
    "\n",
    "<p>These variables describe discrete attributes and are selected from a small group of categories. Categorical variables can have type \"object\" or \"int64\". A good way to visualize categorical variables, relative to a numeric variable, is by using boxplots.</p>"
   ]
  },
  {
   "cell_type": "markdown",
   "metadata": {
    "application/vnd.databricks.v1+cell": {
     "cellMetadata": {
      "byteLimit": 2048000,
      "rowLimit": 10000
     },
     "inputWidgets": {},
     "nuid": "13931a1d-7260-41c5-9460-d375c4d93562",
     "showTitle": false,
     "title": ""
    }
   },
   "source": [
    "![Image](https://cdn1.byjus.com/wp-content/uploads/2020/10/Box-Plot-and-Whisker-Plot-1.png)"
   ]
  },
  {
   "cell_type": "markdown",
   "metadata": {
    "application/vnd.databricks.v1+cell": {
     "cellMetadata": {
      "byteLimit": 2048000,
      "rowLimit": 10000
     },
     "inputWidgets": {},
     "nuid": "4cfccfce-dcc0-43c0-8e34-f7aa187ae593",
     "showTitle": false,
     "title": ""
    }
   },
   "source": [
    "Let's see the relationship between \"body-style\" and \"price\"."
   ]
  },
  {
   "cell_type": "code",
   "execution_count": null,
   "metadata": {
    "application/vnd.databricks.v1+cell": {
     "cellMetadata": {
      "byteLimit": 2048000,
      "rowLimit": 10000
     },
     "inputWidgets": {},
     "nuid": "262e1bab-7ff7-425f-a784-ea28a5f3095b",
     "showTitle": false,
     "title": ""
    },
    "scrolled": true
   },
   "outputs": [],
   "source": [
    "sns.boxplot(x=\"body-style\", y=\"price\", data=df)"
   ]
  },
  {
   "cell_type": "markdown",
   "metadata": {
    "application/vnd.databricks.v1+cell": {
     "cellMetadata": {
      "byteLimit": 2048000,
      "rowLimit": 10000
     },
     "inputWidgets": {},
     "nuid": "86b0ec48-6f27-4909-a3d3-7ce4cdd8ea30",
     "showTitle": false,
     "title": ""
    }
   },
   "source": [
    "<p>We see that the price distribution between different body-style categories have significant overlap and therefore body-style would not be a good predictor of price. Let's examine the \"engine-location\" and \"price\":</p>"
   ]
  },
  {
   "cell_type": "code",
   "execution_count": null,
   "metadata": {
    "application/vnd.databricks.v1+cell": {
     "cellMetadata": {
      "byteLimit": 2048000,
      "rowLimit": 10000
     },
     "inputWidgets": {},
     "nuid": "3ea80d1a-4e88-490c-80db-04c1213b45ba",
     "showTitle": false,
     "title": ""
    },
    "scrolled": false
   },
   "outputs": [],
   "source": [
    "sns.boxplot(x=\"engine-location\", y=\"price\", data=df)"
   ]
  },
  {
   "cell_type": "markdown",
   "metadata": {
    "application/vnd.databricks.v1+cell": {
     "cellMetadata": {
      "byteLimit": 2048000,
      "rowLimit": 10000
     },
     "inputWidgets": {},
     "nuid": "b2789376-ce0b-45d0-a986-e973dbe47e8e",
     "showTitle": false,
     "title": ""
    }
   },
   "source": [
    "<p> Here we see that the price distribution between this two engine-location categories (front and rear) is different enough to consider the location of the engine a good predictor of the price.</p>"
   ]
  },
  {
   "cell_type": "markdown",
   "metadata": {
    "application/vnd.databricks.v1+cell": {
     "cellMetadata": {
      "byteLimit": 2048000,
      "rowLimit": 10000
     },
     "inputWidgets": {},
     "nuid": "3fc3ba4d-d72a-4dc0-8592-b6782307add1",
     "showTitle": false,
     "title": ""
    }
   },
   "source": [
    "### Excercise: \n",
    "Let's analyse \"drive-wheels\" and \"price\"."
   ]
  },
  {
   "cell_type": "code",
   "execution_count": null,
   "metadata": {},
   "outputs": [],
   "source": []
  },
  {
   "cell_type": "markdown",
   "metadata": {
    "application/vnd.databricks.v1+cell": {
     "cellMetadata": {
      "byteLimit": 2048000,
      "rowLimit": 10000
     },
     "inputWidgets": {},
     "nuid": "3b88e0b4-a13a-4021-bb7d-95081a54f840",
     "showTitle": false,
     "title": ""
    }
   },
   "source": [
    "<h2 id=\"descriptive_statistics\">3. Descriptive Statistical Analysis</h2>"
   ]
  },
  {
   "cell_type": "markdown",
   "metadata": {
    "application/vnd.databricks.v1+cell": {
     "cellMetadata": {
      "byteLimit": 2048000,
      "rowLimit": 10000
     },
     "inputWidgets": {},
     "nuid": "04751c30-8a04-41a0-a5e1-9c15d8b0bbcc",
     "showTitle": false,
     "title": ""
    }
   },
   "source": [
    "<p> First, let's take a look at the variables using \"describe\".</p>\n",
    "\n",
    "<p>The <b>describe</b> function automatically calculates basic statistics for all continuous variables. \n",
    "calcula automaticamente estatísticas básicas para todas as variáveis ​​contínuas. Any NaN values are automatically ignored in these statistics. <p>\n",
    "\n",
    "It'll show:\n",
    "<ul>\n",
    "    <li> count</li>\n",
    "    <li> mean</li>\n",
    "    <li> standard deviation(std)</li> \n",
    "    <li> minimum value</li>\n",
    "    <li> maximum value</li>\n",
    "    <li> IQR (interquartile range: 25%, 50% e 75%)</li>\n",
    "<ul>"
   ]
  },
  {
   "cell_type": "code",
   "execution_count": null,
   "metadata": {
    "application/vnd.databricks.v1+cell": {
     "cellMetadata": {
      "byteLimit": 2048000,
      "rowLimit": 10000
     },
     "inputWidgets": {},
     "nuid": "fbddf824-4e34-4280-a25e-d9fcb28a1088",
     "showTitle": false,
     "title": ""
    }
   },
   "outputs": [],
   "source": [
    "df.describe()"
   ]
  },
  {
   "cell_type": "markdown",
   "metadata": {
    "application/vnd.databricks.v1+cell": {
     "cellMetadata": {
      "byteLimit": 2048000,
      "rowLimit": 10000
     },
     "inputWidgets": {},
     "nuid": "dcde8084-f742-457a-af64-c6e815cbfde2",
     "showTitle": false,
     "title": ""
    }
   },
   "source": [
    "<h3>Value count</h3>"
   ]
  },
  {
   "cell_type": "markdown",
   "metadata": {
    "application/vnd.databricks.v1+cell": {
     "cellMetadata": {
      "byteLimit": 2048000,
      "rowLimit": 10000
     },
     "inputWidgets": {},
     "nuid": "9d018c91-969b-49ac-8225-6e2c2ad6372c",
     "showTitle": false,
     "title": ""
    }
   },
   "source": [
    "<p> Counting values is a good way to understand how many units of each feature/variable we have. We can apply the \"value_counts\" method on the 'drive-wheels' column. Don't forget that \"value_counts\" method works only on Pandas series, not on Pandas Dataframes. As a result, we only include one square bracket \"df ['drive-wheels']\" and not two square brackets \"df [['drive-wheels']]\".</p>"
   ]
  },
  {
   "cell_type": "code",
   "execution_count": null,
   "metadata": {
    "application/vnd.databricks.v1+cell": {
     "cellMetadata": {
      "byteLimit": 2048000,
      "rowLimit": 10000
     },
     "inputWidgets": {},
     "nuid": "2aa3d612-ef0d-4823-9483-6c8e4ee8ce3f",
     "showTitle": false,
     "title": ""
    }
   },
   "outputs": [],
   "source": [
    "df['drive-wheels'].value_counts()"
   ]
  },
  {
   "cell_type": "markdown",
   "metadata": {
    "application/vnd.databricks.v1+cell": {
     "cellMetadata": {
      "byteLimit": 2048000,
      "rowLimit": 10000
     },
     "inputWidgets": {},
     "nuid": "5075d179-8139-4f6e-8f55-9be7c05763b8",
     "showTitle": false,
     "title": ""
    }
   },
   "source": [
    "We can convert the series to a dataframe this way:"
   ]
  },
  {
   "cell_type": "code",
   "execution_count": null,
   "metadata": {
    "application/vnd.databricks.v1+cell": {
     "cellMetadata": {
      "byteLimit": 2048000,
      "rowLimit": 10000
     },
     "inputWidgets": {},
     "nuid": "f492d369-b20b-490e-a380-fd5b184645e8",
     "showTitle": false,
     "title": ""
    }
   },
   "outputs": [],
   "source": [
    "df['drive-wheels'].value_counts().to_frame()"
   ]
  },
  {
   "cell_type": "markdown",
   "metadata": {
    "application/vnd.databricks.v1+cell": {
     "cellMetadata": {
      "byteLimit": 2048000,
      "rowLimit": 10000
     },
     "inputWidgets": {},
     "nuid": "5710808c-c805-411e-8337-0547a5f4c752",
     "showTitle": false,
     "title": ""
    }
   },
   "source": [
    "Let's repeat the steps above, but save the results in a dataframe \"drive_wheels_counts\" and rename the column 'drive-wheels' to 'value_counts'."
   ]
  },
  {
   "cell_type": "code",
   "execution_count": null,
   "metadata": {
    "application/vnd.databricks.v1+cell": {
     "cellMetadata": {
      "byteLimit": 2048000,
      "rowLimit": 10000
     },
     "inputWidgets": {},
     "nuid": "6d0cce86-8dfd-4685-9b11-bf4a94a15cef",
     "showTitle": false,
     "title": ""
    }
   },
   "outputs": [],
   "source": [
    "drive_wheels_counts = df['drive-wheels'].value_counts().to_frame()\n",
    "drive_wheels_counts.rename(columns={'drive-wheels': 'value_counts'}, inplace=True)\n",
    "drive_wheels_counts"
   ]
  },
  {
   "cell_type": "markdown",
   "metadata": {
    "application/vnd.databricks.v1+cell": {
     "cellMetadata": {
      "byteLimit": 2048000,
      "rowLimit": 10000
     },
     "inputWidgets": {},
     "nuid": "a6d2913b-f157-4e24-9095-a1f4bc2f5eed",
     "showTitle": false,
     "title": ""
    }
   },
   "source": [
    "Now let's rename the index column to 'drive-wheels':"
   ]
  },
  {
   "cell_type": "code",
   "execution_count": null,
   "metadata": {
    "application/vnd.databricks.v1+cell": {
     "cellMetadata": {
      "byteLimit": 2048000,
      "rowLimit": 10000
     },
     "inputWidgets": {},
     "nuid": "cc40a307-6c8a-4bf8-b15e-4127ca74c310",
     "showTitle": false,
     "title": ""
    }
   },
   "outputs": [],
   "source": [
    "drive_wheels_counts.index.name = 'drive-wheels'\n",
    "drive_wheels_counts"
   ]
  },
  {
   "cell_type": "markdown",
   "metadata": {
    "application/vnd.databricks.v1+cell": {
     "cellMetadata": {
      "byteLimit": 2048000,
      "rowLimit": 10000
     },
     "inputWidgets": {},
     "nuid": "54d796d8-861a-48b1-b0a0-5f013d802341",
     "showTitle": false,
     "title": ""
    }
   },
   "source": [
    "### Exercise:\n",
    "\n",
    "Repeat the process above to 'engine-location'."
   ]
  },
  {
   "cell_type": "code",
   "execution_count": null,
   "metadata": {},
   "outputs": [],
   "source": []
  },
  {
   "cell_type": "markdown",
   "metadata": {
    "application/vnd.databricks.v1+cell": {
     "cellMetadata": {
      "byteLimit": 2048000,
      "rowLimit": 10000
     },
     "inputWidgets": {},
     "nuid": "3b8eee88-29fb-4f9a-8c85-adba2ec59c3a",
     "showTitle": false,
     "title": ""
    }
   },
   "source": [
    "<h2 id=\"basic_grouping\">4. Grouping data </h2>"
   ]
  },
  {
   "cell_type": "markdown",
   "metadata": {
    "application/vnd.databricks.v1+cell": {
     "cellMetadata": {
      "byteLimit": 2048000,
      "rowLimit": 10000
     },
     "inputWidgets": {},
     "nuid": "5c3b091d-395a-4230-9fbb-301a6a572c78",
     "showTitle": false,
     "title": ""
    }
   },
   "source": [
    "<p> The \"groupby\" method groups data by different categories. Data are grouped based on one or several variables and analysis is performed on the individual groups. </p>\n",
    "\n",
    "<p> For example, let's group by the \"drive-wheels\" variable. We see that there are three different categories of drive wheels.</p>"
   ]
  },
  {
   "cell_type": "code",
   "execution_count": null,
   "metadata": {
    "application/vnd.databricks.v1+cell": {
     "cellMetadata": {
      "byteLimit": 2048000,
      "rowLimit": 10000
     },
     "inputWidgets": {},
     "nuid": "ecc09430-beb3-4256-a263-2875e112491f",
     "showTitle": false,
     "title": ""
    }
   },
   "outputs": [],
   "source": [
    "df['drive-wheels'].unique()"
   ]
  },
  {
   "cell_type": "markdown",
   "metadata": {
    "application/vnd.databricks.v1+cell": {
     "cellMetadata": {
      "byteLimit": 2048000,
      "rowLimit": 10000
     },
     "inputWidgets": {},
     "nuid": "99273b03-9177-46a9-b8be-4d3f34ac6372",
     "showTitle": false,
     "title": ""
    }
   },
   "source": [
    "<p> If we want to know, on average, what type of traction is most valuable, we can group \"drive-wheels\" and then calculate them. </p>\n",
    "\n",
    "<p>We can select the columns 'drive-wheels' and 'price', or assign them to the variable \"df_group_one\".</p>"
   ]
  },
  {
   "cell_type": "code",
   "execution_count": null,
   "metadata": {
    "application/vnd.databricks.v1+cell": {
     "cellMetadata": {
      "byteLimit": 2048000,
      "rowLimit": 10000
     },
     "inputWidgets": {},
     "nuid": "42c55a05-d24b-4ecf-af85-21e78616fe91",
     "showTitle": false,
     "title": ""
    }
   },
   "outputs": [],
   "source": [
    "df_group_one = df[['drive-wheels','price']]"
   ]
  },
  {
   "cell_type": "markdown",
   "metadata": {
    "application/vnd.databricks.v1+cell": {
     "cellMetadata": {
      "byteLimit": 2048000,
      "rowLimit": 10000
     },
     "inputWidgets": {},
     "nuid": "7b523817-0a7a-411b-b443-4e6d23b2e9f7",
     "showTitle": false,
     "title": ""
    }
   },
   "source": [
    "Then we can calculate the average price for each group. \n",
    "\n",
    "Obs: When as_index = True, the keys used in groupby() will become an index in the new dataframe."
   ]
  },
  {
   "cell_type": "code",
   "execution_count": null,
   "metadata": {
    "application/vnd.databricks.v1+cell": {
     "cellMetadata": {
      "byteLimit": 2048000,
      "rowLimit": 10000
     },
     "inputWidgets": {},
     "nuid": "b0b54ffc-cc07-4189-af86-f99d53e36597",
     "showTitle": false,
     "title": ""
    }
   },
   "outputs": [],
   "source": [
    "df_group_one = df_group_one.groupby(['drive-wheels'],as_index=False).mean()\n",
    "\n",
    "df_group_one"
   ]
  },
  {
   "cell_type": "markdown",
   "metadata": {
    "application/vnd.databricks.v1+cell": {
     "cellMetadata": {
      "byteLimit": 2048000,
      "rowLimit": 10000
     },
     "inputWidgets": {},
     "nuid": "fb84c4c6-9944-41e9-964c-521ce51fb4f7",
     "showTitle": false,
     "title": ""
    }
   },
   "source": [
    "<p>According to our data, it seems that rear-wheel drive vehicles are, on average, the most expensive, while 4x4 and front-wheel drive vehicles are roughly the same price.</p>\n",
    "\n",
    "<p>You can also group by multiple variables. For example, let's group by 'drive-wheels' and 'body-style'. This groups the dataframe by unique 'drive-wheels' and 'body-style' combinations. We can store the results in the 'grouped_test1' variable.</p>"
   ]
  },
  {
   "cell_type": "code",
   "execution_count": null,
   "metadata": {
    "application/vnd.databricks.v1+cell": {
     "cellMetadata": {
      "byteLimit": 2048000,
      "rowLimit": 10000
     },
     "inputWidgets": {},
     "nuid": "d41b0128-b37c-4a02-b530-db22bdf50833",
     "showTitle": false,
     "title": ""
    }
   },
   "outputs": [],
   "source": [
    "# grouping results\n",
    "df_gptest = df[['drive-wheels','body-style','price']]\n",
    "grouped_test1 = df_gptest.groupby(['drive-wheels','body-style'],as_index=False).mean()\n",
    "grouped_test1"
   ]
  },
  {
   "cell_type": "markdown",
   "metadata": {
    "application/vnd.databricks.v1+cell": {
     "cellMetadata": {
      "byteLimit": 2048000,
      "rowLimit": 10000
     },
     "inputWidgets": {},
     "nuid": "a6343fde-254b-4910-9adc-3c81a6cd71ac",
     "showTitle": false,
     "title": ""
    }
   },
   "source": [
    "<p>This grouped data is much easier to visualize when it's turned into a pivot table. A pivot table is like an Excel spreadsheet, with one variable in the column and one in the row. We can convert the dataframe into a pivot table using the \"pivot\" method to create a pivot table from the groups. </p>\n",
    "\n",
    "<p>In this case, we'll put the drive-wheel variable as the table rows and \"pivot\" the body-style to become the table columns:</p>"
   ]
  },
  {
   "cell_type": "code",
   "execution_count": null,
   "metadata": {
    "application/vnd.databricks.v1+cell": {
     "cellMetadata": {
      "byteLimit": 2048000,
      "rowLimit": 10000
     },
     "inputWidgets": {},
     "nuid": "d10fea17-cda8-4a19-a7a8-8082445aa542",
     "showTitle": false,
     "title": ""
    }
   },
   "outputs": [],
   "source": [
    "grouped_pivot = grouped_test1.pivot(index='drive-wheels',columns='body-style')\n",
    "grouped_pivot"
   ]
  },
  {
   "cell_type": "markdown",
   "metadata": {
    "application/vnd.databricks.v1+cell": {
     "cellMetadata": {
      "byteLimit": 2048000,
      "rowLimit": 10000
     },
     "inputWidgets": {},
     "nuid": "38d20597-f1d4-4499-b0aa-83a57589f01e",
     "showTitle": false,
     "title": ""
    }
   },
   "source": [
    "<h1>Exercise:</h1>\n",
    "\n",
    "<p>Use \"groupby\" to find the average price according to \"body-style\" ? </p>"
   ]
  },
  {
   "cell_type": "code",
   "execution_count": null,
   "metadata": {},
   "outputs": [],
   "source": []
  },
  {
   "cell_type": "markdown",
   "metadata": {
    "application/vnd.databricks.v1+cell": {
     "cellMetadata": {
      "byteLimit": 2048000,
      "rowLimit": 10000
     },
     "inputWidgets": {},
     "nuid": "8a89fa74-676a-4e8c-92f1-8cfb0d4abf8f",
     "showTitle": false,
     "title": ""
    }
   },
   "source": [
    "<h4>Variables: Drive Wheels and Body Style vs Price</h4>"
   ]
  },
  {
   "cell_type": "markdown",
   "metadata": {
    "application/vnd.databricks.v1+cell": {
     "cellMetadata": {
      "byteLimit": 2048000,
      "rowLimit": 10000
     },
     "inputWidgets": {},
     "nuid": "b774c0a4-a985-4be8-ab52-530883d982e0",
     "showTitle": false,
     "title": ""
    }
   },
   "source": [
    "Let's use a heatmap to visualize the relationship between body-style and preço."
   ]
  },
  {
   "cell_type": "code",
   "execution_count": null,
   "metadata": {
    "application/vnd.databricks.v1+cell": {
     "cellMetadata": {
      "byteLimit": 2048000,
      "rowLimit": 10000
     },
     "inputWidgets": {},
     "nuid": "8690954e-818f-4752-b291-00498994204f",
     "showTitle": false,
     "title": ""
    }
   },
   "outputs": [],
   "source": [
    "sns.heatmap(grouped_pivot, cmap=\"YlGnBu\")"
   ]
  },
  {
   "cell_type": "markdown",
   "metadata": {
    "application/vnd.databricks.v1+cell": {
     "cellMetadata": {
      "byteLimit": 2048000,
      "rowLimit": 10000
     },
     "inputWidgets": {},
     "nuid": "07f4c1f6-6b36-4b01-aaff-c6da3e981797",
     "showTitle": false,
     "title": ""
    }
   },
   "source": [
    "<p>The heatmap represents the target variable (price) proportional to the color in relation to the 'drive-wheels' and 'body-style' variables on the vertical and horizontal axis, respectively. This allows us to visualize how price is related to 'drive-wheel' and 'body-style'.</p>"
   ]
  },
  {
   "cell_type": "markdown",
   "metadata": {
    "application/vnd.databricks.v1+cell": {
     "cellMetadata": {
      "byteLimit": 2048000,
      "rowLimit": 10000
     },
     "inputWidgets": {},
     "nuid": "5e7d719e-3e4b-49fe-a685-215f804ad98b",
     "showTitle": false,
     "title": ""
    }
   },
   "source": [
    "<p>Visualization is very important in data science, and Python's visualization packages give you great freedom.</p>\n",
    "\n",
    "<p>The main question we want to answer in this module is \"What are the main features that have the biggest impact on the price of the car?\".</p>\n",
    "\n",
    "<p>To get a better measure of the important features, we examine the correlation of these variables with the price of the car, i.e.: how does the price of the car depend on this variable?</p>"
   ]
  },
  {
   "cell_type": "markdown",
   "metadata": {
    "application/vnd.databricks.v1+cell": {
     "cellMetadata": {
      "byteLimit": 2048000,
      "rowLimit": 10000
     },
     "inputWidgets": {},
     "nuid": "c87b3a93-c791-4e56-b082-829dbf2cb2d1",
     "showTitle": false,
     "title": ""
    }
   },
   "source": [
    "<h2>5. Correlation and causality</h2>"
   ]
  },
  {
   "cell_type": "markdown",
   "metadata": {
    "application/vnd.databricks.v1+cell": {
     "cellMetadata": {
      "byteLimit": 2048000,
      "rowLimit": 10000
     },
     "inputWidgets": {},
     "nuid": "558ff1a7-5f89-4134-9b9f-aa79298a823f",
     "showTitle": false,
     "title": ""
    }
   },
   "source": [
    "<p><b>Correlação</b> : a measure of the extent of interdependence between variables. </p>\n",
    "\n",
    "<p><b>Causalidade</b>: the relationship of cause and effect between two variables.</p>\n",
    "\n",
    "<p> It is important to know the difference between these two and that correlation does not imply causation. Determining the correlation is much simpler than the determining cause, as the cause may require independent experimentation.</p>"
   ]
  },
  {
   "cell_type": "markdown",
   "metadata": {
    "application/vnd.databricks.v1+cell": {
     "cellMetadata": {
      "byteLimit": 2048000,
      "rowLimit": 10000
     },
     "inputWidgets": {},
     "nuid": "7d8bfa68-997d-4888-afb7-9cc027cbad0c",
     "showTitle": false,
     "title": ""
    }
   },
   "source": [
    "<p3>Pearson correlation</p>\n",
    "<p> Pearson Correlation measures the linear dependence between two variables X and Y. </p>\n",
    "<p> The resultant coefficient is a value between -1 and 1, in which: </p>\n",
    "<ul>\n",
    "    <li><b>1</b>: Perfect positive linear correlation </li>\n",
    "    <li><b>0</b>: Zero correlation, the two variables are unlikely to affect each other </li>\n",
    "    <li><b>-1</b>: Perfect negative correlation</li>\n",
    "</ul>"
   ]
  },
  {
   "cell_type": "markdown",
   "metadata": {
    "application/vnd.databricks.v1+cell": {
     "cellMetadata": {
      "byteLimit": 2048000,
      "rowLimit": 10000
     },
     "inputWidgets": {},
     "nuid": "1d41b727-d19e-43ef-870f-02f2b9842fb2",
     "showTitle": false,
     "title": ""
    }
   },
   "source": [
    "<p>Pearson correlation is the default method of the \"corr\" function. As before, we can calculate the Pearson correlation of the variables 'int64' or 'float64'.</p>"
   ]
  },
  {
   "cell_type": "code",
   "execution_count": null,
   "metadata": {
    "application/vnd.databricks.v1+cell": {
     "cellMetadata": {
      "byteLimit": 2048000,
      "rowLimit": 10000
     },
     "inputWidgets": {},
     "nuid": "21e1b90c-4a8c-46de-b183-6640e06e3044",
     "showTitle": false,
     "title": ""
    },
    "scrolled": true
   },
   "outputs": [],
   "source": [
    "df.corr()"
   ]
  },
  {
   "cell_type": "code",
   "execution_count": null,
   "metadata": {
    "application/vnd.databricks.v1+cell": {
     "cellMetadata": {
      "byteLimit": 2048000,
      "rowLimit": 10000
     },
     "inputWidgets": {},
     "nuid": "976c9ace-3d81-4dec-8906-d3dcb30696df",
     "showTitle": false,
     "title": ""
    }
   },
   "outputs": [],
   "source": [
    "P_corr=df.corr()\n",
    "plt.subplots(figsize=(10, 7))\n",
    "sns.heatmap(P_corr)\n"
   ]
  },
  {
   "cell_type": "markdown",
   "metadata": {
    "application/vnd.databricks.v1+cell": {
     "cellMetadata": {
      "byteLimit": 2048000,
      "rowLimit": 10000
     },
     "inputWidgets": {},
     "nuid": "564562b5-6028-47b4-aa3d-dc06c145265b",
     "showTitle": false,
     "title": ""
    }
   },
   "source": [
    "Sometimes we would like to know the statistical significance of the correlation estimate."
   ]
  },
  {
   "cell_type": "markdown",
   "metadata": {
    "application/vnd.databricks.v1+cell": {
     "cellMetadata": {
      "byteLimit": 2048000,
      "rowLimit": 10000
     },
     "inputWidgets": {},
     "nuid": "9b7c1a0c-c6db-41f2-86a3-82ac51f7e0c6",
     "showTitle": false,
     "title": ""
    }
   },
   "source": [
    "<b>P-value</b>: \n",
    "<p>What is P-value? The P-value is the probability that the correlation between these two variables is statistically significant. Typically, we choose a significance level of 0.05, which means we are 95% confident that the correlation between the variables is significant.</p>\n",
    "\n",
    "By convention, when the\n",
    "<ul>\n",
    "     <li>p-value is < 0.001: we say that there is strong evidence that the correlation is significant.</li>\n",
    "     <li>p-value is < 0.05: there is moderate evidence that the correlation is significant.</li>\n",
    "     <li>p-value is < 0.1: there is weak evidence that the correlation is significant.</li>\n",
    "     <li>p-value is > 0.1: there is no evidence that the correlation is significant.</li>\n",
    "</ul>"
   ]
  },
  {
   "cell_type": "markdown",
   "metadata": {
    "application/vnd.databricks.v1+cell": {
     "cellMetadata": {
      "byteLimit": 2048000,
      "rowLimit": 10000
     },
     "inputWidgets": {},
     "nuid": "20a6cc92-b738-40be-bd0c-4e6868a50087",
     "showTitle": false,
     "title": ""
    }
   },
   "source": [
    "We can get this information using the module \"stats\" from the library \"scipy\"."
   ]
  },
  {
   "cell_type": "code",
   "execution_count": null,
   "metadata": {
    "application/vnd.databricks.v1+cell": {
     "cellMetadata": {
      "byteLimit": 2048000,
      "rowLimit": 10000
     },
     "inputWidgets": {},
     "nuid": "142521a8-754e-4472-93eb-e33aa106b2bd",
     "showTitle": false,
     "title": ""
    }
   },
   "outputs": [],
   "source": [
    "from scipy import stats"
   ]
  },
  {
   "cell_type": "markdown",
   "metadata": {
    "application/vnd.databricks.v1+cell": {
     "cellMetadata": {
      "byteLimit": 2048000,
      "rowLimit": 10000
     },
     "inputWidgets": {},
     "nuid": "e004cb2b-d07b-4d86-aeb2-42f9b6b144ea",
     "showTitle": false,
     "title": ""
    }
   },
   "source": [
    "<h3>Wheel-base vs Price</h3>"
   ]
  },
  {
   "cell_type": "markdown",
   "metadata": {
    "application/vnd.databricks.v1+cell": {
     "cellMetadata": {
      "byteLimit": 2048000,
      "rowLimit": 10000
     },
     "inputWidgets": {},
     "nuid": "0a5fe7d7-148f-4f9c-a160-13c063ecc123",
     "showTitle": false,
     "title": ""
    }
   },
   "source": [
    "Let's calculate the Pearson's correlation coefficient and the P-value of 'wheel-base' and 'price'."
   ]
  },
  {
   "cell_type": "code",
   "execution_count": null,
   "metadata": {
    "application/vnd.databricks.v1+cell": {
     "cellMetadata": {
      "byteLimit": 2048000,
      "rowLimit": 10000
     },
     "inputWidgets": {},
     "nuid": "79d206fa-879c-4a79-ab88-1e0f6f26016d",
     "showTitle": false,
     "title": ""
    }
   },
   "outputs": [],
   "source": [
    "pearson_coef, p_value = stats.pearsonr(df['wheel-base'], df['price'])\n",
    "print(\"The Pearson Correlation Coefficient is\", pearson_coef, \" with a P-value of P =\", p_value)  "
   ]
  },
  {
   "cell_type": "markdown",
   "metadata": {
    "application/vnd.databricks.v1+cell": {
     "cellMetadata": {
      "byteLimit": 2048000,
      "rowLimit": 10000
     },
     "inputWidgets": {},
     "nuid": "889fe334-3938-4215-bfb5-92de414bb13b",
     "showTitle": false,
     "title": ""
    }
   },
   "source": [
    "<h5>Conclusion:</h5>\n",
    "<p>As the p-value is < 0.001, the correlation between 'wheel-base' and 'price' is statistically significant, although the linear relationship is not extremely strong (~0.585)</p>"
   ]
  },
  {
   "cell_type": "markdown",
   "metadata": {
    "application/vnd.databricks.v1+cell": {
     "cellMetadata": {
      "byteLimit": 2048000,
      "rowLimit": 10000
     },
     "inputWidgets": {},
     "nuid": "3ad44c8f-6bc2-4f8e-8f9f-c0ac9e36ca18",
     "showTitle": false,
     "title": ""
    }
   },
   "source": [
    "<h3>Horsepower vs Price</h3>"
   ]
  },
  {
   "cell_type": "markdown",
   "metadata": {
    "application/vnd.databricks.v1+cell": {
     "cellMetadata": {
      "byteLimit": 2048000,
      "rowLimit": 10000
     },
     "inputWidgets": {},
     "nuid": "435610f2-9d65-47ad-b845-3b3de434ed4f",
     "showTitle": false,
     "title": ""
    }
   },
   "source": [
    "Let's calculate Pearson's correlation coefficient and the P-value of 'horsepower' and 'price'."
   ]
  },
  {
   "cell_type": "code",
   "execution_count": null,
   "metadata": {
    "application/vnd.databricks.v1+cell": {
     "cellMetadata": {
      "byteLimit": 2048000,
      "rowLimit": 10000
     },
     "inputWidgets": {},
     "nuid": "3bda2117-bc08-4011-ac38-9369f79b789c",
     "showTitle": false,
     "title": ""
    }
   },
   "outputs": [],
   "source": [
    "pearson_coef, p_value = stats.pearsonr(df['horsepower'], df['price'])\n",
    "print(\"The Pearson Correlation Coefficient is\", pearson_coef, \" with a P-value of P = \", p_value)  "
   ]
  },
  {
   "cell_type": "markdown",
   "metadata": {
    "application/vnd.databricks.v1+cell": {
     "cellMetadata": {
      "byteLimit": 2048000,
      "rowLimit": 10000
     },
     "inputWidgets": {},
     "nuid": "aea9efb3-da37-4d6a-9b13-c9728f150d2f",
     "showTitle": false,
     "title": ""
    }
   },
   "source": [
    "<h5>Conclusion:</h5>\n",
    "<p>As the p value is < 0.001, the correlation between horsepower and price is statistically significant and the linear relationship is quite strong (~ 0.809, close to 1)</p>"
   ]
  },
  {
   "cell_type": "markdown",
   "metadata": {
    "application/vnd.databricks.v1+cell": {
     "cellMetadata": {
      "byteLimit": 2048000,
      "rowLimit": 10000
     },
     "inputWidgets": {},
     "nuid": "a2b089af-07b1-4d78-b701-7856d00c7a29",
     "showTitle": false,
     "title": ""
    }
   },
   "source": [
    "<h3>Length vs Price</h3>\n",
    "\n",
    "Let's calculate Pearson correlation coefficient and the P-value of 'length' and 'price'."
   ]
  },
  {
   "cell_type": "code",
   "execution_count": null,
   "metadata": {
    "application/vnd.databricks.v1+cell": {
     "cellMetadata": {
      "byteLimit": 2048000,
      "rowLimit": 10000
     },
     "inputWidgets": {},
     "nuid": "fccd7090-1c25-4645-af9d-5771cb6eff03",
     "showTitle": false,
     "title": ""
    }
   },
   "outputs": [],
   "source": [
    "pearson_coef, p_value = stats.pearsonr(df['length'], df['price'])\n",
    "print(\"The Pearson Correlation Coefficient is\", pearson_coef, \" with a P-value of P = \", p_value)  "
   ]
  },
  {
   "cell_type": "markdown",
   "metadata": {
    "application/vnd.databricks.v1+cell": {
     "cellMetadata": {
      "byteLimit": 2048000,
      "rowLimit": 10000
     },
     "inputWidgets": {},
     "nuid": "520d5e7e-e6f5-43d6-9521-8e811f02f728",
     "showTitle": false,
     "title": ""
    }
   },
   "source": [
    "<h5>Conclusion:</h5>\n",
    "<p>As the p value is < 0.001, the correlation between \"length\" and \"price\" is statistically significant and the linear relationship is moderately strong (~ 0.691).</p>"
   ]
  },
  {
   "cell_type": "markdown",
   "metadata": {
    "application/vnd.databricks.v1+cell": {
     "cellMetadata": {
      "byteLimit": 2048000,
      "rowLimit": 10000
     },
     "inputWidgets": {},
     "nuid": "828ee2bc-808a-44f1-9aa6-8b3a140b4a21",
     "showTitle": false,
     "title": ""
    }
   },
   "source": [
    "<h3>Width vs Price</h3>"
   ]
  },
  {
   "cell_type": "markdown",
   "metadata": {
    "application/vnd.databricks.v1+cell": {
     "cellMetadata": {
      "byteLimit": 2048000,
      "rowLimit": 10000
     },
     "inputWidgets": {},
     "nuid": "cea98f14-d073-4e94-bc37-c070b5c7f6bc",
     "showTitle": false,
     "title": ""
    }
   },
   "source": [
    "Let's calculate Pearson correlation coefficient and the P-value of 'width' and 'price'."
   ]
  },
  {
   "cell_type": "code",
   "execution_count": null,
   "metadata": {
    "application/vnd.databricks.v1+cell": {
     "cellMetadata": {
      "byteLimit": 2048000,
      "rowLimit": 10000
     },
     "inputWidgets": {},
     "nuid": "29fc5347-ef9c-4668-98ee-5f6ee181c379",
     "showTitle": false,
     "title": ""
    }
   },
   "outputs": [],
   "source": [
    "pearson_coef, p_value = stats.pearsonr(df['width'], df['price'])\n",
    "print(\"The Pearson Correlation Coefficient is\", pearson_coef, \" with a P-value of P =\", p_value ) "
   ]
  },
  {
   "cell_type": "markdown",
   "metadata": {
    "application/vnd.databricks.v1+cell": {
     "cellMetadata": {
      "byteLimit": 2048000,
      "rowLimit": 10000
     },
     "inputWidgets": {},
     "nuid": "7af5979f-a048-4aa4-8767-f5e8ba0dc45b",
     "showTitle": false,
     "title": ""
    }
   },
   "source": [
    "<h5>Conclusion:</h5>\n",
    "<p>As the p-value is < 0.001, the correlation between width and price is statistically significant and the linear relationship is moderately strong (~0.751). </p>"
   ]
  },
  {
   "cell_type": "markdown",
   "metadata": {
    "application/vnd.databricks.v1+cell": {
     "cellMetadata": {
      "byteLimit": 2048000,
      "rowLimit": 10000
     },
     "inputWidgets": {},
     "nuid": "512126b6-f2df-48e1-8313-c48aedfc0ec4",
     "showTitle": false,
     "title": ""
    }
   },
   "source": [
    "### Exercise: \n",
    "Analyze the correlation of the price with the variables: 'Curb-weight', 'Engine-size' , 'Bore', 'City-mpg' and 'Highway-mpg'. What is your conclusion?"
   ]
  },
  {
   "cell_type": "markdown",
   "metadata": {
    "application/vnd.databricks.v1+cell": {
     "cellMetadata": {
      "byteLimit": 2048000,
      "rowLimit": 10000
     },
     "inputWidgets": {},
     "nuid": "5d87aa5a-efec-4a32-ba2f-13b6ee02e24d",
     "showTitle": false,
     "title": ""
    }
   },
   "source": [
    "### Curb-weight vs Price"
   ]
  },
  {
   "cell_type": "code",
   "execution_count": null,
   "metadata": {
    "application/vnd.databricks.v1+cell": {
     "cellMetadata": {},
     "inputWidgets": {},
     "nuid": "5b4c5bab-ace1-4b73-a60a-94888307bdb0",
     "showTitle": false,
     "title": ""
    }
   },
   "outputs": [],
   "source": []
  },
  {
   "cell_type": "markdown",
   "metadata": {
    "application/vnd.databricks.v1+cell": {
     "cellMetadata": {
      "byteLimit": 2048000,
      "rowLimit": 10000
     },
     "inputWidgets": {},
     "nuid": "1b0e989c-44a7-438c-97b3-0fd38cdc5dbf",
     "showTitle": false,
     "title": ""
    }
   },
   "source": [
    "<h3>Engine-size vs Price</h3>"
   ]
  },
  {
   "cell_type": "code",
   "execution_count": null,
   "metadata": {
    "application/vnd.databricks.v1+cell": {
     "cellMetadata": {},
     "inputWidgets": {},
     "nuid": "1e13dfd9-4902-447a-8966-4bfed26b4036",
     "showTitle": false,
     "title": ""
    }
   },
   "outputs": [],
   "source": []
  },
  {
   "cell_type": "markdown",
   "metadata": {
    "application/vnd.databricks.v1+cell": {
     "cellMetadata": {
      "byteLimit": 2048000,
      "rowLimit": 10000
     },
     "inputWidgets": {},
     "nuid": "08b21049-d62b-4f61-b80e-67615a583f32",
     "showTitle": false,
     "title": ""
    }
   },
   "source": [
    "<h3>Bore vs Price</h3>"
   ]
  },
  {
   "cell_type": "code",
   "execution_count": null,
   "metadata": {
    "application/vnd.databricks.v1+cell": {
     "cellMetadata": {},
     "inputWidgets": {},
     "nuid": "026d30e1-a062-490d-97e5-d84f0a7befe8",
     "showTitle": false,
     "title": ""
    }
   },
   "outputs": [],
   "source": []
  },
  {
   "cell_type": "markdown",
   "metadata": {
    "application/vnd.databricks.v1+cell": {
     "cellMetadata": {
      "byteLimit": 2048000,
      "rowLimit": 10000
     },
     "inputWidgets": {},
     "nuid": "0747deb7-f2e6-470c-acb6-0252bf437001",
     "showTitle": false,
     "title": ""
    }
   },
   "source": [
    "<h3>City-mpg vs Price</h3>"
   ]
  },
  {
   "cell_type": "code",
   "execution_count": null,
   "metadata": {
    "application/vnd.databricks.v1+cell": {
     "cellMetadata": {
      "byteLimit": 2048000,
      "rowLimit": 10000
     },
     "inputWidgets": {},
     "nuid": "b181530a-74e4-4367-b7a2-c97a9bef251b",
     "showTitle": false,
     "title": ""
    }
   },
   "outputs": [],
   "source": []
  },
  {
   "cell_type": "markdown",
   "metadata": {
    "application/vnd.databricks.v1+cell": {
     "cellMetadata": {
      "byteLimit": 2048000,
      "rowLimit": 10000
     },
     "inputWidgets": {},
     "nuid": "b5b98d82-57dd-4b0e-83ce-5c61857f4250",
     "showTitle": false,
     "title": ""
    }
   },
   "source": [
    "<h3>Highway-mpg vs Price</h3>"
   ]
  },
  {
   "cell_type": "code",
   "execution_count": null,
   "metadata": {
    "application/vnd.databricks.v1+cell": {
     "cellMetadata": {
      "byteLimit": 2048000,
      "rowLimit": 10000
     },
     "inputWidgets": {},
     "nuid": "89e8afa9-239a-4546-8e3f-6a97ef1c60fc",
     "showTitle": false,
     "title": ""
    }
   },
   "outputs": [],
   "source": [
    "\n"
   ]
  },
  {
   "cell_type": "markdown",
   "metadata": {
    "application/vnd.databricks.v1+cell": {
     "cellMetadata": {
      "byteLimit": 2048000,
      "rowLimit": 10000
     },
     "inputWidgets": {},
     "nuid": "9266e2ad-0c24-4901-9504-8f7e267ae137",
     "showTitle": false,
     "title": ""
    }
   },
   "source": [
    "<h2 id=\"anova\">6. ANOVA</h2>"
   ]
  },
  {
   "cell_type": "markdown",
   "metadata": {
    "application/vnd.databricks.v1+cell": {
     "cellMetadata": {
      "byteLimit": 2048000,
      "rowLimit": 10000
     },
     "inputWidgets": {},
     "nuid": "ff9481a6-76c4-4db2-9ad7-680a3655c441",
     "showTitle": false,
     "title": ""
    }
   },
   "source": [
    "<h3>ANOVA: Analysis of variance</h3>\n",
    "<p>The Analysis of Variance (ANOVA) is a statistical method used to test whether there are significant differences between the means of two or more groups. ANOVA returns two parameters:</p>\n",
    "\n",
    "<p><b>F-test score</b>: ANOVA assumes that all groups' means are equal, calculates how much the actual means deviate from the assumption, and reports it as the F-test score. The higher the score, the greater the difference between the means.</p>\n",
    "\n",
    "<p><b>P-value</b>: P-value indicates how statistically significant our calculated score value is.</p>\n",
    "\n",
    "<p>If our price variable is strongly correlated with the variable we are analyzing, expect the ANOVA to return a considerable F-test score and a small p-value.</p>\n",
    "\n",
    "![alt text](https://www.datanovia.com/en/wp-content/uploads/dn-tutorials/r-statistics-2-comparing-groups-means/images/one-way-anova-basics.png)"
   ]
  },
  {
   "cell_type": "markdown",
   "metadata": {
    "application/vnd.databricks.v1+cell": {
     "cellMetadata": {
      "byteLimit": 2048000,
      "rowLimit": 10000
     },
     "inputWidgets": {},
     "nuid": "56c25273-1556-4c0d-8413-37f48aa25461",
     "showTitle": false,
     "title": ""
    }
   },
   "source": [
    "<h3>Drive Wheels</h3>"
   ]
  },
  {
   "cell_type": "markdown",
   "metadata": {
    "application/vnd.databricks.v1+cell": {
     "cellMetadata": {
      "byteLimit": 2048000,
      "rowLimit": 10000
     },
     "inputWidgets": {},
     "nuid": "0fda289e-adb0-4540-b039-484f04dbc45e",
     "showTitle": false,
     "title": ""
    }
   },
   "source": [
    "<p>As ANOVA analyzes the difference between different groups of the same variable, the groupby function will be useful. Since the ANOVA algorithm automatically averages the data, we don't need to calculate the average in advance.</p>\n",
    "\n",
    "<p>Let's see how the different types of 'drive-wheels' impact the 'price', let's group the data.</p>"
   ]
  },
  {
   "cell_type": "code",
   "execution_count": null,
   "metadata": {
    "application/vnd.databricks.v1+cell": {
     "cellMetadata": {
      "byteLimit": 2048000,
      "rowLimit": 10000
     },
     "inputWidgets": {},
     "nuid": "8f831922-e2d3-4229-9ec1-f204464f7dbb",
     "showTitle": false,
     "title": ""
    }
   },
   "outputs": [],
   "source": [
    "grouped_test2=df[['drive-wheels', 'price']].groupby(['drive-wheels'])\n",
    "grouped_test2.head()"
   ]
  },
  {
   "cell_type": "markdown",
   "metadata": {
    "application/vnd.databricks.v1+cell": {
     "cellMetadata": {
      "byteLimit": 2048000,
      "rowLimit": 10000
     },
     "inputWidgets": {},
     "nuid": "a8308e7a-7a0b-4bfb-9319-fa89784fde23",
     "showTitle": false,
     "title": ""
    }
   },
   "source": [
    "We can get the group values using \"get_group\"."
   ]
  },
  {
   "cell_type": "code",
   "execution_count": null,
   "metadata": {
    "application/vnd.databricks.v1+cell": {
     "cellMetadata": {
      "byteLimit": 2048000,
      "rowLimit": 10000
     },
     "inputWidgets": {},
     "nuid": "cfe3980d-3b19-4eb6-a42f-b2d50221513d",
     "showTitle": false,
     "title": ""
    }
   },
   "outputs": [],
   "source": [
    "grouped_test2.get_group('4wd')['price']"
   ]
  },
  {
   "cell_type": "markdown",
   "metadata": {
    "application/vnd.databricks.v1+cell": {
     "cellMetadata": {
      "byteLimit": 2048000,
      "rowLimit": 10000
     },
     "inputWidgets": {},
     "nuid": "9e384e5b-1724-4fff-9002-3e9cdb2daf75",
     "showTitle": false,
     "title": ""
    }
   },
   "source": [
    "We can use the function 'f_oneway' from the module 'stats' to obtain the <b>F-test score</b> and <b>P-value</b>."
   ]
  },
  {
   "cell_type": "code",
   "execution_count": null,
   "metadata": {
    "application/vnd.databricks.v1+cell": {
     "cellMetadata": {
      "byteLimit": 2048000,
      "rowLimit": 10000
     },
     "inputWidgets": {},
     "nuid": "fd639e32-e314-4dea-9957-885e16409ebb",
     "showTitle": false,
     "title": ""
    }
   },
   "outputs": [],
   "source": [
    "# ANOVA\n",
    "f_val, p_val = stats.f_oneway(grouped_test2.get_group('fwd')['price'], grouped_test2.get_group('rwd')['price'], grouped_test2.get_group('4wd')['price'])  \n",
    " \n",
    "print( \"ANOVA results: F=\", f_val, \", P =\", p_val)   "
   ]
  },
  {
   "cell_type": "markdown",
   "metadata": {
    "application/vnd.databricks.v1+cell": {
     "cellMetadata": {
      "byteLimit": 2048000,
      "rowLimit": 10000
     },
     "inputWidgets": {},
     "nuid": "9b3899d8-9335-4cb6-bd87-1fc8c3edc971",
     "showTitle": false,
     "title": ""
    }
   },
   "source": [
    "This is a great result, with a large F-test score showing a strong correlation and a P-value close to 0 implying almost certain statistical significance. But does this mean that all three tested groups are highly correlated?"
   ]
  },
  {
   "cell_type": "markdown",
   "metadata": {
    "application/vnd.databricks.v1+cell": {
     "cellMetadata": {
      "byteLimit": 2048000,
      "rowLimit": 10000
     },
     "inputWidgets": {},
     "nuid": "7fa27b64-f5cd-400c-ab3b-af4a4990f82d",
     "showTitle": false,
     "title": ""
    }
   },
   "source": [
    "#### Analyzing separately: fwd and rwd"
   ]
  },
  {
   "cell_type": "code",
   "execution_count": null,
   "metadata": {
    "application/vnd.databricks.v1+cell": {
     "cellMetadata": {
      "byteLimit": 2048000,
      "rowLimit": 10000
     },
     "inputWidgets": {},
     "nuid": "822d8572-3599-485c-9900-9a0b6e0ee61b",
     "showTitle": false,
     "title": ""
    }
   },
   "outputs": [],
   "source": [
    "f_val, p_val = stats.f_oneway(grouped_test2.get_group('fwd')['price'], grouped_test2.get_group('rwd')['price'])  \n",
    " \n",
    "print( \"ANOVA results: F=\", f_val, \", P =\", p_val )"
   ]
  },
  {
   "cell_type": "markdown",
   "metadata": {
    "application/vnd.databricks.v1+cell": {
     "cellMetadata": {
      "byteLimit": 2048000,
      "rowLimit": 10000
     },
     "inputWidgets": {},
     "nuid": "41ca961e-46a2-4c87-af03-d18171defd3d",
     "showTitle": false,
     "title": ""
    }
   },
   "source": [
    "Let's examine the other groups."
   ]
  },
  {
   "cell_type": "markdown",
   "metadata": {
    "application/vnd.databricks.v1+cell": {
     "cellMetadata": {
      "byteLimit": 2048000,
      "rowLimit": 10000
     },
     "inputWidgets": {},
     "nuid": "9ab7e14a-7972-461b-a851-3e66d713e71e",
     "showTitle": false,
     "title": ""
    }
   },
   "source": [
    "#### 4wd and rwd"
   ]
  },
  {
   "cell_type": "code",
   "execution_count": null,
   "metadata": {
    "application/vnd.databricks.v1+cell": {
     "cellMetadata": {
      "byteLimit": 2048000,
      "rowLimit": 10000
     },
     "inputWidgets": {},
     "nuid": "1a995155-eb71-49ef-abef-efa28e98feb1",
     "showTitle": false,
     "title": ""
    },
    "scrolled": true
   },
   "outputs": [],
   "source": [
    "f_val, p_val = stats.f_oneway(grouped_test2.get_group('4wd')['price'], grouped_test2.get_group('rwd')['price'])  \n",
    "   \n",
    "print( \"ANOVA results: F=\", f_val, \", P =\", p_val)   "
   ]
  },
  {
   "cell_type": "markdown",
   "metadata": {
    "application/vnd.databricks.v1+cell": {
     "cellMetadata": {
      "byteLimit": 2048000,
      "rowLimit": 10000
     },
     "inputWidgets": {},
     "nuid": "9262c91e-792a-413f-a001-8cde96f72a8c",
     "showTitle": false,
     "title": ""
    }
   },
   "source": [
    "<h4>4wd and fwd</h4>"
   ]
  },
  {
   "cell_type": "code",
   "execution_count": null,
   "metadata": {
    "application/vnd.databricks.v1+cell": {
     "cellMetadata": {
      "byteLimit": 2048000,
      "rowLimit": 10000
     },
     "inputWidgets": {},
     "nuid": "664b7185-8b30-469a-8ef6-054459c10474",
     "showTitle": false,
     "title": ""
    }
   },
   "outputs": [],
   "source": [
    "f_val, p_val = stats.f_oneway(grouped_test2.get_group('4wd')['price'], grouped_test2.get_group('fwd')['price'])  \n",
    " \n",
    "print(\"ANOVA results: F=\", f_val, \", P =\", p_val)   "
   ]
  },
  {
   "cell_type": "markdown",
   "metadata": {
    "application/vnd.databricks.v1+cell": {
     "cellMetadata": {
      "byteLimit": 2048000,
      "rowLimit": 10000
     },
     "inputWidgets": {},
     "nuid": "29ac9722-8f16-418e-a4ea-ba59943184ac",
     "showTitle": false,
     "title": ""
    }
   },
   "source": [
    "### Exercise:\n",
    "Perform variance analysis for variable 'horsepower-binned'."
   ]
  },
  {
   "cell_type": "code",
   "execution_count": null,
   "metadata": {
    "application/vnd.databricks.v1+cell": {
     "cellMetadata": {
      "byteLimit": 2048000,
      "rowLimit": 10000
     },
     "inputWidgets": {},
     "nuid": "3bb6adbc-c84d-40ba-8edd-de678b082eb9",
     "showTitle": false,
     "title": ""
    }
   },
   "outputs": [],
   "source": []
  },
  {
   "cell_type": "markdown",
   "metadata": {
    "application/vnd.databricks.v1+cell": {
     "cellMetadata": {
      "byteLimit": 2048000,
      "rowLimit": 10000
     },
     "inputWidgets": {},
     "nuid": "e2d2e42f-c7c9-4500-a613-6d2856449809",
     "showTitle": false,
     "title": ""
    }
   },
   "source": [
    "<h3>Conclusion: Important variables</h3>"
   ]
  },
  {
   "cell_type": "code",
   "execution_count": null,
   "metadata": {
    "application/vnd.databricks.v1+cell": {
     "cellMetadata": {
      "byteLimit": 2048000,
      "rowLimit": 10000
     },
     "inputWidgets": {},
     "nuid": "4904958f-4a4c-4ae0-91ba-a8c32d4c248c",
     "showTitle": false,
     "title": ""
    }
   },
   "outputs": [],
   "source": [
    "grouped_test_horse=df[['horsepower-binned', 'price']].groupby(['horsepower-binned'])\n",
    "grouped_test_horse.head()\n",
    "f_val, p_val = stats.f_oneway(grouped_test_horse.get_group('Low')['price'], grouped_test_horse.get_group('Medium')['price'], grouped_test_horse.get_group('High')['price'])  \n",
    "   \n",
    "print( \"ANOVA results: F=\", f_val, \", P =\", p_val)  \n"
   ]
  },
  {
   "cell_type": "markdown",
   "metadata": {
    "application/vnd.databricks.v1+cell": {
     "cellMetadata": {
      "byteLimit": 2048000,
      "rowLimit": 10000
     },
     "inputWidgets": {},
     "nuid": "933f224d-af0d-4e27-a7d1-289e317005c0",
     "showTitle": false,
     "title": ""
    }
   },
   "source": [
    "<p>Now we have a better idea of what our important data looks like and what variables to consider when predicting the price of the car. We've summarized it to the following variables:</p>\n",
    "\n",
    "Continuous numeric variables:\n",
    "<ul>\n",
    "    <li>Length</li>\n",
    "    <li>Width</li>\n",
    "    <li>Curb-weight</li>\n",
    "    <li>Engine-size</li>\n",
    "    <li>Horsepower</li>\n",
    "    <li>City-mpg</li>\n",
    "    <li>Highway-mpg</li>\n",
    "    <li>Wheel-base</li>\n",
    "    <li>Bore</li>\n",
    "</ul>\n",
    "    \n",
    "Categorical variables:\n",
    "<ul>\n",
    "    <li>Drive-wheels</li>\n",
    "</ul>\n",
    "\n",
    "<p>As we move towards building machine learning models to automate our analysis, feeding the model with variables that significantly affect our target variable will improve our model's prediction performance.</p>"
   ]
  },
  {
   "cell_type": "markdown",
   "metadata": {
    "application/vnd.databricks.v1+cell": {
     "cellMetadata": {
      "byteLimit": 2048000,
      "rowLimit": 10000
     },
     "inputWidgets": {},
     "nuid": "bcee146d-99d9-4467-9220-155ca2d5db14",
     "showTitle": false,
     "title": ""
    }
   },
   "source": [
    "<h3>About the Authors:</h3>\n",
    "\n",
    "This notebook was written by <a href=\"https://www.linkedin.com/in/mahdi-noorian-58219234/\" target=\"_blank\">Mahdi Noorian PhD</a>, <a href=\"https://www.linkedin.com/in/joseph-s-50398b136/\" target=\"_blank\">Joseph Santarcangelo</a>, Bahare Talayian, Eric Xiao, Steven Dong, Parizad, Hima Vsudevan and <a href=\"https://www.linkedin.com/in/fiorellawever/\" target=\"_blank\">Fiorella Wenver</a> and <a href=\" https://www.linkedin.com/in/yi-leng-yao-84451275/ \" target=\"_blank\" >Yi Yao</a>.\n",
    "\n",
    "<p><a href=\"https://www.linkedin.com/in/joseph-s-50398b136/\" target=\"_blank\">Joseph Santarcangelo</a> is a Data Scientist at IBM, and holds a PhD in Electrical Engineering. His research focused on using Machine Learning, Signal Processing, and Computer Vision to determine how videos impact human cognition. Joseph has been working for IBM since he completed his PhD.</p>"
   ]
  },
  {
   "cell_type": "markdown",
   "metadata": {
    "application/vnd.databricks.v1+cell": {
     "cellMetadata": {
      "byteLimit": 2048000,
      "rowLimit": 10000
     },
     "inputWidgets": {},
     "nuid": "c61c2d1f-94ed-4d2d-9457-039e2d197885",
     "showTitle": false,
     "title": ""
    }
   },
   "source": [
    "Adapted by Carlos Carlim"
   ]
  },
  {
   "cell_type": "markdown",
   "metadata": {
    "application/vnd.databricks.v1+cell": {
     "cellMetadata": {
      "byteLimit": 2048000,
      "rowLimit": 10000
     },
     "inputWidgets": {},
     "nuid": "23c94431-a41a-4e6e-aa39-946eadc6a1a8",
     "showTitle": false,
     "title": ""
    }
   },
   "source": [
    "<hr>\n",
    "<p>Copyright &copy; 2018 IBM Developer Skills Network. This notebook and its source code are released under the terms of the <a href=\"https://cognitiveclass.ai/mit-license/\">MIT License</a>.</p>"
   ]
  }
 ],
 "metadata": {
  "anaconda-cloud": {},
  "application/vnd.databricks.v1+notebook": {
   "dashboards": [],
   "language": "python",
   "notebookMetadata": {
    "pythonIndentUnit": 2
   },
   "notebookName": "Class 3",
   "notebookOrigID": 1040044504193926,
   "widgets": {}
  },
  "kernelspec": {
   "display_name": "Python 3",
   "language": "python",
   "name": "python3"
  },
  "language_info": {
   "codemirror_mode": {
    "name": "ipython",
    "version": 3
   },
   "file_extension": ".py",
   "mimetype": "text/x-python",
   "name": "python",
   "nbconvert_exporter": "python",
   "pygments_lexer": "ipython3",
   "version": "3.8.8"
  }
 },
 "nbformat": 4,
 "nbformat_minor": 1
}
