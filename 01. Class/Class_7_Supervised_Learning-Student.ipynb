{
 "cells": [
  {
   "cell_type": "markdown",
   "metadata": {
    "application/vnd.databricks.v1+cell": {
     "cellMetadata": {},
     "inputWidgets": {},
     "nuid": "b73a47b8-691b-411b-ac76-6e8a5e2b30c1",
     "showTitle": false,
     "title": ""
    }
   },
   "source": [
    "## Class 7 \n",
    "### Predictive models with car database:\n",
    "\n",
    "Our objective is to predict the price the buyer is willing to pay."
   ]
  },
  {
   "cell_type": "code",
   "execution_count": 0,
   "metadata": {
    "application/vnd.databricks.v1+cell": {
     "cellMetadata": {
      "byteLimit": 2048000,
      "rowLimit": 10000
     },
     "inputWidgets": {},
     "nuid": "e13ba69e-1ce9-489c-982e-01b827efcece",
     "showTitle": false,
     "title": ""
    }
   },
   "outputs": [],
   "source": [
    "# Import necessary libraries for data handling, machine learning model building, preprocessing, evaluation, and visualization.\n",
    "import pandas as pd\n",
    "import numpy as np\n",
    "from sklearn.model_selection import train_test_split\n",
    "from sklearn.linear_model import LinearRegression\n",
    "from sklearn.preprocessing import StandardScaler\n",
    "from sklearn.metrics import r2_score\n",
    "import matplotlib.pyplot as plt"
   ]
  },
  {
   "cell_type": "code",
   "execution_count": 0,
   "metadata": {
    "application/vnd.databricks.v1+cell": {
     "cellMetadata": {
      "byteLimit": 2048000,
      "rowLimit": 10000
     },
     "inputWidgets": {},
     "nuid": "487711aa-17e8-404b-a619-1d44d9d8c615",
     "showTitle": false,
     "title": ""
    }
   },
   "outputs": [],
   "source": [
    "# Load the dataset from a CSV file\n",
    "df = pd.read_csv('/dbfs/FileStore/CDS2024/cars.csv')"
   ]
  },
  {
   "cell_type": "code",
   "execution_count": 0,
   "metadata": {
    "application/vnd.databricks.v1+cell": {
     "cellMetadata": {
      "byteLimit": 2048000,
      "rowLimit": 10000
     },
     "inputWidgets": {},
     "nuid": "80bb308e-e46c-4e0f-8f9f-b12675b89053",
     "showTitle": false,
     "title": ""
    }
   },
   "outputs": [],
   "source": [
    "# DataFrame dimensionality\n",
    "df.shape"
   ]
  },
  {
   "cell_type": "code",
   "execution_count": 0,
   "metadata": {
    "application/vnd.databricks.v1+cell": {
     "cellMetadata": {
      "byteLimit": 2048000,
      "rowLimit": 10000
     },
     "inputWidgets": {},
     "nuid": "1e74d8d7-af20-4fa0-88c2-86635b8b4b8e",
     "showTitle": false,
     "title": ""
    }
   },
   "outputs": [],
   "source": [
    "# Display the first five rows of the DataFrame to get an initial overview of the data structure and values.\n",
    "df.head()"
   ]
  },
  {
   "cell_type": "markdown",
   "metadata": {
    "application/vnd.databricks.v1+cell": {
     "cellMetadata": {},
     "inputWidgets": {},
     "nuid": "bc1cb490-859f-4d2f-93c5-923ef52c1784",
     "showTitle": false,
     "title": ""
    }
   },
   "source": [
    "### Data Description:\n",
    "Simulated data with:\n",
    " - age: buyer's age\n",
    " - gender: buyer's gender (0 = Male, 1 = Female)\n",
    " - avr_per_day: average miles driven per day by the buyer\n",
    " - debt: amount of buyer's debt\n",
    " - income: buyer's income\n",
    " - price: price paid"
   ]
  },
  {
   "cell_type": "code",
   "execution_count": 0,
   "metadata": {
    "application/vnd.databricks.v1+cell": {
     "cellMetadata": {
      "byteLimit": 2048000,
      "rowLimit": 10000
     },
     "inputWidgets": {},
     "nuid": "b835d1b4-8bb6-4a1d-9b4d-01187a303a2b",
     "showTitle": false,
     "title": ""
    }
   },
   "outputs": [],
   "source": [
    "# Extract feature variables by dropping the 'price' column and convert the DataFrame to a NumPy array.\n",
    "X = df.drop('price', axis=1).values\n",
    "X"
   ]
  },
  {
   "cell_type": "code",
   "execution_count": 0,
   "metadata": {
    "application/vnd.databricks.v1+cell": {
     "cellMetadata": {
      "byteLimit": 2048000,
      "rowLimit": 10000
     },
     "inputWidgets": {},
     "nuid": "69284a2c-e8d8-4993-94b7-f08ba260e41c",
     "showTitle": false,
     "title": ""
    }
   },
   "outputs": [],
   "source": [
    "# Extract the target variable 'price' and convert it to a NumPy array.\n",
    "y = df['price'].values\n",
    "y"
   ]
  },
  {
   "cell_type": "code",
   "execution_count": 0,
   "metadata": {
    "application/vnd.databricks.v1+cell": {
     "cellMetadata": {
      "byteLimit": 2048000,
      "rowLimit": 10000
     },
     "inputWidgets": {},
     "nuid": "30b55808-c8fd-4aa9-94ec-c78569c595aa",
     "showTitle": false,
     "title": ""
    }
   },
   "outputs": [],
   "source": [
    "# Split the dataset into training and testing sets (80% train, 20% test)\n",
    "X_train, X_test, y_train, y_test = train_test_split(X, y, test_size=0.2, random_state=42)\n",
    "print(\"Dimensions of X_train:\", X_train.shape)\n",
    "print(\"Dimensions of X_test:\", X_test.shape)\n",
    "print(\"Dimensions of y_train:\", y_train.shape)\n",
    "print(\"Dimensions of y_test:\", y_test.shape)"
   ]
  },
  {
   "cell_type": "code",
   "execution_count": 0,
   "metadata": {
    "application/vnd.databricks.v1+cell": {
     "cellMetadata": {
      "byteLimit": 2048000,
      "rowLimit": 10000
     },
     "inputWidgets": {},
     "nuid": "084c3f0d-863f-43b0-8c87-3c7719fc2983",
     "showTitle": false,
     "title": ""
    }
   },
   "outputs": [],
   "source": [
    "# Standardizing the data: important for many machine learning models\n",
    "scaler = StandardScaler()\n",
    "X_train_scaled = scaler.fit_transform(X_train)  # Fit and transform the training data\n",
    "X_test_scaled = scaler.transform(X_test)       # Only transform the test data\n",
    "X_train_scaled"
   ]
  },
  {
   "cell_type": "code",
   "execution_count": 0,
   "metadata": {
    "application/vnd.databricks.v1+cell": {
     "cellMetadata": {
      "byteLimit": 2048000,
      "rowLimit": 10000
     },
     "inputWidgets": {},
     "nuid": "e34eaff2-db98-4020-af28-3294e31b4f36",
     "showTitle": false,
     "title": ""
    }
   },
   "outputs": [],
   "source": [
    "# Create a Linear Regression model\n",
    "model = LinearRegression()\n",
    "model.fit(X_train_scaled, y_train)  # Train the model on the scaled training data"
   ]
  },
  {
   "cell_type": "code",
   "execution_count": 0,
   "metadata": {
    "application/vnd.databricks.v1+cell": {
     "cellMetadata": {
      "byteLimit": 2048000,
      "rowLimit": 10000
     },
     "inputWidgets": {},
     "nuid": "08c5825b-edc5-48f6-bab1-6a7308fa2011",
     "showTitle": false,
     "title": ""
    }
   },
   "outputs": [],
   "source": [
    "# Predict using the scaled test data\n",
    "y_pred = model.predict(X_test_scaled)\n",
    "y_pred"
   ]
  },
  {
   "cell_type": "code",
   "execution_count": 0,
   "metadata": {
    "application/vnd.databricks.v1+cell": {
     "cellMetadata": {
      "byteLimit": 2048000,
      "rowLimit": 10000
     },
     "inputWidgets": {},
     "nuid": "e8cb80aa-d89a-4db3-a0c0-2131e771004f",
     "showTitle": false,
     "title": ""
    }
   },
   "outputs": [],
   "source": [
    "# Calculate the R-squared score to evaluate the model\n",
    "r2 = r2_score(y_test, y_pred)\n",
    "r2"
   ]
  },
  {
   "cell_type": "code",
   "execution_count": 0,
   "metadata": {
    "application/vnd.databricks.v1+cell": {
     "cellMetadata": {
      "byteLimit": 2048000,
      "rowLimit": 10000
     },
     "inputWidgets": {},
     "nuid": "d3e0616a-588a-41ae-b953-58edd939f62d",
     "showTitle": false,
     "title": ""
    }
   },
   "outputs": [],
   "source": [
    "# Plotting the actual vs predicted values for visualization\n",
    "plt.scatter(y_test, y_pred, color='blue', label='Predicted vs. Actual')\n",
    "# Optionally, add a line to indicate perfect predictions\n",
    "plt.plot([min(y_test), max(y_test)], [min(y_test), max(y_test)], color='red', linestyle='--', label='Perfect Fit')\n",
    "plt.title(f'Linear Regression Model\\nR-squared: {r2:.2f}')\n",
    "plt.xlabel('Actual Values')\n",
    "plt.ylabel('Predicted Values')\n",
    "plt.legend()\n",
    "plt.show()"
   ]
  },
  {
   "cell_type": "code",
   "execution_count": 0,
   "metadata": {
    "application/vnd.databricks.v1+cell": {
     "cellMetadata": {
      "byteLimit": 2048000,
      "rowLimit": 10000
     },
     "inputWidgets": {},
     "nuid": "2b02f79d-9d9e-4339-8fab-dc25e09d08c5",
     "showTitle": false,
     "title": ""
    }
   },
   "outputs": [],
   "source": [
    "# Let's estimate the buying profile of a fictitious user.\n",
    "age = 28\n",
    "gender = 0\n",
    "avr_per_day = 20\n",
    "debt = 0\n",
    "income = 100000\n",
    "# So the new X would be:\n",
    "new_X = np.array([[age, gender, avr_per_day, debt, income]])\n",
    "new_X"
   ]
  },
  {
   "cell_type": "code",
   "execution_count": 0,
   "metadata": {
    "application/vnd.databricks.v1+cell": {
     "cellMetadata": {
      "byteLimit": 2048000,
      "rowLimit": 10000
     },
     "inputWidgets": {},
     "nuid": "ef226237-16c5-4072-a935-6785508014ef",
     "showTitle": false,
     "title": ""
    }
   },
   "outputs": [],
   "source": [
    "new_X_scaled = scaler.transform(new_X)\n",
    "new_y_pred = model.predict(new_X_scaled)\n",
    "print('Age: %i'%(age))\n",
    "print('Gender: %s'%('Male' if gender == 0 else 'Female'))\n",
    "print('Average Miles per Day: %i'%(avr_per_day))\n",
    "print('Debt ($): %i'%(debt))\n",
    "print('Income ($): %i'%(income))\n",
    "print('Estimated Car Price ($): %1.3f'%(new_y_pred))"
   ]
  },
  {
   "cell_type": "markdown",
   "metadata": {
    "application/vnd.databricks.v1+cell": {
     "cellMetadata": {},
     "inputWidgets": {},
     "nuid": "37f5d186-ed19-4661-8d8e-64979320e5c0",
     "showTitle": false,
     "title": ""
    }
   },
   "source": [
    "---------------------------------------------------------------------------------------------------------------------------\n",
    "\n",
    "Author: <b>Julio Iglesias</b>"
   ]
  }
 ],
 "metadata": {
  "application/vnd.databricks.v1+notebook": {
   "dashboards": [],
   "language": "python",
   "notebookMetadata": {
    "pythonIndentUnit": 2
   },
   "notebookName": "Class_7_Supervised_Learning-Student",
   "widgets": {}
  },
  "kernelspec": {
   "display_name": "Python 3",
   "language": "python",
   "name": "python3"
  },
  "language_info": {
   "codemirror_mode": {
    "name": "ipython",
    "version": 3
   },
   "file_extension": ".py",
   "mimetype": "text/x-python",
   "name": "python",
   "nbconvert_exporter": "python",
   "pygments_lexer": "ipython3",
   "version": "3.8.8"
  },
  "widgets": {
   "state": {},
   "version": "1.1.2"
  }
 },
 "nbformat": 4,
 "nbformat_minor": 0
}
